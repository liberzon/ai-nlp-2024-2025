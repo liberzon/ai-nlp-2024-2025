{
 "cells": [
  {
   "cell_type": "code",
   "id": "initial_id",
   "metadata": {
    "collapsed": true,
    "ExecuteTime": {
     "end_time": "2024-11-14T15:42:49.431418Z",
     "start_time": "2024-11-14T15:42:46.573600Z"
    }
   },
   "source": "!pip install spacy",
   "outputs": [
    {
     "name": "stdout",
     "output_type": "stream",
     "text": [
      "Requirement already satisfied: spacy in /Users/yairl/workspace/src/scripts/universal-graph-notebooks/dataspell/venv12/lib/python3.12/site-packages (3.8.2)\r\n",
      "Requirement already satisfied: spacy-legacy<3.1.0,>=3.0.11 in /Users/yairl/workspace/src/scripts/universal-graph-notebooks/dataspell/venv12/lib/python3.12/site-packages (from spacy) (3.0.12)\r\n",
      "Requirement already satisfied: spacy-loggers<2.0.0,>=1.0.0 in /Users/yairl/workspace/src/scripts/universal-graph-notebooks/dataspell/venv12/lib/python3.12/site-packages (from spacy) (1.0.5)\r\n",
      "Requirement already satisfied: murmurhash<1.1.0,>=0.28.0 in /Users/yairl/workspace/src/scripts/universal-graph-notebooks/dataspell/venv12/lib/python3.12/site-packages (from spacy) (1.0.10)\r\n",
      "Requirement already satisfied: cymem<2.1.0,>=2.0.2 in /Users/yairl/workspace/src/scripts/universal-graph-notebooks/dataspell/venv12/lib/python3.12/site-packages (from spacy) (2.0.8)\r\n",
      "Requirement already satisfied: preshed<3.1.0,>=3.0.2 in /Users/yairl/workspace/src/scripts/universal-graph-notebooks/dataspell/venv12/lib/python3.12/site-packages (from spacy) (3.0.9)\r\n",
      "Requirement already satisfied: thinc<8.4.0,>=8.3.0 in /Users/yairl/workspace/src/scripts/universal-graph-notebooks/dataspell/venv12/lib/python3.12/site-packages (from spacy) (8.3.2)\r\n",
      "Requirement already satisfied: wasabi<1.2.0,>=0.9.1 in /Users/yairl/workspace/src/scripts/universal-graph-notebooks/dataspell/venv12/lib/python3.12/site-packages (from spacy) (1.1.3)\r\n",
      "Requirement already satisfied: srsly<3.0.0,>=2.4.3 in /Users/yairl/workspace/src/scripts/universal-graph-notebooks/dataspell/venv12/lib/python3.12/site-packages (from spacy) (2.4.8)\r\n",
      "Requirement already satisfied: catalogue<2.1.0,>=2.0.6 in /Users/yairl/workspace/src/scripts/universal-graph-notebooks/dataspell/venv12/lib/python3.12/site-packages (from spacy) (2.0.10)\r\n",
      "Requirement already satisfied: weasel<0.5.0,>=0.1.0 in /Users/yairl/workspace/src/scripts/universal-graph-notebooks/dataspell/venv12/lib/python3.12/site-packages (from spacy) (0.4.1)\r\n",
      "Requirement already satisfied: typer<1.0.0,>=0.3.0 in /Users/yairl/workspace/src/scripts/universal-graph-notebooks/dataspell/venv12/lib/python3.12/site-packages (from spacy) (0.13.0)\r\n",
      "Requirement already satisfied: tqdm<5.0.0,>=4.38.0 in /Users/yairl/workspace/src/scripts/universal-graph-notebooks/dataspell/venv12/lib/python3.12/site-packages (from spacy) (4.67.0)\r\n",
      "Requirement already satisfied: requests<3.0.0,>=2.13.0 in /Users/yairl/workspace/src/scripts/universal-graph-notebooks/dataspell/venv12/lib/python3.12/site-packages (from spacy) (2.32.3)\r\n",
      "Requirement already satisfied: pydantic!=1.8,!=1.8.1,<3.0.0,>=1.7.4 in /Users/yairl/workspace/src/scripts/universal-graph-notebooks/dataspell/venv12/lib/python3.12/site-packages (from spacy) (2.9.2)\r\n",
      "Requirement already satisfied: jinja2 in /Users/yairl/workspace/src/scripts/universal-graph-notebooks/dataspell/venv12/lib/python3.12/site-packages (from spacy) (3.1.4)\r\n",
      "Requirement already satisfied: setuptools in /Users/yairl/workspace/src/scripts/universal-graph-notebooks/dataspell/venv12/lib/python3.12/site-packages (from spacy) (75.3.0)\r\n",
      "Requirement already satisfied: packaging>=20.0 in /Users/yairl/workspace/src/scripts/universal-graph-notebooks/dataspell/venv12/lib/python3.12/site-packages (from spacy) (24.1)\r\n",
      "Requirement already satisfied: langcodes<4.0.0,>=3.2.0 in /Users/yairl/workspace/src/scripts/universal-graph-notebooks/dataspell/venv12/lib/python3.12/site-packages (from spacy) (3.4.1)\r\n",
      "Requirement already satisfied: numpy>=1.19.0 in /Users/yairl/workspace/src/scripts/universal-graph-notebooks/dataspell/venv12/lib/python3.12/site-packages (from spacy) (2.0.2)\r\n",
      "Requirement already satisfied: language-data>=1.2 in /Users/yairl/workspace/src/scripts/universal-graph-notebooks/dataspell/venv12/lib/python3.12/site-packages (from langcodes<4.0.0,>=3.2.0->spacy) (1.2.0)\r\n",
      "Requirement already satisfied: annotated-types>=0.6.0 in /Users/yairl/workspace/src/scripts/universal-graph-notebooks/dataspell/venv12/lib/python3.12/site-packages (from pydantic!=1.8,!=1.8.1,<3.0.0,>=1.7.4->spacy) (0.7.0)\r\n",
      "Requirement already satisfied: pydantic-core==2.23.4 in /Users/yairl/workspace/src/scripts/universal-graph-notebooks/dataspell/venv12/lib/python3.12/site-packages (from pydantic!=1.8,!=1.8.1,<3.0.0,>=1.7.4->spacy) (2.23.4)\r\n",
      "Requirement already satisfied: typing-extensions>=4.6.1 in /Users/yairl/workspace/src/scripts/universal-graph-notebooks/dataspell/venv12/lib/python3.12/site-packages (from pydantic!=1.8,!=1.8.1,<3.0.0,>=1.7.4->spacy) (4.12.2)\r\n",
      "Requirement already satisfied: charset-normalizer<4,>=2 in /Users/yairl/workspace/src/scripts/universal-graph-notebooks/dataspell/venv12/lib/python3.12/site-packages (from requests<3.0.0,>=2.13.0->spacy) (3.4.0)\r\n",
      "Requirement already satisfied: idna<4,>=2.5 in /Users/yairl/workspace/src/scripts/universal-graph-notebooks/dataspell/venv12/lib/python3.12/site-packages (from requests<3.0.0,>=2.13.0->spacy) (3.10)\r\n",
      "Requirement already satisfied: urllib3<3,>=1.21.1 in /Users/yairl/workspace/src/scripts/universal-graph-notebooks/dataspell/venv12/lib/python3.12/site-packages (from requests<3.0.0,>=2.13.0->spacy) (2.2.3)\r\n",
      "Requirement already satisfied: certifi>=2017.4.17 in /Users/yairl/workspace/src/scripts/universal-graph-notebooks/dataspell/venv12/lib/python3.12/site-packages (from requests<3.0.0,>=2.13.0->spacy) (2024.8.30)\r\n",
      "Requirement already satisfied: blis<1.1.0,>=1.0.0 in /Users/yairl/workspace/src/scripts/universal-graph-notebooks/dataspell/venv12/lib/python3.12/site-packages (from thinc<8.4.0,>=8.3.0->spacy) (1.0.1)\r\n",
      "Requirement already satisfied: confection<1.0.0,>=0.0.1 in /Users/yairl/workspace/src/scripts/universal-graph-notebooks/dataspell/venv12/lib/python3.12/site-packages (from thinc<8.4.0,>=8.3.0->spacy) (0.1.5)\r\n",
      "Requirement already satisfied: click>=8.0.0 in /Users/yairl/workspace/src/scripts/universal-graph-notebooks/dataspell/venv12/lib/python3.12/site-packages (from typer<1.0.0,>=0.3.0->spacy) (8.1.7)\r\n",
      "Requirement already satisfied: shellingham>=1.3.0 in /Users/yairl/workspace/src/scripts/universal-graph-notebooks/dataspell/venv12/lib/python3.12/site-packages (from typer<1.0.0,>=0.3.0->spacy) (1.5.4)\r\n",
      "Requirement already satisfied: rich>=10.11.0 in /Users/yairl/workspace/src/scripts/universal-graph-notebooks/dataspell/venv12/lib/python3.12/site-packages (from typer<1.0.0,>=0.3.0->spacy) (13.9.4)\r\n",
      "Requirement already satisfied: cloudpathlib<1.0.0,>=0.7.0 in /Users/yairl/workspace/src/scripts/universal-graph-notebooks/dataspell/venv12/lib/python3.12/site-packages (from weasel<0.5.0,>=0.1.0->spacy) (0.20.0)\r\n",
      "Requirement already satisfied: smart-open<8.0.0,>=5.2.1 in /Users/yairl/workspace/src/scripts/universal-graph-notebooks/dataspell/venv12/lib/python3.12/site-packages (from weasel<0.5.0,>=0.1.0->spacy) (7.0.5)\r\n",
      "Requirement already satisfied: MarkupSafe>=2.0 in /Users/yairl/workspace/src/scripts/universal-graph-notebooks/dataspell/venv12/lib/python3.12/site-packages (from jinja2->spacy) (3.0.2)\r\n",
      "Requirement already satisfied: marisa-trie>=0.7.7 in /Users/yairl/workspace/src/scripts/universal-graph-notebooks/dataspell/venv12/lib/python3.12/site-packages (from language-data>=1.2->langcodes<4.0.0,>=3.2.0->spacy) (1.2.1)\r\n",
      "Requirement already satisfied: markdown-it-py>=2.2.0 in /Users/yairl/workspace/src/scripts/universal-graph-notebooks/dataspell/venv12/lib/python3.12/site-packages (from rich>=10.11.0->typer<1.0.0,>=0.3.0->spacy) (3.0.0)\r\n",
      "Requirement already satisfied: pygments<3.0.0,>=2.13.0 in /Users/yairl/workspace/src/scripts/universal-graph-notebooks/dataspell/venv12/lib/python3.12/site-packages (from rich>=10.11.0->typer<1.0.0,>=0.3.0->spacy) (2.18.0)\r\n",
      "Requirement already satisfied: wrapt in /Users/yairl/workspace/src/scripts/universal-graph-notebooks/dataspell/venv12/lib/python3.12/site-packages (from smart-open<8.0.0,>=5.2.1->weasel<0.5.0,>=0.1.0->spacy) (1.16.0)\r\n",
      "Requirement already satisfied: mdurl~=0.1 in /Users/yairl/workspace/src/scripts/universal-graph-notebooks/dataspell/venv12/lib/python3.12/site-packages (from markdown-it-py>=2.2.0->rich>=10.11.0->typer<1.0.0,>=0.3.0->spacy) (0.1.2)\r\n"
     ]
    }
   ],
   "execution_count": 13
  },
  {
   "metadata": {
    "ExecuteTime": {
     "end_time": "2024-11-14T15:42:54.387056Z",
     "start_time": "2024-11-14T15:42:49.435611Z"
    }
   },
   "cell_type": "code",
   "source": "!python -m spacy download en_core_web_sm",
   "id": "58930bf65b37343c",
   "outputs": [
    {
     "name": "stdout",
     "output_type": "stream",
     "text": [
      "Collecting en-core-web-sm==3.8.0\r\n",
      "  Downloading https://github.com/explosion/spacy-models/releases/download/en_core_web_sm-3.8.0/en_core_web_sm-3.8.0-py3-none-any.whl (12.8 MB)\r\n",
      "\u001B[2K     \u001B[90m━━━━━━━━━━━━━━━━━━━━━━━━━━━━━━━━━━━━━━━━\u001B[0m \u001B[32m12.8/12.8 MB\u001B[0m \u001B[31m11.0 MB/s\u001B[0m eta \u001B[36m0:00:00\u001B[0m00:01\u001B[0m00:01\u001B[0m\r\n",
      "\u001B[?25h\u001B[38;5;2m✔ Download and installation successful\u001B[0m\r\n",
      "You can now load the package via spacy.load('en_core_web_sm')\r\n"
     ]
    }
   ],
   "execution_count": 14
  },
  {
   "metadata": {
    "ExecuteTime": {
     "end_time": "2024-11-14T15:42:54.683245Z",
     "start_time": "2024-11-14T15:42:54.393495Z"
    }
   },
   "cell_type": "code",
   "source": [
    "import spacy\n",
    "nlp = spacy.load(\"en_core_web_sm\")"
   ],
   "id": "31dcc5e69205387",
   "outputs": [],
   "execution_count": 15
  },
  {
   "metadata": {
    "ExecuteTime": {
     "end_time": "2024-11-14T15:43:46.478261Z",
     "start_time": "2024-11-14T15:43:46.472830Z"
    }
   },
   "cell_type": "code",
   "source": [
    "text = \"I live in New York\"\n",
    "doc = nlp(text)"
   ],
   "id": "41f6c9782291955",
   "outputs": [],
   "execution_count": 20
  },
  {
   "metadata": {
    "ExecuteTime": {
     "end_time": "2024-11-14T15:43:46.899872Z",
     "start_time": "2024-11-14T15:43:46.896154Z"
    }
   },
   "cell_type": "code",
   "source": [
    "from spacy import displacy\n",
    "displacy.render(doc, style=\"ent\", jupyter=True)"
   ],
   "id": "51634e162acd641f",
   "outputs": [
    {
     "data": {
      "text/plain": [
       "<IPython.core.display.HTML object>"
      ],
      "text/html": [
       "<span class=\"tex2jax_ignore\"><div class=\"entities\" style=\"line-height: 2.5; direction: ltr\">I live in \n",
       "<mark class=\"entity\" style=\"background: #feca74; padding: 0.45em 0.6em; margin: 0 0.25em; line-height: 1; border-radius: 0.35em;\">\n",
       "    New York\n",
       "    <span style=\"font-size: 0.8em; font-weight: bold; line-height: 1; border-radius: 0.35em; vertical-align: middle; margin-left: 0.5rem\">GPE</span>\n",
       "</mark>\n",
       "</div></span>"
      ]
     },
     "metadata": {},
     "output_type": "display_data"
    }
   ],
   "execution_count": 21
  },
  {
   "metadata": {},
   "cell_type": "code",
   "outputs": [],
   "execution_count": null,
   "source": "",
   "id": "a2e120a245d571ab"
  }
 ],
 "metadata": {
  "kernelspec": {
   "display_name": "Python 3",
   "language": "python",
   "name": "python3"
  },
  "language_info": {
   "codemirror_mode": {
    "name": "ipython",
    "version": 2
   },
   "file_extension": ".py",
   "mimetype": "text/x-python",
   "name": "python",
   "nbconvert_exporter": "python",
   "pygments_lexer": "ipython2",
   "version": "2.7.6"
  }
 },
 "nbformat": 4,
 "nbformat_minor": 5
}
