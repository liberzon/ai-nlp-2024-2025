{
 "cells": [
  {
   "cell_type": "code",
   "source": [
    "from nltk import pos_tag, word_tokenize\n",
    "\n",
    "# משפט לדוגמה\n",
    "sentence = \"The quick brown fox jumps over the lazy dog.\"\n",
    "\n",
    "# Tokenization ו-POS Tagging\n",
    "tokens = word_tokenize(sentence)\n",
    "tags = pos_tag(tokens)\n",
    "print(tags)"
   ],
   "metadata": {
    "collapsed": false
   },
   "id": "4ce1cc01380f3618",
   "outputs": [],
   "execution_count": null
  },
  {
   "cell_type": "code",
   "source": [
    "import nltk\n",
    "from nltk import pos_tag, word_tokenize\n",
    "\n",
    "# מילים שמייצגות כסף, פרסים, או זכיות\n",
    "money_keywords = {\"dollars\", \"cash\", \"prize\", \"vacation\", \"lottery\", \"reward\", \"gift\", \"free\"}\n",
    "\n",
    "# Function to identify spam based on POS and context\n",
    "def classify_spam_based_on_pos(sentence):\n",
    "    tokens = word_tokenize(sentence)\n",
    "    tagged = pos_tag(tokens)\n",
    "\n",
    "    for i, (word, tag) in enumerate(tagged):\n",
    "        if word.lower() == \"win\":\n",
    "            if tag.startswith(\"VB\"):  # Verb (e.g., 'Win now!')\n",
    "                # Check if the next word relates to money or prizes\n",
    "                if i + 1 < len(tagged) and tagged[i + 1][0].lower() in money_keywords:\n",
    "                    return \"Spam (e.g., 'Win $1000 now!')\"\n",
    "            elif tag.startswith(\"NN\"):  # Noun (e.g., 'The win was unexpected')\n",
    "                return \"Not Spam (e.g., 'Your win was amazing.')\"\n",
    "    return \"Unknown\"\n",
    "\n",
    "# Test cases\n",
    "test_sentences = [\n",
    "    \"Win a $1000 cash prize now!\",  # Verb + money keyword → Spam\n",
    "    \"The win was celebrated by the whole team.\",  # Noun usage → Not Spam\n",
    "    \"Win a free vacation to Hawaii!\",  # Verb + prize keyword → Spam\n",
    "    \"Your win is a testament to your hard work.\",  # Noun usage → Not Spam\n",
    "    \"He will win the championship trophy.\"  # Verb but no money keyword → Not Spam\n",
    "]\n",
    "\n",
    "# Evaluate each test case\n",
    "for sentence in test_sentences:\n",
    "    result = classify_spam_based_on_pos(sentence)\n",
    "    print(f\"Sentence: {sentence}\\nClassification: {result}\\n\")"
   ],
   "metadata": {
    "collapsed": false
   },
   "id": "ae427076cacf2c55",
   "outputs": [],
   "execution_count": null
  },
  {
   "cell_type": "code",
   "source": [],
   "metadata": {
    "collapsed": false
   },
   "id": "a0862ce07d91a692",
   "outputs": [],
   "execution_count": null
  }
 ],
 "metadata": {
  "kernelspec": {
   "display_name": "Python 3",
   "language": "python",
   "name": "python3"
  },
  "language_info": {
   "codemirror_mode": {
    "name": "ipython",
    "version": 2
   },
   "file_extension": ".py",
   "mimetype": "text/x-python",
   "name": "python",
   "nbconvert_exporter": "python",
   "pygments_lexer": "ipython2",
   "version": "2.7.6"
  }
 },
 "nbformat": 4,
 "nbformat_minor": 5
}
