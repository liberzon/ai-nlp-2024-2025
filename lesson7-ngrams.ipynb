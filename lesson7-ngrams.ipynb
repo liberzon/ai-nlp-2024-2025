{
 "cells": [
  {
   "cell_type": "code",
<<<<<<< Updated upstream
   "execution_count": 11,
=======
   "execution_count": 3,
>>>>>>> Stashed changes
   "outputs": [],
   "source": [
    "import pandas as pd"
   ],
   "metadata": {
    "collapsed": false,
    "ExecuteTime": {
<<<<<<< Updated upstream
     "end_time": "2024-01-30T13:54:25.192458Z",
     "start_time": "2024-01-30T13:54:25.179687Z"
=======
     "end_time": "2024-01-30T16:17:22.404958900Z",
     "start_time": "2024-01-30T16:17:22.270317800Z"
>>>>>>> Stashed changes
    }
   }
  },
  {
   "cell_type": "code",
<<<<<<< Updated upstream
   "execution_count": 12,
   "outputs": [],
   "source": [
    "df = pd.read_csv('https://raw.githubusercontent.com/flyandlure/datasets/master/gonutrition.csv')"
=======
   "execution_count": 4,
   "outputs": [
    {
     "ename": "FileNotFoundError",
     "evalue": "[Errno 2] No such file or directory: './gonutrition.csv'",
     "output_type": "error",
     "traceback": [
      "\u001B[1;31m---------------------------------------------------------------------------\u001B[0m",
      "\u001B[1;31mFileNotFoundError\u001B[0m                         Traceback (most recent call last)",
      "Cell \u001B[1;32mIn[4], line 1\u001B[0m\n\u001B[1;32m----> 1\u001B[0m df \u001B[38;5;241m=\u001B[39m \u001B[43mpd\u001B[49m\u001B[38;5;241;43m.\u001B[39;49m\u001B[43mread_csv\u001B[49m\u001B[43m(\u001B[49m\u001B[38;5;124;43m'\u001B[39;49m\u001B[38;5;124;43m./gonutrition.csv\u001B[39;49m\u001B[38;5;124;43m'\u001B[39;49m\u001B[43m)\u001B[49m\n",
      "File \u001B[1;32m~\\ai-nlp-2023-2024\\venv\\lib\\site-packages\\pandas\\io\\parsers\\readers.py:948\u001B[0m, in \u001B[0;36mread_csv\u001B[1;34m(filepath_or_buffer, sep, delimiter, header, names, index_col, usecols, dtype, engine, converters, true_values, false_values, skipinitialspace, skiprows, skipfooter, nrows, na_values, keep_default_na, na_filter, verbose, skip_blank_lines, parse_dates, infer_datetime_format, keep_date_col, date_parser, date_format, dayfirst, cache_dates, iterator, chunksize, compression, thousands, decimal, lineterminator, quotechar, quoting, doublequote, escapechar, comment, encoding, encoding_errors, dialect, on_bad_lines, delim_whitespace, low_memory, memory_map, float_precision, storage_options, dtype_backend)\u001B[0m\n\u001B[0;32m    935\u001B[0m kwds_defaults \u001B[38;5;241m=\u001B[39m _refine_defaults_read(\n\u001B[0;32m    936\u001B[0m     dialect,\n\u001B[0;32m    937\u001B[0m     delimiter,\n\u001B[1;32m   (...)\u001B[0m\n\u001B[0;32m    944\u001B[0m     dtype_backend\u001B[38;5;241m=\u001B[39mdtype_backend,\n\u001B[0;32m    945\u001B[0m )\n\u001B[0;32m    946\u001B[0m kwds\u001B[38;5;241m.\u001B[39mupdate(kwds_defaults)\n\u001B[1;32m--> 948\u001B[0m \u001B[38;5;28;01mreturn\u001B[39;00m \u001B[43m_read\u001B[49m\u001B[43m(\u001B[49m\u001B[43mfilepath_or_buffer\u001B[49m\u001B[43m,\u001B[49m\u001B[43m \u001B[49m\u001B[43mkwds\u001B[49m\u001B[43m)\u001B[49m\n",
      "File \u001B[1;32m~\\ai-nlp-2023-2024\\venv\\lib\\site-packages\\pandas\\io\\parsers\\readers.py:611\u001B[0m, in \u001B[0;36m_read\u001B[1;34m(filepath_or_buffer, kwds)\u001B[0m\n\u001B[0;32m    608\u001B[0m _validate_names(kwds\u001B[38;5;241m.\u001B[39mget(\u001B[38;5;124m\"\u001B[39m\u001B[38;5;124mnames\u001B[39m\u001B[38;5;124m\"\u001B[39m, \u001B[38;5;28;01mNone\u001B[39;00m))\n\u001B[0;32m    610\u001B[0m \u001B[38;5;66;03m# Create the parser.\u001B[39;00m\n\u001B[1;32m--> 611\u001B[0m parser \u001B[38;5;241m=\u001B[39m TextFileReader(filepath_or_buffer, \u001B[38;5;241m*\u001B[39m\u001B[38;5;241m*\u001B[39mkwds)\n\u001B[0;32m    613\u001B[0m \u001B[38;5;28;01mif\u001B[39;00m chunksize \u001B[38;5;129;01mor\u001B[39;00m iterator:\n\u001B[0;32m    614\u001B[0m     \u001B[38;5;28;01mreturn\u001B[39;00m parser\n",
      "File \u001B[1;32m~\\ai-nlp-2023-2024\\venv\\lib\\site-packages\\pandas\\io\\parsers\\readers.py:1448\u001B[0m, in \u001B[0;36mTextFileReader.__init__\u001B[1;34m(self, f, engine, **kwds)\u001B[0m\n\u001B[0;32m   1445\u001B[0m     \u001B[38;5;28mself\u001B[39m\u001B[38;5;241m.\u001B[39moptions[\u001B[38;5;124m\"\u001B[39m\u001B[38;5;124mhas_index_names\u001B[39m\u001B[38;5;124m\"\u001B[39m] \u001B[38;5;241m=\u001B[39m kwds[\u001B[38;5;124m\"\u001B[39m\u001B[38;5;124mhas_index_names\u001B[39m\u001B[38;5;124m\"\u001B[39m]\n\u001B[0;32m   1447\u001B[0m \u001B[38;5;28mself\u001B[39m\u001B[38;5;241m.\u001B[39mhandles: IOHandles \u001B[38;5;241m|\u001B[39m \u001B[38;5;28;01mNone\u001B[39;00m \u001B[38;5;241m=\u001B[39m \u001B[38;5;28;01mNone\u001B[39;00m\n\u001B[1;32m-> 1448\u001B[0m \u001B[38;5;28mself\u001B[39m\u001B[38;5;241m.\u001B[39m_engine \u001B[38;5;241m=\u001B[39m \u001B[38;5;28;43mself\u001B[39;49m\u001B[38;5;241;43m.\u001B[39;49m\u001B[43m_make_engine\u001B[49m\u001B[43m(\u001B[49m\u001B[43mf\u001B[49m\u001B[43m,\u001B[49m\u001B[43m \u001B[49m\u001B[38;5;28;43mself\u001B[39;49m\u001B[38;5;241;43m.\u001B[39;49m\u001B[43mengine\u001B[49m\u001B[43m)\u001B[49m\n",
      "File \u001B[1;32m~\\ai-nlp-2023-2024\\venv\\lib\\site-packages\\pandas\\io\\parsers\\readers.py:1705\u001B[0m, in \u001B[0;36mTextFileReader._make_engine\u001B[1;34m(self, f, engine)\u001B[0m\n\u001B[0;32m   1703\u001B[0m     \u001B[38;5;28;01mif\u001B[39;00m \u001B[38;5;124m\"\u001B[39m\u001B[38;5;124mb\u001B[39m\u001B[38;5;124m\"\u001B[39m \u001B[38;5;129;01mnot\u001B[39;00m \u001B[38;5;129;01min\u001B[39;00m mode:\n\u001B[0;32m   1704\u001B[0m         mode \u001B[38;5;241m+\u001B[39m\u001B[38;5;241m=\u001B[39m \u001B[38;5;124m\"\u001B[39m\u001B[38;5;124mb\u001B[39m\u001B[38;5;124m\"\u001B[39m\n\u001B[1;32m-> 1705\u001B[0m \u001B[38;5;28mself\u001B[39m\u001B[38;5;241m.\u001B[39mhandles \u001B[38;5;241m=\u001B[39m \u001B[43mget_handle\u001B[49m\u001B[43m(\u001B[49m\n\u001B[0;32m   1706\u001B[0m \u001B[43m    \u001B[49m\u001B[43mf\u001B[49m\u001B[43m,\u001B[49m\n\u001B[0;32m   1707\u001B[0m \u001B[43m    \u001B[49m\u001B[43mmode\u001B[49m\u001B[43m,\u001B[49m\n\u001B[0;32m   1708\u001B[0m \u001B[43m    \u001B[49m\u001B[43mencoding\u001B[49m\u001B[38;5;241;43m=\u001B[39;49m\u001B[38;5;28;43mself\u001B[39;49m\u001B[38;5;241;43m.\u001B[39;49m\u001B[43moptions\u001B[49m\u001B[38;5;241;43m.\u001B[39;49m\u001B[43mget\u001B[49m\u001B[43m(\u001B[49m\u001B[38;5;124;43m\"\u001B[39;49m\u001B[38;5;124;43mencoding\u001B[39;49m\u001B[38;5;124;43m\"\u001B[39;49m\u001B[43m,\u001B[49m\u001B[43m \u001B[49m\u001B[38;5;28;43;01mNone\u001B[39;49;00m\u001B[43m)\u001B[49m\u001B[43m,\u001B[49m\n\u001B[0;32m   1709\u001B[0m \u001B[43m    \u001B[49m\u001B[43mcompression\u001B[49m\u001B[38;5;241;43m=\u001B[39;49m\u001B[38;5;28;43mself\u001B[39;49m\u001B[38;5;241;43m.\u001B[39;49m\u001B[43moptions\u001B[49m\u001B[38;5;241;43m.\u001B[39;49m\u001B[43mget\u001B[49m\u001B[43m(\u001B[49m\u001B[38;5;124;43m\"\u001B[39;49m\u001B[38;5;124;43mcompression\u001B[39;49m\u001B[38;5;124;43m\"\u001B[39;49m\u001B[43m,\u001B[49m\u001B[43m \u001B[49m\u001B[38;5;28;43;01mNone\u001B[39;49;00m\u001B[43m)\u001B[49m\u001B[43m,\u001B[49m\n\u001B[0;32m   1710\u001B[0m \u001B[43m    \u001B[49m\u001B[43mmemory_map\u001B[49m\u001B[38;5;241;43m=\u001B[39;49m\u001B[38;5;28;43mself\u001B[39;49m\u001B[38;5;241;43m.\u001B[39;49m\u001B[43moptions\u001B[49m\u001B[38;5;241;43m.\u001B[39;49m\u001B[43mget\u001B[49m\u001B[43m(\u001B[49m\u001B[38;5;124;43m\"\u001B[39;49m\u001B[38;5;124;43mmemory_map\u001B[39;49m\u001B[38;5;124;43m\"\u001B[39;49m\u001B[43m,\u001B[49m\u001B[43m \u001B[49m\u001B[38;5;28;43;01mFalse\u001B[39;49;00m\u001B[43m)\u001B[49m\u001B[43m,\u001B[49m\n\u001B[0;32m   1711\u001B[0m \u001B[43m    \u001B[49m\u001B[43mis_text\u001B[49m\u001B[38;5;241;43m=\u001B[39;49m\u001B[43mis_text\u001B[49m\u001B[43m,\u001B[49m\n\u001B[0;32m   1712\u001B[0m \u001B[43m    \u001B[49m\u001B[43merrors\u001B[49m\u001B[38;5;241;43m=\u001B[39;49m\u001B[38;5;28;43mself\u001B[39;49m\u001B[38;5;241;43m.\u001B[39;49m\u001B[43moptions\u001B[49m\u001B[38;5;241;43m.\u001B[39;49m\u001B[43mget\u001B[49m\u001B[43m(\u001B[49m\u001B[38;5;124;43m\"\u001B[39;49m\u001B[38;5;124;43mencoding_errors\u001B[39;49m\u001B[38;5;124;43m\"\u001B[39;49m\u001B[43m,\u001B[49m\u001B[43m \u001B[49m\u001B[38;5;124;43m\"\u001B[39;49m\u001B[38;5;124;43mstrict\u001B[39;49m\u001B[38;5;124;43m\"\u001B[39;49m\u001B[43m)\u001B[49m\u001B[43m,\u001B[49m\n\u001B[0;32m   1713\u001B[0m \u001B[43m    \u001B[49m\u001B[43mstorage_options\u001B[49m\u001B[38;5;241;43m=\u001B[39;49m\u001B[38;5;28;43mself\u001B[39;49m\u001B[38;5;241;43m.\u001B[39;49m\u001B[43moptions\u001B[49m\u001B[38;5;241;43m.\u001B[39;49m\u001B[43mget\u001B[49m\u001B[43m(\u001B[49m\u001B[38;5;124;43m\"\u001B[39;49m\u001B[38;5;124;43mstorage_options\u001B[39;49m\u001B[38;5;124;43m\"\u001B[39;49m\u001B[43m,\u001B[49m\u001B[43m \u001B[49m\u001B[38;5;28;43;01mNone\u001B[39;49;00m\u001B[43m)\u001B[49m\u001B[43m,\u001B[49m\n\u001B[0;32m   1714\u001B[0m \u001B[43m\u001B[49m\u001B[43m)\u001B[49m\n\u001B[0;32m   1715\u001B[0m \u001B[38;5;28;01massert\u001B[39;00m \u001B[38;5;28mself\u001B[39m\u001B[38;5;241m.\u001B[39mhandles \u001B[38;5;129;01mis\u001B[39;00m \u001B[38;5;129;01mnot\u001B[39;00m \u001B[38;5;28;01mNone\u001B[39;00m\n\u001B[0;32m   1716\u001B[0m f \u001B[38;5;241m=\u001B[39m \u001B[38;5;28mself\u001B[39m\u001B[38;5;241m.\u001B[39mhandles\u001B[38;5;241m.\u001B[39mhandle\n",
      "File \u001B[1;32m~\\ai-nlp-2023-2024\\venv\\lib\\site-packages\\pandas\\io\\common.py:863\u001B[0m, in \u001B[0;36mget_handle\u001B[1;34m(path_or_buf, mode, encoding, compression, memory_map, is_text, errors, storage_options)\u001B[0m\n\u001B[0;32m    858\u001B[0m \u001B[38;5;28;01melif\u001B[39;00m \u001B[38;5;28misinstance\u001B[39m(handle, \u001B[38;5;28mstr\u001B[39m):\n\u001B[0;32m    859\u001B[0m     \u001B[38;5;66;03m# Check whether the filename is to be opened in binary mode.\u001B[39;00m\n\u001B[0;32m    860\u001B[0m     \u001B[38;5;66;03m# Binary mode does not support 'encoding' and 'newline'.\u001B[39;00m\n\u001B[0;32m    861\u001B[0m     \u001B[38;5;28;01mif\u001B[39;00m ioargs\u001B[38;5;241m.\u001B[39mencoding \u001B[38;5;129;01mand\u001B[39;00m \u001B[38;5;124m\"\u001B[39m\u001B[38;5;124mb\u001B[39m\u001B[38;5;124m\"\u001B[39m \u001B[38;5;129;01mnot\u001B[39;00m \u001B[38;5;129;01min\u001B[39;00m ioargs\u001B[38;5;241m.\u001B[39mmode:\n\u001B[0;32m    862\u001B[0m         \u001B[38;5;66;03m# Encoding\u001B[39;00m\n\u001B[1;32m--> 863\u001B[0m         handle \u001B[38;5;241m=\u001B[39m \u001B[38;5;28;43mopen\u001B[39;49m\u001B[43m(\u001B[49m\n\u001B[0;32m    864\u001B[0m \u001B[43m            \u001B[49m\u001B[43mhandle\u001B[49m\u001B[43m,\u001B[49m\n\u001B[0;32m    865\u001B[0m \u001B[43m            \u001B[49m\u001B[43mioargs\u001B[49m\u001B[38;5;241;43m.\u001B[39;49m\u001B[43mmode\u001B[49m\u001B[43m,\u001B[49m\n\u001B[0;32m    866\u001B[0m \u001B[43m            \u001B[49m\u001B[43mencoding\u001B[49m\u001B[38;5;241;43m=\u001B[39;49m\u001B[43mioargs\u001B[49m\u001B[38;5;241;43m.\u001B[39;49m\u001B[43mencoding\u001B[49m\u001B[43m,\u001B[49m\n\u001B[0;32m    867\u001B[0m \u001B[43m            \u001B[49m\u001B[43merrors\u001B[49m\u001B[38;5;241;43m=\u001B[39;49m\u001B[43merrors\u001B[49m\u001B[43m,\u001B[49m\n\u001B[0;32m    868\u001B[0m \u001B[43m            \u001B[49m\u001B[43mnewline\u001B[49m\u001B[38;5;241;43m=\u001B[39;49m\u001B[38;5;124;43m\"\u001B[39;49m\u001B[38;5;124;43m\"\u001B[39;49m\u001B[43m,\u001B[49m\n\u001B[0;32m    869\u001B[0m \u001B[43m        \u001B[49m\u001B[43m)\u001B[49m\n\u001B[0;32m    870\u001B[0m     \u001B[38;5;28;01melse\u001B[39;00m:\n\u001B[0;32m    871\u001B[0m         \u001B[38;5;66;03m# Binary mode\u001B[39;00m\n\u001B[0;32m    872\u001B[0m         handle \u001B[38;5;241m=\u001B[39m \u001B[38;5;28mopen\u001B[39m(handle, ioargs\u001B[38;5;241m.\u001B[39mmode)\n",
      "\u001B[1;31mFileNotFoundError\u001B[0m: [Errno 2] No such file or directory: './gonutrition.csv'"
     ]
    }
   ],
   "source": [
    "df = pd.read_csv('./gonutrition.csv')"
>>>>>>> Stashed changes
   ],
   "metadata": {
    "collapsed": false,
    "ExecuteTime": {
<<<<<<< Updated upstream
     "end_time": "2024-01-30T13:54:25.587815Z",
     "start_time": "2024-01-30T13:54:25.197969Z"
=======
     "end_time": "2024-01-30T16:17:22.405957300Z",
     "start_time": "2024-01-30T16:17:22.271315800Z"
>>>>>>> Stashed changes
    }
   }
  },
  {
   "cell_type": "code",
<<<<<<< Updated upstream
   "execution_count": 13,
   "outputs": [
    {
     "data": {
      "text/plain": "(3, 2)"
     },
     "execution_count": 13,
     "metadata": {},
     "output_type": "execute_result"
    }
   ],
=======
   "execution_count": null,
   "outputs": [],
>>>>>>> Stashed changes
   "source": [
    "df.shape"
   ],
   "metadata": {
    "collapsed": false,
    "ExecuteTime": {
<<<<<<< Updated upstream
     "end_time": "2024-01-30T13:54:25.594814Z",
     "start_time": "2024-01-30T13:54:25.589328Z"
=======
     "start_time": "2024-01-30T16:17:22.402964300Z"
>>>>>>> Stashed changes
    }
   }
  },
  {
   "cell_type": "code",
<<<<<<< Updated upstream
   "execution_count": 14,
   "outputs": [
    {
     "data": {
      "text/plain": "              product_name                                product_description\n0  Whey Protein Isolate 90  What is Whey Protein Isolate? Whey Protein Iso...\n1          Whey Protein 80  What is Whey Protein 80? Whey Protein 80 is an...\n2         Volt Preworkout™  What is Volt™? Our Volt pre workout formula in...",
      "text/html": "<div>\n<style scoped>\n    .dataframe tbody tr th:only-of-type {\n        vertical-align: middle;\n    }\n\n    .dataframe tbody tr th {\n        vertical-align: top;\n    }\n\n    .dataframe thead th {\n        text-align: right;\n    }\n</style>\n<table border=\"1\" class=\"dataframe\">\n  <thead>\n    <tr style=\"text-align: right;\">\n      <th></th>\n      <th>product_name</th>\n      <th>product_description</th>\n    </tr>\n  </thead>\n  <tbody>\n    <tr>\n      <th>0</th>\n      <td>Whey Protein Isolate 90</td>\n      <td>What is Whey Protein Isolate? Whey Protein Iso...</td>\n    </tr>\n    <tr>\n      <th>1</th>\n      <td>Whey Protein 80</td>\n      <td>What is Whey Protein 80? Whey Protein 80 is an...</td>\n    </tr>\n    <tr>\n      <th>2</th>\n      <td>Volt Preworkout™</td>\n      <td>What is Volt™? Our Volt pre workout formula in...</td>\n    </tr>\n  </tbody>\n</table>\n</div>"
     },
     "execution_count": 14,
     "metadata": {},
     "output_type": "execute_result"
    }
   ],
=======
   "execution_count": null,
   "outputs": [],
>>>>>>> Stashed changes
   "source": [
    "df.head()"
   ],
   "metadata": {
    "collapsed": false,
    "ExecuteTime": {
<<<<<<< Updated upstream
     "end_time": "2024-01-30T13:54:25.603384Z",
     "start_time": "2024-01-30T13:54:25.594582Z"
=======
     "end_time": "2024-01-30T16:17:22.421913600Z",
     "start_time": "2024-01-30T16:17:22.408948700Z"
>>>>>>> Stashed changes
    }
   }
  },
  {
   "cell_type": "code",
<<<<<<< Updated upstream
   "execution_count": 15,
=======
   "execution_count": null,
>>>>>>> Stashed changes
   "outputs": [],
   "source": [
    "from sklearn.feature_extraction.text import CountVectorizer"
   ],
   "metadata": {
    "collapsed": false,
    "ExecuteTime": {
<<<<<<< Updated upstream
     "end_time": "2024-01-30T13:54:25.603921Z",
     "start_time": "2024-01-30T13:54:25.598878Z"
=======
     "start_time": "2024-01-30T16:17:22.412937700Z"
>>>>>>> Stashed changes
    }
   }
  },
  {
   "cell_type": "code",
<<<<<<< Updated upstream
   "execution_count": 16,
=======
   "execution_count": null,
>>>>>>> Stashed changes
   "outputs": [],
   "source": [
    "text_df = df['product_description']"
   ],
   "metadata": {
    "collapsed": false,
    "ExecuteTime": {
<<<<<<< Updated upstream
     "end_time": "2024-01-30T13:54:25.604236Z",
     "start_time": "2024-01-30T13:54:25.601670Z"
=======
     "start_time": "2024-01-30T16:17:22.417924Z"
>>>>>>> Stashed changes
    }
   }
  },
  {
   "cell_type": "code",
<<<<<<< Updated upstream
   "execution_count": 17,
=======
   "execution_count": null,
>>>>>>> Stashed changes
   "outputs": [],
   "source": [
    "def get_matrix(text_df_input, model_input):\n",
    "    matrix = model.fit_transform(text_df_input).toarray()\n",
    "    return pd.DataFrame(data = matrix, columns = model_input.get_feature_names_out())"
   ],
   "metadata": {
    "collapsed": false,
    "ExecuteTime": {
<<<<<<< Updated upstream
     "end_time": "2024-01-30T13:54:25.611402Z",
     "start_time": "2024-01-30T13:54:25.604719Z"
=======
     "start_time": "2024-01-30T16:17:22.421913600Z"
>>>>>>> Stashed changes
    }
   }
  },
  {
   "cell_type": "code",
<<<<<<< Updated upstream
   "execution_count": 18,
   "outputs": [
    {
     "data": {
      "text/plain": "        0  1  2\nwould   0  0  1\nyou    10  7  7\nyour    8  6  7\nzinc    0  0  1\nzma     0  0  1",
      "text/html": "<div>\n<style scoped>\n    .dataframe tbody tr th:only-of-type {\n        vertical-align: middle;\n    }\n\n    .dataframe tbody tr th {\n        vertical-align: top;\n    }\n\n    .dataframe thead th {\n        text-align: right;\n    }\n</style>\n<table border=\"1\" class=\"dataframe\">\n  <thead>\n    <tr style=\"text-align: right;\">\n      <th></th>\n      <th>0</th>\n      <th>1</th>\n      <th>2</th>\n    </tr>\n  </thead>\n  <tbody>\n    <tr>\n      <th>would</th>\n      <td>0</td>\n      <td>0</td>\n      <td>1</td>\n    </tr>\n    <tr>\n      <th>you</th>\n      <td>10</td>\n      <td>7</td>\n      <td>7</td>\n    </tr>\n    <tr>\n      <th>your</th>\n      <td>8</td>\n      <td>6</td>\n      <td>7</td>\n    </tr>\n    <tr>\n      <th>zinc</th>\n      <td>0</td>\n      <td>0</td>\n      <td>1</td>\n    </tr>\n    <tr>\n      <th>zma</th>\n      <td>0</td>\n      <td>0</td>\n      <td>1</td>\n    </tr>\n  </tbody>\n</table>\n</div>"
     },
     "execution_count": 18,
     "metadata": {},
     "output_type": "execute_result"
    }
   ],
=======
   "execution_count": null,
   "outputs": [],
>>>>>>> Stashed changes
   "source": [
    "model = CountVectorizer(ngram_range = (1, 1))\n",
    "get_matrix(text_df, model).T.tail(5)"
   ],
   "metadata": {
    "collapsed": false,
    "ExecuteTime": {
<<<<<<< Updated upstream
     "end_time": "2024-01-30T13:54:25.632547Z",
     "start_time": "2024-01-30T13:54:25.609293Z"
=======
     "start_time": "2024-01-30T16:17:22.424905900Z"
>>>>>>> Stashed changes
    }
   }
  },
  {
   "cell_type": "code",
<<<<<<< Updated upstream
   "execution_count": 19,
   "outputs": [
    {
     "data": {
      "text/plain": "         0  1   2\nworking  0  0   3\nworkout  2  4  18\nworld    0  2   0\nzinc     0  0   1\nzma      0  0   1",
      "text/html": "<div>\n<style scoped>\n    .dataframe tbody tr th:only-of-type {\n        vertical-align: middle;\n    }\n\n    .dataframe tbody tr th {\n        vertical-align: top;\n    }\n\n    .dataframe thead th {\n        text-align: right;\n    }\n</style>\n<table border=\"1\" class=\"dataframe\">\n  <thead>\n    <tr style=\"text-align: right;\">\n      <th></th>\n      <th>0</th>\n      <th>1</th>\n      <th>2</th>\n    </tr>\n  </thead>\n  <tbody>\n    <tr>\n      <th>working</th>\n      <td>0</td>\n      <td>0</td>\n      <td>3</td>\n    </tr>\n    <tr>\n      <th>workout</th>\n      <td>2</td>\n      <td>4</td>\n      <td>18</td>\n    </tr>\n    <tr>\n      <th>world</th>\n      <td>0</td>\n      <td>2</td>\n      <td>0</td>\n    </tr>\n    <tr>\n      <th>zinc</th>\n      <td>0</td>\n      <td>0</td>\n      <td>1</td>\n    </tr>\n    <tr>\n      <th>zma</th>\n      <td>0</td>\n      <td>0</td>\n      <td>1</td>\n    </tr>\n  </tbody>\n</table>\n</div>"
     },
     "execution_count": 19,
     "metadata": {},
     "output_type": "execute_result"
    }
   ],
=======
   "execution_count": null,
   "outputs": [],
>>>>>>> Stashed changes
   "source": [
    "model = CountVectorizer(ngram_range = (1, 1), stop_words='english')\n",
    "get_matrix(text_df, model).T.tail(5)"
   ],
   "metadata": {
    "collapsed": false,
    "ExecuteTime": {
<<<<<<< Updated upstream
     "end_time": "2024-01-30T13:54:25.633491Z",
     "start_time": "2024-01-30T13:54:25.616660Z"
=======
     "start_time": "2024-01-30T16:17:22.429892800Z"
>>>>>>> Stashed changes
    }
   }
  },
  {
   "cell_type": "code",
<<<<<<< Updated upstream
   "execution_count": 20,
   "outputs": [
    {
     "data": {
      "text/plain": "                0  1  2\nworkout volt    0  0  1\nworld milk      0  1  0\nworld renowned  0  1  0\nzinc magnesium  0  0  1\nzma zinc        0  0  1",
      "text/html": "<div>\n<style scoped>\n    .dataframe tbody tr th:only-of-type {\n        vertical-align: middle;\n    }\n\n    .dataframe tbody tr th {\n        vertical-align: top;\n    }\n\n    .dataframe thead th {\n        text-align: right;\n    }\n</style>\n<table border=\"1\" class=\"dataframe\">\n  <thead>\n    <tr style=\"text-align: right;\">\n      <th></th>\n      <th>0</th>\n      <th>1</th>\n      <th>2</th>\n    </tr>\n  </thead>\n  <tbody>\n    <tr>\n      <th>workout volt</th>\n      <td>0</td>\n      <td>0</td>\n      <td>1</td>\n    </tr>\n    <tr>\n      <th>world milk</th>\n      <td>0</td>\n      <td>1</td>\n      <td>0</td>\n    </tr>\n    <tr>\n      <th>world renowned</th>\n      <td>0</td>\n      <td>1</td>\n      <td>0</td>\n    </tr>\n    <tr>\n      <th>zinc magnesium</th>\n      <td>0</td>\n      <td>0</td>\n      <td>1</td>\n    </tr>\n    <tr>\n      <th>zma zinc</th>\n      <td>0</td>\n      <td>0</td>\n      <td>1</td>\n    </tr>\n  </tbody>\n</table>\n</div>"
     },
     "execution_count": 20,
     "metadata": {},
     "output_type": "execute_result"
    }
   ],
=======
   "execution_count": null,
   "outputs": [],
>>>>>>> Stashed changes
   "source": [
    "model = CountVectorizer(ngram_range = (2, 2), stop_words='english')\n",
    "get_matrix(text_df, model).T.tail(5)"
   ],
   "metadata": {
    "collapsed": false,
    "ExecuteTime": {
<<<<<<< Updated upstream
     "end_time": "2024-01-30T13:54:25.651246Z",
     "start_time": "2024-01-30T13:54:25.623395Z"
=======
     "start_time": "2024-01-30T16:17:22.433881800Z"
>>>>>>> Stashed changes
    }
   }
  },
  {
   "cell_type": "code",
<<<<<<< Updated upstream
   "execution_count": 21,
   "outputs": [
    {
     "data": {
      "text/plain": "                                     0  1  2\nzma                                  0  0  1\nzma zinc                             0  0  1\nzma zinc magnesium                   0  0  1\nzma zinc magnesium recovery          0  0  1\nzma zinc magnesium recovery formula  0  0  1",
      "text/html": "<div>\n<style scoped>\n    .dataframe tbody tr th:only-of-type {\n        vertical-align: middle;\n    }\n\n    .dataframe tbody tr th {\n        vertical-align: top;\n    }\n\n    .dataframe thead th {\n        text-align: right;\n    }\n</style>\n<table border=\"1\" class=\"dataframe\">\n  <thead>\n    <tr style=\"text-align: right;\">\n      <th></th>\n      <th>0</th>\n      <th>1</th>\n      <th>2</th>\n    </tr>\n  </thead>\n  <tbody>\n    <tr>\n      <th>zma</th>\n      <td>0</td>\n      <td>0</td>\n      <td>1</td>\n    </tr>\n    <tr>\n      <th>zma zinc</th>\n      <td>0</td>\n      <td>0</td>\n      <td>1</td>\n    </tr>\n    <tr>\n      <th>zma zinc magnesium</th>\n      <td>0</td>\n      <td>0</td>\n      <td>1</td>\n    </tr>\n    <tr>\n      <th>zma zinc magnesium recovery</th>\n      <td>0</td>\n      <td>0</td>\n      <td>1</td>\n    </tr>\n    <tr>\n      <th>zma zinc magnesium recovery formula</th>\n      <td>0</td>\n      <td>0</td>\n      <td>1</td>\n    </tr>\n  </tbody>\n</table>\n</div>"
     },
     "execution_count": 21,
     "metadata": {},
     "output_type": "execute_result"
    }
   ],
=======
   "execution_count": null,
   "outputs": [],
>>>>>>> Stashed changes
   "source": [
    "model = CountVectorizer(ngram_range = (1, 5), stop_words='english')\n",
    "ngrams_matrix = get_matrix(text_df, model)\n",
    "ngrams_matrix.T.tail(5)"
   ],
   "metadata": {
    "collapsed": false,
    "ExecuteTime": {
<<<<<<< Updated upstream
     "end_time": "2024-01-30T13:54:25.696660Z",
     "start_time": "2024-01-30T13:54:25.635151Z"
=======
     "start_time": "2024-01-30T16:17:22.438868500Z"
>>>>>>> Stashed changes
    }
   }
  },
  {
   "cell_type": "code",
<<<<<<< Updated upstream
   "execution_count": 22,
   "outputs": [
    {
     "data": {
      "text/plain": "(3, 6091)"
     },
     "execution_count": 22,
     "metadata": {},
     "output_type": "execute_result"
    }
   ],
=======
   "execution_count": null,
   "outputs": [],
>>>>>>> Stashed changes
   "source": [
    "ngrams_matrix.shape"
   ],
   "metadata": {
    "collapsed": false,
    "ExecuteTime": {
<<<<<<< Updated upstream
     "end_time": "2024-01-30T13:54:25.697435Z",
     "start_time": "2024-01-30T13:54:25.646011Z"
=======
     "start_time": "2024-01-30T16:17:22.444853900Z"
>>>>>>> Stashed changes
    }
   }
  },
  {
   "cell_type": "code",
<<<<<<< Updated upstream
   "execution_count": 23,
   "outputs": [
    {
     "data": {
      "text/plain": "                           0  1   2\nwhey protein concentrate   4  3   0\nwhey protein isolate      11  0   0\nwork                       0  2   3\nworkout                    2  4  18\nworkout formula            0  0   6",
      "text/html": "<div>\n<style scoped>\n    .dataframe tbody tr th:only-of-type {\n        vertical-align: middle;\n    }\n\n    .dataframe tbody tr th {\n        vertical-align: top;\n    }\n\n    .dataframe thead th {\n        text-align: right;\n    }\n</style>\n<table border=\"1\" class=\"dataframe\">\n  <thead>\n    <tr style=\"text-align: right;\">\n      <th></th>\n      <th>0</th>\n      <th>1</th>\n      <th>2</th>\n    </tr>\n  </thead>\n  <tbody>\n    <tr>\n      <th>whey protein concentrate</th>\n      <td>4</td>\n      <td>3</td>\n      <td>0</td>\n    </tr>\n    <tr>\n      <th>whey protein isolate</th>\n      <td>11</td>\n      <td>0</td>\n      <td>0</td>\n    </tr>\n    <tr>\n      <th>work</th>\n      <td>0</td>\n      <td>2</td>\n      <td>3</td>\n    </tr>\n    <tr>\n      <th>workout</th>\n      <td>2</td>\n      <td>4</td>\n      <td>18</td>\n    </tr>\n    <tr>\n      <th>workout formula</th>\n      <td>0</td>\n      <td>0</td>\n      <td>6</td>\n    </tr>\n  </tbody>\n</table>\n</div>"
     },
     "execution_count": 23,
     "metadata": {},
     "output_type": "execute_result"
    }
   ],
=======
   "execution_count": null,
   "outputs": [],
>>>>>>> Stashed changes
   "source": [
    "model = CountVectorizer(ngram_range = (1, 5), max_features = 100, stop_words='english')\n",
    "ngrams_matrix = get_matrix(text_df, model)\n",
    "ngrams_matrix.T.tail(5)"
   ],
   "metadata": {
    "collapsed": false,
    "ExecuteTime": {
<<<<<<< Updated upstream
     "end_time": "2024-01-30T13:54:25.782169Z",
     "start_time": "2024-01-30T13:54:25.656922Z"
=======
     "start_time": "2024-01-30T16:17:22.449839600Z"
>>>>>>> Stashed changes
    }
   }
  },
  {
   "cell_type": "code",
<<<<<<< Updated upstream
   "execution_count": 24,
   "outputs": [
    {
     "data": {
      "text/plain": "(3, 100)"
     },
     "execution_count": 24,
     "metadata": {},
     "output_type": "execute_result"
    }
   ],
=======
   "execution_count": null,
   "outputs": [],
>>>>>>> Stashed changes
   "source": [
    "ngrams_matrix.shape"
   ],
   "metadata": {
    "collapsed": false,
    "ExecuteTime": {
<<<<<<< Updated upstream
     "end_time": "2024-01-30T13:54:25.782728Z",
     "start_time": "2024-01-30T13:54:25.663215Z"
=======
     "end_time": "2024-01-30T16:17:22.481753600Z",
     "start_time": "2024-01-30T16:17:22.454825800Z"
>>>>>>> Stashed changes
    }
   }
  },
  {
   "cell_type": "code",
<<<<<<< Updated upstream
   "execution_count": 25,
=======
   "execution_count": null,
>>>>>>> Stashed changes
   "outputs": [],
   "source": [
    "def get_ngrams(text, ngram_from=2, ngram_to=2, n=None, max_features=20000):\n",
    "\n",
    "    vec = CountVectorizer(ngram_range = (ngram_from, ngram_to),\n",
    "                          max_features = max_features,\n",
    "                          stop_words='english').fit(text)\n",
    "    bag_of_words = vec.transform(text)\n",
    "    sum_words = bag_of_words.sum(axis = 0)\n",
    "    words_freq = [(word, sum_words[0, i]) for word, i in vec.vocabulary_.items()]\n",
    "    words_freq = sorted(words_freq, key = lambda x: x[1], reverse = True)\n",
    "\n",
    "    return words_freq[:n]"
   ],
   "metadata": {
    "collapsed": false,
    "ExecuteTime": {
<<<<<<< Updated upstream
     "end_time": "2024-01-30T13:54:25.783051Z",
     "start_time": "2024-01-30T13:54:25.667929Z"
=======
     "start_time": "2024-01-30T16:17:22.459812500Z"
>>>>>>> Stashed changes
    }
   }
  },
  {
   "cell_type": "code",
<<<<<<< Updated upstream
   "execution_count": 26,
   "outputs": [
    {
     "data": {
      "text/plain": "   Unigram  Frequency\n0  protein         80\n1     whey         53\n2  workout         24\n3     volt         24\n4       gn         23",
      "text/html": "<div>\n<style scoped>\n    .dataframe tbody tr th:only-of-type {\n        vertical-align: middle;\n    }\n\n    .dataframe tbody tr th {\n        vertical-align: top;\n    }\n\n    .dataframe thead th {\n        text-align: right;\n    }\n</style>\n<table border=\"1\" class=\"dataframe\">\n  <thead>\n    <tr style=\"text-align: right;\">\n      <th></th>\n      <th>Unigram</th>\n      <th>Frequency</th>\n    </tr>\n  </thead>\n  <tbody>\n    <tr>\n      <th>0</th>\n      <td>protein</td>\n      <td>80</td>\n    </tr>\n    <tr>\n      <th>1</th>\n      <td>whey</td>\n      <td>53</td>\n    </tr>\n    <tr>\n      <th>2</th>\n      <td>workout</td>\n      <td>24</td>\n    </tr>\n    <tr>\n      <th>3</th>\n      <td>volt</td>\n      <td>24</td>\n    </tr>\n    <tr>\n      <th>4</th>\n      <td>gn</td>\n      <td>23</td>\n    </tr>\n  </tbody>\n</table>\n</div>"
     },
     "execution_count": 26,
     "metadata": {},
     "output_type": "execute_result"
    }
   ],
=======
   "execution_count": null,
   "outputs": [],
>>>>>>> Stashed changes
   "source": [
    "unigrams = get_ngrams(text_df, ngram_from=1, ngram_to=1, n=15)\n",
    "unigrams_df = pd.DataFrame(unigrams)\n",
    "unigrams_df.columns=[\"Unigram\", \"Frequency\"]\n",
    "unigrams_df.head()"
   ],
   "metadata": {
    "collapsed": false,
    "ExecuteTime": {
<<<<<<< Updated upstream
     "end_time": "2024-01-30T13:54:25.821254Z",
     "start_time": "2024-01-30T13:54:25.676239Z"
=======
     "start_time": "2024-01-30T16:17:22.462805Z"
>>>>>>> Stashed changes
    }
   }
  },
  {
   "cell_type": "code",
<<<<<<< Updated upstream
   "execution_count": 27,
   "outputs": [
    {
     "data": {
      "text/plain": "            Bigram  Frequency\n0     whey protein         45\n1      pre workout         14\n2  protein isolate         11\n3          gn whey         11\n4       protein 80         11",
      "text/html": "<div>\n<style scoped>\n    .dataframe tbody tr th:only-of-type {\n        vertical-align: middle;\n    }\n\n    .dataframe tbody tr th {\n        vertical-align: top;\n    }\n\n    .dataframe thead th {\n        text-align: right;\n    }\n</style>\n<table border=\"1\" class=\"dataframe\">\n  <thead>\n    <tr style=\"text-align: right;\">\n      <th></th>\n      <th>Bigram</th>\n      <th>Frequency</th>\n    </tr>\n  </thead>\n  <tbody>\n    <tr>\n      <th>0</th>\n      <td>whey protein</td>\n      <td>45</td>\n    </tr>\n    <tr>\n      <th>1</th>\n      <td>pre workout</td>\n      <td>14</td>\n    </tr>\n    <tr>\n      <th>2</th>\n      <td>protein isolate</td>\n      <td>11</td>\n    </tr>\n    <tr>\n      <th>3</th>\n      <td>gn whey</td>\n      <td>11</td>\n    </tr>\n    <tr>\n      <th>4</th>\n      <td>protein 80</td>\n      <td>11</td>\n    </tr>\n  </tbody>\n</table>\n</div>"
     },
     "execution_count": 27,
     "metadata": {},
     "output_type": "execute_result"
    }
   ],
=======
   "execution_count": null,
   "outputs": [],
>>>>>>> Stashed changes
   "source": [
    "bigrams = get_ngrams(text_df, ngram_from=2, ngram_to=2, n=15)\n",
    "bigrams_df = pd.DataFrame(bigrams)\n",
    "bigrams_df.columns=[\"Bigram\", \"Frequency\"]\n",
    "bigrams_df.head()"
   ],
   "metadata": {
    "collapsed": false,
    "ExecuteTime": {
<<<<<<< Updated upstream
     "end_time": "2024-01-30T13:54:25.822343Z",
     "start_time": "2024-01-30T13:54:25.685730Z"
=======
     "start_time": "2024-01-30T16:17:22.466794300Z"
>>>>>>> Stashed changes
    }
   }
  },
  {
   "cell_type": "code",
<<<<<<< Updated upstream
   "execution_count": 28,
   "outputs": [
    {
     "data": {
      "text/plain": "                    Trigram  Frequency\n0      whey protein isolate         11\n1           whey protein 80         11\n2  whey protein concentrate          7\n3           gn whey protein          6\n4       pre workout formula          6",
      "text/html": "<div>\n<style scoped>\n    .dataframe tbody tr th:only-of-type {\n        vertical-align: middle;\n    }\n\n    .dataframe tbody tr th {\n        vertical-align: top;\n    }\n\n    .dataframe thead th {\n        text-align: right;\n    }\n</style>\n<table border=\"1\" class=\"dataframe\">\n  <thead>\n    <tr style=\"text-align: right;\">\n      <th></th>\n      <th>Trigram</th>\n      <th>Frequency</th>\n    </tr>\n  </thead>\n  <tbody>\n    <tr>\n      <th>0</th>\n      <td>whey protein isolate</td>\n      <td>11</td>\n    </tr>\n    <tr>\n      <th>1</th>\n      <td>whey protein 80</td>\n      <td>11</td>\n    </tr>\n    <tr>\n      <th>2</th>\n      <td>whey protein concentrate</td>\n      <td>7</td>\n    </tr>\n    <tr>\n      <th>3</th>\n      <td>gn whey protein</td>\n      <td>6</td>\n    </tr>\n    <tr>\n      <th>4</th>\n      <td>pre workout formula</td>\n      <td>6</td>\n    </tr>\n  </tbody>\n</table>\n</div>"
     },
     "execution_count": 28,
     "metadata": {},
     "output_type": "execute_result"
    }
   ],
=======
   "execution_count": null,
   "outputs": [],
>>>>>>> Stashed changes
   "source": [
    "trigrams = get_ngrams(text_df, ngram_from=3, ngram_to=3, n=15)\n",
    "trigrams_df = pd.DataFrame(trigrams)\n",
    "trigrams_df.columns=[\"Trigram\", \"Frequency\"]\n",
    "trigrams_df.head()"
   ],
   "metadata": {
    "collapsed": false,
    "ExecuteTime": {
<<<<<<< Updated upstream
     "end_time": "2024-01-30T13:54:25.823643Z",
     "start_time": "2024-01-30T13:54:25.695447Z"
=======
     "start_time": "2024-01-30T16:17:22.468788300Z"
>>>>>>> Stashed changes
    }
   }
  },
  {
   "cell_type": "code",
<<<<<<< Updated upstream
   "execution_count": 29,
   "outputs": [
    {
     "data": {
      "text/plain": "                   Quadgram  Frequency\n0        gn whey protein 80          6\n1        gn whey isolate 90          4\n2  volt pre workout formula          4\n3      free range grass fed          3\n4      range grass fed cows          3",
      "text/html": "<div>\n<style scoped>\n    .dataframe tbody tr th:only-of-type {\n        vertical-align: middle;\n    }\n\n    .dataframe tbody tr th {\n        vertical-align: top;\n    }\n\n    .dataframe thead th {\n        text-align: right;\n    }\n</style>\n<table border=\"1\" class=\"dataframe\">\n  <thead>\n    <tr style=\"text-align: right;\">\n      <th></th>\n      <th>Quadgram</th>\n      <th>Frequency</th>\n    </tr>\n  </thead>\n  <tbody>\n    <tr>\n      <th>0</th>\n      <td>gn whey protein 80</td>\n      <td>6</td>\n    </tr>\n    <tr>\n      <th>1</th>\n      <td>gn whey isolate 90</td>\n      <td>4</td>\n    </tr>\n    <tr>\n      <th>2</th>\n      <td>volt pre workout formula</td>\n      <td>4</td>\n    </tr>\n    <tr>\n      <th>3</th>\n      <td>free range grass fed</td>\n      <td>3</td>\n    </tr>\n    <tr>\n      <th>4</th>\n      <td>range grass fed cows</td>\n      <td>3</td>\n    </tr>\n  </tbody>\n</table>\n</div>"
     },
     "execution_count": 29,
     "metadata": {},
     "output_type": "execute_result"
    }
   ],
=======
   "execution_count": null,
   "outputs": [],
>>>>>>> Stashed changes
   "source": [
    "quadgrams = get_ngrams(text_df, ngram_from=4, ngram_to=4, n=15)\n",
    "quadgrams_df = pd.DataFrame(quadgrams)\n",
    "quadgrams_df.columns=[\"Quadgram\", \"Frequency\"]\n",
    "quadgrams_df.head()"
   ],
   "metadata": {
    "collapsed": false,
    "ExecuteTime": {
<<<<<<< Updated upstream
     "end_time": "2024-01-30T13:54:25.824257Z",
     "start_time": "2024-01-30T13:54:25.706092Z"
=======
     "start_time": "2024-01-30T16:17:22.471780800Z"
>>>>>>> Stashed changes
    }
   }
  },
  {
   "cell_type": "code",
<<<<<<< Updated upstream
   "execution_count": 30,
   "outputs": [
    {
     "data": {
      "text/plain": "                  Quintgram  Frequency\n0        gn whey protein 80          6\n1        gn whey isolate 90          4\n2  volt pre workout formula          4\n3      free range grass fed          3\n4      range grass fed cows          3",
      "text/html": "<div>\n<style scoped>\n    .dataframe tbody tr th:only-of-type {\n        vertical-align: middle;\n    }\n\n    .dataframe tbody tr th {\n        vertical-align: top;\n    }\n\n    .dataframe thead th {\n        text-align: right;\n    }\n</style>\n<table border=\"1\" class=\"dataframe\">\n  <thead>\n    <tr style=\"text-align: right;\">\n      <th></th>\n      <th>Quintgram</th>\n      <th>Frequency</th>\n    </tr>\n  </thead>\n  <tbody>\n    <tr>\n      <th>0</th>\n      <td>gn whey protein 80</td>\n      <td>6</td>\n    </tr>\n    <tr>\n      <th>1</th>\n      <td>gn whey isolate 90</td>\n      <td>4</td>\n    </tr>\n    <tr>\n      <th>2</th>\n      <td>volt pre workout formula</td>\n      <td>4</td>\n    </tr>\n    <tr>\n      <th>3</th>\n      <td>free range grass fed</td>\n      <td>3</td>\n    </tr>\n    <tr>\n      <th>4</th>\n      <td>range grass fed cows</td>\n      <td>3</td>\n    </tr>\n  </tbody>\n</table>\n</div>"
     },
     "execution_count": 30,
     "metadata": {},
     "output_type": "execute_result"
    }
   ],
=======
   "execution_count": null,
   "outputs": [],
>>>>>>> Stashed changes
   "source": [
    "quintgrams = get_ngrams(text_df, ngram_from=5, ngram_to=5, n=15)\n",
    "quintgrams_df = pd.DataFrame(quadgrams)\n",
    "quintgrams_df.columns=[\"Quintgram\", \"Frequency\"]\n",
    "quintgrams_df.head()"
   ],
   "metadata": {
    "collapsed": false,
    "ExecuteTime": {
<<<<<<< Updated upstream
     "end_time": "2024-01-30T13:54:25.824809Z",
     "start_time": "2024-01-30T13:54:25.718196Z"
=======
     "start_time": "2024-01-30T16:17:22.474772500Z"
>>>>>>> Stashed changes
    }
   }
  }
 ],
 "metadata": {
  "kernelspec": {
   "display_name": "Python 3",
   "language": "python",
   "name": "python3"
  },
  "language_info": {
   "codemirror_mode": {
    "name": "ipython",
    "version": 2
   },
   "file_extension": ".py",
   "mimetype": "text/x-python",
   "name": "python",
   "nbconvert_exporter": "python",
   "pygments_lexer": "ipython2",
   "version": "2.7.6"
  }
 },
 "nbformat": 4,
 "nbformat_minor": 0
}
