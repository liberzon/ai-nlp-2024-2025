{
 "cells": [
  {
   "cell_type": "code",
   "id": "initial_id",
   "metadata": {
    "collapsed": true
   },
   "source": [
    "import pandas as pd\n",
    "from sklearn.feature_extraction.text import CountVectorizer\n",
    "from sklearn.model_selection import train_test_split\n",
    "from sklearn.linear_model import LogisticRegression\n",
    "from sklearn.metrics import classification_report, accuracy_score\n",
    "\n",
    "# Dataset\n",
    "data = {\n",
    "    \"message\": [\n",
    "        \"Win $1000 now by clicking this link!\",\n",
    "        \"Congratulations, you are selected to receive a free gift card!\",\n",
    "        \"Please call this number to claim your prize.\",\n",
    "        \"Hey, are we still meeting for coffee tomorrow?\",\n",
    "        \"Don't forget the team meeting at 10:00 AM.\",\n",
    "        \"Can you send me the report by EOD?\",\n",
    "        \"This is not a spam message, just wanted to say hi.\",\n",
    "        \"Your subscription will expire soon. Renew now to avoid interruption.\",\n",
    "        \"Free tickets to the concert! Claim now!\",\n",
    "        \"Let's catch up later this week.\"\n",
    "    ],\n",
    "    \"label\": [\n",
    "        \"spam\", \"spam\", \"spam\", \"ham\", \"ham\",\n",
    "        \"ham\", \"ham\", \"spam\", \"spam\", \"ham\"\n",
    "    ]\n",
    "}\n",
    "\n",
    "# Convert to DataFrame\n",
    "df = pd.DataFrame(data)"
   ],
   "outputs": [],
   "execution_count": null
  },
  {
   "cell_type": "code",
   "source": [
    "# Split the data\n",
    "X_train, X_test, y_train, y_test = train_test_split(df[\"message\"], df[\"label\"], test_size=0.3, random_state=42)"
   ],
   "metadata": {
    "collapsed": false
   },
   "id": "4d5b34102d3a088f",
   "outputs": [],
   "execution_count": null
  },
  {
   "cell_type": "code",
   "source": [
    "# Vectorize using Bag of Words\n",
    "#vectorizer = CountVectorizer(stop_words='english')\n",
    "#X_train_vec = vectorizer.fit_transform(X_train)\n",
    "#X_test_vec = vectorizer.transform(X_test)"
   ],
   "metadata": {
    "collapsed": false
   },
   "id": "de55b6d9f5fc1d45",
   "outputs": [],
   "execution_count": null
  },
  {
   "cell_type": "code",
   "source": [
    "from sentence_transformers import SentenceTransformer\n",
    "# Load Embedding Model\n",
    "model = SentenceTransformer('all-MiniLM-L6-v2')\n",
    "\n",
    "# Generate Embeddings\n",
    "X_train_vec = model.encode(X_train.tolist())\n",
    "X_test_vec = model.encode(X_test.tolist())"
   ],
   "metadata": {
    "collapsed": false
   },
   "id": "9f9092d04c11afa",
   "outputs": [],
   "execution_count": null
  },
  {
   "cell_type": "code",
   "source": [
    "# Train a Logistic Regression Classifier\n",
    "classifier = LogisticRegression(max_iter=200)\n",
    "classifier.fit(X_train_vec, y_train)"
   ],
   "metadata": {
    "collapsed": false
   },
   "id": "3d470761b19b5092",
   "outputs": [],
   "execution_count": null
  },
  {
   "cell_type": "code",
   "source": [
    "# Evaluate the Model\n",
    "y_pred = classifier.predict(X_test_vec)\n",
    "print(\"Accuracy:\", accuracy_score(y_test, y_pred))\n",
    "print(\"Classification Report:\\n\", classification_report(y_test, y_pred))"
   ],
   "metadata": {
    "collapsed": false
   },
   "id": "5cdb8c1302a8ea9a",
   "outputs": [],
   "execution_count": null
  },
  {
   "cell_type": "code",
   "source": [
    "# Predict new messages\n",
    "new_messages = [\n",
    "    \"Win a free iPhone by clicking this link!\",\n",
    "    \"Let's meet for dinner tonight.\",\n",
    "    \"Claim your $500 voucher before it's too late!\",\n",
    "    \"Don't forget to update your project status.\"\n",
    "]\n",
    "new_messages_vec = model.encode(new_messages)\n",
    "#new_messages_vec = vectorizer.transform(new_messages)\n",
    "new_predictions = classifier.predict(new_messages_vec)\n",
    "\n",
    "# Print Predictions\n",
    "for message, prediction in zip(new_messages, new_predictions):\n",
    "    print(f\"Message: {message}\")\n",
    "    print(f\"Prediction: {prediction}\")\n",
    "    print(\"-\" * 50)"
   ],
   "metadata": {
    "collapsed": false
   },
   "id": "4b90656573ec8b0d",
   "outputs": [],
   "execution_count": null
  },
  {
   "cell_type": "code",
   "source": [],
   "metadata": {
    "collapsed": false
   },
   "id": "f8058e933e85a590",
   "outputs": [],
   "execution_count": null
  },
  {
   "cell_type": "code",
   "source": [],
   "metadata": {
    "collapsed": false
   },
   "id": "d7bcc0a22f2e8bf5",
   "outputs": [],
   "execution_count": null
  }
 ],
 "metadata": {
  "kernelspec": {
   "display_name": "Python 3",
   "language": "python",
   "name": "python3"
  },
  "language_info": {
   "codemirror_mode": {
    "name": "ipython",
    "version": 2
   },
   "file_extension": ".py",
   "mimetype": "text/x-python",
   "name": "python",
   "nbconvert_exporter": "python",
   "pygments_lexer": "ipython2",
   "version": "2.7.6"
  }
 },
 "nbformat": 4,
 "nbformat_minor": 5
}
