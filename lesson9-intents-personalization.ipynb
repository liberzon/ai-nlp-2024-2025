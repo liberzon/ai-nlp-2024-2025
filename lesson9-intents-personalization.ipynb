{
 "cells": [
  {
   "cell_type": "code",
   "id": "initial_id",
   "metadata": {
    "collapsed": true
   },
   "source": [],
   "outputs": [],
   "execution_count": null
  },
  {
   "cell_type": "code",
   "source": [
    "import spacy\n",
    "import pandas as pd\n",
    "import random\n",
    "import re\n",
    "\n",
    "# טוען מודל spaCy\n",
    "nlp = spacy.load(\"en_core_web_sm\")\n",
    "\n",
    "# **Dataset: שאלות ותשובות מותאמות אישית**\n",
    "data = {\n",
    "    \"question\": [\n",
    "        \"I’m Alice Brown with booking ID LMN789. How much to upgrade my seat to business class?\"\n",
    "    ]\n",
    "}\n",
    "\n",
    "# **Response Template**\n",
    "response_template = (\n",
    "    \"Hi {name}, the cost to upgrade your flight with booking ID {booking_id} \"\n",
    "    \"is estimated at ${price} based on the duration of your flight.\"\n",
    ")\n",
    "\n",
    "# **Data for Mock Flight Information**\n",
    "flight_lengths = {\n",
    "    \"short\": [50, 70, 90],\n",
    "    \"medium\": [150, 200, 250],\n",
    "    \"long\": [300, 350, 400]\n",
    "}\n",
    "\n",
    "# **פונקציה להוציא ישויות מהשאלה**\n",
    "def extract_entities(question):\n",
    "    # ביטוי רגולרי לזיהוי Booking ID\n",
    "    booking_id_pattern = r\"[A-Z]{3}\\d{3}\"\n",
    "    doc = nlp(question)\n",
    "    name = None\n",
    "    booking_id = None\n",
    "\n",
    "    # זיהוי ישויות באמצעות spaCy\n",
    "    for ent in doc.ents:\n",
    "        if ent.label_ == \"PERSON\":\n",
    "            name = ent.text\n",
    "\n",
    "    # זיהוי Booking ID באמצעות הביטוי הרגולרי\n",
    "    match = re.search(booking_id_pattern, question)\n",
    "    if match:\n",
    "        booking_id = match.group()\n",
    "\n",
    "    return name, booking_id\n",
    "\n",
    "# **פונקציה ליצירת מחיר מותאם לפי אורך הטיסה**\n",
    "def generate_price():\n",
    "    flight_type = random.choice([\"short\", \"medium\", \"long\"])\n",
    "    return random.choice(flight_lengths[flight_type])\n",
    "\n",
    "# **עיבוד כל השאלות ומתן תשובות מותאמות אישית**\n",
    "for question in data[\"question\"]:\n",
    "    name, booking_id = extract_entities(question)\n",
    "    if name and booking_id:\n",
    "        price = generate_price()\n",
    "        response = response_template.format(name=name, booking_id=booking_id, price=price)\n",
    "    else:\n",
    "        response = \"Sorry, we couldn't find your booking details. Please provide your name and booking ID.\"\n",
    "\n",
    "    print(f\"Question: {question}\")\n",
    "    print(f\"Response: {response}\")\n",
    "    print(\"-\" * 50)\n"
   ],
   "metadata": {
    "collapsed": false
   },
   "id": "5a13b97b4fcc9d6c",
   "outputs": [],
   "execution_count": null
  },
  {
   "cell_type": "code",
   "source": [],
   "metadata": {
    "collapsed": false
   },
   "id": "6eb30b858b51b87b",
   "outputs": [],
   "execution_count": null
  }
 ],
 "metadata": {
  "kernelspec": {
   "display_name": "Python 3",
   "language": "python",
   "name": "python3"
  },
  "language_info": {
   "codemirror_mode": {
    "name": "ipython",
    "version": 2
   },
   "file_extension": ".py",
   "mimetype": "text/x-python",
   "name": "python",
   "nbconvert_exporter": "python",
   "pygments_lexer": "ipython2",
   "version": "2.7.6"
  }
 },
 "nbformat": 4,
 "nbformat_minor": 5
}
