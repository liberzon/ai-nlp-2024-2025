{
 "cells": [
  {
   "cell_type": "code",
   "source": "!pip install spacy spacy-lookups-data spacytextblob",
   "metadata": {
    "collapsed": false,
    "ExecuteTime": {
     "end_time": "2024-12-25T21:09:03.710671Z",
     "start_time": "2024-12-25T21:09:01.339505Z"
    }
   },
   "outputs": [
    {
     "name": "stdout",
     "output_type": "stream",
     "text": [
      "Requirement already satisfied: spacy in /Users/yairl/workspace/src/scripts/universal-graph-notebooks/dataspell/venv12/lib/python3.12/site-packages (3.8.2)\r\n",
      "Requirement already satisfied: spacy-lookups-data in /Users/yairl/workspace/src/scripts/universal-graph-notebooks/dataspell/venv12/lib/python3.12/site-packages (1.0.5)\r\n",
      "Collecting spacytextblob\r\n",
      "  Downloading spacytextblob-5.0.0-py3-none-any.whl.metadata (4.8 kB)\r\n",
      "Requirement already satisfied: spacy-legacy<3.1.0,>=3.0.11 in /Users/yairl/workspace/src/scripts/universal-graph-notebooks/dataspell/venv12/lib/python3.12/site-packages (from spacy) (3.0.12)\r\n",
      "Requirement already satisfied: spacy-loggers<2.0.0,>=1.0.0 in /Users/yairl/workspace/src/scripts/universal-graph-notebooks/dataspell/venv12/lib/python3.12/site-packages (from spacy) (1.0.5)\r\n",
      "Requirement already satisfied: murmurhash<1.1.0,>=0.28.0 in /Users/yairl/workspace/src/scripts/universal-graph-notebooks/dataspell/venv12/lib/python3.12/site-packages (from spacy) (1.0.10)\r\n",
      "Requirement already satisfied: cymem<2.1.0,>=2.0.2 in /Users/yairl/workspace/src/scripts/universal-graph-notebooks/dataspell/venv12/lib/python3.12/site-packages (from spacy) (2.0.8)\r\n",
      "Requirement already satisfied: preshed<3.1.0,>=3.0.2 in /Users/yairl/workspace/src/scripts/universal-graph-notebooks/dataspell/venv12/lib/python3.12/site-packages (from spacy) (3.0.9)\r\n",
      "Requirement already satisfied: thinc<8.4.0,>=8.3.0 in /Users/yairl/workspace/src/scripts/universal-graph-notebooks/dataspell/venv12/lib/python3.12/site-packages (from spacy) (8.3.2)\r\n",
      "Requirement already satisfied: wasabi<1.2.0,>=0.9.1 in /Users/yairl/workspace/src/scripts/universal-graph-notebooks/dataspell/venv12/lib/python3.12/site-packages (from spacy) (1.1.3)\r\n",
      "Requirement already satisfied: srsly<3.0.0,>=2.4.3 in /Users/yairl/workspace/src/scripts/universal-graph-notebooks/dataspell/venv12/lib/python3.12/site-packages (from spacy) (2.4.8)\r\n",
      "Requirement already satisfied: catalogue<2.1.0,>=2.0.6 in /Users/yairl/workspace/src/scripts/universal-graph-notebooks/dataspell/venv12/lib/python3.12/site-packages (from spacy) (2.0.10)\r\n",
      "Requirement already satisfied: weasel<0.5.0,>=0.1.0 in /Users/yairl/workspace/src/scripts/universal-graph-notebooks/dataspell/venv12/lib/python3.12/site-packages (from spacy) (0.4.1)\r\n",
      "Requirement already satisfied: typer<1.0.0,>=0.3.0 in /Users/yairl/workspace/src/scripts/universal-graph-notebooks/dataspell/venv12/lib/python3.12/site-packages (from spacy) (0.13.0)\r\n",
      "Requirement already satisfied: tqdm<5.0.0,>=4.38.0 in /Users/yairl/workspace/src/scripts/universal-graph-notebooks/dataspell/venv12/lib/python3.12/site-packages (from spacy) (4.67.0)\r\n",
      "Requirement already satisfied: requests<3.0.0,>=2.13.0 in /Users/yairl/workspace/src/scripts/universal-graph-notebooks/dataspell/venv12/lib/python3.12/site-packages (from spacy) (2.32.3)\r\n",
      "Requirement already satisfied: pydantic!=1.8,!=1.8.1,<3.0.0,>=1.7.4 in /Users/yairl/workspace/src/scripts/universal-graph-notebooks/dataspell/venv12/lib/python3.12/site-packages (from spacy) (2.10.3)\r\n",
      "Requirement already satisfied: jinja2 in /Users/yairl/workspace/src/scripts/universal-graph-notebooks/dataspell/venv12/lib/python3.12/site-packages (from spacy) (3.1.4)\r\n",
      "Requirement already satisfied: setuptools in /Users/yairl/workspace/src/scripts/universal-graph-notebooks/dataspell/venv12/lib/python3.12/site-packages (from spacy) (75.3.0)\r\n",
      "Requirement already satisfied: packaging>=20.0 in /Users/yairl/workspace/src/scripts/universal-graph-notebooks/dataspell/venv12/lib/python3.12/site-packages (from spacy) (24.1)\r\n",
      "Requirement already satisfied: langcodes<4.0.0,>=3.2.0 in /Users/yairl/workspace/src/scripts/universal-graph-notebooks/dataspell/venv12/lib/python3.12/site-packages (from spacy) (3.4.1)\r\n",
      "Requirement already satisfied: numpy>=1.19.0 in /Users/yairl/workspace/src/scripts/universal-graph-notebooks/dataspell/venv12/lib/python3.12/site-packages (from spacy) (2.0.2)\r\n",
      "Collecting textblob>=0.18.0.post0 (from spacytextblob)\r\n",
      "  Downloading textblob-0.18.0.post0-py3-none-any.whl.metadata (4.5 kB)\r\n",
      "Requirement already satisfied: language-data>=1.2 in /Users/yairl/workspace/src/scripts/universal-graph-notebooks/dataspell/venv12/lib/python3.12/site-packages (from langcodes<4.0.0,>=3.2.0->spacy) (1.2.0)\r\n",
      "Requirement already satisfied: annotated-types>=0.6.0 in /Users/yairl/workspace/src/scripts/universal-graph-notebooks/dataspell/venv12/lib/python3.12/site-packages (from pydantic!=1.8,!=1.8.1,<3.0.0,>=1.7.4->spacy) (0.7.0)\r\n",
      "Requirement already satisfied: pydantic-core==2.27.1 in /Users/yairl/workspace/src/scripts/universal-graph-notebooks/dataspell/venv12/lib/python3.12/site-packages (from pydantic!=1.8,!=1.8.1,<3.0.0,>=1.7.4->spacy) (2.27.1)\r\n",
      "Requirement already satisfied: typing-extensions>=4.12.2 in /Users/yairl/workspace/src/scripts/universal-graph-notebooks/dataspell/venv12/lib/python3.12/site-packages (from pydantic!=1.8,!=1.8.1,<3.0.0,>=1.7.4->spacy) (4.12.2)\r\n",
      "Requirement already satisfied: charset-normalizer<4,>=2 in /Users/yairl/workspace/src/scripts/universal-graph-notebooks/dataspell/venv12/lib/python3.12/site-packages (from requests<3.0.0,>=2.13.0->spacy) (3.4.0)\r\n",
      "Requirement already satisfied: idna<4,>=2.5 in /Users/yairl/workspace/src/scripts/universal-graph-notebooks/dataspell/venv12/lib/python3.12/site-packages (from requests<3.0.0,>=2.13.0->spacy) (3.10)\r\n",
      "Requirement already satisfied: urllib3<3,>=1.21.1 in /Users/yairl/workspace/src/scripts/universal-graph-notebooks/dataspell/venv12/lib/python3.12/site-packages (from requests<3.0.0,>=2.13.0->spacy) (2.2.3)\r\n",
      "Requirement already satisfied: certifi>=2017.4.17 in /Users/yairl/workspace/src/scripts/universal-graph-notebooks/dataspell/venv12/lib/python3.12/site-packages (from requests<3.0.0,>=2.13.0->spacy) (2024.8.30)\r\n",
      "Requirement already satisfied: nltk>=3.8 in /Users/yairl/workspace/src/scripts/universal-graph-notebooks/dataspell/venv12/lib/python3.12/site-packages (from textblob>=0.18.0.post0->spacytextblob) (3.9.1)\r\n",
      "Requirement already satisfied: blis<1.1.0,>=1.0.0 in /Users/yairl/workspace/src/scripts/universal-graph-notebooks/dataspell/venv12/lib/python3.12/site-packages (from thinc<8.4.0,>=8.3.0->spacy) (1.0.1)\r\n",
      "Requirement already satisfied: confection<1.0.0,>=0.0.1 in /Users/yairl/workspace/src/scripts/universal-graph-notebooks/dataspell/venv12/lib/python3.12/site-packages (from thinc<8.4.0,>=8.3.0->spacy) (0.1.5)\r\n",
      "Requirement already satisfied: click>=8.0.0 in /Users/yairl/workspace/src/scripts/universal-graph-notebooks/dataspell/venv12/lib/python3.12/site-packages (from typer<1.0.0,>=0.3.0->spacy) (8.1.7)\r\n",
      "Requirement already satisfied: shellingham>=1.3.0 in /Users/yairl/workspace/src/scripts/universal-graph-notebooks/dataspell/venv12/lib/python3.12/site-packages (from typer<1.0.0,>=0.3.0->spacy) (1.5.4)\r\n",
      "Requirement already satisfied: rich>=10.11.0 in /Users/yairl/workspace/src/scripts/universal-graph-notebooks/dataspell/venv12/lib/python3.12/site-packages (from typer<1.0.0,>=0.3.0->spacy) (13.9.4)\r\n",
      "Requirement already satisfied: cloudpathlib<1.0.0,>=0.7.0 in /Users/yairl/workspace/src/scripts/universal-graph-notebooks/dataspell/venv12/lib/python3.12/site-packages (from weasel<0.5.0,>=0.1.0->spacy) (0.20.0)\r\n",
      "Requirement already satisfied: smart-open<8.0.0,>=5.2.1 in /Users/yairl/workspace/src/scripts/universal-graph-notebooks/dataspell/venv12/lib/python3.12/site-packages (from weasel<0.5.0,>=0.1.0->spacy) (7.0.5)\r\n",
      "Requirement already satisfied: MarkupSafe>=2.0 in /Users/yairl/workspace/src/scripts/universal-graph-notebooks/dataspell/venv12/lib/python3.12/site-packages (from jinja2->spacy) (3.0.2)\r\n",
      "Requirement already satisfied: marisa-trie>=0.7.7 in /Users/yairl/workspace/src/scripts/universal-graph-notebooks/dataspell/venv12/lib/python3.12/site-packages (from language-data>=1.2->langcodes<4.0.0,>=3.2.0->spacy) (1.2.1)\r\n",
      "Requirement already satisfied: joblib in /Users/yairl/workspace/src/scripts/universal-graph-notebooks/dataspell/venv12/lib/python3.12/site-packages (from nltk>=3.8->textblob>=0.18.0.post0->spacytextblob) (1.4.2)\r\n",
      "Requirement already satisfied: regex>=2021.8.3 in /Users/yairl/workspace/src/scripts/universal-graph-notebooks/dataspell/venv12/lib/python3.12/site-packages (from nltk>=3.8->textblob>=0.18.0.post0->spacytextblob) (2024.11.6)\r\n",
      "Requirement already satisfied: markdown-it-py>=2.2.0 in /Users/yairl/workspace/src/scripts/universal-graph-notebooks/dataspell/venv12/lib/python3.12/site-packages (from rich>=10.11.0->typer<1.0.0,>=0.3.0->spacy) (3.0.0)\r\n",
      "Requirement already satisfied: pygments<3.0.0,>=2.13.0 in /Users/yairl/workspace/src/scripts/universal-graph-notebooks/dataspell/venv12/lib/python3.12/site-packages (from rich>=10.11.0->typer<1.0.0,>=0.3.0->spacy) (2.18.0)\r\n",
      "Requirement already satisfied: wrapt in /Users/yairl/workspace/src/scripts/universal-graph-notebooks/dataspell/venv12/lib/python3.12/site-packages (from smart-open<8.0.0,>=5.2.1->weasel<0.5.0,>=0.1.0->spacy) (1.16.0)\r\n",
      "Requirement already satisfied: mdurl~=0.1 in /Users/yairl/workspace/src/scripts/universal-graph-notebooks/dataspell/venv12/lib/python3.12/site-packages (from markdown-it-py>=2.2.0->rich>=10.11.0->typer<1.0.0,>=0.3.0->spacy) (0.1.2)\r\n",
      "Downloading spacytextblob-5.0.0-py3-none-any.whl (4.2 kB)\r\n",
      "Downloading textblob-0.18.0.post0-py3-none-any.whl (626 kB)\r\n",
      "\u001B[2K   \u001B[90m━━━━━━━━━━━━━━━━━━━━━━━━━━━━━━━━━━━━━━━━\u001B[0m \u001B[32m626.3/626.3 kB\u001B[0m \u001B[31m4.5 MB/s\u001B[0m eta \u001B[36m0:00:00\u001B[0ma \u001B[36m0:00:01\u001B[0m\r\n",
      "\u001B[?25hInstalling collected packages: textblob, spacytextblob\r\n",
      "Successfully installed spacytextblob-5.0.0 textblob-0.18.0.post0\r\n"
     ]
    }
   ],
   "execution_count": 2
  },
  {
   "cell_type": "code",
   "source": [
    "!python -m spacy download en_core_web_sm"
   ],
   "metadata": {
    "collapsed": false,
    "ExecuteTime": {
     "end_time": "2024-12-25T21:09:10.315446Z",
     "start_time": "2024-12-25T21:09:03.714138Z"
    }
   },
   "outputs": [
    {
     "name": "stdout",
     "output_type": "stream",
     "text": [
      "Collecting en-core-web-sm==3.8.0\r\n",
      "  Downloading https://github.com/explosion/spacy-models/releases/download/en_core_web_sm-3.8.0/en_core_web_sm-3.8.0-py3-none-any.whl (12.8 MB)\r\n",
      "\u001B[2K     \u001B[90m━━━━━━━━━━━━━━━━━━━━━━━━━━━━━━━━━━━━━━━━\u001B[0m \u001B[32m12.8/12.8 MB\u001B[0m \u001B[31m7.1 MB/s\u001B[0m eta \u001B[36m0:00:00\u001B[0ma \u001B[36m0:00:01\u001B[0m\r\n",
      "\u001B[?25h\u001B[38;5;2m✔ Download and installation successful\u001B[0m\r\n",
      "You can now load the package via spacy.load('en_core_web_sm')\r\n"
     ]
    }
   ],
   "execution_count": 3
  },
  {
   "cell_type": "code",
   "source": [
    "import spacy\n",
    "\n",
    "nlp = spacy.load('en_core_web_sm')"
   ],
   "metadata": {
    "collapsed": false,
    "ExecuteTime": {
     "end_time": "2024-12-25T21:09:11.218602Z",
     "start_time": "2024-12-25T21:09:10.321240Z"
    }
   },
   "outputs": [],
   "execution_count": 4
  },
  {
   "cell_type": "markdown",
   "source": [
    "# Add Spacy Text Blob\n",
    "spacytextblob is a pipeline component that enables sentiment analysis using the TextBlob library."
   ],
   "metadata": {
    "collapsed": false
   }
  },
  {
   "cell_type": "code",
   "source": [
    "from spacytextblob.spacytextblob import SpacyTextBlob\n",
    "\n",
    "nlp.add_pipe('spacytextblob')"
   ],
   "metadata": {
    "collapsed": false,
    "ExecuteTime": {
     "end_time": "2024-12-25T21:10:31.211587Z",
     "start_time": "2024-12-25T21:10:30.730455Z"
    }
   },
   "outputs": [
    {
     "data": {
      "text/plain": [
       "<spacytextblob.spacytextblob.SpacyTextBlob at 0x15bc9b650>"
      ]
     },
     "execution_count": 6,
     "metadata": {},
     "output_type": "execute_result"
    }
   ],
   "execution_count": 6
  },
  {
   "cell_type": "markdown",
   "source": [
    "# Set the Text"
   ],
   "metadata": {
    "collapsed": false
   }
  },
  {
   "cell_type": "code",
   "source": [
    "text = 'I had a really horrible day. It was the worst day ever! But every now and then I have a really good day that makes me happy.'"
   ],
   "metadata": {
    "collapsed": false,
    "ExecuteTime": {
     "end_time": "2024-12-25T21:10:33.362164Z",
     "start_time": "2024-12-25T21:10:33.359566Z"
    }
   },
   "outputs": [],
   "execution_count": 7
  },
  {
   "cell_type": "markdown",
   "source": [
    "# Process the text"
   ],
   "metadata": {
    "collapsed": false
   }
  },
  {
   "cell_type": "code",
   "source": [
    "doc = nlp(text)"
   ],
   "metadata": {
    "collapsed": false,
    "ExecuteTime": {
     "end_time": "2024-12-25T21:10:34.488921Z",
     "start_time": "2024-12-25T21:10:34.466177Z"
    }
   },
   "outputs": [],
   "execution_count": 8
  },
  {
   "cell_type": "markdown",
   "source": [
    "# Polarity and subjectivity\n",
    "Polarity is the output that lies between [-1,1], where -1 refers to negative sentiment and +1 refers to positive sentiment. </br>\n",
    "Subjectivity is the output that lies within [0,1] and refers to personal opinions and judgments"
   ],
   "metadata": {
    "collapsed": false
   }
  },
  {
   "cell_type": "code",
   "source": [
    "doc._.blob.polarity"
   ],
   "metadata": {
    "collapsed": false,
    "ExecuteTime": {
     "end_time": "2024-12-25T21:10:35.652597Z",
     "start_time": "2024-12-25T21:10:35.625772Z"
    }
   },
   "outputs": [
    {
     "data": {
      "text/plain": [
       "-0.125"
      ]
     },
     "execution_count": 9,
     "metadata": {},
     "output_type": "execute_result"
    }
   ],
   "execution_count": 9
  },
  {
   "cell_type": "code",
   "source": [
    "doc._.blob.subjectivity"
   ],
   "metadata": {
    "collapsed": false,
    "ExecuteTime": {
     "end_time": "2024-12-25T21:10:36.226799Z",
     "start_time": "2024-12-25T21:10:36.223334Z"
    }
   },
   "outputs": [
    {
     "data": {
      "text/plain": [
       "0.9"
      ]
     },
     "execution_count": 10,
     "metadata": {},
     "output_type": "execute_result"
    }
   ],
   "execution_count": 10
  },
  {
   "cell_type": "code",
   "source": [
    "doc._.blob.sentiment_assessments.assessments"
   ],
   "metadata": {
    "collapsed": false,
    "ExecuteTime": {
     "end_time": "2024-12-25T21:10:36.764017Z",
     "start_time": "2024-12-25T21:10:36.758838Z"
    }
   },
   "outputs": [
    {
     "data": {
      "text/plain": [
       "[(['really', 'horrible'], -1.0, 1.0, None),\n",
       " (['worst', '!'], -1.0, 1.0, None),\n",
       " (['really', 'good'], 0.7, 0.6000000000000001, None),\n",
       " (['happy'], 0.8, 1.0, None)]"
      ]
     },
     "execution_count": 11,
     "metadata": {},
     "output_type": "execute_result"
    }
   ],
   "execution_count": 11
  },
  {
   "cell_type": "code",
   "source": [
    "doc._.blob.ngrams()"
   ],
   "metadata": {
    "collapsed": false,
    "ExecuteTime": {
     "end_time": "2024-12-25T21:10:37.317098Z",
     "start_time": "2024-12-25T21:10:37.300217Z"
    }
   },
   "outputs": [
    {
     "data": {
      "text/plain": [
       "[WordList(['I', 'had', 'a']),\n",
       " WordList(['had', 'a', 'really']),\n",
       " WordList(['a', 'really', 'horrible']),\n",
       " WordList(['really', 'horrible', 'day']),\n",
       " WordList(['horrible', 'day', 'It']),\n",
       " WordList(['day', 'It', 'was']),\n",
       " WordList(['It', 'was', 'the']),\n",
       " WordList(['was', 'the', 'worst']),\n",
       " WordList(['the', 'worst', 'day']),\n",
       " WordList(['worst', 'day', 'ever']),\n",
       " WordList(['day', 'ever', 'But']),\n",
       " WordList(['ever', 'But', 'every']),\n",
       " WordList(['But', 'every', 'now']),\n",
       " WordList(['every', 'now', 'and']),\n",
       " WordList(['now', 'and', 'then']),\n",
       " WordList(['and', 'then', 'I']),\n",
       " WordList(['then', 'I', 'have']),\n",
       " WordList(['I', 'have', 'a']),\n",
       " WordList(['have', 'a', 'really']),\n",
       " WordList(['a', 'really', 'good']),\n",
       " WordList(['really', 'good', 'day']),\n",
       " WordList(['good', 'day', 'that']),\n",
       " WordList(['day', 'that', 'makes']),\n",
       " WordList(['that', 'makes', 'me']),\n",
       " WordList(['makes', 'me', 'happy'])]"
      ]
     },
     "execution_count": 12,
     "metadata": {},
     "output_type": "execute_result"
    }
   ],
   "execution_count": 12
  },
  {
   "cell_type": "markdown",
   "source": [
    "# <https://spacytextblob.netlify.app/>"
   ],
   "metadata": {
    "collapsed": false
   }
  },
  {
   "cell_type": "code",
   "source": [],
   "metadata": {
    "collapsed": false
   },
   "outputs": [],
   "execution_count": null
  }
 ],
 "metadata": {
  "kernelspec": {
   "display_name": "Python 3",
   "language": "python",
   "name": "python3"
  },
  "language_info": {
   "codemirror_mode": {
    "name": "ipython",
    "version": 2
   },
   "file_extension": ".py",
   "mimetype": "text/x-python",
   "name": "python",
   "nbconvert_exporter": "python",
   "pygments_lexer": "ipython2",
   "version": "2.7.6"
  }
 },
 "nbformat": 4,
 "nbformat_minor": 0
}
