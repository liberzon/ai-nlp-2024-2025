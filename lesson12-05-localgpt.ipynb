{
 "cells": [
  {
   "metadata": {
    "ExecuteTime": {
     "end_time": "2025-01-23T13:59:30.993681Z",
     "start_time": "2025-01-23T13:59:30.141094Z"
    }
   },
   "cell_type": "code",
   "source": "!pip install sentence-transformers",
   "id": "3efa9d4ceb85b795",
   "outputs": [
    {
     "name": "stderr",
     "output_type": "stream",
     "text": [
      "huggingface/tokenizers: The current process just got forked, after parallelism has already been used. Disabling parallelism to avoid deadlocks...\n",
      "To disable this warning, you can either:\n",
      "\t- Avoid using `tokenizers` before the fork if possible\n",
      "\t- Explicitly set the environment variable TOKENIZERS_PARALLELISM=(true | false)\n"
     ]
    },
    {
     "name": "stdout",
     "output_type": "stream",
     "text": [
      "Requirement already satisfied: sentence-transformers in /Users/yairl/workspace/src/scripts/universal-graph-notebooks/dataspell/venv12/lib/python3.12/site-packages (3.3.1)\r\n",
      "Requirement already satisfied: transformers<5.0.0,>=4.41.0 in /Users/yairl/workspace/src/scripts/universal-graph-notebooks/dataspell/venv12/lib/python3.12/site-packages (from sentence-transformers) (4.48.1)\r\n",
      "Requirement already satisfied: tqdm in /Users/yairl/workspace/src/scripts/universal-graph-notebooks/dataspell/venv12/lib/python3.12/site-packages (from sentence-transformers) (4.67.1)\r\n",
      "Requirement already satisfied: torch>=1.11.0 in /Users/yairl/workspace/src/scripts/universal-graph-notebooks/dataspell/venv12/lib/python3.12/site-packages (from sentence-transformers) (2.5.1)\r\n",
      "Requirement already satisfied: scikit-learn in /Users/yairl/workspace/src/scripts/universal-graph-notebooks/dataspell/venv12/lib/python3.12/site-packages (from sentence-transformers) (1.6.1)\r\n",
      "Requirement already satisfied: scipy in /Users/yairl/workspace/src/scripts/universal-graph-notebooks/dataspell/venv12/lib/python3.12/site-packages (from sentence-transformers) (1.15.1)\r\n",
      "Requirement already satisfied: huggingface-hub>=0.20.0 in /Users/yairl/workspace/src/scripts/universal-graph-notebooks/dataspell/venv12/lib/python3.12/site-packages (from sentence-transformers) (0.27.1)\r\n",
      "Requirement already satisfied: Pillow in /Users/yairl/workspace/src/scripts/universal-graph-notebooks/dataspell/venv12/lib/python3.12/site-packages (from sentence-transformers) (11.1.0)\r\n",
      "Requirement already satisfied: filelock in /Users/yairl/workspace/src/scripts/universal-graph-notebooks/dataspell/venv12/lib/python3.12/site-packages (from huggingface-hub>=0.20.0->sentence-transformers) (3.17.0)\r\n",
      "Requirement already satisfied: fsspec>=2023.5.0 in /Users/yairl/workspace/src/scripts/universal-graph-notebooks/dataspell/venv12/lib/python3.12/site-packages (from huggingface-hub>=0.20.0->sentence-transformers) (2024.12.0)\r\n",
      "Requirement already satisfied: packaging>=20.9 in /Users/yairl/workspace/src/scripts/universal-graph-notebooks/dataspell/venv12/lib/python3.12/site-packages (from huggingface-hub>=0.20.0->sentence-transformers) (24.2)\r\n",
      "Requirement already satisfied: pyyaml>=5.1 in /Users/yairl/workspace/src/scripts/universal-graph-notebooks/dataspell/venv12/lib/python3.12/site-packages (from huggingface-hub>=0.20.0->sentence-transformers) (6.0.2)\r\n",
      "Requirement already satisfied: requests in /Users/yairl/workspace/src/scripts/universal-graph-notebooks/dataspell/venv12/lib/python3.12/site-packages (from huggingface-hub>=0.20.0->sentence-transformers) (2.32.3)\r\n",
      "Requirement already satisfied: typing-extensions>=3.7.4.3 in /Users/yairl/workspace/src/scripts/universal-graph-notebooks/dataspell/venv12/lib/python3.12/site-packages (from huggingface-hub>=0.20.0->sentence-transformers) (4.12.2)\r\n",
      "Requirement already satisfied: networkx in /Users/yairl/workspace/src/scripts/universal-graph-notebooks/dataspell/venv12/lib/python3.12/site-packages (from torch>=1.11.0->sentence-transformers) (3.4.2)\r\n",
      "Requirement already satisfied: jinja2 in /Users/yairl/workspace/src/scripts/universal-graph-notebooks/dataspell/venv12/lib/python3.12/site-packages (from torch>=1.11.0->sentence-transformers) (3.1.5)\r\n",
      "Requirement already satisfied: setuptools in /Users/yairl/workspace/src/scripts/universal-graph-notebooks/dataspell/venv12/lib/python3.12/site-packages (from torch>=1.11.0->sentence-transformers) (75.8.0)\r\n",
      "Requirement already satisfied: sympy==1.13.1 in /Users/yairl/workspace/src/scripts/universal-graph-notebooks/dataspell/venv12/lib/python3.12/site-packages (from torch>=1.11.0->sentence-transformers) (1.13.1)\r\n",
      "Requirement already satisfied: mpmath<1.4,>=1.1.0 in /Users/yairl/workspace/src/scripts/universal-graph-notebooks/dataspell/venv12/lib/python3.12/site-packages (from sympy==1.13.1->torch>=1.11.0->sentence-transformers) (1.3.0)\r\n",
      "Requirement already satisfied: numpy>=1.17 in /Users/yairl/workspace/src/scripts/universal-graph-notebooks/dataspell/venv12/lib/python3.12/site-packages (from transformers<5.0.0,>=4.41.0->sentence-transformers) (2.0.2)\r\n",
      "Requirement already satisfied: regex!=2019.12.17 in /Users/yairl/workspace/src/scripts/universal-graph-notebooks/dataspell/venv12/lib/python3.12/site-packages (from transformers<5.0.0,>=4.41.0->sentence-transformers) (2024.11.6)\r\n",
      "Requirement already satisfied: tokenizers<0.22,>=0.21 in /Users/yairl/workspace/src/scripts/universal-graph-notebooks/dataspell/venv12/lib/python3.12/site-packages (from transformers<5.0.0,>=4.41.0->sentence-transformers) (0.21.0)\r\n",
      "Requirement already satisfied: safetensors>=0.4.1 in /Users/yairl/workspace/src/scripts/universal-graph-notebooks/dataspell/venv12/lib/python3.12/site-packages (from transformers<5.0.0,>=4.41.0->sentence-transformers) (0.5.2)\r\n",
      "Requirement already satisfied: joblib>=1.2.0 in /Users/yairl/workspace/src/scripts/universal-graph-notebooks/dataspell/venv12/lib/python3.12/site-packages (from scikit-learn->sentence-transformers) (1.4.2)\r\n",
      "Requirement already satisfied: threadpoolctl>=3.1.0 in /Users/yairl/workspace/src/scripts/universal-graph-notebooks/dataspell/venv12/lib/python3.12/site-packages (from scikit-learn->sentence-transformers) (3.5.0)\r\n",
      "Requirement already satisfied: MarkupSafe>=2.0 in /Users/yairl/workspace/src/scripts/universal-graph-notebooks/dataspell/venv12/lib/python3.12/site-packages (from jinja2->torch>=1.11.0->sentence-transformers) (2.1.5)\r\n",
      "Requirement already satisfied: charset-normalizer<4,>=2 in /Users/yairl/workspace/src/scripts/universal-graph-notebooks/dataspell/venv12/lib/python3.12/site-packages (from requests->huggingface-hub>=0.20.0->sentence-transformers) (3.4.1)\r\n",
      "Requirement already satisfied: idna<4,>=2.5 in /Users/yairl/workspace/src/scripts/universal-graph-notebooks/dataspell/venv12/lib/python3.12/site-packages (from requests->huggingface-hub>=0.20.0->sentence-transformers) (3.10)\r\n",
      "Requirement already satisfied: urllib3<3,>=1.21.1 in /Users/yairl/workspace/src/scripts/universal-graph-notebooks/dataspell/venv12/lib/python3.12/site-packages (from requests->huggingface-hub>=0.20.0->sentence-transformers) (2.3.0)\r\n",
      "Requirement already satisfied: certifi>=2017.4.17 in /Users/yairl/workspace/src/scripts/universal-graph-notebooks/dataspell/venv12/lib/python3.12/site-packages (from requests->huggingface-hub>=0.20.0->sentence-transformers) (2024.12.14)\r\n"
     ]
    }
   ],
   "execution_count": 41
  },
  {
   "cell_type": "code",
   "id": "315781afa0b02312",
   "metadata": {
    "ExecuteTime": {
     "end_time": "2025-01-23T13:59:31.001026Z",
     "start_time": "2025-01-23T13:59:30.997917Z"
    }
   },
   "source": "from transformers import AutoModelForCausalLM, AutoTokenizer",
   "outputs": [],
   "execution_count": 42
  },
  {
   "metadata": {
    "ExecuteTime": {
     "end_time": "2025-01-23T13:59:31.021642Z",
     "start_time": "2025-01-23T13:59:31.019220Z"
    }
   },
   "cell_type": "code",
   "source": [
    "# Global variables for the model and tokenizer\n",
    "model_name = \"gpt2\"  # Change to another model if needed\n",
    "max_tokens = 50  # Adjust the maximum number of tokens to generate"
   ],
   "id": "f5ee1060fe87cc77",
   "outputs": [],
   "execution_count": 43
  },
  {
   "metadata": {
    "ExecuteTime": {
     "end_time": "2025-01-23T13:59:32.257062Z",
     "start_time": "2025-01-23T13:59:31.031078Z"
    }
   },
   "cell_type": "code",
   "source": [
    "# Load the tokenizer and model globally\n",
    "tokenizer = AutoTokenizer.from_pretrained(model_name)\n",
    "model = AutoModelForCausalLM.from_pretrained(model_name)"
   ],
   "id": "ca8fac4f3f9a08f1",
   "outputs": [],
   "execution_count": 44
  },
  {
   "metadata": {
    "ExecuteTime": {
     "end_time": "2025-01-23T13:59:32.275711Z",
     "start_time": "2025-01-23T13:59:32.273718Z"
    }
   },
   "cell_type": "code",
   "source": [
    "# Input prompt\n",
    "prompt = \"Once upon a time in a small village,\"  # Customize this as needed"
   ],
   "id": "f8ef118d29a342ec",
   "outputs": [],
   "execution_count": 45
  },
  {
   "metadata": {
    "ExecuteTime": {
     "end_time": "2025-01-23T13:59:32.289562Z",
     "start_time": "2025-01-23T13:59:32.285983Z"
    }
   },
   "cell_type": "code",
   "source": [
    "# Encode the input prompt\n",
    "inputs = tokenizer(prompt, return_tensors=\"pt\")"
   ],
   "id": "18927b53c7504b82",
   "outputs": [],
   "execution_count": 46
  },
  {
   "metadata": {
    "ExecuteTime": {
     "end_time": "2025-01-23T13:59:33.532416Z",
     "start_time": "2025-01-23T13:59:32.293296Z"
    }
   },
   "cell_type": "code",
   "source": [
    "# Generate text\n",
    "output = model.generate(\n",
    "    inputs[\"input_ids\"],\n",
    "    max_length=len(inputs[\"input_ids\"][0]) + max_tokens,\n",
    "    pad_token_id=tokenizer.eos_token_id  # Handle models without padding tokens\n",
    ")"
   ],
   "id": "24338b661fbf41ac",
   "outputs": [],
   "execution_count": 47
  },
  {
   "metadata": {
    "ExecuteTime": {
     "end_time": "2025-01-23T13:59:33.543342Z",
     "start_time": "2025-01-23T13:59:33.541176Z"
    }
   },
   "cell_type": "code",
   "source": [
    "# Decode and print the generated text\n",
    "response = tokenizer.decode(output[0], skip_special_tokens=True)"
   ],
   "id": "7c0c11d55d6db345",
   "outputs": [],
   "execution_count": 48
  },
  {
   "metadata": {
    "collapsed": true,
    "ExecuteTime": {
     "end_time": "2025-01-23T13:59:33.554760Z",
     "start_time": "2025-01-23T13:59:33.552575Z"
    }
   },
   "cell_type": "code",
   "source": [
    "print(\"Generated Text:\")\n",
    "print(response)"
   ],
   "id": "initial_id",
   "outputs": [
    {
     "name": "stdout",
     "output_type": "stream",
     "text": [
      "Generated Text:\n",
      "Once upon a time in a small village, a young girl named Nana was kidnapped by a group of bandits. She was taken to a small village, where she was forced to work as a maid. She was then taken to a small village, where she was forced to work as a maid\n"
     ]
    }
   ],
   "execution_count": 49
  },
  {
   "metadata": {
    "ExecuteTime": {
     "end_time": "2025-01-23T13:59:33.565Z",
     "start_time": "2025-01-23T13:59:33.563233Z"
    }
   },
   "cell_type": "code",
   "source": [
    "import requests\n",
    "import json"
   ],
   "id": "6b284084a1fc65d9",
   "outputs": [],
   "execution_count": 50
  },
  {
   "metadata": {
    "ExecuteTime": {
     "end_time": "2025-01-23T13:59:33.575200Z",
     "start_time": "2025-01-23T13:59:33.573164Z"
    }
   },
   "cell_type": "code",
   "source": "model_name = \"llama2:latest\"",
   "id": "431f31e5a0321f90",
   "outputs": [],
   "execution_count": 51
  },
  {
   "metadata": {
    "ExecuteTime": {
     "end_time": "2025-01-23T13:59:33.585883Z",
     "start_time": "2025-01-23T13:59:33.583856Z"
    }
   },
   "cell_type": "code",
   "source": "user_prompt = prompt",
   "id": "8352cd35251ecf98",
   "outputs": [],
   "execution_count": 52
  },
  {
   "metadata": {
    "ExecuteTime": {
     "end_time": "2025-01-23T13:59:33.596352Z",
     "start_time": "2025-01-23T13:59:33.594531Z"
    }
   },
   "cell_type": "code",
   "source": [
    "url = f\"http://localhost:11434/api/generate\"\n",
    "headers = {\"Content-Type\": \"application/json\"}\n",
    "data = {\n",
    "    \"model\": model_name,\n",
    "    \"prompt\": user_prompt\n",
    "}"
   ],
   "id": "71993a485a08d4a3",
   "outputs": [],
   "execution_count": 53
  },
  {
   "metadata": {
    "ExecuteTime": {
     "end_time": "2025-01-23T13:59:49.475808Z",
     "start_time": "2025-01-23T13:59:33.605218Z"
    }
   },
   "cell_type": "code",
   "source": [
    "response = requests.post(url, json=data, headers=headers)\n",
    "response.raise_for_status()"
   ],
   "id": "f6bc02d85c7f0c4d",
   "outputs": [],
   "execution_count": 54
  },
  {
   "metadata": {
    "ExecuteTime": {
     "end_time": "2025-01-23T13:59:49.502191Z",
     "start_time": "2025-01-23T13:59:49.497036Z"
    }
   },
   "cell_type": "code",
   "source": [
    "full_response = \"\"\n",
    "for line in response.iter_lines():\n",
    "    if line:  # Avoid empty lines\n",
    "        try:\n",
    "            chunk = json.loads(line)\n",
    "            if \"response\" in chunk:\n",
    "                full_response += chunk[\"response\"]\n",
    "        except json.JSONDecodeError:\n",
    "            print(f\"Failed to decode line: {line}\")"
   ],
   "id": "2f88d1f966ae6c1f",
   "outputs": [],
   "execution_count": 55
  },
  {
   "metadata": {
    "ExecuteTime": {
     "end_time": "2025-01-23T13:59:49.514876Z",
     "start_time": "2025-01-23T13:59:49.512776Z"
    }
   },
   "cell_type": "code",
   "source": [
    "print(\"Response from Ollama:\")\n",
    "print(full_response)"
   ],
   "id": "474e281a3df0b0a4",
   "outputs": [
    {
     "name": "stdout",
     "output_type": "stream",
     "text": [
      "Response from Ollama:\n",
      "\n",
      "Oh, the adventures that await in this quaint little village! The sun is shining brightly overhead, casting a warm glow over the thatched roofs of the cottages and the bustling town square. Children laugh and play in the streets, chasing each other through the narrow lanes, while their parents go about their day, tending to their gardens and shops.\n",
      "\n",
      "As you wander through the village, you notice the unique character of each dwelling. There's the old stone cottage with intricate carvings on its doors and windows, said to be the home of a wise and kind old man who knows all the secrets of the village. Next door, there's a cozy little inn with a warm fire burning in the hearth, where travelers can rest and share stories of their adventures.\n",
      "\n",
      "The villagers are friendly and welcoming, eager to share news of the latest happenings in the village and offer you hospitality. As you explore, you may come across a group of children gathered around a street performer, watching with wide eyes as he juggles balls and performs acrobatics. Or perhaps you'll stumble upon a small market, where vendors are selling fresh produce, handmade crafts, and delicious treats.\n",
      "\n",
      "As the day wears on, the villagers begin to prepare for the evening's festivities. The smell of roasting meats and baking bread fills the air, and the sound of laughter and music drifts from the village hall where a party is underway. It's a magical time in this little village, full of warmth and joy, and you can't help but feel a part of it all.\n"
     ]
    }
   ],
   "execution_count": 56
  },
  {
   "metadata": {
    "ExecuteTime": {
     "end_time": "2025-01-23T13:59:49.525568Z",
     "start_time": "2025-01-23T13:59:49.523959Z"
    }
   },
   "cell_type": "code",
   "source": "",
   "id": "2bd07770e267e483",
   "outputs": [],
   "execution_count": null
  }
 ],
 "metadata": {
  "kernelspec": {
   "display_name": "Python 3",
   "language": "python",
   "name": "python3"
  },
  "language_info": {
   "codemirror_mode": {
    "name": "ipython",
    "version": 2
   },
   "file_extension": ".py",
   "mimetype": "text/x-python",
   "name": "python",
   "nbconvert_exporter": "python",
   "pygments_lexer": "ipython2",
   "version": "2.7.6"
  }
 },
 "nbformat": 4,
 "nbformat_minor": 5
}
