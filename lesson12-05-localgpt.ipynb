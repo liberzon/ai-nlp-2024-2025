{
 "cells": [
  {
   "metadata": {
    "ExecuteTime": {
     "end_time": "2025-01-23T13:59:30.993681Z",
     "start_time": "2025-01-23T13:59:30.141094Z"
    }
   },
   "cell_type": "code",
   "source": "!pip install sentence-transformers",
   "id": "3efa9d4ceb85b795",
   "outputs": [
    {
     "name": "stderr",
     "output_type": "stream",
     "text": [
      "huggingface/tokenizers: The current process just got forked, after parallelism has already been used. Disabling parallelism to avoid deadlocks...\n",
      "To disable this warning, you can either:\n",
      "\t- Avoid using `tokenizers` before the fork if possible\n",
      "\t- Explicitly set the environment variable TOKENIZERS_PARALLELISM=(true | false)\n"
     ]
    },
    {
     "name": "stdout",
     "output_type": "stream",
     "text": [
      "Requirement already satisfied: sentence-transformers in /Users/yairl/workspace/src/scripts/universal-graph-notebooks/dataspell/venv12/lib/python3.12/site-packages (3.3.1)\r\n",
      "Requirement already satisfied: transformers<5.0.0,>=4.41.0 in /Users/yairl/workspace/src/scripts/universal-graph-notebooks/dataspell/venv12/lib/python3.12/site-packages (from sentence-transformers) (4.48.1)\r\n",
      "Requirement already satisfied: tqdm in /Users/yairl/workspace/src/scripts/universal-graph-notebooks/dataspell/venv12/lib/python3.12/site-packages (from sentence-transformers) (4.67.1)\r\n",
      "Requirement already satisfied: torch>=1.11.0 in /Users/yairl/workspace/src/scripts/universal-graph-notebooks/dataspell/venv12/lib/python3.12/site-packages (from sentence-transformers) (2.5.1)\r\n",
      "Requirement already satisfied: scikit-learn in /Users/yairl/workspace/src/scripts/universal-graph-notebooks/dataspell/venv12/lib/python3.12/site-packages (from sentence-transformers) (1.6.1)\r\n",
      "Requirement already satisfied: scipy in /Users/yairl/workspace/src/scripts/universal-graph-notebooks/dataspell/venv12/lib/python3.12/site-packages (from sentence-transformers) (1.15.1)\r\n",
      "Requirement already satisfied: huggingface-hub>=0.20.0 in /Users/yairl/workspace/src/scripts/universal-graph-notebooks/dataspell/venv12/lib/python3.12/site-packages (from sentence-transformers) (0.27.1)\r\n",
      "Requirement already satisfied: Pillow in /Users/yairl/workspace/src/scripts/universal-graph-notebooks/dataspell/venv12/lib/python3.12/site-packages (from sentence-transformers) (11.1.0)\r\n",
      "Requirement already satisfied: filelock in /Users/yairl/workspace/src/scripts/universal-graph-notebooks/dataspell/venv12/lib/python3.12/site-packages (from huggingface-hub>=0.20.0->sentence-transformers) (3.17.0)\r\n",
      "Requirement already satisfied: fsspec>=2023.5.0 in /Users/yairl/workspace/src/scripts/universal-graph-notebooks/dataspell/venv12/lib/python3.12/site-packages (from huggingface-hub>=0.20.0->sentence-transformers) (2024.12.0)\r\n",
      "Requirement already satisfied: packaging>=20.9 in /Users/yairl/workspace/src/scripts/universal-graph-notebooks/dataspell/venv12/lib/python3.12/site-packages (from huggingface-hub>=0.20.0->sentence-transformers) (24.2)\r\n",
      "Requirement already satisfied: pyyaml>=5.1 in /Users/yairl/workspace/src/scripts/universal-graph-notebooks/dataspell/venv12/lib/python3.12/site-packages (from huggingface-hub>=0.20.0->sentence-transformers) (6.0.2)\r\n",
      "Requirement already satisfied: requests in /Users/yairl/workspace/src/scripts/universal-graph-notebooks/dataspell/venv12/lib/python3.12/site-packages (from huggingface-hub>=0.20.0->sentence-transformers) (2.32.3)\r\n",
      "Requirement already satisfied: typing-extensions>=3.7.4.3 in /Users/yairl/workspace/src/scripts/universal-graph-notebooks/dataspell/venv12/lib/python3.12/site-packages (from huggingface-hub>=0.20.0->sentence-transformers) (4.12.2)\r\n",
      "Requirement already satisfied: networkx in /Users/yairl/workspace/src/scripts/universal-graph-notebooks/dataspell/venv12/lib/python3.12/site-packages (from torch>=1.11.0->sentence-transformers) (3.4.2)\r\n",
      "Requirement already satisfied: jinja2 in /Users/yairl/workspace/src/scripts/universal-graph-notebooks/dataspell/venv12/lib/python3.12/site-packages (from torch>=1.11.0->sentence-transformers) (3.1.5)\r\n",
      "Requirement already satisfied: setuptools in /Users/yairl/workspace/src/scripts/universal-graph-notebooks/dataspell/venv12/lib/python3.12/site-packages (from torch>=1.11.0->sentence-transformers) (75.8.0)\r\n",
      "Requirement already satisfied: sympy==1.13.1 in /Users/yairl/workspace/src/scripts/universal-graph-notebooks/dataspell/venv12/lib/python3.12/site-packages (from torch>=1.11.0->sentence-transformers) (1.13.1)\r\n",
      "Requirement already satisfied: mpmath<1.4,>=1.1.0 in /Users/yairl/workspace/src/scripts/universal-graph-notebooks/dataspell/venv12/lib/python3.12/site-packages (from sympy==1.13.1->torch>=1.11.0->sentence-transformers) (1.3.0)\r\n",
      "Requirement already satisfied: numpy>=1.17 in /Users/yairl/workspace/src/scripts/universal-graph-notebooks/dataspell/venv12/lib/python3.12/site-packages (from transformers<5.0.0,>=4.41.0->sentence-transformers) (2.0.2)\r\n",
      "Requirement already satisfied: regex!=2019.12.17 in /Users/yairl/workspace/src/scripts/universal-graph-notebooks/dataspell/venv12/lib/python3.12/site-packages (from transformers<5.0.0,>=4.41.0->sentence-transformers) (2024.11.6)\r\n",
      "Requirement already satisfied: tokenizers<0.22,>=0.21 in /Users/yairl/workspace/src/scripts/universal-graph-notebooks/dataspell/venv12/lib/python3.12/site-packages (from transformers<5.0.0,>=4.41.0->sentence-transformers) (0.21.0)\r\n",
      "Requirement already satisfied: safetensors>=0.4.1 in /Users/yairl/workspace/src/scripts/universal-graph-notebooks/dataspell/venv12/lib/python3.12/site-packages (from transformers<5.0.0,>=4.41.0->sentence-transformers) (0.5.2)\r\n",
      "Requirement already satisfied: joblib>=1.2.0 in /Users/yairl/workspace/src/scripts/universal-graph-notebooks/dataspell/venv12/lib/python3.12/site-packages (from scikit-learn->sentence-transformers) (1.4.2)\r\n",
      "Requirement already satisfied: threadpoolctl>=3.1.0 in /Users/yairl/workspace/src/scripts/universal-graph-notebooks/dataspell/venv12/lib/python3.12/site-packages (from scikit-learn->sentence-transformers) (3.5.0)\r\n",
      "Requirement already satisfied: MarkupSafe>=2.0 in /Users/yairl/workspace/src/scripts/universal-graph-notebooks/dataspell/venv12/lib/python3.12/site-packages (from jinja2->torch>=1.11.0->sentence-transformers) (2.1.5)\r\n",
      "Requirement already satisfied: charset-normalizer<4,>=2 in /Users/yairl/workspace/src/scripts/universal-graph-notebooks/dataspell/venv12/lib/python3.12/site-packages (from requests->huggingface-hub>=0.20.0->sentence-transformers) (3.4.1)\r\n",
      "Requirement already satisfied: idna<4,>=2.5 in /Users/yairl/workspace/src/scripts/universal-graph-notebooks/dataspell/venv12/lib/python3.12/site-packages (from requests->huggingface-hub>=0.20.0->sentence-transformers) (3.10)\r\n",
      "Requirement already satisfied: urllib3<3,>=1.21.1 in /Users/yairl/workspace/src/scripts/universal-graph-notebooks/dataspell/venv12/lib/python3.12/site-packages (from requests->huggingface-hub>=0.20.0->sentence-transformers) (2.3.0)\r\n",
      "Requirement already satisfied: certifi>=2017.4.17 in /Users/yairl/workspace/src/scripts/universal-graph-notebooks/dataspell/venv12/lib/python3.12/site-packages (from requests->huggingface-hub>=0.20.0->sentence-transformers) (2024.12.14)\r\n"
     ]
    }
   ],
   "execution_count": 41
  },
  {
   "cell_type": "code",
   "id": "315781afa0b02312",
   "metadata": {
    "ExecuteTime": {
     "end_time": "2025-01-23T15:25:32.836313Z",
     "start_time": "2025-01-23T15:25:32.831320Z"
    }
   },
   "source": "from transformers import AutoModelForCausalLM, AutoTokenizer",
   "outputs": [],
   "execution_count": 57
  },
  {
   "metadata": {
    "ExecuteTime": {
     "end_time": "2025-01-23T15:25:33.324789Z",
     "start_time": "2025-01-23T15:25:33.321890Z"
    }
   },
   "cell_type": "code",
   "source": [
    "# Global variables for the model and tokenizer\n",
    "model_name = \"gpt2\"  # Change to another model if needed\n",
    "max_tokens = 50  # Adjust the maximum number of tokens to generate"
   ],
   "id": "f5ee1060fe87cc77",
   "outputs": [],
   "execution_count": 58
  },
  {
   "metadata": {
    "ExecuteTime": {
     "end_time": "2025-01-23T15:25:36.800832Z",
     "start_time": "2025-01-23T15:25:35.527787Z"
    }
   },
   "cell_type": "code",
   "source": [
    "# Load the tokenizer and model globally\n",
    "tokenizer = AutoTokenizer.from_pretrained(model_name)\n",
    "model = AutoModelForCausalLM.from_pretrained(model_name)"
   ],
   "id": "ca8fac4f3f9a08f1",
   "outputs": [],
   "execution_count": 59
  },
  {
   "metadata": {
    "ExecuteTime": {
     "end_time": "2025-01-23T15:25:48.128473Z",
     "start_time": "2025-01-23T15:25:48.125565Z"
    }
   },
   "cell_type": "code",
   "source": [
    "# Input prompt\n",
    "prompt = \"Once upon a time in a small village,\"  # Customize this as needed"
   ],
   "id": "f8ef118d29a342ec",
   "outputs": [],
   "execution_count": 60
  },
  {
   "metadata": {
    "ExecuteTime": {
     "end_time": "2025-01-23T15:25:52.199497Z",
     "start_time": "2025-01-23T15:25:52.195152Z"
    }
   },
   "cell_type": "code",
   "source": [
    "# Encode the input prompt\n",
    "inputs = tokenizer(prompt, return_tensors=\"pt\")"
   ],
   "id": "18927b53c7504b82",
   "outputs": [],
   "execution_count": 61
  },
  {
   "metadata": {
    "ExecuteTime": {
     "end_time": "2025-01-23T15:26:00.681651Z",
     "start_time": "2025-01-23T15:25:59.626119Z"
    }
   },
   "cell_type": "code",
   "source": [
    "# Generate text\n",
    "output = model.generate(\n",
    "    inputs[\"input_ids\"],\n",
    "    max_length=len(inputs[\"input_ids\"][0]) + max_tokens,\n",
    "    pad_token_id=tokenizer.eos_token_id  # Handle models without padding tokens\n",
    ")"
   ],
   "id": "24338b661fbf41ac",
   "outputs": [],
   "execution_count": 62
  },
  {
   "metadata": {
    "ExecuteTime": {
     "end_time": "2025-01-23T15:26:02.247670Z",
     "start_time": "2025-01-23T15:26:02.244288Z"
    }
   },
   "cell_type": "code",
   "source": [
    "# Decode and print the generated text\n",
    "response = tokenizer.decode(output[0], skip_special_tokens=True)"
   ],
   "id": "7c0c11d55d6db345",
   "outputs": [],
   "execution_count": 63
  },
  {
   "metadata": {
    "collapsed": true,
    "ExecuteTime": {
     "end_time": "2025-01-23T15:26:04.412842Z",
     "start_time": "2025-01-23T15:26:04.410376Z"
    }
   },
   "cell_type": "code",
   "source": [
    "print(\"Generated Text:\")\n",
    "print(response)"
   ],
   "id": "initial_id",
   "outputs": [
    {
     "name": "stdout",
     "output_type": "stream",
     "text": [
      "Generated Text:\n",
      "Once upon a time in a small village, a young girl named Nana was kidnapped by a group of bandits. She was taken to a small village, where she was forced to work as a maid. She was then taken to a small village, where she was forced to work as a maid\n"
     ]
    }
   ],
   "execution_count": 64
  },
  {
   "metadata": {
    "ExecuteTime": {
     "end_time": "2025-01-23T15:29:28.269643Z",
     "start_time": "2025-01-23T15:29:28.266373Z"
    }
   },
   "cell_type": "code",
   "source": [
    "import requests\n",
    "import json"
   ],
   "id": "6b284084a1fc65d9",
   "outputs": [],
   "execution_count": 65
  },
  {
   "metadata": {
    "ExecuteTime": {
     "end_time": "2025-01-23T15:29:28.771429Z",
     "start_time": "2025-01-23T15:29:28.769215Z"
    }
   },
   "cell_type": "code",
   "source": "model_name = \"llama2:latest\"",
   "id": "431f31e5a0321f90",
   "outputs": [],
   "execution_count": 66
  },
  {
   "metadata": {
    "ExecuteTime": {
     "end_time": "2025-01-23T15:29:29.196955Z",
     "start_time": "2025-01-23T15:29:29.194859Z"
    }
   },
   "cell_type": "code",
   "source": "user_prompt = prompt",
   "id": "8352cd35251ecf98",
   "outputs": [],
   "execution_count": 67
  },
  {
   "metadata": {
    "ExecuteTime": {
     "end_time": "2025-01-23T15:29:29.819224Z",
     "start_time": "2025-01-23T15:29:29.816675Z"
    }
   },
   "cell_type": "code",
   "source": [
    "url = f\"http://localhost:11434/api/generate\"\n",
    "headers = {\"Content-Type\": \"application/json\"}\n",
    "data = {\n",
    "    \"model\": model_name,\n",
    "    \"prompt\": user_prompt\n",
    "}"
   ],
   "id": "71993a485a08d4a3",
   "outputs": [],
   "execution_count": 68
  },
  {
   "metadata": {
    "ExecuteTime": {
     "end_time": "2025-01-23T15:29:48.417823Z",
     "start_time": "2025-01-23T15:29:30.689630Z"
    }
   },
   "cell_type": "code",
   "source": [
    "response = requests.post(url, json=data, headers=headers)\n",
    "response.raise_for_status()"
   ],
   "id": "f6bc02d85c7f0c4d",
   "outputs": [],
   "execution_count": 69
  },
  {
   "metadata": {
    "ExecuteTime": {
     "end_time": "2025-01-23T15:29:51.072539Z",
     "start_time": "2025-01-23T15:29:51.068264Z"
    }
   },
   "cell_type": "code",
   "source": [
    "full_response = \"\"\n",
    "for line in response.iter_lines():\n",
    "    if line:  # Avoid empty lines\n",
    "        try:\n",
    "            chunk = json.loads(line)\n",
    "            if \"response\" in chunk:\n",
    "                full_response += chunk[\"response\"]\n",
    "        except json.JSONDecodeError:\n",
    "            print(f\"Failed to decode line: {line}\")"
   ],
   "id": "2f88d1f966ae6c1f",
   "outputs": [],
   "execution_count": 70
  },
  {
   "metadata": {
    "ExecuteTime": {
     "end_time": "2025-01-23T15:29:52.026443Z",
     "start_time": "2025-01-23T15:29:52.024610Z"
    }
   },
   "cell_type": "code",
   "source": [
    "print(\"Response from Ollama:\")\n",
    "print(full_response)"
   ],
   "id": "474e281a3df0b0a4",
   "outputs": [
    {
     "name": "stdout",
     "output_type": "stream",
     "text": [
      "Response from Ollama:\n",
      "\n",
      "There lived a little girl named Maria. She was a curious and adventurous child, always eager to explore the world around her. One day, while wandering through the village, she stumbled upon a hidden path she had never seen before. The path was overgrown with weeds and vines, but something about it called to her. Without hesitation, Maria followed the path, leading her deeper into the forest.\n",
      "\n",
      "As she walked, the trees grew taller and closer together, casting dappled shadows on the ground. The air grew cooler and more fragrant, filled with the scent of wildflowers and the chirping of birds. Maria felt a sense of excitement and wonder, as if she were discovering a secret world that only she knew existed.\n",
      "\n",
      "The path eventually led her to a clearing surrounded by tall trees. In the center of the clearing stood an enormous willow tree, its branches stretching up towards the sky like arms inviting her to climb. Maria felt drawn to the tree, as if it held some secret or treasure that only she could uncover. She approached the trunk and ran her hand over the rough bark, feeling the texture of the wood beneath.\n",
      "\n",
      "Suddenly, a rustling in the bushes nearby caught her attention. Maria turned to see a small, furry creature emerging from the undergrowth. It was a rabbit, with big brown eyes and soft, fluffy fur. The rabbit hopped closer to Maria, nuzzling its head into her hand as if seeking comfort or friendship.\n",
      "\n",
      "Maria felt a surge of joy and wonder at this unexpected encounter. She had never seen such a beautiful creature before, and she couldn't help but feel a deep connection to the natural world around her. As she gazed into the rabbit's eyes, she knew that this was a magical place, full of secrets and surprises waiting to be discovered.\n",
      "\n",
      "From that day on, Maria returned to the hidden path whenever she could, eager to explore more of the mysterious forest and meet new creatures along the way. And every time, she felt a sense of wonder and excitement, as if she were uncovering secrets that only she knew existed.\n"
     ]
    }
   ],
   "execution_count": 71
  },
  {
   "metadata": {
    "ExecuteTime": {
     "end_time": "2025-01-23T13:59:49.525568Z",
     "start_time": "2025-01-23T13:59:49.523959Z"
    }
   },
   "cell_type": "code",
   "source": "",
   "id": "2bd07770e267e483",
   "outputs": [],
   "execution_count": null
  }
 ],
 "metadata": {
  "kernelspec": {
   "display_name": "Python 3",
   "language": "python",
   "name": "python3"
  },
  "language_info": {
   "codemirror_mode": {
    "name": "ipython",
    "version": 2
   },
   "file_extension": ".py",
   "mimetype": "text/x-python",
   "name": "python",
   "nbconvert_exporter": "python",
   "pygments_lexer": "ipython2",
   "version": "2.7.6"
  }
 },
 "nbformat": 4,
 "nbformat_minor": 5
}
