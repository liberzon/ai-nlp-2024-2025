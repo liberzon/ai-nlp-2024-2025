{
 "cells": [
  {
   "cell_type": "code",
   "source": [
    "import pandas as pd\n",
    "import nltk\n",
    "from nltk.sentiment.vader import SentimentIntensityAnalyzer\n",
    "\n",
    "%matplotlib inline"
   ],
   "metadata": {
    "collapsed": false,
    "ExecuteTime": {
     "end_time": "2024-12-25T18:47:17.708741Z",
     "start_time": "2024-12-25T18:47:13.684309Z"
    }
   },
   "outputs": [],
   "execution_count": 1
  },
  {
   "cell_type": "code",
   "source": [
    "nltk.download('vader_lexicon')"
   ],
   "metadata": {
    "collapsed": false,
    "ExecuteTime": {
     "end_time": "2024-12-25T18:47:18.002242Z",
     "start_time": "2024-12-25T18:47:17.721428Z"
    }
   },
   "outputs": [
    {
     "name": "stderr",
     "output_type": "stream",
     "text": [
      "[nltk_data] Downloading package vader_lexicon to\n",
      "[nltk_data]     /Users/yairl/nltk_data...\n",
      "[nltk_data]   Package vader_lexicon is already up-to-date!\n"
     ]
    },
    {
     "data": {
      "text/plain": [
       "True"
      ]
     },
     "execution_count": 2,
     "metadata": {},
     "output_type": "execute_result"
    }
   ],
   "execution_count": 2
  },
  {
   "cell_type": "code",
   "source": [
    "data_source_url = \"lesson8-sentiment/reviews_sample.csv\"\n",
    "amazon_reviews = pd.read_csv(data_source_url)"
   ],
   "metadata": {
    "collapsed": false,
    "ExecuteTime": {
     "end_time": "2024-12-25T18:47:18.203113Z",
     "start_time": "2024-12-25T18:47:18.128907Z"
    }
   },
   "outputs": [],
   "execution_count": 3
  },
  {
   "cell_type": "code",
   "source": [
    "amazon_reviews.head()"
   ],
   "metadata": {
    "collapsed": false,
    "ExecuteTime": {
     "end_time": "2024-12-25T18:47:18.223486Z",
     "start_time": "2024-12-25T18:47:18.219147Z"
    }
   },
   "outputs": [
    {
     "data": {
      "text/plain": [
       "                                              review label\n",
       "0  Stuning even for the non-gamer: This sound tra...   pos\n",
       "1  The best soundtrack ever to anything.: I'm rea...   pos\n",
       "2  Amazing!: This soundtrack is my favorite music...   pos\n",
       "3  Excellent Soundtrack: I truly like this soundt...   pos\n",
       "4  Remember, Pull Your Jaw Off The Floor After He...   pos"
      ],
      "text/html": [
       "<div>\n",
       "<style scoped>\n",
       "    .dataframe tbody tr th:only-of-type {\n",
       "        vertical-align: middle;\n",
       "    }\n",
       "\n",
       "    .dataframe tbody tr th {\n",
       "        vertical-align: top;\n",
       "    }\n",
       "\n",
       "    .dataframe thead th {\n",
       "        text-align: right;\n",
       "    }\n",
       "</style>\n",
       "<table border=\"1\" class=\"dataframe\">\n",
       "  <thead>\n",
       "    <tr style=\"text-align: right;\">\n",
       "      <th></th>\n",
       "      <th>review</th>\n",
       "      <th>label</th>\n",
       "    </tr>\n",
       "  </thead>\n",
       "  <tbody>\n",
       "    <tr>\n",
       "      <th>0</th>\n",
       "      <td>Stuning even for the non-gamer: This sound tra...</td>\n",
       "      <td>pos</td>\n",
       "    </tr>\n",
       "    <tr>\n",
       "      <th>1</th>\n",
       "      <td>The best soundtrack ever to anything.: I'm rea...</td>\n",
       "      <td>pos</td>\n",
       "    </tr>\n",
       "    <tr>\n",
       "      <th>2</th>\n",
       "      <td>Amazing!: This soundtrack is my favorite music...</td>\n",
       "      <td>pos</td>\n",
       "    </tr>\n",
       "    <tr>\n",
       "      <th>3</th>\n",
       "      <td>Excellent Soundtrack: I truly like this soundt...</td>\n",
       "      <td>pos</td>\n",
       "    </tr>\n",
       "    <tr>\n",
       "      <th>4</th>\n",
       "      <td>Remember, Pull Your Jaw Off The Floor After He...</td>\n",
       "      <td>pos</td>\n",
       "    </tr>\n",
       "  </tbody>\n",
       "</table>\n",
       "</div>"
      ]
     },
     "execution_count": 4,
     "metadata": {},
     "output_type": "execute_result"
    }
   ],
   "execution_count": 4
  },
  {
   "cell_type": "code",
   "source": [
    "sid = SentimentIntensityAnalyzer()"
   ],
   "metadata": {
    "collapsed": false,
    "ExecuteTime": {
     "end_time": "2024-12-25T18:47:18.271305Z",
     "start_time": "2024-12-25T18:47:18.263296Z"
    }
   },
   "outputs": [],
   "execution_count": 5
  },
  {
   "cell_type": "code",
   "source": [
    "a = 'This was a good movie.'\n",
    "sid.polarity_scores(a)"
   ],
   "metadata": {
    "collapsed": false,
    "ExecuteTime": {
     "end_time": "2024-12-25T18:47:18.317245Z",
     "start_time": "2024-12-25T18:47:18.314795Z"
    }
   },
   "outputs": [
    {
     "data": {
      "text/plain": [
       "{'neg': 0.0, 'neu': 0.508, 'pos': 0.492, 'compound': 0.4404}"
      ]
     },
     "execution_count": 6,
     "metadata": {},
     "output_type": "execute_result"
    }
   ],
   "execution_count": 6
  },
  {
   "cell_type": "code",
   "source": [
    "a = 'This was the best, most awesome movie EVER MADE!!!'\n",
    "sid.polarity_scores(a)"
   ],
   "metadata": {
    "collapsed": false,
    "ExecuteTime": {
     "end_time": "2024-12-25T18:47:18.414492Z",
     "start_time": "2024-12-25T18:47:18.411930Z"
    }
   },
   "outputs": [
    {
     "data": {
      "text/plain": [
       "{'neg': 0.0, 'neu': 0.425, 'pos': 0.575, 'compound': 0.8877}"
      ]
     },
     "execution_count": 7,
     "metadata": {},
     "output_type": "execute_result"
    }
   ],
   "execution_count": 7
  },
  {
   "cell_type": "code",
   "source": [
    "amazon_reviews['label'].value_counts()"
   ],
   "metadata": {
    "collapsed": false,
    "ExecuteTime": {
     "end_time": "2024-12-25T18:47:18.481769Z",
     "start_time": "2024-12-25T18:47:18.478079Z"
    }
   },
   "outputs": [
    {
     "data": {
      "text/plain": [
       "label\n",
       "pos    10257\n",
       "neg     9742\n",
       "Name: count, dtype: int64"
      ]
     },
     "execution_count": 8,
     "metadata": {},
     "output_type": "execute_result"
    }
   ],
   "execution_count": 8
  },
  {
   "cell_type": "code",
   "source": [
    "amazon_reviews.dropna(inplace=True)\n",
    "\n",
    "blanks = []  # start with an empty list\n",
    "\n",
    "for i,lb,rv in amazon_reviews.itertuples():\n",
    "    if type(rv)==str:\n",
    "        if rv.isspace():\n",
    "            blanks.append(i)\n",
    "\n",
    "amazon_reviews.drop(blanks, inplace=True)"
   ],
   "metadata": {
    "collapsed": false,
    "ExecuteTime": {
     "end_time": "2024-12-25T18:47:18.556559Z",
     "start_time": "2024-12-25T18:47:18.539816Z"
    }
   },
   "outputs": [],
   "execution_count": 9
  },
  {
   "cell_type": "code",
   "source": [
    "amazon_reviews['scores'] = amazon_reviews['review'].apply(lambda review: sid.polarity_scores(review))"
   ],
   "metadata": {
    "collapsed": false,
    "ExecuteTime": {
     "end_time": "2024-12-25T18:47:26.014103Z",
     "start_time": "2024-12-25T18:47:18.607047Z"
    }
   },
   "outputs": [],
   "execution_count": 10
  },
  {
   "cell_type": "code",
   "source": [
    "amazon_reviews.head()"
   ],
   "metadata": {
    "collapsed": false,
    "ExecuteTime": {
     "end_time": "2024-12-25T18:47:26.061543Z",
     "start_time": "2024-12-25T18:47:26.057435Z"
    }
   },
   "outputs": [
    {
     "data": {
      "text/plain": [
       "                                              review label  \\\n",
       "0  Stuning even for the non-gamer: This sound tra...   pos   \n",
       "1  The best soundtrack ever to anything.: I'm rea...   pos   \n",
       "2  Amazing!: This soundtrack is my favorite music...   pos   \n",
       "3  Excellent Soundtrack: I truly like this soundt...   pos   \n",
       "4  Remember, Pull Your Jaw Off The Floor After He...   pos   \n",
       "\n",
       "                                              scores  \n",
       "0  {'neg': 0.088, 'neu': 0.669, 'pos': 0.243, 'co...  \n",
       "1  {'neg': 0.018, 'neu': 0.837, 'pos': 0.145, 'co...  \n",
       "2  {'neg': 0.04, 'neu': 0.692, 'pos': 0.268, 'com...  \n",
       "3  {'neg': 0.09, 'neu': 0.615, 'pos': 0.295, 'com...  \n",
       "4  {'neg': 0.0, 'neu': 0.746, 'pos': 0.254, 'comp...  "
      ],
      "text/html": [
       "<div>\n",
       "<style scoped>\n",
       "    .dataframe tbody tr th:only-of-type {\n",
       "        vertical-align: middle;\n",
       "    }\n",
       "\n",
       "    .dataframe tbody tr th {\n",
       "        vertical-align: top;\n",
       "    }\n",
       "\n",
       "    .dataframe thead th {\n",
       "        text-align: right;\n",
       "    }\n",
       "</style>\n",
       "<table border=\"1\" class=\"dataframe\">\n",
       "  <thead>\n",
       "    <tr style=\"text-align: right;\">\n",
       "      <th></th>\n",
       "      <th>review</th>\n",
       "      <th>label</th>\n",
       "      <th>scores</th>\n",
       "    </tr>\n",
       "  </thead>\n",
       "  <tbody>\n",
       "    <tr>\n",
       "      <th>0</th>\n",
       "      <td>Stuning even for the non-gamer: This sound tra...</td>\n",
       "      <td>pos</td>\n",
       "      <td>{'neg': 0.088, 'neu': 0.669, 'pos': 0.243, 'co...</td>\n",
       "    </tr>\n",
       "    <tr>\n",
       "      <th>1</th>\n",
       "      <td>The best soundtrack ever to anything.: I'm rea...</td>\n",
       "      <td>pos</td>\n",
       "      <td>{'neg': 0.018, 'neu': 0.837, 'pos': 0.145, 'co...</td>\n",
       "    </tr>\n",
       "    <tr>\n",
       "      <th>2</th>\n",
       "      <td>Amazing!: This soundtrack is my favorite music...</td>\n",
       "      <td>pos</td>\n",
       "      <td>{'neg': 0.04, 'neu': 0.692, 'pos': 0.268, 'com...</td>\n",
       "    </tr>\n",
       "    <tr>\n",
       "      <th>3</th>\n",
       "      <td>Excellent Soundtrack: I truly like this soundt...</td>\n",
       "      <td>pos</td>\n",
       "      <td>{'neg': 0.09, 'neu': 0.615, 'pos': 0.295, 'com...</td>\n",
       "    </tr>\n",
       "    <tr>\n",
       "      <th>4</th>\n",
       "      <td>Remember, Pull Your Jaw Off The Floor After He...</td>\n",
       "      <td>pos</td>\n",
       "      <td>{'neg': 0.0, 'neu': 0.746, 'pos': 0.254, 'comp...</td>\n",
       "    </tr>\n",
       "  </tbody>\n",
       "</table>\n",
       "</div>"
      ]
     },
     "execution_count": 11,
     "metadata": {},
     "output_type": "execute_result"
    }
   ],
   "execution_count": 11
  },
  {
   "cell_type": "code",
   "source": [
    "amazon_reviews['compound']  = amazon_reviews['scores'].apply(lambda score_dict: score_dict['compound'])"
   ],
   "metadata": {
    "collapsed": false,
    "ExecuteTime": {
     "end_time": "2024-12-25T18:47:26.120494Z",
     "start_time": "2024-12-25T18:47:26.115019Z"
    }
   },
   "outputs": [],
   "execution_count": 12
  },
  {
   "cell_type": "code",
   "source": [
    "amazon_reviews.head()"
   ],
   "metadata": {
    "collapsed": false,
    "ExecuteTime": {
     "end_time": "2024-12-25T18:47:26.164241Z",
     "start_time": "2024-12-25T18:47:26.159821Z"
    }
   },
   "outputs": [
    {
     "data": {
      "text/plain": [
       "                                              review label  \\\n",
       "0  Stuning even for the non-gamer: This sound tra...   pos   \n",
       "1  The best soundtrack ever to anything.: I'm rea...   pos   \n",
       "2  Amazing!: This soundtrack is my favorite music...   pos   \n",
       "3  Excellent Soundtrack: I truly like this soundt...   pos   \n",
       "4  Remember, Pull Your Jaw Off The Floor After He...   pos   \n",
       "\n",
       "                                              scores  compound  \n",
       "0  {'neg': 0.088, 'neu': 0.669, 'pos': 0.243, 'co...    0.9454  \n",
       "1  {'neg': 0.018, 'neu': 0.837, 'pos': 0.145, 'co...    0.8957  \n",
       "2  {'neg': 0.04, 'neu': 0.692, 'pos': 0.268, 'com...    0.9858  \n",
       "3  {'neg': 0.09, 'neu': 0.615, 'pos': 0.295, 'com...    0.9814  \n",
       "4  {'neg': 0.0, 'neu': 0.746, 'pos': 0.254, 'comp...    0.9781  "
      ],
      "text/html": [
       "<div>\n",
       "<style scoped>\n",
       "    .dataframe tbody tr th:only-of-type {\n",
       "        vertical-align: middle;\n",
       "    }\n",
       "\n",
       "    .dataframe tbody tr th {\n",
       "        vertical-align: top;\n",
       "    }\n",
       "\n",
       "    .dataframe thead th {\n",
       "        text-align: right;\n",
       "    }\n",
       "</style>\n",
       "<table border=\"1\" class=\"dataframe\">\n",
       "  <thead>\n",
       "    <tr style=\"text-align: right;\">\n",
       "      <th></th>\n",
       "      <th>review</th>\n",
       "      <th>label</th>\n",
       "      <th>scores</th>\n",
       "      <th>compound</th>\n",
       "    </tr>\n",
       "  </thead>\n",
       "  <tbody>\n",
       "    <tr>\n",
       "      <th>0</th>\n",
       "      <td>Stuning even for the non-gamer: This sound tra...</td>\n",
       "      <td>pos</td>\n",
       "      <td>{'neg': 0.088, 'neu': 0.669, 'pos': 0.243, 'co...</td>\n",
       "      <td>0.9454</td>\n",
       "    </tr>\n",
       "    <tr>\n",
       "      <th>1</th>\n",
       "      <td>The best soundtrack ever to anything.: I'm rea...</td>\n",
       "      <td>pos</td>\n",
       "      <td>{'neg': 0.018, 'neu': 0.837, 'pos': 0.145, 'co...</td>\n",
       "      <td>0.8957</td>\n",
       "    </tr>\n",
       "    <tr>\n",
       "      <th>2</th>\n",
       "      <td>Amazing!: This soundtrack is my favorite music...</td>\n",
       "      <td>pos</td>\n",
       "      <td>{'neg': 0.04, 'neu': 0.692, 'pos': 0.268, 'com...</td>\n",
       "      <td>0.9858</td>\n",
       "    </tr>\n",
       "    <tr>\n",
       "      <th>3</th>\n",
       "      <td>Excellent Soundtrack: I truly like this soundt...</td>\n",
       "      <td>pos</td>\n",
       "      <td>{'neg': 0.09, 'neu': 0.615, 'pos': 0.295, 'com...</td>\n",
       "      <td>0.9814</td>\n",
       "    </tr>\n",
       "    <tr>\n",
       "      <th>4</th>\n",
       "      <td>Remember, Pull Your Jaw Off The Floor After He...</td>\n",
       "      <td>pos</td>\n",
       "      <td>{'neg': 0.0, 'neu': 0.746, 'pos': 0.254, 'comp...</td>\n",
       "      <td>0.9781</td>\n",
       "    </tr>\n",
       "  </tbody>\n",
       "</table>\n",
       "</div>"
      ]
     },
     "execution_count": 13,
     "metadata": {},
     "output_type": "execute_result"
    }
   ],
   "execution_count": 13
  },
  {
   "cell_type": "code",
   "source": [
    "def test_compound(c):\n",
    "    if c > 0:\n",
    "        return 'pos'\n",
    "    if c == 0:\n",
    "        return 'neu'\n",
    "    return 'neg'"
   ],
   "metadata": {
    "collapsed": false,
    "ExecuteTime": {
     "end_time": "2024-12-25T18:47:26.229591Z",
     "start_time": "2024-12-25T18:47:26.226543Z"
    }
   },
   "outputs": [],
   "execution_count": 14
  },
  {
   "cell_type": "code",
   "source": [
    "amazon_reviews['comp_score'] = amazon_reviews['compound'].apply(lambda c: test_compound(c))"
   ],
   "metadata": {
    "collapsed": false,
    "ExecuteTime": {
     "end_time": "2024-12-25T18:47:26.293510Z",
     "start_time": "2024-12-25T18:47:26.287877Z"
    }
   },
   "outputs": [],
   "execution_count": 15
  },
  {
   "cell_type": "code",
   "source": [
    "amazon_reviews"
   ],
   "metadata": {
    "collapsed": false,
    "ExecuteTime": {
     "end_time": "2024-12-25T18:47:26.341145Z",
     "start_time": "2024-12-25T18:47:26.333935Z"
    }
   },
   "outputs": [
    {
     "data": {
      "text/plain": [
       "                                                  review label  \\\n",
       "0      Stuning even for the non-gamer: This sound tra...   pos   \n",
       "1      The best soundtrack ever to anything.: I'm rea...   pos   \n",
       "2      Amazing!: This soundtrack is my favorite music...   pos   \n",
       "3      Excellent Soundtrack: I truly like this soundt...   pos   \n",
       "4      Remember, Pull Your Jaw Off The Floor After He...   pos   \n",
       "...                                                  ...   ...   \n",
       "19994  Rip-off: I liked Flint, I trusted him to deliv...   neg   \n",
       "19995  Very disappointing: I have previously bought t...   neg   \n",
       "19996  Tedious collection of stories about a goat.: I...   neg   \n",
       "19997  Disappointed: I love the 1632 series. I have b...   neg   \n",
       "19998  Pretty Disappointing: I have to say that after...   neg   \n",
       "\n",
       "                                                  scores  compound comp_score  \n",
       "0      {'neg': 0.088, 'neu': 0.669, 'pos': 0.243, 'co...    0.9454        pos  \n",
       "1      {'neg': 0.018, 'neu': 0.837, 'pos': 0.145, 'co...    0.8957        pos  \n",
       "2      {'neg': 0.04, 'neu': 0.692, 'pos': 0.268, 'com...    0.9858        pos  \n",
       "3      {'neg': 0.09, 'neu': 0.615, 'pos': 0.295, 'com...    0.9814        pos  \n",
       "4      {'neg': 0.0, 'neu': 0.746, 'pos': 0.254, 'comp...    0.9781        pos  \n",
       "...                                                  ...       ...        ...  \n",
       "19994  {'neg': 0.084, 'neu': 0.83, 'pos': 0.086, 'com...   -0.2144        neg  \n",
       "19995  {'neg': 0.23, 'neu': 0.714, 'pos': 0.056, 'com...   -0.8748        neg  \n",
       "19996  {'neg': 0.071, 'neu': 0.786, 'pos': 0.143, 'co...    0.8040        pos  \n",
       "19997  {'neg': 0.081, 'neu': 0.784, 'pos': 0.135, 'co...    0.6487        pos  \n",
       "19998  {'neg': 0.084, 'neu': 0.715, 'pos': 0.201, 'co...    0.9100        pos  \n",
       "\n",
       "[19999 rows x 5 columns]"
      ],
      "text/html": [
       "<div>\n",
       "<style scoped>\n",
       "    .dataframe tbody tr th:only-of-type {\n",
       "        vertical-align: middle;\n",
       "    }\n",
       "\n",
       "    .dataframe tbody tr th {\n",
       "        vertical-align: top;\n",
       "    }\n",
       "\n",
       "    .dataframe thead th {\n",
       "        text-align: right;\n",
       "    }\n",
       "</style>\n",
       "<table border=\"1\" class=\"dataframe\">\n",
       "  <thead>\n",
       "    <tr style=\"text-align: right;\">\n",
       "      <th></th>\n",
       "      <th>review</th>\n",
       "      <th>label</th>\n",
       "      <th>scores</th>\n",
       "      <th>compound</th>\n",
       "      <th>comp_score</th>\n",
       "    </tr>\n",
       "  </thead>\n",
       "  <tbody>\n",
       "    <tr>\n",
       "      <th>0</th>\n",
       "      <td>Stuning even for the non-gamer: This sound tra...</td>\n",
       "      <td>pos</td>\n",
       "      <td>{'neg': 0.088, 'neu': 0.669, 'pos': 0.243, 'co...</td>\n",
       "      <td>0.9454</td>\n",
       "      <td>pos</td>\n",
       "    </tr>\n",
       "    <tr>\n",
       "      <th>1</th>\n",
       "      <td>The best soundtrack ever to anything.: I'm rea...</td>\n",
       "      <td>pos</td>\n",
       "      <td>{'neg': 0.018, 'neu': 0.837, 'pos': 0.145, 'co...</td>\n",
       "      <td>0.8957</td>\n",
       "      <td>pos</td>\n",
       "    </tr>\n",
       "    <tr>\n",
       "      <th>2</th>\n",
       "      <td>Amazing!: This soundtrack is my favorite music...</td>\n",
       "      <td>pos</td>\n",
       "      <td>{'neg': 0.04, 'neu': 0.692, 'pos': 0.268, 'com...</td>\n",
       "      <td>0.9858</td>\n",
       "      <td>pos</td>\n",
       "    </tr>\n",
       "    <tr>\n",
       "      <th>3</th>\n",
       "      <td>Excellent Soundtrack: I truly like this soundt...</td>\n",
       "      <td>pos</td>\n",
       "      <td>{'neg': 0.09, 'neu': 0.615, 'pos': 0.295, 'com...</td>\n",
       "      <td>0.9814</td>\n",
       "      <td>pos</td>\n",
       "    </tr>\n",
       "    <tr>\n",
       "      <th>4</th>\n",
       "      <td>Remember, Pull Your Jaw Off The Floor After He...</td>\n",
       "      <td>pos</td>\n",
       "      <td>{'neg': 0.0, 'neu': 0.746, 'pos': 0.254, 'comp...</td>\n",
       "      <td>0.9781</td>\n",
       "      <td>pos</td>\n",
       "    </tr>\n",
       "    <tr>\n",
       "      <th>...</th>\n",
       "      <td>...</td>\n",
       "      <td>...</td>\n",
       "      <td>...</td>\n",
       "      <td>...</td>\n",
       "      <td>...</td>\n",
       "    </tr>\n",
       "    <tr>\n",
       "      <th>19994</th>\n",
       "      <td>Rip-off: I liked Flint, I trusted him to deliv...</td>\n",
       "      <td>neg</td>\n",
       "      <td>{'neg': 0.084, 'neu': 0.83, 'pos': 0.086, 'com...</td>\n",
       "      <td>-0.2144</td>\n",
       "      <td>neg</td>\n",
       "    </tr>\n",
       "    <tr>\n",
       "      <th>19995</th>\n",
       "      <td>Very disappointing: I have previously bought t...</td>\n",
       "      <td>neg</td>\n",
       "      <td>{'neg': 0.23, 'neu': 0.714, 'pos': 0.056, 'com...</td>\n",
       "      <td>-0.8748</td>\n",
       "      <td>neg</td>\n",
       "    </tr>\n",
       "    <tr>\n",
       "      <th>19996</th>\n",
       "      <td>Tedious collection of stories about a goat.: I...</td>\n",
       "      <td>neg</td>\n",
       "      <td>{'neg': 0.071, 'neu': 0.786, 'pos': 0.143, 'co...</td>\n",
       "      <td>0.8040</td>\n",
       "      <td>pos</td>\n",
       "    </tr>\n",
       "    <tr>\n",
       "      <th>19997</th>\n",
       "      <td>Disappointed: I love the 1632 series. I have b...</td>\n",
       "      <td>neg</td>\n",
       "      <td>{'neg': 0.081, 'neu': 0.784, 'pos': 0.135, 'co...</td>\n",
       "      <td>0.6487</td>\n",
       "      <td>pos</td>\n",
       "    </tr>\n",
       "    <tr>\n",
       "      <th>19998</th>\n",
       "      <td>Pretty Disappointing: I have to say that after...</td>\n",
       "      <td>neg</td>\n",
       "      <td>{'neg': 0.084, 'neu': 0.715, 'pos': 0.201, 'co...</td>\n",
       "      <td>0.9100</td>\n",
       "      <td>pos</td>\n",
       "    </tr>\n",
       "  </tbody>\n",
       "</table>\n",
       "<p>19999 rows × 5 columns</p>\n",
       "</div>"
      ]
     },
     "execution_count": 16,
     "metadata": {},
     "output_type": "execute_result"
    }
   ],
   "execution_count": 16
  },
  {
   "cell_type": "code",
   "source": [
    "amazon_reviews['agreement'] = amazon_reviews['label'] == amazon_reviews['comp_score']"
   ],
   "metadata": {
    "collapsed": false,
    "ExecuteTime": {
     "end_time": "2024-12-25T18:47:26.402767Z",
     "start_time": "2024-12-25T18:47:26.398957Z"
    }
   },
   "outputs": [],
   "execution_count": 17
  },
  {
   "cell_type": "code",
   "source": [
    "amazon_reviews"
   ],
   "metadata": {
    "collapsed": false,
    "ExecuteTime": {
     "end_time": "2024-12-25T18:47:26.454815Z",
     "start_time": "2024-12-25T18:47:26.448287Z"
    }
   },
   "outputs": [
    {
     "data": {
      "text/plain": [
       "                                                  review label  \\\n",
       "0      Stuning even for the non-gamer: This sound tra...   pos   \n",
       "1      The best soundtrack ever to anything.: I'm rea...   pos   \n",
       "2      Amazing!: This soundtrack is my favorite music...   pos   \n",
       "3      Excellent Soundtrack: I truly like this soundt...   pos   \n",
       "4      Remember, Pull Your Jaw Off The Floor After He...   pos   \n",
       "...                                                  ...   ...   \n",
       "19994  Rip-off: I liked Flint, I trusted him to deliv...   neg   \n",
       "19995  Very disappointing: I have previously bought t...   neg   \n",
       "19996  Tedious collection of stories about a goat.: I...   neg   \n",
       "19997  Disappointed: I love the 1632 series. I have b...   neg   \n",
       "19998  Pretty Disappointing: I have to say that after...   neg   \n",
       "\n",
       "                                                  scores  compound comp_score  \\\n",
       "0      {'neg': 0.088, 'neu': 0.669, 'pos': 0.243, 'co...    0.9454        pos   \n",
       "1      {'neg': 0.018, 'neu': 0.837, 'pos': 0.145, 'co...    0.8957        pos   \n",
       "2      {'neg': 0.04, 'neu': 0.692, 'pos': 0.268, 'com...    0.9858        pos   \n",
       "3      {'neg': 0.09, 'neu': 0.615, 'pos': 0.295, 'com...    0.9814        pos   \n",
       "4      {'neg': 0.0, 'neu': 0.746, 'pos': 0.254, 'comp...    0.9781        pos   \n",
       "...                                                  ...       ...        ...   \n",
       "19994  {'neg': 0.084, 'neu': 0.83, 'pos': 0.086, 'com...   -0.2144        neg   \n",
       "19995  {'neg': 0.23, 'neu': 0.714, 'pos': 0.056, 'com...   -0.8748        neg   \n",
       "19996  {'neg': 0.071, 'neu': 0.786, 'pos': 0.143, 'co...    0.8040        pos   \n",
       "19997  {'neg': 0.081, 'neu': 0.784, 'pos': 0.135, 'co...    0.6487        pos   \n",
       "19998  {'neg': 0.084, 'neu': 0.715, 'pos': 0.201, 'co...    0.9100        pos   \n",
       "\n",
       "       agreement  \n",
       "0           True  \n",
       "1           True  \n",
       "2           True  \n",
       "3           True  \n",
       "4           True  \n",
       "...          ...  \n",
       "19994       True  \n",
       "19995       True  \n",
       "19996      False  \n",
       "19997      False  \n",
       "19998      False  \n",
       "\n",
       "[19999 rows x 6 columns]"
      ],
      "text/html": [
       "<div>\n",
       "<style scoped>\n",
       "    .dataframe tbody tr th:only-of-type {\n",
       "        vertical-align: middle;\n",
       "    }\n",
       "\n",
       "    .dataframe tbody tr th {\n",
       "        vertical-align: top;\n",
       "    }\n",
       "\n",
       "    .dataframe thead th {\n",
       "        text-align: right;\n",
       "    }\n",
       "</style>\n",
       "<table border=\"1\" class=\"dataframe\">\n",
       "  <thead>\n",
       "    <tr style=\"text-align: right;\">\n",
       "      <th></th>\n",
       "      <th>review</th>\n",
       "      <th>label</th>\n",
       "      <th>scores</th>\n",
       "      <th>compound</th>\n",
       "      <th>comp_score</th>\n",
       "      <th>agreement</th>\n",
       "    </tr>\n",
       "  </thead>\n",
       "  <tbody>\n",
       "    <tr>\n",
       "      <th>0</th>\n",
       "      <td>Stuning even for the non-gamer: This sound tra...</td>\n",
       "      <td>pos</td>\n",
       "      <td>{'neg': 0.088, 'neu': 0.669, 'pos': 0.243, 'co...</td>\n",
       "      <td>0.9454</td>\n",
       "      <td>pos</td>\n",
       "      <td>True</td>\n",
       "    </tr>\n",
       "    <tr>\n",
       "      <th>1</th>\n",
       "      <td>The best soundtrack ever to anything.: I'm rea...</td>\n",
       "      <td>pos</td>\n",
       "      <td>{'neg': 0.018, 'neu': 0.837, 'pos': 0.145, 'co...</td>\n",
       "      <td>0.8957</td>\n",
       "      <td>pos</td>\n",
       "      <td>True</td>\n",
       "    </tr>\n",
       "    <tr>\n",
       "      <th>2</th>\n",
       "      <td>Amazing!: This soundtrack is my favorite music...</td>\n",
       "      <td>pos</td>\n",
       "      <td>{'neg': 0.04, 'neu': 0.692, 'pos': 0.268, 'com...</td>\n",
       "      <td>0.9858</td>\n",
       "      <td>pos</td>\n",
       "      <td>True</td>\n",
       "    </tr>\n",
       "    <tr>\n",
       "      <th>3</th>\n",
       "      <td>Excellent Soundtrack: I truly like this soundt...</td>\n",
       "      <td>pos</td>\n",
       "      <td>{'neg': 0.09, 'neu': 0.615, 'pos': 0.295, 'com...</td>\n",
       "      <td>0.9814</td>\n",
       "      <td>pos</td>\n",
       "      <td>True</td>\n",
       "    </tr>\n",
       "    <tr>\n",
       "      <th>4</th>\n",
       "      <td>Remember, Pull Your Jaw Off The Floor After He...</td>\n",
       "      <td>pos</td>\n",
       "      <td>{'neg': 0.0, 'neu': 0.746, 'pos': 0.254, 'comp...</td>\n",
       "      <td>0.9781</td>\n",
       "      <td>pos</td>\n",
       "      <td>True</td>\n",
       "    </tr>\n",
       "    <tr>\n",
       "      <th>...</th>\n",
       "      <td>...</td>\n",
       "      <td>...</td>\n",
       "      <td>...</td>\n",
       "      <td>...</td>\n",
       "      <td>...</td>\n",
       "      <td>...</td>\n",
       "    </tr>\n",
       "    <tr>\n",
       "      <th>19994</th>\n",
       "      <td>Rip-off: I liked Flint, I trusted him to deliv...</td>\n",
       "      <td>neg</td>\n",
       "      <td>{'neg': 0.084, 'neu': 0.83, 'pos': 0.086, 'com...</td>\n",
       "      <td>-0.2144</td>\n",
       "      <td>neg</td>\n",
       "      <td>True</td>\n",
       "    </tr>\n",
       "    <tr>\n",
       "      <th>19995</th>\n",
       "      <td>Very disappointing: I have previously bought t...</td>\n",
       "      <td>neg</td>\n",
       "      <td>{'neg': 0.23, 'neu': 0.714, 'pos': 0.056, 'com...</td>\n",
       "      <td>-0.8748</td>\n",
       "      <td>neg</td>\n",
       "      <td>True</td>\n",
       "    </tr>\n",
       "    <tr>\n",
       "      <th>19996</th>\n",
       "      <td>Tedious collection of stories about a goat.: I...</td>\n",
       "      <td>neg</td>\n",
       "      <td>{'neg': 0.071, 'neu': 0.786, 'pos': 0.143, 'co...</td>\n",
       "      <td>0.8040</td>\n",
       "      <td>pos</td>\n",
       "      <td>False</td>\n",
       "    </tr>\n",
       "    <tr>\n",
       "      <th>19997</th>\n",
       "      <td>Disappointed: I love the 1632 series. I have b...</td>\n",
       "      <td>neg</td>\n",
       "      <td>{'neg': 0.081, 'neu': 0.784, 'pos': 0.135, 'co...</td>\n",
       "      <td>0.6487</td>\n",
       "      <td>pos</td>\n",
       "      <td>False</td>\n",
       "    </tr>\n",
       "    <tr>\n",
       "      <th>19998</th>\n",
       "      <td>Pretty Disappointing: I have to say that after...</td>\n",
       "      <td>neg</td>\n",
       "      <td>{'neg': 0.084, 'neu': 0.715, 'pos': 0.201, 'co...</td>\n",
       "      <td>0.9100</td>\n",
       "      <td>pos</td>\n",
       "      <td>False</td>\n",
       "    </tr>\n",
       "  </tbody>\n",
       "</table>\n",
       "<p>19999 rows × 6 columns</p>\n",
       "</div>"
      ]
     },
     "execution_count": 18,
     "metadata": {},
     "output_type": "execute_result"
    }
   ],
   "execution_count": 18
  },
  {
   "cell_type": "code",
   "source": [
    "amazon_reviews.shape"
   ],
   "metadata": {
    "collapsed": false,
    "ExecuteTime": {
     "end_time": "2024-12-25T18:47:26.540004Z",
     "start_time": "2024-12-25T18:47:26.534774Z"
    }
   },
   "outputs": [
    {
     "data": {
      "text/plain": [
       "(19999, 6)"
      ]
     },
     "execution_count": 19,
     "metadata": {},
     "output_type": "execute_result"
    }
   ],
   "execution_count": 19
  },
  {
   "cell_type": "code",
   "source": [
    "amazon_reviews.agreement.value_counts()"
   ],
   "metadata": {
    "collapsed": false,
    "ExecuteTime": {
     "end_time": "2024-12-25T18:47:46.258988Z",
     "start_time": "2024-12-25T18:47:46.256282Z"
    }
   },
   "outputs": [
    {
     "data": {
      "text/plain": [
       "agreement\n",
       "True     14236\n",
       "False     5763\n",
       "Name: count, dtype: int64"
      ]
     },
     "execution_count": 20,
     "metadata": {},
     "output_type": "execute_result"
    }
   ],
   "execution_count": 20
  },
  {
   "cell_type": "code",
   "source": [
    "a = 'My name is Yair.'\n",
    "sid.polarity_scores(a)"
   ],
   "metadata": {
    "collapsed": false,
    "ExecuteTime": {
     "end_time": "2024-12-25T18:47:46.289392Z",
     "start_time": "2024-12-25T18:47:46.286923Z"
    }
   },
   "outputs": [
    {
     "data": {
      "text/plain": [
       "{'neg': 0.0, 'neu': 1.0, 'pos': 0.0, 'compound': 0.0}"
      ]
     },
     "execution_count": 21,
     "metadata": {},
     "output_type": "execute_result"
    }
   ],
   "execution_count": 21
  },
  {
   "cell_type": "code",
   "source": [],
   "metadata": {
    "collapsed": false,
    "ExecuteTime": {
     "end_time": "2024-12-25T18:48:07.423604Z",
     "start_time": "2024-12-25T18:48:07.421993Z"
    }
   },
   "outputs": [],
   "execution_count": null
  }
 ],
 "metadata": {
  "kernelspec": {
   "display_name": "Python 3",
   "language": "python",
   "name": "python3"
  },
  "language_info": {
   "codemirror_mode": {
    "name": "ipython",
    "version": 2
   },
   "file_extension": ".py",
   "mimetype": "text/x-python",
   "name": "python",
   "nbconvert_exporter": "python",
   "pygments_lexer": "ipython2",
   "version": "2.7.6"
  }
 },
 "nbformat": 4,
 "nbformat_minor": 0
}
