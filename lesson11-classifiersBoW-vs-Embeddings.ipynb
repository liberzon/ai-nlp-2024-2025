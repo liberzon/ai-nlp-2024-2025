{
 "cells": [
  {
   "cell_type": "code",
   "id": "initial_id",
   "metadata": {
    "collapsed": true
   },
   "source": [
    "from sklearn.feature_extraction.text import TfidfVectorizer\n",
    "from sklearn.model_selection import train_test_split\n",
    "from sklearn.linear_model import LogisticRegression\n",
    "from sklearn.metrics import accuracy_score, classification_report\n",
    "\n",
    "# Dataset\n",
    "documents = [\n",
    "    \"This movie is fantastic, I loved every moment.\",\n",
    "    \"Absolutely terrible, a complete waste of time.\",\n",
    "    \"Amazing acting, truly a masterpiece.\",\n",
    "    \"The acting was poor, and the plot made no sense.\",\n",
    "    \"The plot was engaging and the visuals were stunning.\",\n",
    "    \"Horrible direction, couldn't sit through the entire movie.\",\n",
    "    \"A brilliant performance, highly recommend!\",\n",
    "    \"Disappointing and boring, don't recommend it.\",\n",
    "    \"One of the best movies I've seen in a while.\",\n",
    "    \"Worst movie of the year, truly awful.\",\n",
    "    \"Excellent direction, kept me hooked till the end.\",\n",
    "    \"The characters were one-dimensional and uninteresting.\",\n",
    "    \"Heartwarming story and great acting.\",\n",
    "    \"A predictable and uninspired story.\",\n",
    "    \"Absolutely loved the characters and storyline.\",\n",
    "    \"Painfully slow pacing, almost fell asleep.\",\n",
    "    \"The soundtrack was amazing, it made the movie perfect.\",\n",
    "    \"The visuals were okay, but the story was lacking.\",\n",
    "    \"Incredible visuals and a moving story.\",\n",
    "    \"Not worth watching, save your time and money.\",\n",
    "    \"An unforgettable experience, a must-watch.\",\n",
    "    \"The dialogue was cheesy and unrealistic.\",\n",
    "    \"Superb writing and exceptional performances.\",\n",
    "    \"The performances felt forced and unnatural.\",\n",
    "    \"The pacing was perfect, not a dull moment.\",\n",
    "    \"Terrible execution of a potentially good idea.\",\n",
    "    \"Highly entertaining, had a great time watching it.\",\n",
    "    \"The editing was choppy and the scenes felt disconnected.\",\n",
    "    \"A truly inspiring and uplifting film.\",\n",
    "    \"An absolute disaster of a film, don't bother.\",\n",
    "    \"The chemistry between the characters was perfect.\",\n",
    "    \"Lackluster and completely forgettable.\",\n",
    "    \"Loved the way the story unfolded, truly captivating.\",\n",
    "    \"The movie was a mess, didn't make any sense.\",\n",
    "    \"A fantastic movie that keeps you thinking afterward.\",\n",
    "    \"Cringeworthy moments throughout the entire film.\",\n",
    "    \"Emotional, powerful, and brilliantly executed.\",\n",
    "    \"Felt like a low-budget attempt, very disappointing.\",\n",
    "    \"A feel-good movie with a strong message.\",\n",
    "    \"It tried to be deep but ended up being pretentious.\",\n",
    "    \"The plot was brilliant and kept me intrigued.\",\n",
    "    \"The movie was dull and overly predictable.\",\n",
    "    \"A fantastic story with lovable characters.\",\n",
    "    \"The action sequences were poorly executed.\",\n",
    "    \"An inspiring movie that left me feeling hopeful.\",\n",
    "    \"A confusing and disjointed narrative.\",\n",
    "    \"The humor was on point, a delightful watch.\",\n",
    "    \"The movie lacked originality and depth.\",\n",
    "    \"A cinematic gem, truly breathtaking.\",\n",
    "    \"A tedious watch with little redeeming quality.\"\n",
    "]\n",
    "\n",
    "labels = [\n",
    "    1, 0, 1, 0, 1, 0, 1, 0, 1, 0,\n",
    "    1, 0, 1, 0, 1, 0, 1, 0, 1, 0,\n",
    "    1, 0, 1, 0, 1, 0, 1, 0, 1, 0,\n",
    "    1, 0, 1, 0, 1, 0, 1, 0, 1, 0,\n",
    "    1, 0, 1, 0, 1, 0, 1, 0, 1, 0\n",
    "]"
   ],
   "outputs": [],
   "execution_count": null
  },
  {
   "cell_type": "code",
   "source": [
    "# Split the data\n",
    "X_train, X_test, y_train, y_test = train_test_split(documents, labels, test_size=0.3, random_state=42)"
   ],
   "metadata": {
    "collapsed": false
   },
   "id": "4d5b34102d3a088f",
   "outputs": [],
   "execution_count": null
  },
  {
   "cell_type": "code",
   "source": [
    "from sklearn.feature_extraction.text import CountVectorizer\n",
    "# Vectorize the data\n",
    "#vectorizer = CountVectorizer(stop_words='english', ngram_range=(1, 2))\n",
    "#X_train_vec = vectorizer.fit_transform(X_train)\n",
    "#X_test_vec = vectorizer.transform(X_test)"
   ],
   "metadata": {
    "collapsed": false
   },
   "id": "de55b6d9f5fc1d45",
   "outputs": [],
   "execution_count": null
  },
  {
   "cell_type": "code",
   "source": [
    "from sentence_transformers import SentenceTransformer\n",
    "model = SentenceTransformer('all-MiniLM-L6-v2')\n",
    "X_train_vec = model.encode(X_train)\n",
    "X_test_vec = model.encode(X_test)"
   ],
   "metadata": {
    "collapsed": false
   },
   "id": "9f9092d04c11afa",
   "outputs": [],
   "execution_count": null
  },
  {
   "cell_type": "code",
   "source": [
    "# Train the classifier\n",
    "classifier = LogisticRegression(C=0.1, random_state=42)\n",
    "classifier.fit(X_train_vec, y_train)"
   ],
   "metadata": {
    "collapsed": false
   },
   "id": "3d470761b19b5092",
   "outputs": [],
   "execution_count": null
  },
  {
   "cell_type": "code",
   "source": [
    "# Evaluate the model\n",
    "y_pred = classifier.predict(X_test_vec)\n",
    "print(\"Accuracy:\", accuracy_score(y_test, y_pred))\n",
    "print(\"Classification Report:\\n\", classification_report(y_test, y_pred, zero_division=1))"
   ],
   "metadata": {
    "collapsed": false
   },
   "id": "5cdb8c1302a8ea9a",
   "outputs": [],
   "execution_count": null
  },
  {
   "cell_type": "code",
   "source": [
    "pip install umap-learn matplotlib"
   ],
   "metadata": {
    "collapsed": false
   },
   "id": "4b90656573ec8b0d",
   "outputs": [],
   "execution_count": null
  },
  {
   "cell_type": "code",
   "source": [
    "import matplotlib.pyplot as plt\n",
    "import umap\n",
    "from sentence_transformers import SentenceTransformer\n",
    "\n",
    "# Load the pre-trained embedding model\n",
    "model = SentenceTransformer('all-MiniLM-L6-v2')\n",
    "\n",
    "# Dataset\n",
    "documents = [\n",
    "    \"This movie is fantastic, I loved every moment.\",\n",
    "    \"Absolutely terrible, a complete waste of time.\",\n",
    "    \"Amazing acting, truly a masterpiece.\",\n",
    "    \"The acting was poor, and the plot made no sense.\",\n",
    "    \"The plot was engaging and the visuals were stunning.\",\n",
    "    \"Horrible direction, couldn't sit through the entire movie.\",\n",
    "    \"Superb writing and exceptional performances.\",\n",
    "    \"Cringeworthy moments throughout the entire film.\",\n",
    "    \"Emotional, powerful, and brilliantly executed.\",\n",
    "    \"A cinematic gem, truly breathtaking.\"\n",
    "]\n",
    "labels = [1, 0, 1, 0, 1, 0, 1, 0, 1, 1]  # 1: Positive, 0: Negative\n",
    "\n",
    "# Generate embeddings\n",
    "embeddings = model.encode(documents)\n",
    "\n",
    "# Reduce dimensions to 2D using UMAP\n",
    "reducer = umap.UMAP(n_neighbors=5, min_dist=0.3, metric='cosine')\n",
    "embeddings_2d = reducer.fit_transform(embeddings)\n",
    "\n",
    "# Plot the embeddings\n",
    "plt.figure(figsize=(10, 7))\n",
    "colors = ['red' if label == 0 else 'green' for label in labels]\n",
    "plt.scatter(embeddings_2d[:, 0], embeddings_2d[:, 1], c=colors, s=100, alpha=0.7)\n",
    "for i, doc in enumerate(documents):\n",
    "    plt.annotate(f\"{i+1}\", (embeddings_2d[i, 0], embeddings_2d[i, 1]), fontsize=10, alpha=0.8)\n",
    "\n",
    "plt.title(\"2D Visualization of Sentence Embeddings\")\n",
    "plt.xlabel(\"Dimension 1\")\n",
    "plt.ylabel(\"Dimension 2\")\n",
    "plt.grid(True)\n",
    "plt.show()\n"
   ],
   "metadata": {
    "collapsed": false
   },
   "id": "664025afe3332e4d",
   "outputs": [],
   "execution_count": null
  },
  {
   "cell_type": "code",
   "source": [],
   "metadata": {
    "collapsed": false
   },
   "id": "f8058e933e85a590",
   "outputs": [],
   "execution_count": null
  }
 ],
 "metadata": {
  "kernelspec": {
   "display_name": "Python 3",
   "language": "python",
   "name": "python3"
  },
  "language_info": {
   "codemirror_mode": {
    "name": "ipython",
    "version": 2
   },
   "file_extension": ".py",
   "mimetype": "text/x-python",
   "name": "python",
   "nbconvert_exporter": "python",
   "pygments_lexer": "ipython2",
   "version": "2.7.6"
  }
 },
 "nbformat": 4,
 "nbformat_minor": 5
}
