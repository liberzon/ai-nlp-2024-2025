{
 "cells": [
  {
   "cell_type": "code",
   "execution_count": 1,
   "id": "initial_id",
   "metadata": {
    "collapsed": true,
    "ExecuteTime": {
     "end_time": "2025-01-15T20:01:39.870562Z",
     "start_time": "2025-01-15T20:01:38.749739Z"
    }
   },
   "outputs": [],
   "source": [
    "from sklearn.feature_extraction.text import TfidfVectorizer\n",
    "from sklearn.model_selection import train_test_split\n",
    "from sklearn.linear_model import LogisticRegression\n",
    "from sklearn.metrics import accuracy_score, classification_report\n",
    "\n",
    "# Dataset\n",
    "documents = [\n",
    "    \"This movie is fantastic, I loved every moment.\",\n",
    "    \"Absolutely terrible, a complete waste of time.\",\n",
    "    \"Amazing acting, truly a masterpiece.\",\n",
    "    \"The acting was poor, and the plot made no sense.\",\n",
    "    \"The plot was engaging and the visuals were stunning.\",\n",
    "    \"Horrible direction, couldn't sit through the entire movie.\",\n",
    "    \"A brilliant performance, highly recommend!\",\n",
    "    \"Disappointing and boring, don't recommend it.\",\n",
    "    \"One of the best movies I've seen in a while.\",\n",
    "    \"Worst movie of the year, truly awful.\",\n",
    "    \"Excellent direction, kept me hooked till the end.\",\n",
    "    \"The characters were one-dimensional and uninteresting.\",\n",
    "    \"Heartwarming story and great acting.\",\n",
    "    \"A predictable and uninspired story.\",\n",
    "    \"Absolutely loved the characters and storyline.\",\n",
    "    \"Painfully slow pacing, almost fell asleep.\",\n",
    "    \"The soundtrack was amazing, it made the movie perfect.\",\n",
    "    \"The visuals were okay, but the story was lacking.\",\n",
    "    \"Incredible visuals and a moving story.\",\n",
    "    \"Not worth watching, save your time and money.\",\n",
    "    \"An unforgettable experience, a must-watch.\",\n",
    "    \"The dialogue was cheesy and unrealistic.\",\n",
    "    \"Superb writing and exceptional performances.\",\n",
    "    \"The performances felt forced and unnatural.\",\n",
    "    \"The pacing was perfect, not a dull moment.\",\n",
    "    \"Terrible execution of a potentially good idea.\",\n",
    "    \"Highly entertaining, had a great time watching it.\",\n",
    "    \"The editing was choppy and the scenes felt disconnected.\",\n",
    "    \"A truly inspiring and uplifting film.\",\n",
    "    \"An absolute disaster of a film, don't bother.\",\n",
    "    \"The chemistry between the characters was perfect.\",\n",
    "    \"Lackluster and completely forgettable.\",\n",
    "    \"Loved the way the story unfolded, truly captivating.\",\n",
    "    \"The movie was a mess, didn't make any sense.\",\n",
    "    \"A fantastic movie that keeps you thinking afterward.\",\n",
    "    \"Cringeworthy moments throughout the entire film.\",\n",
    "    \"Emotional, powerful, and brilliantly executed.\",\n",
    "    \"Felt like a low-budget attempt, very disappointing.\",\n",
    "    \"A feel-good movie with a strong message.\",\n",
    "    \"It tried to be deep but ended up being pretentious.\",\n",
    "    \"The plot was brilliant and kept me intrigued.\",\n",
    "    \"The movie was dull and overly predictable.\",\n",
    "    \"A fantastic story with lovable characters.\",\n",
    "    \"The action sequences were poorly executed.\",\n",
    "    \"An inspiring movie that left me feeling hopeful.\",\n",
    "    \"A confusing and disjointed narrative.\",\n",
    "    \"The humor was on point, a delightful watch.\",\n",
    "    \"The movie lacked originality and depth.\",\n",
    "    \"A cinematic gem, truly breathtaking.\",\n",
    "    \"A tedious watch with little redeeming quality.\"\n",
    "]\n",
    "\n",
    "labels = [\n",
    "    1, 0, 1, 0, 1, 0, 1, 0, 1, 0,\n",
    "    1, 0, 1, 0, 1, 0, 1, 0, 1, 0,\n",
    "    1, 0, 1, 0, 1, 0, 1, 0, 1, 0,\n",
    "    1, 0, 1, 0, 1, 0, 1, 0, 1, 0,\n",
    "    1, 0, 1, 0, 1, 0, 1, 0, 1, 0\n",
    "]"
   ]
  },
  {
   "cell_type": "code",
   "outputs": [],
   "source": [
    "# Split the data\n",
    "X_train, X_test, y_train, y_test = train_test_split(documents, labels, test_size=0.3, random_state=42)"
   ],
   "metadata": {
    "collapsed": false,
    "ExecuteTime": {
     "end_time": "2025-01-15T20:01:39.874523Z",
     "start_time": "2025-01-15T20:01:39.871651Z"
    }
   },
   "id": "4d5b34102d3a088f",
   "execution_count": 2
  },
  {
   "cell_type": "code",
   "outputs": [],
   "source": [
    "from sklearn.feature_extraction.text import CountVectorizer\n",
    "# Vectorize the data\n",
    "#vectorizer = CountVectorizer(stop_words='english', ngram_range=(1, 2))\n",
    "#X_train_vec = vectorizer.fit_transform(X_train)\n",
    "#X_test_vec = vectorizer.transform(X_test)"
   ],
   "metadata": {
    "collapsed": false,
    "ExecuteTime": {
     "end_time": "2025-01-15T20:01:39.876820Z",
     "start_time": "2025-01-15T20:01:39.875069Z"
    }
   },
   "id": "de55b6d9f5fc1d45",
   "execution_count": 3
  },
  {
   "cell_type": "code",
   "outputs": [],
   "source": [
    "from sentence_transformers import SentenceTransformer\n",
    "model = SentenceTransformer('all-MiniLM-L6-v2')\n",
    "X_train_vec = model.encode(X_train)\n",
    "X_test_vec = model.encode(X_test)"
   ],
   "metadata": {
    "collapsed": false,
    "ExecuteTime": {
     "end_time": "2025-01-15T20:01:49.058118Z",
     "start_time": "2025-01-15T20:01:39.878084Z"
    }
   },
   "id": "9f9092d04c11afa",
   "execution_count": 4
  },
  {
   "cell_type": "code",
   "outputs": [
    {
     "data": {
      "text/plain": "LogisticRegression(C=0.1, random_state=42)",
      "text/html": "<style>#sk-container-id-1 {color: black;}#sk-container-id-1 pre{padding: 0;}#sk-container-id-1 div.sk-toggleable {background-color: white;}#sk-container-id-1 label.sk-toggleable__label {cursor: pointer;display: block;width: 100%;margin-bottom: 0;padding: 0.3em;box-sizing: border-box;text-align: center;}#sk-container-id-1 label.sk-toggleable__label-arrow:before {content: \"▸\";float: left;margin-right: 0.25em;color: #696969;}#sk-container-id-1 label.sk-toggleable__label-arrow:hover:before {color: black;}#sk-container-id-1 div.sk-estimator:hover label.sk-toggleable__label-arrow:before {color: black;}#sk-container-id-1 div.sk-toggleable__content {max-height: 0;max-width: 0;overflow: hidden;text-align: left;background-color: #f0f8ff;}#sk-container-id-1 div.sk-toggleable__content pre {margin: 0.2em;color: black;border-radius: 0.25em;background-color: #f0f8ff;}#sk-container-id-1 input.sk-toggleable__control:checked~div.sk-toggleable__content {max-height: 200px;max-width: 100%;overflow: auto;}#sk-container-id-1 input.sk-toggleable__control:checked~label.sk-toggleable__label-arrow:before {content: \"▾\";}#sk-container-id-1 div.sk-estimator input.sk-toggleable__control:checked~label.sk-toggleable__label {background-color: #d4ebff;}#sk-container-id-1 div.sk-label input.sk-toggleable__control:checked~label.sk-toggleable__label {background-color: #d4ebff;}#sk-container-id-1 input.sk-hidden--visually {border: 0;clip: rect(1px 1px 1px 1px);clip: rect(1px, 1px, 1px, 1px);height: 1px;margin: -1px;overflow: hidden;padding: 0;position: absolute;width: 1px;}#sk-container-id-1 div.sk-estimator {font-family: monospace;background-color: #f0f8ff;border: 1px dotted black;border-radius: 0.25em;box-sizing: border-box;margin-bottom: 0.5em;}#sk-container-id-1 div.sk-estimator:hover {background-color: #d4ebff;}#sk-container-id-1 div.sk-parallel-item::after {content: \"\";width: 100%;border-bottom: 1px solid gray;flex-grow: 1;}#sk-container-id-1 div.sk-label:hover label.sk-toggleable__label {background-color: #d4ebff;}#sk-container-id-1 div.sk-serial::before {content: \"\";position: absolute;border-left: 1px solid gray;box-sizing: border-box;top: 0;bottom: 0;left: 50%;z-index: 0;}#sk-container-id-1 div.sk-serial {display: flex;flex-direction: column;align-items: center;background-color: white;padding-right: 0.2em;padding-left: 0.2em;position: relative;}#sk-container-id-1 div.sk-item {position: relative;z-index: 1;}#sk-container-id-1 div.sk-parallel {display: flex;align-items: stretch;justify-content: center;background-color: white;position: relative;}#sk-container-id-1 div.sk-item::before, #sk-container-id-1 div.sk-parallel-item::before {content: \"\";position: absolute;border-left: 1px solid gray;box-sizing: border-box;top: 0;bottom: 0;left: 50%;z-index: -1;}#sk-container-id-1 div.sk-parallel-item {display: flex;flex-direction: column;z-index: 1;position: relative;background-color: white;}#sk-container-id-1 div.sk-parallel-item:first-child::after {align-self: flex-end;width: 50%;}#sk-container-id-1 div.sk-parallel-item:last-child::after {align-self: flex-start;width: 50%;}#sk-container-id-1 div.sk-parallel-item:only-child::after {width: 0;}#sk-container-id-1 div.sk-dashed-wrapped {border: 1px dashed gray;margin: 0 0.4em 0.5em 0.4em;box-sizing: border-box;padding-bottom: 0.4em;background-color: white;}#sk-container-id-1 div.sk-label label {font-family: monospace;font-weight: bold;display: inline-block;line-height: 1.2em;}#sk-container-id-1 div.sk-label-container {text-align: center;}#sk-container-id-1 div.sk-container {/* jupyter's `normalize.less` sets `[hidden] { display: none; }` but bootstrap.min.css set `[hidden] { display: none !important; }` so we also need the `!important` here to be able to override the default hidden behavior on the sphinx rendered scikit-learn.org. See: https://github.com/scikit-learn/scikit-learn/issues/21755 */display: inline-block !important;position: relative;}#sk-container-id-1 div.sk-text-repr-fallback {display: none;}</style><div id=\"sk-container-id-1\" class=\"sk-top-container\"><div class=\"sk-text-repr-fallback\"><pre>LogisticRegression(C=0.1, random_state=42)</pre><b>In a Jupyter environment, please rerun this cell to show the HTML representation or trust the notebook. <br />On GitHub, the HTML representation is unable to render, please try loading this page with nbviewer.org.</b></div><div class=\"sk-container\" hidden><div class=\"sk-item\"><div class=\"sk-estimator sk-toggleable\"><input class=\"sk-toggleable__control sk-hidden--visually\" id=\"sk-estimator-id-1\" type=\"checkbox\" checked><label for=\"sk-estimator-id-1\" class=\"sk-toggleable__label sk-toggleable__label-arrow\">LogisticRegression</label><div class=\"sk-toggleable__content\"><pre>LogisticRegression(C=0.1, random_state=42)</pre></div></div></div></div></div>"
     },
     "execution_count": 5,
     "metadata": {},
     "output_type": "execute_result"
    }
   ],
   "source": [
    "# Train the classifier\n",
    "classifier = LogisticRegression(C=0.1, random_state=42)\n",
    "classifier.fit(X_train_vec, y_train)"
   ],
   "metadata": {
    "collapsed": false,
    "ExecuteTime": {
     "end_time": "2025-01-15T20:01:49.174313Z",
     "start_time": "2025-01-15T20:01:49.061726Z"
    }
   },
   "id": "3d470761b19b5092",
   "execution_count": 5
  },
  {
   "cell_type": "code",
   "outputs": [
    {
     "name": "stdout",
     "output_type": "stream",
     "text": [
      "Accuracy: 0.7333333333333333\n",
      "Classification Report:\n",
      "               precision    recall  f1-score   support\n",
      "\n",
      "           0       1.00      0.50      0.67         8\n",
      "           1       0.64      1.00      0.78         7\n",
      "\n",
      "    accuracy                           0.73        15\n",
      "   macro avg       0.82      0.75      0.72        15\n",
      "weighted avg       0.83      0.73      0.72        15\n"
     ]
    }
   ],
   "source": [
    "# Evaluate the model\n",
    "y_pred = classifier.predict(X_test_vec)\n",
    "print(\"Accuracy:\", accuracy_score(y_test, y_pred))\n",
    "print(\"Classification Report:\\n\", classification_report(y_test, y_pred, zero_division=1))"
   ],
   "metadata": {
    "collapsed": false,
    "ExecuteTime": {
     "end_time": "2025-01-15T20:01:49.189724Z",
     "start_time": "2025-01-15T20:01:49.176677Z"
    }
   },
   "id": "5cdb8c1302a8ea9a",
   "execution_count": 6
  },
  {
   "cell_type": "code",
   "outputs": [
    {
     "name": "stderr",
     "output_type": "stream",
     "text": [
      "huggingface/tokenizers: The current process just got forked, after parallelism has already been used. Disabling parallelism to avoid deadlocks...\n",
      "To disable this warning, you can either:\n",
      "\t- Avoid using `tokenizers` before the fork if possible\n",
      "\t- Explicitly set the environment variable TOKENIZERS_PARALLELISM=(true | false)\n"
     ]
    },
    {
     "name": "stdout",
     "output_type": "stream",
     "text": [
      "Collecting umap-learn\r\n",
      "  Obtaining dependency information for umap-learn from https://files.pythonhosted.org/packages/3c/8f/671c0e1f2572ba625cbcc1faeba9435e00330c3d6962858711445cf1e817/umap_learn-0.5.7-py3-none-any.whl.metadata\r\n",
      "  Downloading umap_learn-0.5.7-py3-none-any.whl.metadata (21 kB)\r\n",
      "Requirement already satisfied: matplotlib in /Users/grembek/anaconda3/lib/python3.11/site-packages (3.7.2)\r\n",
      "Requirement already satisfied: numpy>=1.17 in /Users/grembek/anaconda3/lib/python3.11/site-packages (from umap-learn) (1.24.0)\r\n",
      "Requirement already satisfied: scipy>=1.3.1 in /Users/grembek/anaconda3/lib/python3.11/site-packages (from umap-learn) (1.11.1)\r\n",
      "Requirement already satisfied: scikit-learn>=0.22 in /Users/grembek/anaconda3/lib/python3.11/site-packages (from umap-learn) (1.3.0)\r\n",
      "Requirement already satisfied: numba>=0.51.2 in /Users/grembek/anaconda3/lib/python3.11/site-packages (from umap-learn) (0.57.1)\r\n",
      "Collecting pynndescent>=0.5 (from umap-learn)\r\n",
      "  Obtaining dependency information for pynndescent>=0.5 from https://files.pythonhosted.org/packages/d2/53/d23a97e0a2c690d40b165d1062e2c4ccc796be458a1ce59f6ba030434663/pynndescent-0.5.13-py3-none-any.whl.metadata\r\n",
      "  Downloading pynndescent-0.5.13-py3-none-any.whl.metadata (6.8 kB)\r\n",
      "Requirement already satisfied: tqdm in /Users/grembek/anaconda3/lib/python3.11/site-packages (from umap-learn) (4.65.0)\r\n",
      "Requirement already satisfied: contourpy>=1.0.1 in /Users/grembek/anaconda3/lib/python3.11/site-packages (from matplotlib) (1.0.5)\r\n",
      "Requirement already satisfied: cycler>=0.10 in /Users/grembek/anaconda3/lib/python3.11/site-packages (from matplotlib) (0.11.0)\r\n",
      "Requirement already satisfied: fonttools>=4.22.0 in /Users/grembek/anaconda3/lib/python3.11/site-packages (from matplotlib) (4.25.0)\r\n",
      "Requirement already satisfied: kiwisolver>=1.0.1 in /Users/grembek/anaconda3/lib/python3.11/site-packages (from matplotlib) (1.4.4)\r\n",
      "Requirement already satisfied: packaging>=20.0 in /Users/grembek/anaconda3/lib/python3.11/site-packages (from matplotlib) (23.1)\r\n",
      "Requirement already satisfied: pillow>=6.2.0 in /Users/grembek/anaconda3/lib/python3.11/site-packages (from matplotlib) (10.2.0)\r\n",
      "Requirement already satisfied: pyparsing<3.1,>=2.3.1 in /Users/grembek/anaconda3/lib/python3.11/site-packages (from matplotlib) (3.0.9)\r\n",
      "Requirement already satisfied: python-dateutil>=2.7 in /Users/grembek/anaconda3/lib/python3.11/site-packages (from matplotlib) (2.8.2)\r\n",
      "Requirement already satisfied: llvmlite<0.41,>=0.40.0dev0 in /Users/grembek/anaconda3/lib/python3.11/site-packages (from numba>=0.51.2->umap-learn) (0.40.0)\r\n",
      "Requirement already satisfied: joblib>=0.11 in /Users/grembek/anaconda3/lib/python3.11/site-packages (from pynndescent>=0.5->umap-learn) (1.2.0)\r\n",
      "Requirement already satisfied: six>=1.5 in /Users/grembek/anaconda3/lib/python3.11/site-packages (from python-dateutil>=2.7->matplotlib) (1.16.0)\r\n",
      "Requirement already satisfied: threadpoolctl>=2.0.0 in /Users/grembek/anaconda3/lib/python3.11/site-packages (from scikit-learn>=0.22->umap-learn) (2.2.0)\r\n",
      "Downloading umap_learn-0.5.7-py3-none-any.whl (88 kB)\r\n",
      "\u001B[2K   \u001B[90m━━━━━━━━━━━━━━━━━━━━━━━━━━━━━━━━━━━━━━━━\u001B[0m \u001B[32m88.8/88.8 kB\u001B[0m \u001B[31m893.0 kB/s\u001B[0m eta \u001B[36m0:00:00\u001B[0m\u001B[36m0:00:01\u001B[0m\r\n",
      "\u001B[?25hDownloading pynndescent-0.5.13-py3-none-any.whl (56 kB)\r\n",
      "\u001B[2K   \u001B[90m━━━━━━━━━━━━━━━━━━━━━━━━━━━━━━━━━━━━━━━━\u001B[0m \u001B[32m56.9/56.9 kB\u001B[0m \u001B[31m2.5 MB/s\u001B[0m eta \u001B[36m0:00:00\u001B[0m\r\n",
      "\u001B[?25hInstalling collected packages: pynndescent, umap-learn\r\n",
      "Successfully installed pynndescent-0.5.13 umap-learn-0.5.7\r\n",
      "Note: you may need to restart the kernel to use updated packages.\n"
     ]
    }
   ],
   "source": [
    "pip install umap-learn matplotlib"
   ],
   "metadata": {
    "collapsed": false,
    "ExecuteTime": {
     "end_time": "2025-01-15T20:07:32.631301Z",
     "start_time": "2025-01-15T20:07:28.539065Z"
    }
   },
   "id": "4b90656573ec8b0d",
   "execution_count": 7
  },
  {
   "cell_type": "code",
   "outputs": [
    {
     "data": {
      "text/plain": "<Figure size 1000x700 with 1 Axes>",
      "image/png": "[encoded data removed]"
     },
     "metadata": {},
     "output_type": "display_data"
    }
   ],
   "source": [
    "import matplotlib.pyplot as plt\n",
    "import umap\n",
    "from sentence_transformers import SentenceTransformer\n",
    "\n",
    "# Load the pre-trained embedding model\n",
    "model = SentenceTransformer('all-MiniLM-L6-v2')\n",
    "\n",
    "# Dataset\n",
    "documents = [\n",
    "    \"This movie is fantastic, I loved every moment.\",\n",
    "    \"Absolutely terrible, a complete waste of time.\",\n",
    "    \"Amazing acting, truly a masterpiece.\",\n",
    "    \"The acting was poor, and the plot made no sense.\",\n",
    "    \"The plot was engaging and the visuals were stunning.\",\n",
    "    \"Horrible direction, couldn't sit through the entire movie.\",\n",
    "    \"Superb writing and exceptional performances.\",\n",
    "    \"Cringeworthy moments throughout the entire film.\",\n",
    "    \"Emotional, powerful, and brilliantly executed.\",\n",
    "    \"A cinematic gem, truly breathtaking.\"\n",
    "]\n",
    "labels = [1, 0, 1, 0, 1, 0, 1, 0, 1, 1]  # 1: Positive, 0: Negative\n",
    "\n",
    "# Generate embeddings\n",
    "embeddings = model.encode(documents)\n",
    "\n",
    "# Reduce dimensions to 2D using UMAP\n",
    "reducer = umap.UMAP(n_neighbors=5, min_dist=0.3, metric='cosine')\n",
    "embeddings_2d = reducer.fit_transform(embeddings)\n",
    "\n",
    "# Plot the embeddings\n",
    "plt.figure(figsize=(10, 7))\n",
    "colors = ['red' if label == 0 else 'green' for label in labels]\n",
    "plt.scatter(embeddings_2d[:, 0], embeddings_2d[:, 1], c=colors, s=100, alpha=0.7)\n",
    "for i, doc in enumerate(documents):\n",
    "    plt.annotate(f\"{i+1}\", (embeddings_2d[i, 0], embeddings_2d[i, 1]), fontsize=10, alpha=0.8)\n",
    "\n",
    "plt.title(\"2D Visualization of Sentence Embeddings\")\n",
    "plt.xlabel(\"Dimension 1\")\n",
    "plt.ylabel(\"Dimension 2\")\n",
    "plt.grid(True)\n",
    "plt.show()\n"
   ],
   "metadata": {
    "collapsed": false,
    "ExecuteTime": {
     "end_time": "2025-01-15T20:09:08.654307Z",
     "start_time": "2025-01-15T20:08:56.767558Z"
    }
   },
   "id": "664025afe3332e4d",
   "execution_count": 8
  },
  {
   "cell_type": "code",
   "outputs": [],
   "source": [],
   "metadata": {
    "collapsed": false
   },
   "id": "f8058e933e85a590"
  }
 ],
 "metadata": {
  "kernelspec": {
   "display_name": "Python 3",
   "language": "python",
   "name": "python3"
  },
  "language_info": {
   "codemirror_mode": {
    "name": "ipython",
    "version": 2
   },
   "file_extension": ".py",
   "mimetype": "text/x-python",
   "name": "python",
   "nbconvert_exporter": "python",
   "pygments_lexer": "ipython2",
   "version": "2.7.6"
  }
 },
 "nbformat": 4,
 "nbformat_minor": 5
}
