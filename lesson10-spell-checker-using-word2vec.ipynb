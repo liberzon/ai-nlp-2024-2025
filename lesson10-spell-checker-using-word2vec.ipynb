{
 "cells": [
  {
   "metadata": {
    "ExecuteTime": {
     "end_time": "2025-01-09T15:07:33.294495Z",
     "start_time": "2025-01-09T15:03:05.650283Z"
    }
   },
   "cell_type": "code",
   "source": [
    "import kagglehub\n",
    "\n",
    "# Download latest version\n",
    "path = kagglehub.dataset_download(\"leadbest/googlenewsvectorsnegative300\")\n",
    "\n",
    "print(\"Path to dataset files:\", path)"
   ],
   "outputs": [
    {
     "name": "stdout",
     "output_type": "stream",
     "text": [
      "Downloading from https://www.kaggle.com/api/v1/datasets/download/leadbest/googlenewsvectorsnegative300?dataset_version_number=2...\n"
     ]
    },
    {
     "name": "stderr",
     "output_type": "stream",
     "text": [
      "100%|██████████| 3.17G/3.17G [04:15<00:00, 13.3MB/s]"
     ]
    },
    {
     "name": "stdout",
     "output_type": "stream",
     "text": [
      "Extracting files...\n"
     ]
    },
    {
     "name": "stderr",
     "output_type": "stream",
     "text": [
      "\n"
     ]
    },
    {
     "name": "stdout",
     "output_type": "stream",
     "text": [
      "Path to dataset files: /Users/yairl/.cache/kagglehub/datasets/leadbest/googlenewsvectorsnegative300/versions/2\n"
     ]
    }
   ],
   "execution_count": 2
  },
  {
   "cell_type": "code",
   "metadata": {
    "_cell_guid": "36d0c3a7-e625-44d9-6f71-ae8df520a1cb",
    "ExecuteTime": {
     "end_time": "2025-01-09T15:08:22.598750Z",
     "start_time": "2025-01-09T15:08:07.258059Z"
    }
   },
   "source": [
    "import gensim\n",
    "model = gensim.models.KeyedVectors.load_word2vec_format('/Users/yairl/.cache/kagglehub/datasets/leadbest/googlenewsvectorsnegative300/versions/2/GoogleNews-vectors-negative300.bin.gz', binary=True)"
   ],
   "outputs": [],
   "execution_count": 3
  },
  {
   "cell_type": "code",
   "source": [
    "words = model.index_to_key\n",
    "\n",
    "w_rank = {}\n",
    "for i,word in enumerate(words):\n",
    "    w_rank[word] = i\n",
    "\n",
    "WORDS = w_rank"
   ],
   "metadata": {
    "collapsed": false,
    "ExecuteTime": {
     "end_time": "2025-01-09T15:08:27.256448Z",
     "start_time": "2025-01-09T15:08:26.345752Z"
    }
   },
   "outputs": [],
   "execution_count": 4
  },
  {
   "cell_type": "code",
   "execution_count": 32,
   "outputs": [
    {
     "data": {
      "text/plain": "3000000"
     },
     "execution_count": 32,
     "metadata": {},
     "output_type": "execute_result"
    }
   ],
   "source": [
    "len(WORDS)"
   ],
   "metadata": {
    "collapsed": false
   }
  },
  {
   "cell_type": "code",
   "execution_count": 33,
   "metadata": {
    "_cell_guid": "c1a89822-cb6e-393d-ffaa-af0604ea68dc"
   },
   "outputs": [],
   "source": [
    "import re"
   ]
  },
  {
   "cell_type": "code",
   "execution_count": 34,
   "outputs": [],
   "source": [
    "def words(text):\n",
    "    return re.findall(r'\\w+', text.lower())"
   ],
   "metadata": {
    "collapsed": false
   }
  },
  {
   "cell_type": "code",
   "source": [
    "# Probability of `word`.\n",
    "def P(word):\n",
    "    return -WORDS.get(word, 0)"
   ],
   "metadata": {
    "collapsed": false,
    "ExecuteTime": {
     "end_time": "2025-01-09T15:10:14.864315Z",
     "start_time": "2025-01-09T15:10:14.862369Z"
    }
   },
   "outputs": [],
   "execution_count": 10
  },
  {
   "metadata": {
    "ExecuteTime": {
     "end_time": "2025-01-09T15:10:39.562879Z",
     "start_time": "2025-01-09T15:10:39.560216Z"
    }
   },
   "cell_type": "code",
   "source": "P('naa')",
   "outputs": [
    {
     "data": {
      "text/plain": [
       "-394299"
      ]
     },
     "execution_count": 12,
     "metadata": {},
     "output_type": "execute_result"
    }
   ],
   "execution_count": 12
  },
  {
   "cell_type": "code",
   "source": [
    "# Generate possible spelling corrections for word.\n",
    "def candidates(word):\n",
    "    return (known([word]) or known(edits1(word)) or known(edits2(word)) or [word])"
   ],
   "metadata": {
    "collapsed": false,
    "ExecuteTime": {
     "end_time": "2025-01-09T15:11:07.790802Z",
     "start_time": "2025-01-09T15:11:07.788983Z"
    }
   },
   "outputs": [],
   "execution_count": 14
  },
  {
   "cell_type": "code",
   "source": [
    "# Most probable spelling correction for word.\n",
    "def correction(word):\n",
    "    return max(candidates(word), key=P)"
   ],
   "metadata": {
    "collapsed": false,
    "ExecuteTime": {
     "end_time": "2025-01-09T15:11:55.089008Z",
     "start_time": "2025-01-09T15:11:55.086664Z"
    }
   },
   "outputs": [],
   "execution_count": 23
  },
  {
   "cell_type": "code",
   "source": [
    "# The subset of `words` that appear in the dictionary of WORDS.\n",
    "def known(words):\n",
    "    return set(w for w in words if w in WORDS)"
   ],
   "metadata": {
    "collapsed": false,
    "ExecuteTime": {
     "end_time": "2025-01-09T15:11:25.549255Z",
     "start_time": "2025-01-09T15:11:25.547406Z"
    }
   },
   "outputs": [],
   "execution_count": 16
  },
  {
   "cell_type": "code",
   "source": [
    "# All edits that are one edit away from `word`.\n",
    "def edits1(word):\n",
    "    letters    = 'abcdefghijklmnopqrstuvwxyz'\n",
    "    splits     = [(word[:i], word[i:])    for i in range(len(word) + 1)]\n",
    "    deletes    = [L + R[1:]               for L, R in splits if R]\n",
    "    transposes = [L + R[1] + R[0] + R[2:] for L, R in splits if len(R)>1]\n",
    "    replaces   = [L + c + R[1:]           for L, R in splits if R for c in letters]\n",
    "    inserts    = [L + c + R               for L, R in splits for c in letters]\n",
    "    return set(deletes + transposes + replaces + inserts)"
   ],
   "metadata": {
    "collapsed": false,
    "ExecuteTime": {
     "end_time": "2025-01-09T15:11:45.858735Z",
     "start_time": "2025-01-09T15:11:45.854030Z"
    }
   },
   "outputs": [],
   "execution_count": 20
  },
  {
   "cell_type": "code",
   "source": [
    "## All edits that are two edits away from `word`.\n",
    "def edits2(word):\n",
    "    return (e2 for e1 in edits1(word) for e2 in edits1(e1))"
   ],
   "metadata": {
    "collapsed": false,
    "ExecuteTime": {
     "end_time": "2025-01-09T15:11:48.543002Z",
     "start_time": "2025-01-09T15:11:48.541151Z"
    }
   },
   "outputs": [],
   "execution_count": 21
  },
  {
   "metadata": {
    "ExecuteTime": {
     "end_time": "2025-01-09T15:13:56.921072Z",
     "start_time": "2025-01-09T15:13:56.918524Z"
    }
   },
   "cell_type": "code",
   "source": "candidates('noq')",
   "outputs": [
    {
     "data": {
      "text/plain": [
       "{'coq',\n",
       " 'no',\n",
       " 'noa',\n",
       " 'nob',\n",
       " 'noc',\n",
       " 'nod',\n",
       " 'noe',\n",
       " 'nof',\n",
       " 'nog',\n",
       " 'noh',\n",
       " 'noi',\n",
       " 'nok',\n",
       " 'nol',\n",
       " 'nom',\n",
       " 'non',\n",
       " 'noo',\n",
       " 'nop',\n",
       " 'nor',\n",
       " 'nos',\n",
       " 'not',\n",
       " 'nou',\n",
       " 'nov',\n",
       " 'now',\n",
       " 'nox',\n",
       " 'noy',\n",
       " 'nq',\n",
       " 'qoq'}"
      ]
     },
     "execution_count": 30,
     "metadata": {},
     "output_type": "execute_result"
    }
   ],
   "execution_count": 30
  },
  {
   "metadata": {
    "ExecuteTime": {
     "end_time": "2025-01-09T15:13:42.986608Z",
     "start_time": "2025-01-09T15:13:42.984061Z"
    }
   },
   "cell_type": "code",
   "source": "correction('noq')",
   "outputs": [
    {
     "data": {
      "text/plain": [
       "'not'"
      ]
     },
     "execution_count": 29,
     "metadata": {},
     "output_type": "execute_result"
    }
   ],
   "execution_count": 29
  },
  {
   "cell_type": "code",
   "metadata": {
    "_cell_guid": "d2c822e9-8aea-9b4d-1e87-538cb8dab4f2",
    "ExecuteTime": {
     "end_time": "2025-01-09T15:14:19.631971Z",
     "start_time": "2025-01-09T15:14:19.628198Z"
    }
   },
   "source": [
    "correction('quikly')"
   ],
   "outputs": [
    {
     "data": {
      "text/plain": [
       "'quickly'"
      ]
     },
     "execution_count": 31,
     "metadata": {},
     "output_type": "execute_result"
    }
   ],
   "execution_count": 31
  },
  {
   "cell_type": "code",
   "execution_count": 27,
   "outputs": [
    {
     "data": {
      "text/plain": "'israel'"
     },
     "execution_count": 27,
     "metadata": {},
     "output_type": "execute_result"
    }
   ],
   "source": [
    "correction('israil')"
   ],
   "metadata": {
    "collapsed": false
   }
  },
  {
   "cell_type": "code",
   "execution_count": 28,
   "outputs": [
    {
     "data": {
      "text/plain": "'neighbor'"
     },
     "execution_count": 28,
     "metadata": {},
     "output_type": "execute_result"
    }
   ],
   "source": [
    "correction('neighbour')"
   ],
   "metadata": {
    "collapsed": false
   }
  }
 ],
 "metadata": {
  "_change_revision": 7,
  "_is_fork": false,
  "kernelspec": {
   "display_name": "Python 3",
   "language": "python",
   "name": "python3"
  },
  "language_info": {
   "codemirror_mode": {
    "name": "ipython",
    "version": 3
   },
   "file_extension": ".py",
   "mimetype": "text/x-python",
   "name": "python",
   "nbconvert_exporter": "python",
   "pygments_lexer": "ipython3",
   "version": "3.6.0"
  }
 },
 "nbformat": 4,
 "nbformat_minor": 0
}
