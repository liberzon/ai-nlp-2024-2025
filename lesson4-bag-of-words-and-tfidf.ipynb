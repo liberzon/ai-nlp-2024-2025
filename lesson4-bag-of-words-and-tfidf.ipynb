{
 "cells": [
  {
   "cell_type": "markdown",
   "source": [
    "# Setup"
   ],
   "metadata": {
    "collapsed": false
   }
  },
  {
   "cell_type": "code",
   "metadata": {
    "collapsed": true,
    "ExecuteTime": {
     "end_time": "2024-11-27T21:15:00.779176Z",
     "start_time": "2024-11-27T21:15:00.774271Z"
    }
   },
   "source": [
    "import pandas as pd\n",
    "from sortedcontainers import SortedSet"
   ],
   "outputs": [],
   "execution_count": 4
  },
  {
   "cell_type": "code",
   "source": [
    "doc1 = 'This pasta is very tasty and affordable.'\n",
    "doc2 = 'This pasta is not tasty and is affordable.'\n",
    "doc3 = 'This pasta is delicious and cheap.'\n",
    "doc4 = 'Pasta is tasty and pasta tastes good.'"
   ],
   "metadata": {
    "collapsed": false,
    "ExecuteTime": {
     "end_time": "2024-11-27T21:15:00.790284Z",
     "start_time": "2024-11-27T21:15:00.788231Z"
    }
   },
   "outputs": [],
   "execution_count": 5
  },
  {
   "cell_type": "markdown",
   "source": [
    "## Tokenization"
   ],
   "metadata": {
    "collapsed": false
   }
  },
  {
   "cell_type": "code",
   "source": [
    "# This line defines a regular expression pattern tokenizer_re. The pattern [^a-zA-Z0-9] is used to match any character that is not a lowercase letter (a-z), an uppercase letter (A-Z), or a digit (0-9). The r before the string indicates a raw string in Python, which tells Python to interpret the backslashes in the string as literal characters and not as escape characters.\n",
    "tokenizer_re = r\"[^a-zA-Z0-9]\""
   ],
   "metadata": {
    "collapsed": false,
    "ExecuteTime": {
     "end_time": "2024-11-27T21:15:00.801564Z",
     "start_time": "2024-11-27T21:15:00.799903Z"
    }
   },
   "outputs": [],
   "execution_count": 6
  },
  {
   "cell_type": "code",
   "source": [
    "# Split the sentence to a list of the words contained in the sentence (split by spaces between the words)\n",
    "\n",
    "# This line imports Python's built-in re module, which provides support for regular expressions.\n",
    "import re\n",
    "\n",
    "def tokenize(doc: str) -> list():\n",
    "    # שלב 1: נורמליזציה לאותיות קטנות\n",
    "    lowercased = doc.lower()\n",
    "\n",
    "    # שלב 2: החלפת תווים לא רצויים ברווחים\n",
    "    cleaned = re.sub(tokenizer_re, \" \", lowercased)\n",
    "\n",
    "    # שלב 3: פיצול למילים (tokens)\n",
    "    tokens = cleaned.split()\n",
    "\n",
    "    # החזרת הרשימה הסופית של המילים\n",
    "    return tokens"
   ],
   "metadata": {
    "collapsed": false,
    "ExecuteTime": {
     "end_time": "2024-11-27T21:15:00.808548Z",
     "start_time": "2024-11-27T21:15:00.806296Z"
    }
   },
   "outputs": [],
   "execution_count": 7
  },
  {
   "cell_type": "code",
   "source": [
    "# For each document greate the tokenized representation of it\n",
    "l_doc1 = tokenize(doc1)\n",
    "l_doc2 = tokenize(doc2)\n",
    "l_doc3 = tokenize(doc3)\n",
    "l_doc4 = tokenize(doc4)"
   ],
   "metadata": {
    "collapsed": false,
    "ExecuteTime": {
     "end_time": "2024-11-27T21:15:00.819564Z",
     "start_time": "2024-11-27T21:15:00.817533Z"
    }
   },
   "outputs": [],
   "execution_count": 8
  },
  {
   "cell_type": "code",
   "source": [
    "# Print the tokenization of the first document\n",
    "l_doc1"
   ],
   "metadata": {
    "collapsed": false,
    "ExecuteTime": {
     "end_time": "2024-11-27T21:15:00.831277Z",
     "start_time": "2024-11-27T21:15:00.828001Z"
    }
   },
   "outputs": [
    {
     "data": {
      "text/plain": [
       "['this', 'pasta', 'is', 'very', 'tasty', 'and', 'affordable']"
      ]
     },
     "execution_count": 9,
     "metadata": {},
     "output_type": "execute_result"
    }
   ],
   "execution_count": 9
  },
  {
   "cell_type": "markdown",
   "source": [
    "# BOW"
   ],
   "metadata": {
    "collapsed": false
   }
  },
  {
   "cell_type": "markdown",
   "source": [
    "## Feature Extraction"
   ],
   "metadata": {
    "collapsed": false
   }
  },
  {
   "cell_type": "code",
   "source": [
    "# --- Create a Set of unique words per sentence ---\n",
    "# SortedSet is a data structure that maintains unique elements in sorted order.\n",
    "wordset = SortedSet()\n",
    "\n",
    "# Each of these lines adds the words from a list (like l_doc1, l_doc2, etc.) to wordset. Since wordset is a set, it will only keep unique words and discard any duplicates.\n",
    "wordset.update(l_doc1)\n",
    "wordset.update(l_doc2)\n",
    "wordset.update(l_doc3)\n",
    "wordset.update(l_doc4)"
   ],
   "metadata": {
    "collapsed": false,
    "ExecuteTime": {
     "end_time": "2024-11-27T21:15:00.857069Z",
     "start_time": "2024-11-27T21:15:00.854286Z"
    }
   },
   "outputs": [
    {
     "data": {
      "text/plain": [
       "SortedSet(['affordable', 'and', 'cheap', 'delicious', 'good', 'is', 'not', 'pasta', 'tastes', 'tasty', 'this', 'very'])"
      ]
     },
     "execution_count": 10,
     "metadata": {},
     "output_type": "execute_result"
    }
   ],
   "execution_count": 10
  },
  {
   "cell_type": "code",
   "source": [
    "# --- Bag of Words Calculation ---\n",
    "# This function takes two arguments: wordset, a set of unique words, and l_doc, a list of words\n",
    "def calculate_bow(wordset, l_doc):\n",
    "    bow_dict = dict.fromkeys(wordset, 0) # creates a dictionary\n",
    "    for word in wordset: # iterates through each word\n",
    "        bow_dict[word] = l_doc.count(word) # For each word, this line counts its occurrences in l_doc and updates the corresponding entry in tf_diz\n",
    "    return bow_dict # The function returns the tf_diz dictionary, which now maps each word to its frequency in l_doc"
   ],
   "metadata": {
    "collapsed": false,
    "ExecuteTime": {
     "end_time": "2024-11-27T21:15:00.877224Z",
     "start_time": "2024-11-27T21:15:00.874932Z"
    }
   },
   "outputs": [],
   "execution_count": 11
  },
  {
   "metadata": {
    "ExecuteTime": {
     "end_time": "2024-11-27T21:15:00.899066Z",
     "start_time": "2024-11-27T21:15:00.889898Z"
    }
   },
   "cell_type": "code",
   "source": [
    "import unittest\n",
    "\n",
    "class TestCalculateBOW(unittest.TestCase):\n",
    "    def test_normal_case(self):\n",
    "        wordset = {\"cat\", \"dog\", \"fish\"}\n",
    "        l_doc = [\"cat\", \"dog\", \"dog\", \"fish\", \"cat\", \"cat\"]\n",
    "        expected = {\"cat\": 3, \"dog\": 2, \"fish\": 1}\n",
    "        result = calculate_bow(wordset, l_doc)\n",
    "        self.assertEqual(result, expected)\n",
    "\n",
    "    def test_word_not_in_set(self):\n",
    "        wordset = {\"cat\", \"dog\"}\n",
    "        l_doc = [\"cat\", \"dog\", \"mouse\"]\n",
    "        expected = {\"cat\": 1, \"dog\": 1}\n",
    "        result = calculate_bow(wordset, l_doc)\n",
    "        self.assertEqual(result, expected)\n",
    "\n",
    "    def test_empty_wordset(self):\n",
    "        wordset = set()\n",
    "        l_doc = [\"cat\", \"dog\", \"cat\"]\n",
    "        expected = {}\n",
    "        result = calculate_bow(wordset, l_doc)\n",
    "        self.assertEqual(result, expected)\n",
    "\n",
    "    def test_empty_l_doc(self):\n",
    "        wordset = {\"cat\", \"dog\", \"fish\"}\n",
    "        l_doc = []\n",
    "        expected = {\"cat\": 0, \"dog\": 0, \"fish\": 0}\n",
    "        result = calculate_bow(wordset, l_doc)\n",
    "        self.assertEqual(result, expected)\n",
    "\n",
    "    def test_no_overlap(self):\n",
    "        wordset = {\"cat\", \"dog\", \"fish\"}\n",
    "        l_doc = [\"bird\", \"elephant\", \"tiger\"]\n",
    "        expected = {\"cat\": 0, \"dog\": 0, \"fish\": 0}\n",
    "        result = calculate_bow(wordset, l_doc)\n",
    "        self.assertEqual(result, expected)\n",
    "\n",
    "    def test_case_sensitivity(self):\n",
    "        wordset = {\"cat\", \"dog\"}\n",
    "        l_doc = [\"Cat\", \"dog\", \"DOG\", \"cat\"]\n",
    "        expected = {\"cat\": 1, \"dog\": 1}  # 'Cat' and 'DOG' differ in case\n",
    "        result = calculate_bow(wordset, l_doc)\n",
    "        self.assertEqual(result, expected)\n",
    "\n",
    "    def test_duplicate_words_in_wordset(self):\n",
    "        wordset = {\"cat\", \"dog\", \"cat\"}  # Sets remove duplicate 'cat'\n",
    "        l_doc = [\"cat\", \"dog\", \"dog\"]\n",
    "        expected = {\"cat\": 1, \"dog\": 2}\n",
    "        result = calculate_bow(wordset, l_doc)\n",
    "        self.assertEqual(result, expected)"
   ],
   "outputs": [],
   "execution_count": 12
  },
  {
   "metadata": {
    "ExecuteTime": {
     "end_time": "2024-11-27T21:15:00.912814Z",
     "start_time": "2024-11-27T21:15:00.905954Z"
    }
   },
   "cell_type": "code",
   "source": [
    "suite = unittest.TestLoader().loadTestsFromTestCase(TestCalculateBOW)\n",
    "runner = unittest.TextTestRunner(verbosity=2)\n",
    "runner.run(suite)"
   ],
   "outputs": [
    {
     "name": "stderr",
     "output_type": "stream",
     "text": [
      "test_case_sensitivity (__main__.TestCalculateBOW.test_case_sensitivity) ... ok\n",
      "test_duplicate_words_in_wordset (__main__.TestCalculateBOW.test_duplicate_words_in_wordset) ... ok\n",
      "test_empty_l_doc (__main__.TestCalculateBOW.test_empty_l_doc) ... ok\n",
      "test_empty_wordset (__main__.TestCalculateBOW.test_empty_wordset) ... ok\n",
      "test_no_overlap (__main__.TestCalculateBOW.test_no_overlap) ... ok\n",
      "test_normal_case (__main__.TestCalculateBOW.test_normal_case) ... ok\n",
      "test_word_not_in_set (__main__.TestCalculateBOW.test_word_not_in_set) ... ok\n",
      "\n",
      "----------------------------------------------------------------------\n",
      "Ran 7 tests in 0.004s\n",
      "\n",
      "OK\n"
     ]
    },
    {
     "data": {
      "text/plain": [
       "<unittest.runner.TextTestResult run=7 errors=0 failures=0>"
      ]
     },
     "execution_count": 13,
     "metadata": {},
     "output_type": "execute_result"
    }
   ],
   "execution_count": 13
  },
  {
   "cell_type": "code",
   "source": [
    "# --- Calculating Bag of Words for Documents ---\n",
    "# Each call generates a dictionary (e.g., bow1, bow2) where keys are words from wordset and values are their frequencies in the respective document.\n",
    "bow1 = calculate_bow(wordset, l_doc1)\n",
    "bow2 = calculate_bow(wordset, l_doc2)\n",
    "bow3 = calculate_bow(wordset, l_doc3)\n",
    "bow4 = calculate_bow(wordset, l_doc4)"
   ],
   "metadata": {
    "collapsed": false,
    "ExecuteTime": {
     "end_time": "2024-11-27T21:15:00.948190Z",
     "start_time": "2024-11-27T21:15:00.946315Z"
    }
   },
   "outputs": [],
   "execution_count": 14
  },
  {
   "cell_type": "markdown",
   "source": [
    "# BOW Calculation (pandas)"
   ],
   "metadata": {
    "collapsed": false
   }
  },
  {
   "cell_type": "code",
   "source": [
    "# --- Creating a DataFrame from BoW Data ---\n",
    "df_bow = pd.DataFrame([bow1, bow2, bow3, bow4])\n",
    "df_bow.head()"
   ],
   "metadata": {
    "collapsed": false,
    "ExecuteTime": {
     "end_time": "2024-11-27T21:15:00.968332Z",
     "start_time": "2024-11-27T21:15:00.961734Z"
    }
   },
   "outputs": [
    {
     "data": {
      "text/plain": [
       "   affordable  and  cheap  delicious  good  is  not  pasta  tastes  tasty  \\\n",
       "0           1    1      0          0     0   1    0      1       0      1   \n",
       "1           1    1      0          0     0   2    1      1       0      1   \n",
       "2           0    1      1          1     0   1    0      1       0      0   \n",
       "3           0    1      0          0     1   1    0      2       1      1   \n",
       "\n",
       "   this  very  \n",
       "0     1     1  \n",
       "1     1     0  \n",
       "2     1     0  \n",
       "3     0     0  "
      ],
      "text/html": [
       "<div>\n",
       "<style scoped>\n",
       "    .dataframe tbody tr th:only-of-type {\n",
       "        vertical-align: middle;\n",
       "    }\n",
       "\n",
       "    .dataframe tbody tr th {\n",
       "        vertical-align: top;\n",
       "    }\n",
       "\n",
       "    .dataframe thead th {\n",
       "        text-align: right;\n",
       "    }\n",
       "</style>\n",
       "<table border=\"1\" class=\"dataframe\">\n",
       "  <thead>\n",
       "    <tr style=\"text-align: right;\">\n",
       "      <th></th>\n",
       "      <th>affordable</th>\n",
       "      <th>and</th>\n",
       "      <th>cheap</th>\n",
       "      <th>delicious</th>\n",
       "      <th>good</th>\n",
       "      <th>is</th>\n",
       "      <th>not</th>\n",
       "      <th>pasta</th>\n",
       "      <th>tastes</th>\n",
       "      <th>tasty</th>\n",
       "      <th>this</th>\n",
       "      <th>very</th>\n",
       "    </tr>\n",
       "  </thead>\n",
       "  <tbody>\n",
       "    <tr>\n",
       "      <th>0</th>\n",
       "      <td>1</td>\n",
       "      <td>1</td>\n",
       "      <td>0</td>\n",
       "      <td>0</td>\n",
       "      <td>0</td>\n",
       "      <td>1</td>\n",
       "      <td>0</td>\n",
       "      <td>1</td>\n",
       "      <td>0</td>\n",
       "      <td>1</td>\n",
       "      <td>1</td>\n",
       "      <td>1</td>\n",
       "    </tr>\n",
       "    <tr>\n",
       "      <th>1</th>\n",
       "      <td>1</td>\n",
       "      <td>1</td>\n",
       "      <td>0</td>\n",
       "      <td>0</td>\n",
       "      <td>0</td>\n",
       "      <td>2</td>\n",
       "      <td>1</td>\n",
       "      <td>1</td>\n",
       "      <td>0</td>\n",
       "      <td>1</td>\n",
       "      <td>1</td>\n",
       "      <td>0</td>\n",
       "    </tr>\n",
       "    <tr>\n",
       "      <th>2</th>\n",
       "      <td>0</td>\n",
       "      <td>1</td>\n",
       "      <td>1</td>\n",
       "      <td>1</td>\n",
       "      <td>0</td>\n",
       "      <td>1</td>\n",
       "      <td>0</td>\n",
       "      <td>1</td>\n",
       "      <td>0</td>\n",
       "      <td>0</td>\n",
       "      <td>1</td>\n",
       "      <td>0</td>\n",
       "    </tr>\n",
       "    <tr>\n",
       "      <th>3</th>\n",
       "      <td>0</td>\n",
       "      <td>1</td>\n",
       "      <td>0</td>\n",
       "      <td>0</td>\n",
       "      <td>1</td>\n",
       "      <td>1</td>\n",
       "      <td>0</td>\n",
       "      <td>2</td>\n",
       "      <td>1</td>\n",
       "      <td>1</td>\n",
       "      <td>0</td>\n",
       "      <td>0</td>\n",
       "    </tr>\n",
       "  </tbody>\n",
       "</table>\n",
       "</div>"
      ]
     },
     "execution_count": 15,
     "metadata": {},
     "output_type": "execute_result"
    }
   ],
   "execution_count": 15
  },
  {
   "cell_type": "markdown",
   "source": [
    "# BOW Calculation (sklearn)"
   ],
   "metadata": {
    "collapsed": false
   }
  },
  {
   "cell_type": "code",
   "source": [
    "# --- Converting wordset to CountVectorizer datatype ---\n",
    "# CountVectorizer is a popular tool in text analysis used to convert a collection of text documents into a matrix of token counts.\n",
    "from sklearn.feature_extraction.text import CountVectorizer\n",
    "\n",
    "# Converting wordset to CountVectorizer datatype\n",
    "vectorizer = CountVectorizer(vocabulary=wordset)\n",
    "print(vectorizer.get_feature_names_out())"
   ],
   "metadata": {
    "collapsed": false,
    "ExecuteTime": {
     "end_time": "2024-11-27T21:15:01.046597Z",
     "start_time": "2024-11-27T21:15:01.043698Z"
    }
   },
   "outputs": [
    {
     "name": "stdout",
     "output_type": "stream",
     "text": [
      "['affordable' 'and' 'cheap' 'delicious' 'good' 'is' 'not' 'pasta' 'tastes'\n",
      " 'tasty' 'this' 'very']\n"
     ]
    }
   ],
   "execution_count": 16
  },
  {
   "cell_type": "code",
   "source": [
    "# fit_transform is a method that performs two functions: fit and transform.\n",
    "# 1. Fit: identify all unique words in the documents\n",
    "# 2. Transform: Each row of this matrix corresponds to one of the documents. The value in each cell of the matrix is the count of how many times the corresponding word appears in the respective document.\n",
    "X = vectorizer.fit_transform([doc1,doc2,doc3,doc4])\n",
    "\n",
    "# Creating a DataFrame from the Matrix (More user-friendly)\n",
    "df_bow_sklearn = pd.DataFrame(X.toarray(),columns=vectorizer.get_feature_names_out())\n",
    "df_bow_sklearn.head()"
   ],
   "metadata": {
    "collapsed": false,
    "ExecuteTime": {
     "end_time": "2024-11-27T21:15:01.090561Z",
     "start_time": "2024-11-27T21:15:01.082581Z"
    }
   },
   "outputs": [
    {
     "data": {
      "text/plain": [
       "   affordable  and  cheap  delicious  good  is  not  pasta  tastes  tasty  \\\n",
       "0           1    1      0          0     0   1    0      1       0      1   \n",
       "1           1    1      0          0     0   2    1      1       0      1   \n",
       "2           0    1      1          1     0   1    0      1       0      0   \n",
       "3           0    1      0          0     1   1    0      2       1      1   \n",
       "\n",
       "   this  very  \n",
       "0     1     1  \n",
       "1     1     0  \n",
       "2     1     0  \n",
       "3     0     0  "
      ],
      "text/html": [
       "<div>\n",
       "<style scoped>\n",
       "    .dataframe tbody tr th:only-of-type {\n",
       "        vertical-align: middle;\n",
       "    }\n",
       "\n",
       "    .dataframe tbody tr th {\n",
       "        vertical-align: top;\n",
       "    }\n",
       "\n",
       "    .dataframe thead th {\n",
       "        text-align: right;\n",
       "    }\n",
       "</style>\n",
       "<table border=\"1\" class=\"dataframe\">\n",
       "  <thead>\n",
       "    <tr style=\"text-align: right;\">\n",
       "      <th></th>\n",
       "      <th>affordable</th>\n",
       "      <th>and</th>\n",
       "      <th>cheap</th>\n",
       "      <th>delicious</th>\n",
       "      <th>good</th>\n",
       "      <th>is</th>\n",
       "      <th>not</th>\n",
       "      <th>pasta</th>\n",
       "      <th>tastes</th>\n",
       "      <th>tasty</th>\n",
       "      <th>this</th>\n",
       "      <th>very</th>\n",
       "    </tr>\n",
       "  </thead>\n",
       "  <tbody>\n",
       "    <tr>\n",
       "      <th>0</th>\n",
       "      <td>1</td>\n",
       "      <td>1</td>\n",
       "      <td>0</td>\n",
       "      <td>0</td>\n",
       "      <td>0</td>\n",
       "      <td>1</td>\n",
       "      <td>0</td>\n",
       "      <td>1</td>\n",
       "      <td>0</td>\n",
       "      <td>1</td>\n",
       "      <td>1</td>\n",
       "      <td>1</td>\n",
       "    </tr>\n",
       "    <tr>\n",
       "      <th>1</th>\n",
       "      <td>1</td>\n",
       "      <td>1</td>\n",
       "      <td>0</td>\n",
       "      <td>0</td>\n",
       "      <td>0</td>\n",
       "      <td>2</td>\n",
       "      <td>1</td>\n",
       "      <td>1</td>\n",
       "      <td>0</td>\n",
       "      <td>1</td>\n",
       "      <td>1</td>\n",
       "      <td>0</td>\n",
       "    </tr>\n",
       "    <tr>\n",
       "      <th>2</th>\n",
       "      <td>0</td>\n",
       "      <td>1</td>\n",
       "      <td>1</td>\n",
       "      <td>1</td>\n",
       "      <td>0</td>\n",
       "      <td>1</td>\n",
       "      <td>0</td>\n",
       "      <td>1</td>\n",
       "      <td>0</td>\n",
       "      <td>0</td>\n",
       "      <td>1</td>\n",
       "      <td>0</td>\n",
       "    </tr>\n",
       "    <tr>\n",
       "      <th>3</th>\n",
       "      <td>0</td>\n",
       "      <td>1</td>\n",
       "      <td>0</td>\n",
       "      <td>0</td>\n",
       "      <td>1</td>\n",
       "      <td>1</td>\n",
       "      <td>0</td>\n",
       "      <td>2</td>\n",
       "      <td>1</td>\n",
       "      <td>1</td>\n",
       "      <td>0</td>\n",
       "      <td>0</td>\n",
       "    </tr>\n",
       "  </tbody>\n",
       "</table>\n",
       "</div>"
      ]
     },
     "execution_count": 17,
     "metadata": {},
     "output_type": "execute_result"
    }
   ],
   "execution_count": 17
  },
  {
   "cell_type": "code",
   "source": [
    "from sklearn.feature_extraction.text import CountVectorizer\n",
    "vectorizer = CountVectorizer()\n",
    "X = vectorizer.fit_transform([doc1,doc2,doc3,doc4])\n",
    "df_bow_sklearn = pd.DataFrame(X.toarray(),columns=vectorizer.get_feature_names_out())\n",
    "df_bow_sklearn.head()"
   ],
   "metadata": {
    "collapsed": false,
    "ExecuteTime": {
     "end_time": "2024-11-27T21:15:01.163392Z",
     "start_time": "2024-11-27T21:15:01.158367Z"
    }
   },
   "outputs": [
    {
     "data": {
      "text/plain": [
       "   affordable  and  cheap  delicious  good  is  not  pasta  tastes  tasty  \\\n",
       "0           1    1      0          0     0   1    0      1       0      1   \n",
       "1           1    1      0          0     0   2    1      1       0      1   \n",
       "2           0    1      1          1     0   1    0      1       0      0   \n",
       "3           0    1      0          0     1   1    0      2       1      1   \n",
       "\n",
       "   this  very  \n",
       "0     1     1  \n",
       "1     1     0  \n",
       "2     1     0  \n",
       "3     0     0  "
      ],
      "text/html": [
       "<div>\n",
       "<style scoped>\n",
       "    .dataframe tbody tr th:only-of-type {\n",
       "        vertical-align: middle;\n",
       "    }\n",
       "\n",
       "    .dataframe tbody tr th {\n",
       "        vertical-align: top;\n",
       "    }\n",
       "\n",
       "    .dataframe thead th {\n",
       "        text-align: right;\n",
       "    }\n",
       "</style>\n",
       "<table border=\"1\" class=\"dataframe\">\n",
       "  <thead>\n",
       "    <tr style=\"text-align: right;\">\n",
       "      <th></th>\n",
       "      <th>affordable</th>\n",
       "      <th>and</th>\n",
       "      <th>cheap</th>\n",
       "      <th>delicious</th>\n",
       "      <th>good</th>\n",
       "      <th>is</th>\n",
       "      <th>not</th>\n",
       "      <th>pasta</th>\n",
       "      <th>tastes</th>\n",
       "      <th>tasty</th>\n",
       "      <th>this</th>\n",
       "      <th>very</th>\n",
       "    </tr>\n",
       "  </thead>\n",
       "  <tbody>\n",
       "    <tr>\n",
       "      <th>0</th>\n",
       "      <td>1</td>\n",
       "      <td>1</td>\n",
       "      <td>0</td>\n",
       "      <td>0</td>\n",
       "      <td>0</td>\n",
       "      <td>1</td>\n",
       "      <td>0</td>\n",
       "      <td>1</td>\n",
       "      <td>0</td>\n",
       "      <td>1</td>\n",
       "      <td>1</td>\n",
       "      <td>1</td>\n",
       "    </tr>\n",
       "    <tr>\n",
       "      <th>1</th>\n",
       "      <td>1</td>\n",
       "      <td>1</td>\n",
       "      <td>0</td>\n",
       "      <td>0</td>\n",
       "      <td>0</td>\n",
       "      <td>2</td>\n",
       "      <td>1</td>\n",
       "      <td>1</td>\n",
       "      <td>0</td>\n",
       "      <td>1</td>\n",
       "      <td>1</td>\n",
       "      <td>0</td>\n",
       "    </tr>\n",
       "    <tr>\n",
       "      <th>2</th>\n",
       "      <td>0</td>\n",
       "      <td>1</td>\n",
       "      <td>1</td>\n",
       "      <td>1</td>\n",
       "      <td>0</td>\n",
       "      <td>1</td>\n",
       "      <td>0</td>\n",
       "      <td>1</td>\n",
       "      <td>0</td>\n",
       "      <td>0</td>\n",
       "      <td>1</td>\n",
       "      <td>0</td>\n",
       "    </tr>\n",
       "    <tr>\n",
       "      <th>3</th>\n",
       "      <td>0</td>\n",
       "      <td>1</td>\n",
       "      <td>0</td>\n",
       "      <td>0</td>\n",
       "      <td>1</td>\n",
       "      <td>1</td>\n",
       "      <td>0</td>\n",
       "      <td>2</td>\n",
       "      <td>1</td>\n",
       "      <td>1</td>\n",
       "      <td>0</td>\n",
       "      <td>0</td>\n",
       "    </tr>\n",
       "  </tbody>\n",
       "</table>\n",
       "</div>"
      ]
     },
     "execution_count": 18,
     "metadata": {},
     "output_type": "execute_result"
    }
   ],
   "execution_count": 18
  },
  {
   "cell_type": "code",
   "source": [
    "from sklearn.feature_extraction.text import CountVectorizer\n",
    "vectorizer = CountVectorizer(stop_words='english')\n",
    "X = vectorizer.fit_transform([doc1,doc2,doc3,doc4])\n",
    "df_bow_sklearn = pd.DataFrame(X.toarray(),columns=vectorizer.get_feature_names_out())\n",
    "df_bow_sklearn.head()"
   ],
   "metadata": {
    "collapsed": false,
    "ExecuteTime": {
     "end_time": "2024-11-27T21:15:01.250956Z",
     "start_time": "2024-11-27T21:15:01.246226Z"
    }
   },
   "outputs": [
    {
     "data": {
      "text/plain": [
       "   affordable  cheap  delicious  good  pasta  tastes  tasty\n",
       "0           1      0          0     0      1       0      1\n",
       "1           1      0          0     0      1       0      1\n",
       "2           0      1          1     0      1       0      0\n",
       "3           0      0          0     1      2       1      1"
      ],
      "text/html": [
       "<div>\n",
       "<style scoped>\n",
       "    .dataframe tbody tr th:only-of-type {\n",
       "        vertical-align: middle;\n",
       "    }\n",
       "\n",
       "    .dataframe tbody tr th {\n",
       "        vertical-align: top;\n",
       "    }\n",
       "\n",
       "    .dataframe thead th {\n",
       "        text-align: right;\n",
       "    }\n",
       "</style>\n",
       "<table border=\"1\" class=\"dataframe\">\n",
       "  <thead>\n",
       "    <tr style=\"text-align: right;\">\n",
       "      <th></th>\n",
       "      <th>affordable</th>\n",
       "      <th>cheap</th>\n",
       "      <th>delicious</th>\n",
       "      <th>good</th>\n",
       "      <th>pasta</th>\n",
       "      <th>tastes</th>\n",
       "      <th>tasty</th>\n",
       "    </tr>\n",
       "  </thead>\n",
       "  <tbody>\n",
       "    <tr>\n",
       "      <th>0</th>\n",
       "      <td>1</td>\n",
       "      <td>0</td>\n",
       "      <td>0</td>\n",
       "      <td>0</td>\n",
       "      <td>1</td>\n",
       "      <td>0</td>\n",
       "      <td>1</td>\n",
       "    </tr>\n",
       "    <tr>\n",
       "      <th>1</th>\n",
       "      <td>1</td>\n",
       "      <td>0</td>\n",
       "      <td>0</td>\n",
       "      <td>0</td>\n",
       "      <td>1</td>\n",
       "      <td>0</td>\n",
       "      <td>1</td>\n",
       "    </tr>\n",
       "    <tr>\n",
       "      <th>2</th>\n",
       "      <td>0</td>\n",
       "      <td>1</td>\n",
       "      <td>1</td>\n",
       "      <td>0</td>\n",
       "      <td>1</td>\n",
       "      <td>0</td>\n",
       "      <td>0</td>\n",
       "    </tr>\n",
       "    <tr>\n",
       "      <th>3</th>\n",
       "      <td>0</td>\n",
       "      <td>0</td>\n",
       "      <td>0</td>\n",
       "      <td>1</td>\n",
       "      <td>2</td>\n",
       "      <td>1</td>\n",
       "      <td>1</td>\n",
       "    </tr>\n",
       "  </tbody>\n",
       "</table>\n",
       "</div>"
      ]
     },
     "execution_count": 19,
     "metadata": {},
     "output_type": "execute_result"
    }
   ],
   "execution_count": 19
  },
  {
   "cell_type": "code",
   "source": [
    "from sklearn.feature_extraction.text import CountVectorizer\n",
    "vectorizer = CountVectorizer(stop_words='english',ngram_range=(1,2))\n",
    "X = vectorizer.fit_transform([doc1,doc2,doc3])\n",
    "df_bow_sklearn = pd.DataFrame(X.toarray(),columns=vectorizer.get_feature_names_out())\n",
    "df_bow_sklearn.head()"
   ],
   "metadata": {
    "collapsed": false,
    "ExecuteTime": {
     "end_time": "2024-11-27T21:15:01.513998Z",
     "start_time": "2024-11-27T21:15:01.508938Z"
    }
   },
   "outputs": [
    {
     "data": {
      "text/plain": [
       "   affordable  cheap  delicious  delicious cheap  pasta  pasta delicious  \\\n",
       "0           1      0          0                0      1                0   \n",
       "1           1      0          0                0      1                0   \n",
       "2           0      1          1                1      1                1   \n",
       "\n",
       "   pasta tasty  tasty  tasty affordable  \n",
       "0            1      1                 1  \n",
       "1            1      1                 1  \n",
       "2            0      0                 0  "
      ],
      "text/html": [
       "<div>\n",
       "<style scoped>\n",
       "    .dataframe tbody tr th:only-of-type {\n",
       "        vertical-align: middle;\n",
       "    }\n",
       "\n",
       "    .dataframe tbody tr th {\n",
       "        vertical-align: top;\n",
       "    }\n",
       "\n",
       "    .dataframe thead th {\n",
       "        text-align: right;\n",
       "    }\n",
       "</style>\n",
       "<table border=\"1\" class=\"dataframe\">\n",
       "  <thead>\n",
       "    <tr style=\"text-align: right;\">\n",
       "      <th></th>\n",
       "      <th>affordable</th>\n",
       "      <th>cheap</th>\n",
       "      <th>delicious</th>\n",
       "      <th>delicious cheap</th>\n",
       "      <th>pasta</th>\n",
       "      <th>pasta delicious</th>\n",
       "      <th>pasta tasty</th>\n",
       "      <th>tasty</th>\n",
       "      <th>tasty affordable</th>\n",
       "    </tr>\n",
       "  </thead>\n",
       "  <tbody>\n",
       "    <tr>\n",
       "      <th>0</th>\n",
       "      <td>1</td>\n",
       "      <td>0</td>\n",
       "      <td>0</td>\n",
       "      <td>0</td>\n",
       "      <td>1</td>\n",
       "      <td>0</td>\n",
       "      <td>1</td>\n",
       "      <td>1</td>\n",
       "      <td>1</td>\n",
       "    </tr>\n",
       "    <tr>\n",
       "      <th>1</th>\n",
       "      <td>1</td>\n",
       "      <td>0</td>\n",
       "      <td>0</td>\n",
       "      <td>0</td>\n",
       "      <td>1</td>\n",
       "      <td>0</td>\n",
       "      <td>1</td>\n",
       "      <td>1</td>\n",
       "      <td>1</td>\n",
       "    </tr>\n",
       "    <tr>\n",
       "      <th>2</th>\n",
       "      <td>0</td>\n",
       "      <td>1</td>\n",
       "      <td>1</td>\n",
       "      <td>1</td>\n",
       "      <td>1</td>\n",
       "      <td>1</td>\n",
       "      <td>0</td>\n",
       "      <td>0</td>\n",
       "      <td>0</td>\n",
       "    </tr>\n",
       "  </tbody>\n",
       "</table>\n",
       "</div>"
      ]
     },
     "execution_count": 20,
     "metadata": {},
     "output_type": "execute_result"
    }
   ],
   "execution_count": 20
  },
  {
   "cell_type": "markdown",
   "source": [
    "# TFIDF"
   ],
   "metadata": {
    "collapsed": false
   }
  },
  {
   "cell_type": "code",
   "source": [
    "tfidf1 = \"This movie is very scary and long\"\n",
    "tfidf2 = \"This movie is not scary and is slow\"\n",
    "tfidf3 = \"This movie is spooky and good\""
   ],
   "metadata": {
    "collapsed": false,
    "ExecuteTime": {
     "end_time": "2024-11-27T21:15:01.646621Z",
     "start_time": "2024-11-27T21:15:01.644989Z"
    }
   },
   "outputs": [],
   "execution_count": 21
  },
  {
   "cell_type": "code",
   "source": [
    "from sklearn.feature_extraction.text import TfidfVectorizer\n",
    "vectorizer_tfidf = TfidfVectorizer(stop_words='english', ngram_range=(1,1))\n",
    "X = vectorizer_tfidf.fit_transform([tfidf1, tfidf2, tfidf3])\n",
    "df_tfidf_sklearn = pd.DataFrame(X.toarray(), columns=vectorizer_tfidf.get_feature_names_out())\n",
    "df_tfidf_sklearn"
   ],
   "metadata": {
    "collapsed": false,
    "ExecuteTime": {
     "end_time": "2024-11-27T21:15:01.893027Z",
     "start_time": "2024-11-27T21:15:01.887429Z"
    }
   },
   "outputs": [
    {
     "data": {
      "text/plain": [
       "       good      long     movie     scary      slow    spooky\n",
       "0  0.000000  0.720333  0.425441  0.547832  0.000000  0.000000\n",
       "1  0.000000  0.000000  0.425441  0.547832  0.720333  0.000000\n",
       "2  0.652491  0.000000  0.385372  0.000000  0.000000  0.652491"
      ],
      "text/html": [
       "<div>\n",
       "<style scoped>\n",
       "    .dataframe tbody tr th:only-of-type {\n",
       "        vertical-align: middle;\n",
       "    }\n",
       "\n",
       "    .dataframe tbody tr th {\n",
       "        vertical-align: top;\n",
       "    }\n",
       "\n",
       "    .dataframe thead th {\n",
       "        text-align: right;\n",
       "    }\n",
       "</style>\n",
       "<table border=\"1\" class=\"dataframe\">\n",
       "  <thead>\n",
       "    <tr style=\"text-align: right;\">\n",
       "      <th></th>\n",
       "      <th>good</th>\n",
       "      <th>long</th>\n",
       "      <th>movie</th>\n",
       "      <th>scary</th>\n",
       "      <th>slow</th>\n",
       "      <th>spooky</th>\n",
       "    </tr>\n",
       "  </thead>\n",
       "  <tbody>\n",
       "    <tr>\n",
       "      <th>0</th>\n",
       "      <td>0.000000</td>\n",
       "      <td>0.720333</td>\n",
       "      <td>0.425441</td>\n",
       "      <td>0.547832</td>\n",
       "      <td>0.000000</td>\n",
       "      <td>0.000000</td>\n",
       "    </tr>\n",
       "    <tr>\n",
       "      <th>1</th>\n",
       "      <td>0.000000</td>\n",
       "      <td>0.000000</td>\n",
       "      <td>0.425441</td>\n",
       "      <td>0.547832</td>\n",
       "      <td>0.720333</td>\n",
       "      <td>0.000000</td>\n",
       "    </tr>\n",
       "    <tr>\n",
       "      <th>2</th>\n",
       "      <td>0.652491</td>\n",
       "      <td>0.000000</td>\n",
       "      <td>0.385372</td>\n",
       "      <td>0.000000</td>\n",
       "      <td>0.000000</td>\n",
       "      <td>0.652491</td>\n",
       "    </tr>\n",
       "  </tbody>\n",
       "</table>\n",
       "</div>"
      ]
     },
     "execution_count": 22,
     "metadata": {},
     "output_type": "execute_result"
    }
   ],
   "execution_count": 22
  },
  {
   "metadata": {
    "ExecuteTime": {
     "end_time": "2024-11-27T21:15:02.062189Z",
     "start_time": "2024-11-27T21:15:02.054616Z"
    }
   },
   "cell_type": "code",
   "source": [
    "from sklearn.feature_extraction.text import TfidfVectorizer\n",
    "vectorizer_tfidf = TfidfVectorizer(vocabulary=wordset)\n",
    "X = vectorizer_tfidf.fit_transform([tfidf1, tfidf2, tfidf3])\n",
    "df_tfidf_sklearn = pd.DataFrame(X.toarray(), columns=vectorizer_tfidf.get_feature_names_out())\n",
    "df_tfidf_sklearn"
   ],
   "outputs": [
    {
     "data": {
      "text/plain": [
       "        and      good        is      long     movie       not     scary  \\\n",
       "0  0.296283  0.000000  0.296283  0.501651  0.296283  0.000000  0.381519   \n",
       "1  0.263600  0.000000  0.527200  0.000000  0.263600  0.446313  0.339433   \n",
       "2  0.320528  0.542701  0.320528  0.000000  0.320528  0.000000  0.000000   \n",
       "\n",
       "       slow    spooky      this      very  \n",
       "0  0.000000  0.000000  0.296283  0.501651  \n",
       "1  0.446313  0.000000  0.263600  0.000000  \n",
       "2  0.000000  0.542701  0.320528  0.000000  "
      ],
      "text/html": [
       "<div>\n",
       "<style scoped>\n",
       "    .dataframe tbody tr th:only-of-type {\n",
       "        vertical-align: middle;\n",
       "    }\n",
       "\n",
       "    .dataframe tbody tr th {\n",
       "        vertical-align: top;\n",
       "    }\n",
       "\n",
       "    .dataframe thead th {\n",
       "        text-align: right;\n",
       "    }\n",
       "</style>\n",
       "<table border=\"1\" class=\"dataframe\">\n",
       "  <thead>\n",
       "    <tr style=\"text-align: right;\">\n",
       "      <th></th>\n",
       "      <th>and</th>\n",
       "      <th>good</th>\n",
       "      <th>is</th>\n",
       "      <th>long</th>\n",
       "      <th>movie</th>\n",
       "      <th>not</th>\n",
       "      <th>scary</th>\n",
       "      <th>slow</th>\n",
       "      <th>spooky</th>\n",
       "      <th>this</th>\n",
       "      <th>very</th>\n",
       "    </tr>\n",
       "  </thead>\n",
       "  <tbody>\n",
       "    <tr>\n",
       "      <th>0</th>\n",
       "      <td>0.296283</td>\n",
       "      <td>0.000000</td>\n",
       "      <td>0.296283</td>\n",
       "      <td>0.501651</td>\n",
       "      <td>0.296283</td>\n",
       "      <td>0.000000</td>\n",
       "      <td>0.381519</td>\n",
       "      <td>0.000000</td>\n",
       "      <td>0.000000</td>\n",
       "      <td>0.296283</td>\n",
       "      <td>0.501651</td>\n",
       "    </tr>\n",
       "    <tr>\n",
       "      <th>1</th>\n",
       "      <td>0.263600</td>\n",
       "      <td>0.000000</td>\n",
       "      <td>0.527200</td>\n",
       "      <td>0.000000</td>\n",
       "      <td>0.263600</td>\n",
       "      <td>0.446313</td>\n",
       "      <td>0.339433</td>\n",
       "      <td>0.446313</td>\n",
       "      <td>0.000000</td>\n",
       "      <td>0.263600</td>\n",
       "      <td>0.000000</td>\n",
       "    </tr>\n",
       "    <tr>\n",
       "      <th>2</th>\n",
       "      <td>0.320528</td>\n",
       "      <td>0.542701</td>\n",
       "      <td>0.320528</td>\n",
       "      <td>0.000000</td>\n",
       "      <td>0.320528</td>\n",
       "      <td>0.000000</td>\n",
       "      <td>0.000000</td>\n",
       "      <td>0.000000</td>\n",
       "      <td>0.542701</td>\n",
       "      <td>0.320528</td>\n",
       "      <td>0.000000</td>\n",
       "    </tr>\n",
       "  </tbody>\n",
       "</table>\n",
       "</div>"
      ]
     },
     "execution_count": 23,
     "metadata": {},
     "output_type": "execute_result"
    }
   ],
   "execution_count": 23
  },
  {
   "metadata": {
    "ExecuteTime": {
     "end_time": "2024-11-27T21:23:28.965359Z",
     "start_time": "2024-11-27T21:23:28.960354Z"
    }
   },
   "cell_type": "code",
   "source": [
    "from sklearn.feature_extraction.text import CountVectorizer\n",
    "\n",
    "vectorizer_tfidf = CountVectorizer()\n",
    "X = vectorizer_tfidf.fit_transform([tfidf1, tfidf2, tfidf3])\n",
    "df_tfidf_sklearn = pd.DataFrame(X.toarray(), columns=vectorizer_tfidf.get_feature_names_out())\n",
    "df_tfidf_sklearn"
   ],
   "outputs": [
    {
     "data": {
      "text/plain": [
       "   and  good  is  long  movie  not  scary  slow  spooky  this  very\n",
       "0    1     0   1     1      1    0      1     0       0     1     1\n",
       "1    1     0   2     0      1    1      1     1       0     1     0\n",
       "2    1     1   1     0      1    0      0     0       1     1     0"
      ],
      "text/html": [
       "<div>\n",
       "<style scoped>\n",
       "    .dataframe tbody tr th:only-of-type {\n",
       "        vertical-align: middle;\n",
       "    }\n",
       "\n",
       "    .dataframe tbody tr th {\n",
       "        vertical-align: top;\n",
       "    }\n",
       "\n",
       "    .dataframe thead th {\n",
       "        text-align: right;\n",
       "    }\n",
       "</style>\n",
       "<table border=\"1\" class=\"dataframe\">\n",
       "  <thead>\n",
       "    <tr style=\"text-align: right;\">\n",
       "      <th></th>\n",
       "      <th>and</th>\n",
       "      <th>good</th>\n",
       "      <th>is</th>\n",
       "      <th>long</th>\n",
       "      <th>movie</th>\n",
       "      <th>not</th>\n",
       "      <th>scary</th>\n",
       "      <th>slow</th>\n",
       "      <th>spooky</th>\n",
       "      <th>this</th>\n",
       "      <th>very</th>\n",
       "    </tr>\n",
       "  </thead>\n",
       "  <tbody>\n",
       "    <tr>\n",
       "      <th>0</th>\n",
       "      <td>1</td>\n",
       "      <td>0</td>\n",
       "      <td>1</td>\n",
       "      <td>1</td>\n",
       "      <td>1</td>\n",
       "      <td>0</td>\n",
       "      <td>1</td>\n",
       "      <td>0</td>\n",
       "      <td>0</td>\n",
       "      <td>1</td>\n",
       "      <td>1</td>\n",
       "    </tr>\n",
       "    <tr>\n",
       "      <th>1</th>\n",
       "      <td>1</td>\n",
       "      <td>0</td>\n",
       "      <td>2</td>\n",
       "      <td>0</td>\n",
       "      <td>1</td>\n",
       "      <td>1</td>\n",
       "      <td>1</td>\n",
       "      <td>1</td>\n",
       "      <td>0</td>\n",
       "      <td>1</td>\n",
       "      <td>0</td>\n",
       "    </tr>\n",
       "    <tr>\n",
       "      <th>2</th>\n",
       "      <td>1</td>\n",
       "      <td>1</td>\n",
       "      <td>1</td>\n",
       "      <td>0</td>\n",
       "      <td>1</td>\n",
       "      <td>0</td>\n",
       "      <td>0</td>\n",
       "      <td>0</td>\n",
       "      <td>1</td>\n",
       "      <td>1</td>\n",
       "      <td>0</td>\n",
       "    </tr>\n",
       "  </tbody>\n",
       "</table>\n",
       "</div>"
      ]
     },
     "execution_count": 26,
     "metadata": {},
     "output_type": "execute_result"
    }
   ],
   "execution_count": 26
  },
  {
   "metadata": {
    "ExecuteTime": {
     "end_time": "2024-11-27T21:19:20.048983Z",
     "start_time": "2024-11-27T21:19:20.043464Z"
    }
   },
   "cell_type": "code",
   "source": [
    "from sklearn.feature_extraction.text import TfidfVectorizer\n",
    "vectorizer_tfidf = TfidfVectorizer()\n",
    "X = vectorizer_tfidf.fit_transform([tfidf1, tfidf2, tfidf3])\n",
    "df_tfidf_sklearn = pd.DataFrame(X.toarray(), columns=vectorizer_tfidf.get_feature_names_out())\n",
    "df_tfidf_sklearn"
   ],
   "outputs": [
    {
     "data": {
      "text/plain": [
       "        and      good        is      long     movie       not     scary  \\\n",
       "0  0.296283  0.000000  0.296283  0.501651  0.296283  0.000000  0.381519   \n",
       "1  0.263600  0.000000  0.527200  0.000000  0.263600  0.446313  0.339433   \n",
       "2  0.320528  0.542701  0.320528  0.000000  0.320528  0.000000  0.000000   \n",
       "\n",
       "       slow    spooky      this      very  \n",
       "0  0.000000  0.000000  0.296283  0.501651  \n",
       "1  0.446313  0.000000  0.263600  0.000000  \n",
       "2  0.000000  0.542701  0.320528  0.000000  "
      ],
      "text/html": [
       "<div>\n",
       "<style scoped>\n",
       "    .dataframe tbody tr th:only-of-type {\n",
       "        vertical-align: middle;\n",
       "    }\n",
       "\n",
       "    .dataframe tbody tr th {\n",
       "        vertical-align: top;\n",
       "    }\n",
       "\n",
       "    .dataframe thead th {\n",
       "        text-align: right;\n",
       "    }\n",
       "</style>\n",
       "<table border=\"1\" class=\"dataframe\">\n",
       "  <thead>\n",
       "    <tr style=\"text-align: right;\">\n",
       "      <th></th>\n",
       "      <th>and</th>\n",
       "      <th>good</th>\n",
       "      <th>is</th>\n",
       "      <th>long</th>\n",
       "      <th>movie</th>\n",
       "      <th>not</th>\n",
       "      <th>scary</th>\n",
       "      <th>slow</th>\n",
       "      <th>spooky</th>\n",
       "      <th>this</th>\n",
       "      <th>very</th>\n",
       "    </tr>\n",
       "  </thead>\n",
       "  <tbody>\n",
       "    <tr>\n",
       "      <th>0</th>\n",
       "      <td>0.296283</td>\n",
       "      <td>0.000000</td>\n",
       "      <td>0.296283</td>\n",
       "      <td>0.501651</td>\n",
       "      <td>0.296283</td>\n",
       "      <td>0.000000</td>\n",
       "      <td>0.381519</td>\n",
       "      <td>0.000000</td>\n",
       "      <td>0.000000</td>\n",
       "      <td>0.296283</td>\n",
       "      <td>0.501651</td>\n",
       "    </tr>\n",
       "    <tr>\n",
       "      <th>1</th>\n",
       "      <td>0.263600</td>\n",
       "      <td>0.000000</td>\n",
       "      <td>0.527200</td>\n",
       "      <td>0.000000</td>\n",
       "      <td>0.263600</td>\n",
       "      <td>0.446313</td>\n",
       "      <td>0.339433</td>\n",
       "      <td>0.446313</td>\n",
       "      <td>0.000000</td>\n",
       "      <td>0.263600</td>\n",
       "      <td>0.000000</td>\n",
       "    </tr>\n",
       "    <tr>\n",
       "      <th>2</th>\n",
       "      <td>0.320528</td>\n",
       "      <td>0.542701</td>\n",
       "      <td>0.320528</td>\n",
       "      <td>0.000000</td>\n",
       "      <td>0.320528</td>\n",
       "      <td>0.000000</td>\n",
       "      <td>0.000000</td>\n",
       "      <td>0.000000</td>\n",
       "      <td>0.542701</td>\n",
       "      <td>0.320528</td>\n",
       "      <td>0.000000</td>\n",
       "    </tr>\n",
       "  </tbody>\n",
       "</table>\n",
       "</div>"
      ]
     },
     "execution_count": 24,
     "metadata": {},
     "output_type": "execute_result"
    }
   ],
   "execution_count": 24
  },
  {
   "metadata": {},
   "cell_type": "code",
   "outputs": [],
   "execution_count": null,
   "source": ""
  }
 ],
 "metadata": {
  "kernelspec": {
   "display_name": "Python 3",
   "language": "python",
   "name": "python3"
  },
  "language_info": {
   "codemirror_mode": {
    "name": "ipython",
    "version": 2
   },
   "file_extension": ".py",
   "mimetype": "text/x-python",
   "name": "python",
   "nbconvert_exporter": "python",
   "pygments_lexer": "ipython2",
   "version": "2.7.6"
  }
 },
 "nbformat": 4,
 "nbformat_minor": 0
}
