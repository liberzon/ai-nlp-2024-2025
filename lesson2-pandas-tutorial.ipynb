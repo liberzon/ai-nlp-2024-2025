{
 "cells": [
  {
   "cell_type": "markdown",
   "source": [
    "Basic imports..."
   ],
   "metadata": {
    "collapsed": false
   }
  },
  {
   "cell_type": "code",
   "metadata": {
    "collapsed": true,
    "ExecuteTime": {
     "end_time": "2024-11-09T20:42:34.538541Z",
     "start_time": "2024-11-09T20:42:34.536592Z"
    }
   },
   "source": [
    "# Importing Libraries\n",
    "# =====================\n",
    "import numpy as np  # Import NumPy library and assign alias 'np'\n",
    "import pandas as pd  # Import Pandas library and assign alias 'pd'"
   ],
   "outputs": [],
   "execution_count": 66
  },
  {
   "cell_type": "markdown",
   "source": [
    "Series declarations"
   ],
   "metadata": {
    "collapsed": false
   }
  },
  {
   "cell_type": "markdown",
   "source": [
    "s = pd.Series(data, index, name)"
   ],
   "metadata": {
    "collapsed": false
   }
  },
  {
   "cell_type": "code",
   "source": [
    "s = pd.Series(np.random.randn(5), index=[\"a\", \"b\", \"c\", \"d\", \"e\"])"
   ],
   "metadata": {
    "collapsed": false,
    "ExecuteTime": {
     "end_time": "2024-11-09T20:40:04.963251Z",
     "start_time": "2024-11-09T20:40:04.960241Z"
    }
   },
   "outputs": [],
   "execution_count": 2
  },
  {
   "cell_type": "code",
   "source": [
    "s"
   ],
   "metadata": {
    "collapsed": false,
    "ExecuteTime": {
     "end_time": "2024-11-09T20:40:04.977132Z",
     "start_time": "2024-11-09T20:40:04.968368Z"
    }
   },
   "outputs": [
    {
     "data": {
      "text/plain": [
       "a   -1.026509\n",
       "b   -0.967079\n",
       "c    1.386397\n",
       "d    1.049764\n",
       "e   -1.422263\n",
       "dtype: float64"
      ]
     },
     "execution_count": 3,
     "metadata": {},
     "output_type": "execute_result"
    }
   ],
   "execution_count": 3
  },
  {
   "cell_type": "code",
   "source": [
    "s = pd.Series(np.random.randn(5))"
   ],
   "metadata": {
    "collapsed": false,
    "ExecuteTime": {
     "end_time": "2024-11-09T20:40:05.176232Z",
     "start_time": "2024-11-09T20:40:05.174649Z"
    }
   },
   "outputs": [],
   "execution_count": 4
  },
  {
   "cell_type": "code",
   "source": [
    "s"
   ],
   "metadata": {
    "collapsed": false,
    "ExecuteTime": {
     "end_time": "2024-11-09T20:40:05.242047Z",
     "start_time": "2024-11-09T20:40:05.237920Z"
    }
   },
   "outputs": [
    {
     "data": {
      "text/plain": [
       "0   -0.236663\n",
       "1   -0.867497\n",
       "2   -1.554315\n",
       "3   -1.048960\n",
       "4   -0.398525\n",
       "dtype: float64"
      ]
     },
     "execution_count": 5,
     "metadata": {},
     "output_type": "execute_result"
    }
   ],
   "execution_count": 5
  },
  {
   "cell_type": "code",
   "source": [
    "d = {\"a\": 0.0, \"b\": 1.0, \"c\": 2.0}\n",
    "s = pd.Series(d)"
   ],
   "metadata": {
    "collapsed": false,
    "ExecuteTime": {
     "end_time": "2024-11-09T20:40:05.371752Z",
     "start_time": "2024-11-09T20:40:05.369413Z"
    }
   },
   "outputs": [],
   "execution_count": 6
  },
  {
   "cell_type": "code",
   "source": [
    "s"
   ],
   "metadata": {
    "collapsed": false,
    "ExecuteTime": {
     "end_time": "2024-11-09T20:40:05.481681Z",
     "start_time": "2024-11-09T20:40:05.478888Z"
    }
   },
   "outputs": [
    {
     "data": {
      "text/plain": [
       "a    0.0\n",
       "b    1.0\n",
       "c    2.0\n",
       "dtype: float64"
      ]
     },
     "execution_count": 7,
     "metadata": {},
     "output_type": "execute_result"
    }
   ],
   "execution_count": 7
  },
  {
   "cell_type": "code",
   "source": [
    "s = pd.Series(d, index=[\"b\", \"c\", \"d\", \"a\"])"
   ],
   "metadata": {
    "collapsed": false,
    "ExecuteTime": {
     "end_time": "2024-11-09T20:40:05.594866Z",
     "start_time": "2024-11-09T20:40:05.592333Z"
    }
   },
   "outputs": [],
   "execution_count": 8
  },
  {
   "cell_type": "code",
   "source": [
    "s"
   ],
   "metadata": {
    "collapsed": false,
    "ExecuteTime": {
     "end_time": "2024-11-09T20:40:05.718922Z",
     "start_time": "2024-11-09T20:40:05.715802Z"
    }
   },
   "outputs": [
    {
     "data": {
      "text/plain": [
       "b    1.0\n",
       "c    2.0\n",
       "d    NaN\n",
       "a    0.0\n",
       "dtype: float64"
      ]
     },
     "execution_count": 9,
     "metadata": {},
     "output_type": "execute_result"
    }
   ],
   "execution_count": 9
  },
  {
   "cell_type": "code",
   "source": [
    "s = pd.Series(5.0, index=[\"a\", \"b\", \"c\", \"d\", \"e\"])"
   ],
   "metadata": {
    "collapsed": false,
    "ExecuteTime": {
     "end_time": "2024-11-09T20:40:05.812634Z",
     "start_time": "2024-11-09T20:40:05.810138Z"
    }
   },
   "outputs": [],
   "execution_count": 10
  },
  {
   "cell_type": "code",
   "source": [
    "s"
   ],
   "metadata": {
    "collapsed": false,
    "ExecuteTime": {
     "end_time": "2024-11-09T20:40:05.882632Z",
     "start_time": "2024-11-09T20:40:05.879342Z"
    }
   },
   "outputs": [
    {
     "data": {
      "text/plain": [
       "a    5.0\n",
       "b    5.0\n",
       "c    5.0\n",
       "d    5.0\n",
       "e    5.0\n",
       "dtype: float64"
      ]
     },
     "execution_count": 11,
     "metadata": {},
     "output_type": "execute_result"
    }
   ],
   "execution_count": 11
  },
  {
   "cell_type": "code",
   "source": [
    "s[\"a\"]"
   ],
   "metadata": {
    "collapsed": false,
    "ExecuteTime": {
     "end_time": "2024-11-09T20:40:05.976366Z",
     "start_time": "2024-11-09T20:40:05.973522Z"
    }
   },
   "outputs": [
    {
     "data": {
      "text/plain": [
       "np.float64(5.0)"
      ]
     },
     "execution_count": 12,
     "metadata": {},
     "output_type": "execute_result"
    }
   ],
   "execution_count": 12
  },
  {
   "cell_type": "code",
   "source": [
    "s[\"e\"] = 12.0"
   ],
   "metadata": {
    "collapsed": false,
    "ExecuteTime": {
     "end_time": "2024-11-09T20:40:06.080351Z",
     "start_time": "2024-11-09T20:40:06.078012Z"
    }
   },
   "outputs": [],
   "execution_count": 13
  },
  {
   "cell_type": "code",
   "source": [
    "s"
   ],
   "metadata": {
    "collapsed": false,
    "ExecuteTime": {
     "end_time": "2024-11-09T20:40:06.132433Z",
     "start_time": "2024-11-09T20:40:06.129677Z"
    }
   },
   "outputs": [
    {
     "data": {
      "text/plain": [
       "a     5.0\n",
       "b     5.0\n",
       "c     5.0\n",
       "d     5.0\n",
       "e    12.0\n",
       "dtype: float64"
      ]
     },
     "execution_count": 14,
     "metadata": {},
     "output_type": "execute_result"
    }
   ],
   "execution_count": 14
  },
  {
   "cell_type": "code",
   "source": [
    "\"e\" in s"
   ],
   "metadata": {
    "collapsed": false,
    "ExecuteTime": {
     "end_time": "2024-11-09T20:40:06.208718Z",
     "start_time": "2024-11-09T20:40:06.206150Z"
    }
   },
   "outputs": [
    {
     "data": {
      "text/plain": [
       "True"
      ]
     },
     "execution_count": 15,
     "metadata": {},
     "output_type": "execute_result"
    }
   ],
   "execution_count": 15
  },
  {
   "cell_type": "code",
   "source": [
    "\"f\" in s"
   ],
   "metadata": {
    "collapsed": false,
    "ExecuteTime": {
     "end_time": "2024-11-09T20:40:06.293810Z",
     "start_time": "2024-11-09T20:40:06.290996Z"
    }
   },
   "outputs": [
    {
     "data": {
      "text/plain": [
       "False"
      ]
     },
     "execution_count": 16,
     "metadata": {},
     "output_type": "execute_result"
    }
   ],
   "execution_count": 16
  },
  {
   "cell_type": "code",
   "source": [
    "s.get(\"f\")"
   ],
   "metadata": {
    "collapsed": false,
    "ExecuteTime": {
     "end_time": "2024-11-09T20:40:06.400881Z",
     "start_time": "2024-11-09T20:40:06.399001Z"
    }
   },
   "outputs": [],
   "execution_count": 17
  },
  {
   "cell_type": "markdown",
   "source": [
    "DataFrame"
   ],
   "metadata": {
    "collapsed": false
   }
  },
  {
   "cell_type": "markdown",
   "source": [
    "df = pd.DataFrame(data, index, columns)"
   ],
   "metadata": {
    "collapsed": false
   }
  },
  {
   "cell_type": "code",
   "source": [
    "s = pd.Series([1, 3, 5, np.nan, 6, 8])"
   ],
   "metadata": {
    "collapsed": false,
    "ExecuteTime": {
     "end_time": "2024-11-09T20:40:06.465223Z",
     "start_time": "2024-11-09T20:40:06.463171Z"
    }
   },
   "outputs": [],
   "execution_count": 18
  },
  {
   "cell_type": "code",
   "source": [
    "s"
   ],
   "metadata": {
    "collapsed": false,
    "ExecuteTime": {
     "end_time": "2024-11-09T20:40:06.482365Z",
     "start_time": "2024-11-09T20:40:06.479461Z"
    }
   },
   "outputs": [
    {
     "data": {
      "text/plain": [
       "0    1.0\n",
       "1    3.0\n",
       "2    5.0\n",
       "3    NaN\n",
       "4    6.0\n",
       "5    8.0\n",
       "dtype: float64"
      ]
     },
     "execution_count": 19,
     "metadata": {},
     "output_type": "execute_result"
    }
   ],
   "execution_count": 19
  },
  {
   "cell_type": "code",
   "source": [
    "dates = pd.date_range(\"20130101\", periods=6)\n",
    "dates"
   ],
   "metadata": {
    "collapsed": false,
    "ExecuteTime": {
     "end_time": "2024-11-09T20:40:06.520442Z",
     "start_time": "2024-11-09T20:40:06.516316Z"
    }
   },
   "outputs": [
    {
     "data": {
      "text/plain": [
       "DatetimeIndex(['2013-01-01', '2013-01-02', '2013-01-03', '2013-01-04',\n",
       "               '2013-01-05', '2013-01-06'],\n",
       "              dtype='datetime64[ns]', freq='D')"
      ]
     },
     "execution_count": 20,
     "metadata": {},
     "output_type": "execute_result"
    }
   ],
   "execution_count": 20
  },
  {
   "cell_type": "code",
   "source": [
    "df = pd.DataFrame(np.random.randn(6, 4), index=dates, columns=list(\"ABCD\"))\n",
    "df"
   ],
   "metadata": {
    "collapsed": false,
    "ExecuteTime": {
     "end_time": "2024-11-09T20:40:06.585310Z",
     "start_time": "2024-11-09T20:40:06.580986Z"
    }
   },
   "outputs": [
    {
     "data": {
      "text/plain": [
       "                   A         B         C         D\n",
       "2013-01-01  1.367869 -2.197997 -0.020845 -0.739462\n",
       "2013-01-02 -0.334422 -1.164065 -1.734380 -0.287819\n",
       "2013-01-03  0.780970  0.818403 -0.500051  0.161445\n",
       "2013-01-04  0.775657  1.224257 -0.254243  0.259410\n",
       "2013-01-05  0.869252 -0.654880 -0.891670  0.064009\n",
       "2013-01-06  0.642094  0.258994  1.088695 -1.880042"
      ],
      "text/html": [
       "<div>\n",
       "<style scoped>\n",
       "    .dataframe tbody tr th:only-of-type {\n",
       "        vertical-align: middle;\n",
       "    }\n",
       "\n",
       "    .dataframe tbody tr th {\n",
       "        vertical-align: top;\n",
       "    }\n",
       "\n",
       "    .dataframe thead th {\n",
       "        text-align: right;\n",
       "    }\n",
       "</style>\n",
       "<table border=\"1\" class=\"dataframe\">\n",
       "  <thead>\n",
       "    <tr style=\"text-align: right;\">\n",
       "      <th></th>\n",
       "      <th>A</th>\n",
       "      <th>B</th>\n",
       "      <th>C</th>\n",
       "      <th>D</th>\n",
       "    </tr>\n",
       "  </thead>\n",
       "  <tbody>\n",
       "    <tr>\n",
       "      <th>2013-01-01</th>\n",
       "      <td>1.367869</td>\n",
       "      <td>-2.197997</td>\n",
       "      <td>-0.020845</td>\n",
       "      <td>-0.739462</td>\n",
       "    </tr>\n",
       "    <tr>\n",
       "      <th>2013-01-02</th>\n",
       "      <td>-0.334422</td>\n",
       "      <td>-1.164065</td>\n",
       "      <td>-1.734380</td>\n",
       "      <td>-0.287819</td>\n",
       "    </tr>\n",
       "    <tr>\n",
       "      <th>2013-01-03</th>\n",
       "      <td>0.780970</td>\n",
       "      <td>0.818403</td>\n",
       "      <td>-0.500051</td>\n",
       "      <td>0.161445</td>\n",
       "    </tr>\n",
       "    <tr>\n",
       "      <th>2013-01-04</th>\n",
       "      <td>0.775657</td>\n",
       "      <td>1.224257</td>\n",
       "      <td>-0.254243</td>\n",
       "      <td>0.259410</td>\n",
       "    </tr>\n",
       "    <tr>\n",
       "      <th>2013-01-05</th>\n",
       "      <td>0.869252</td>\n",
       "      <td>-0.654880</td>\n",
       "      <td>-0.891670</td>\n",
       "      <td>0.064009</td>\n",
       "    </tr>\n",
       "    <tr>\n",
       "      <th>2013-01-06</th>\n",
       "      <td>0.642094</td>\n",
       "      <td>0.258994</td>\n",
       "      <td>1.088695</td>\n",
       "      <td>-1.880042</td>\n",
       "    </tr>\n",
       "  </tbody>\n",
       "</table>\n",
       "</div>"
      ]
     },
     "execution_count": 21,
     "metadata": {},
     "output_type": "execute_result"
    }
   ],
   "execution_count": 21
  },
  {
   "cell_type": "code",
   "source": [
    "df2 = pd.DataFrame(\n",
    "    {\n",
    "        \"A\": 1.0,\n",
    "        \"B\": pd.Timestamp(\"20130102\"),\n",
    "        \"C\": pd.Series(1, index=list(range(4)), dtype=\"float32\"),\n",
    "        \"D\": np.array([3] * 4, dtype=\"int32\"),\n",
    "        \"E\": pd.Categorical([\"test\", \"train\", \"test\", \"train\"]),\n",
    "        \"F\": \"foo\",\n",
    "    }\n",
    ")\n",
    "df2"
   ],
   "metadata": {
    "collapsed": false,
    "ExecuteTime": {
     "end_time": "2024-11-09T20:40:06.661321Z",
     "start_time": "2024-11-09T20:40:06.654971Z"
    }
   },
   "outputs": [
    {
     "data": {
      "text/plain": [
       "     A          B    C  D      E    F\n",
       "0  1.0 2013-01-02  1.0  3   test  foo\n",
       "1  1.0 2013-01-02  1.0  3  train  foo\n",
       "2  1.0 2013-01-02  1.0  3   test  foo\n",
       "3  1.0 2013-01-02  1.0  3  train  foo"
      ],
      "text/html": [
       "<div>\n",
       "<style scoped>\n",
       "    .dataframe tbody tr th:only-of-type {\n",
       "        vertical-align: middle;\n",
       "    }\n",
       "\n",
       "    .dataframe tbody tr th {\n",
       "        vertical-align: top;\n",
       "    }\n",
       "\n",
       "    .dataframe thead th {\n",
       "        text-align: right;\n",
       "    }\n",
       "</style>\n",
       "<table border=\"1\" class=\"dataframe\">\n",
       "  <thead>\n",
       "    <tr style=\"text-align: right;\">\n",
       "      <th></th>\n",
       "      <th>A</th>\n",
       "      <th>B</th>\n",
       "      <th>C</th>\n",
       "      <th>D</th>\n",
       "      <th>E</th>\n",
       "      <th>F</th>\n",
       "    </tr>\n",
       "  </thead>\n",
       "  <tbody>\n",
       "    <tr>\n",
       "      <th>0</th>\n",
       "      <td>1.0</td>\n",
       "      <td>2013-01-02</td>\n",
       "      <td>1.0</td>\n",
       "      <td>3</td>\n",
       "      <td>test</td>\n",
       "      <td>foo</td>\n",
       "    </tr>\n",
       "    <tr>\n",
       "      <th>1</th>\n",
       "      <td>1.0</td>\n",
       "      <td>2013-01-02</td>\n",
       "      <td>1.0</td>\n",
       "      <td>3</td>\n",
       "      <td>train</td>\n",
       "      <td>foo</td>\n",
       "    </tr>\n",
       "    <tr>\n",
       "      <th>2</th>\n",
       "      <td>1.0</td>\n",
       "      <td>2013-01-02</td>\n",
       "      <td>1.0</td>\n",
       "      <td>3</td>\n",
       "      <td>test</td>\n",
       "      <td>foo</td>\n",
       "    </tr>\n",
       "    <tr>\n",
       "      <th>3</th>\n",
       "      <td>1.0</td>\n",
       "      <td>2013-01-02</td>\n",
       "      <td>1.0</td>\n",
       "      <td>3</td>\n",
       "      <td>train</td>\n",
       "      <td>foo</td>\n",
       "    </tr>\n",
       "  </tbody>\n",
       "</table>\n",
       "</div>"
      ]
     },
     "execution_count": 22,
     "metadata": {},
     "output_type": "execute_result"
    }
   ],
   "execution_count": 22
  },
  {
   "cell_type": "code",
   "source": [
    "df2.dtypes"
   ],
   "metadata": {
    "collapsed": false,
    "ExecuteTime": {
     "end_time": "2024-11-09T20:40:06.719710Z",
     "start_time": "2024-11-09T20:40:06.716891Z"
    }
   },
   "outputs": [
    {
     "data": {
      "text/plain": [
       "A          float64\n",
       "B    datetime64[s]\n",
       "C          float32\n",
       "D            int32\n",
       "E         category\n",
       "F           object\n",
       "dtype: object"
      ]
     },
     "execution_count": 23,
     "metadata": {},
     "output_type": "execute_result"
    }
   ],
   "execution_count": 23
  },
  {
   "cell_type": "code",
   "source": [
    "df2"
   ],
   "metadata": {
    "collapsed": false,
    "ExecuteTime": {
     "end_time": "2024-11-09T20:40:06.857608Z",
     "start_time": "2024-11-09T20:40:06.853459Z"
    }
   },
   "outputs": [
    {
     "data": {
      "text/plain": [
       "     A          B    C  D      E    F\n",
       "0  1.0 2013-01-02  1.0  3   test  foo\n",
       "1  1.0 2013-01-02  1.0  3  train  foo\n",
       "2  1.0 2013-01-02  1.0  3   test  foo\n",
       "3  1.0 2013-01-02  1.0  3  train  foo"
      ],
      "text/html": [
       "<div>\n",
       "<style scoped>\n",
       "    .dataframe tbody tr th:only-of-type {\n",
       "        vertical-align: middle;\n",
       "    }\n",
       "\n",
       "    .dataframe tbody tr th {\n",
       "        vertical-align: top;\n",
       "    }\n",
       "\n",
       "    .dataframe thead th {\n",
       "        text-align: right;\n",
       "    }\n",
       "</style>\n",
       "<table border=\"1\" class=\"dataframe\">\n",
       "  <thead>\n",
       "    <tr style=\"text-align: right;\">\n",
       "      <th></th>\n",
       "      <th>A</th>\n",
       "      <th>B</th>\n",
       "      <th>C</th>\n",
       "      <th>D</th>\n",
       "      <th>E</th>\n",
       "      <th>F</th>\n",
       "    </tr>\n",
       "  </thead>\n",
       "  <tbody>\n",
       "    <tr>\n",
       "      <th>0</th>\n",
       "      <td>1.0</td>\n",
       "      <td>2013-01-02</td>\n",
       "      <td>1.0</td>\n",
       "      <td>3</td>\n",
       "      <td>test</td>\n",
       "      <td>foo</td>\n",
       "    </tr>\n",
       "    <tr>\n",
       "      <th>1</th>\n",
       "      <td>1.0</td>\n",
       "      <td>2013-01-02</td>\n",
       "      <td>1.0</td>\n",
       "      <td>3</td>\n",
       "      <td>train</td>\n",
       "      <td>foo</td>\n",
       "    </tr>\n",
       "    <tr>\n",
       "      <th>2</th>\n",
       "      <td>1.0</td>\n",
       "      <td>2013-01-02</td>\n",
       "      <td>1.0</td>\n",
       "      <td>3</td>\n",
       "      <td>test</td>\n",
       "      <td>foo</td>\n",
       "    </tr>\n",
       "    <tr>\n",
       "      <th>3</th>\n",
       "      <td>1.0</td>\n",
       "      <td>2013-01-02</td>\n",
       "      <td>1.0</td>\n",
       "      <td>3</td>\n",
       "      <td>train</td>\n",
       "      <td>foo</td>\n",
       "    </tr>\n",
       "  </tbody>\n",
       "</table>\n",
       "</div>"
      ]
     },
     "execution_count": 24,
     "metadata": {},
     "output_type": "execute_result"
    }
   ],
   "execution_count": 24
  },
  {
   "cell_type": "code",
   "source": [
    "df.head()"
   ],
   "metadata": {
    "collapsed": false,
    "ExecuteTime": {
     "end_time": "2024-11-09T20:40:06.976099Z",
     "start_time": "2024-11-09T20:40:06.971350Z"
    }
   },
   "outputs": [
    {
     "data": {
      "text/plain": [
       "                   A         B         C         D\n",
       "2013-01-01  1.367869 -2.197997 -0.020845 -0.739462\n",
       "2013-01-02 -0.334422 -1.164065 -1.734380 -0.287819\n",
       "2013-01-03  0.780970  0.818403 -0.500051  0.161445\n",
       "2013-01-04  0.775657  1.224257 -0.254243  0.259410\n",
       "2013-01-05  0.869252 -0.654880 -0.891670  0.064009"
      ],
      "text/html": [
       "<div>\n",
       "<style scoped>\n",
       "    .dataframe tbody tr th:only-of-type {\n",
       "        vertical-align: middle;\n",
       "    }\n",
       "\n",
       "    .dataframe tbody tr th {\n",
       "        vertical-align: top;\n",
       "    }\n",
       "\n",
       "    .dataframe thead th {\n",
       "        text-align: right;\n",
       "    }\n",
       "</style>\n",
       "<table border=\"1\" class=\"dataframe\">\n",
       "  <thead>\n",
       "    <tr style=\"text-align: right;\">\n",
       "      <th></th>\n",
       "      <th>A</th>\n",
       "      <th>B</th>\n",
       "      <th>C</th>\n",
       "      <th>D</th>\n",
       "    </tr>\n",
       "  </thead>\n",
       "  <tbody>\n",
       "    <tr>\n",
       "      <th>2013-01-01</th>\n",
       "      <td>1.367869</td>\n",
       "      <td>-2.197997</td>\n",
       "      <td>-0.020845</td>\n",
       "      <td>-0.739462</td>\n",
       "    </tr>\n",
       "    <tr>\n",
       "      <th>2013-01-02</th>\n",
       "      <td>-0.334422</td>\n",
       "      <td>-1.164065</td>\n",
       "      <td>-1.734380</td>\n",
       "      <td>-0.287819</td>\n",
       "    </tr>\n",
       "    <tr>\n",
       "      <th>2013-01-03</th>\n",
       "      <td>0.780970</td>\n",
       "      <td>0.818403</td>\n",
       "      <td>-0.500051</td>\n",
       "      <td>0.161445</td>\n",
       "    </tr>\n",
       "    <tr>\n",
       "      <th>2013-01-04</th>\n",
       "      <td>0.775657</td>\n",
       "      <td>1.224257</td>\n",
       "      <td>-0.254243</td>\n",
       "      <td>0.259410</td>\n",
       "    </tr>\n",
       "    <tr>\n",
       "      <th>2013-01-05</th>\n",
       "      <td>0.869252</td>\n",
       "      <td>-0.654880</td>\n",
       "      <td>-0.891670</td>\n",
       "      <td>0.064009</td>\n",
       "    </tr>\n",
       "  </tbody>\n",
       "</table>\n",
       "</div>"
      ]
     },
     "execution_count": 25,
     "metadata": {},
     "output_type": "execute_result"
    }
   ],
   "execution_count": 25
  },
  {
   "cell_type": "code",
   "source": [
    "df.tail(3)"
   ],
   "metadata": {
    "collapsed": false,
    "ExecuteTime": {
     "end_time": "2024-11-09T20:40:07.151460Z",
     "start_time": "2024-11-09T20:40:07.147365Z"
    }
   },
   "outputs": [
    {
     "data": {
      "text/plain": [
       "                   A         B         C         D\n",
       "2013-01-04  0.775657  1.224257 -0.254243  0.259410\n",
       "2013-01-05  0.869252 -0.654880 -0.891670  0.064009\n",
       "2013-01-06  0.642094  0.258994  1.088695 -1.880042"
      ],
      "text/html": [
       "<div>\n",
       "<style scoped>\n",
       "    .dataframe tbody tr th:only-of-type {\n",
       "        vertical-align: middle;\n",
       "    }\n",
       "\n",
       "    .dataframe tbody tr th {\n",
       "        vertical-align: top;\n",
       "    }\n",
       "\n",
       "    .dataframe thead th {\n",
       "        text-align: right;\n",
       "    }\n",
       "</style>\n",
       "<table border=\"1\" class=\"dataframe\">\n",
       "  <thead>\n",
       "    <tr style=\"text-align: right;\">\n",
       "      <th></th>\n",
       "      <th>A</th>\n",
       "      <th>B</th>\n",
       "      <th>C</th>\n",
       "      <th>D</th>\n",
       "    </tr>\n",
       "  </thead>\n",
       "  <tbody>\n",
       "    <tr>\n",
       "      <th>2013-01-04</th>\n",
       "      <td>0.775657</td>\n",
       "      <td>1.224257</td>\n",
       "      <td>-0.254243</td>\n",
       "      <td>0.259410</td>\n",
       "    </tr>\n",
       "    <tr>\n",
       "      <th>2013-01-05</th>\n",
       "      <td>0.869252</td>\n",
       "      <td>-0.654880</td>\n",
       "      <td>-0.891670</td>\n",
       "      <td>0.064009</td>\n",
       "    </tr>\n",
       "    <tr>\n",
       "      <th>2013-01-06</th>\n",
       "      <td>0.642094</td>\n",
       "      <td>0.258994</td>\n",
       "      <td>1.088695</td>\n",
       "      <td>-1.880042</td>\n",
       "    </tr>\n",
       "  </tbody>\n",
       "</table>\n",
       "</div>"
      ]
     },
     "execution_count": 26,
     "metadata": {},
     "output_type": "execute_result"
    }
   ],
   "execution_count": 26
  },
  {
   "cell_type": "code",
   "source": [
    "df.index"
   ],
   "metadata": {
    "collapsed": false,
    "ExecuteTime": {
     "end_time": "2024-11-09T20:40:07.288819Z",
     "start_time": "2024-11-09T20:40:07.286290Z"
    }
   },
   "outputs": [
    {
     "data": {
      "text/plain": [
       "DatetimeIndex(['2013-01-01', '2013-01-02', '2013-01-03', '2013-01-04',\n",
       "               '2013-01-05', '2013-01-06'],\n",
       "              dtype='datetime64[ns]', freq='D')"
      ]
     },
     "execution_count": 27,
     "metadata": {},
     "output_type": "execute_result"
    }
   ],
   "execution_count": 27
  },
  {
   "cell_type": "code",
   "source": [
    "df.columns"
   ],
   "metadata": {
    "collapsed": false,
    "ExecuteTime": {
     "end_time": "2024-11-09T20:40:07.462743Z",
     "start_time": "2024-11-09T20:40:07.460252Z"
    }
   },
   "outputs": [
    {
     "data": {
      "text/plain": [
       "Index(['A', 'B', 'C', 'D'], dtype='object')"
      ]
     },
     "execution_count": 28,
     "metadata": {},
     "output_type": "execute_result"
    }
   ],
   "execution_count": 28
  },
  {
   "cell_type": "code",
   "source": [
    "df.to_numpy()"
   ],
   "metadata": {
    "collapsed": false,
    "ExecuteTime": {
     "end_time": "2024-11-09T20:40:07.585829Z",
     "start_time": "2024-11-09T20:40:07.582598Z"
    }
   },
   "outputs": [
    {
     "data": {
      "text/plain": [
       "array([[ 1.36786903, -2.19799675, -0.02084463, -0.73946226],\n",
       "       [-0.33442173, -1.16406541, -1.73438037, -0.28781873],\n",
       "       [ 0.78097025,  0.81840341, -0.50005131,  0.16144513],\n",
       "       [ 0.77565723,  1.22425695, -0.25424282,  0.25940984],\n",
       "       [ 0.86925159, -0.65488025, -0.89167035,  0.06400869],\n",
       "       [ 0.64209352,  0.2589936 ,  1.08869502, -1.88004203]])"
      ]
     },
     "execution_count": 29,
     "metadata": {},
     "output_type": "execute_result"
    }
   ],
   "execution_count": 29
  },
  {
   "cell_type": "code",
   "source": [
    "df2.to_numpy()"
   ],
   "metadata": {
    "collapsed": false,
    "ExecuteTime": {
     "end_time": "2024-11-09T20:40:07.688142Z",
     "start_time": "2024-11-09T20:40:07.685336Z"
    }
   },
   "outputs": [
    {
     "data": {
      "text/plain": [
       "array([[1.0, Timestamp('2013-01-02 00:00:00'), 1.0, 3, 'test', 'foo'],\n",
       "       [1.0, Timestamp('2013-01-02 00:00:00'), 1.0, 3, 'train', 'foo'],\n",
       "       [1.0, Timestamp('2013-01-02 00:00:00'), 1.0, 3, 'test', 'foo'],\n",
       "       [1.0, Timestamp('2013-01-02 00:00:00'), 1.0, 3, 'train', 'foo']],\n",
       "      dtype=object)"
      ]
     },
     "execution_count": 30,
     "metadata": {},
     "output_type": "execute_result"
    }
   ],
   "execution_count": 30
  },
  {
   "cell_type": "code",
   "source": [
    "df.describe()"
   ],
   "metadata": {
    "collapsed": false,
    "ExecuteTime": {
     "end_time": "2024-11-09T20:40:07.766843Z",
     "start_time": "2024-11-09T20:40:07.760857Z"
    }
   },
   "outputs": [
    {
     "data": {
      "text/plain": [
       "              A         B         C         D\n",
       "count  6.000000  6.000000  6.000000  6.000000\n",
       "mean   0.683570 -0.285881 -0.385416 -0.403743\n",
       "std    0.558343  1.293090  0.939389  0.810383\n",
       "min   -0.334422 -2.197997 -1.734380 -1.880042\n",
       "25%    0.675484 -1.036769 -0.793766 -0.626551\n",
       "50%    0.778314 -0.197943 -0.377147 -0.111905\n",
       "75%    0.847181  0.678551 -0.079194  0.137086\n",
       "max    1.367869  1.224257  1.088695  0.259410"
      ],
      "text/html": [
       "<div>\n",
       "<style scoped>\n",
       "    .dataframe tbody tr th:only-of-type {\n",
       "        vertical-align: middle;\n",
       "    }\n",
       "\n",
       "    .dataframe tbody tr th {\n",
       "        vertical-align: top;\n",
       "    }\n",
       "\n",
       "    .dataframe thead th {\n",
       "        text-align: right;\n",
       "    }\n",
       "</style>\n",
       "<table border=\"1\" class=\"dataframe\">\n",
       "  <thead>\n",
       "    <tr style=\"text-align: right;\">\n",
       "      <th></th>\n",
       "      <th>A</th>\n",
       "      <th>B</th>\n",
       "      <th>C</th>\n",
       "      <th>D</th>\n",
       "    </tr>\n",
       "  </thead>\n",
       "  <tbody>\n",
       "    <tr>\n",
       "      <th>count</th>\n",
       "      <td>6.000000</td>\n",
       "      <td>6.000000</td>\n",
       "      <td>6.000000</td>\n",
       "      <td>6.000000</td>\n",
       "    </tr>\n",
       "    <tr>\n",
       "      <th>mean</th>\n",
       "      <td>0.683570</td>\n",
       "      <td>-0.285881</td>\n",
       "      <td>-0.385416</td>\n",
       "      <td>-0.403743</td>\n",
       "    </tr>\n",
       "    <tr>\n",
       "      <th>std</th>\n",
       "      <td>0.558343</td>\n",
       "      <td>1.293090</td>\n",
       "      <td>0.939389</td>\n",
       "      <td>0.810383</td>\n",
       "    </tr>\n",
       "    <tr>\n",
       "      <th>min</th>\n",
       "      <td>-0.334422</td>\n",
       "      <td>-2.197997</td>\n",
       "      <td>-1.734380</td>\n",
       "      <td>-1.880042</td>\n",
       "    </tr>\n",
       "    <tr>\n",
       "      <th>25%</th>\n",
       "      <td>0.675484</td>\n",
       "      <td>-1.036769</td>\n",
       "      <td>-0.793766</td>\n",
       "      <td>-0.626551</td>\n",
       "    </tr>\n",
       "    <tr>\n",
       "      <th>50%</th>\n",
       "      <td>0.778314</td>\n",
       "      <td>-0.197943</td>\n",
       "      <td>-0.377147</td>\n",
       "      <td>-0.111905</td>\n",
       "    </tr>\n",
       "    <tr>\n",
       "      <th>75%</th>\n",
       "      <td>0.847181</td>\n",
       "      <td>0.678551</td>\n",
       "      <td>-0.079194</td>\n",
       "      <td>0.137086</td>\n",
       "    </tr>\n",
       "    <tr>\n",
       "      <th>max</th>\n",
       "      <td>1.367869</td>\n",
       "      <td>1.224257</td>\n",
       "      <td>1.088695</td>\n",
       "      <td>0.259410</td>\n",
       "    </tr>\n",
       "  </tbody>\n",
       "</table>\n",
       "</div>"
      ]
     },
     "execution_count": 31,
     "metadata": {},
     "output_type": "execute_result"
    }
   ],
   "execution_count": 31
  },
  {
   "cell_type": "code",
   "source": [
    "df.T"
   ],
   "metadata": {
    "collapsed": false,
    "ExecuteTime": {
     "end_time": "2024-11-09T20:40:07.825323Z",
     "start_time": "2024-11-09T20:40:07.820394Z"
    }
   },
   "outputs": [
    {
     "data": {
      "text/plain": [
       "   2013-01-01  2013-01-02  2013-01-03  2013-01-04  2013-01-05  2013-01-06\n",
       "A    1.367869   -0.334422    0.780970    0.775657    0.869252    0.642094\n",
       "B   -2.197997   -1.164065    0.818403    1.224257   -0.654880    0.258994\n",
       "C   -0.020845   -1.734380   -0.500051   -0.254243   -0.891670    1.088695\n",
       "D   -0.739462   -0.287819    0.161445    0.259410    0.064009   -1.880042"
      ],
      "text/html": [
       "<div>\n",
       "<style scoped>\n",
       "    .dataframe tbody tr th:only-of-type {\n",
       "        vertical-align: middle;\n",
       "    }\n",
       "\n",
       "    .dataframe tbody tr th {\n",
       "        vertical-align: top;\n",
       "    }\n",
       "\n",
       "    .dataframe thead th {\n",
       "        text-align: right;\n",
       "    }\n",
       "</style>\n",
       "<table border=\"1\" class=\"dataframe\">\n",
       "  <thead>\n",
       "    <tr style=\"text-align: right;\">\n",
       "      <th></th>\n",
       "      <th>2013-01-01</th>\n",
       "      <th>2013-01-02</th>\n",
       "      <th>2013-01-03</th>\n",
       "      <th>2013-01-04</th>\n",
       "      <th>2013-01-05</th>\n",
       "      <th>2013-01-06</th>\n",
       "    </tr>\n",
       "  </thead>\n",
       "  <tbody>\n",
       "    <tr>\n",
       "      <th>A</th>\n",
       "      <td>1.367869</td>\n",
       "      <td>-0.334422</td>\n",
       "      <td>0.780970</td>\n",
       "      <td>0.775657</td>\n",
       "      <td>0.869252</td>\n",
       "      <td>0.642094</td>\n",
       "    </tr>\n",
       "    <tr>\n",
       "      <th>B</th>\n",
       "      <td>-2.197997</td>\n",
       "      <td>-1.164065</td>\n",
       "      <td>0.818403</td>\n",
       "      <td>1.224257</td>\n",
       "      <td>-0.654880</td>\n",
       "      <td>0.258994</td>\n",
       "    </tr>\n",
       "    <tr>\n",
       "      <th>C</th>\n",
       "      <td>-0.020845</td>\n",
       "      <td>-1.734380</td>\n",
       "      <td>-0.500051</td>\n",
       "      <td>-0.254243</td>\n",
       "      <td>-0.891670</td>\n",
       "      <td>1.088695</td>\n",
       "    </tr>\n",
       "    <tr>\n",
       "      <th>D</th>\n",
       "      <td>-0.739462</td>\n",
       "      <td>-0.287819</td>\n",
       "      <td>0.161445</td>\n",
       "      <td>0.259410</td>\n",
       "      <td>0.064009</td>\n",
       "      <td>-1.880042</td>\n",
       "    </tr>\n",
       "  </tbody>\n",
       "</table>\n",
       "</div>"
      ]
     },
     "execution_count": 32,
     "metadata": {},
     "output_type": "execute_result"
    }
   ],
   "execution_count": 32
  },
  {
   "cell_type": "code",
   "source": [
    "df.sort_index(axis=1, ascending=False)"
   ],
   "metadata": {
    "collapsed": false,
    "ExecuteTime": {
     "end_time": "2024-11-09T20:40:07.956900Z",
     "start_time": "2024-11-09T20:40:07.953055Z"
    }
   },
   "outputs": [
    {
     "data": {
      "text/plain": [
       "                   D         C         B         A\n",
       "2013-01-01 -0.739462 -0.020845 -2.197997  1.367869\n",
       "2013-01-02 -0.287819 -1.734380 -1.164065 -0.334422\n",
       "2013-01-03  0.161445 -0.500051  0.818403  0.780970\n",
       "2013-01-04  0.259410 -0.254243  1.224257  0.775657\n",
       "2013-01-05  0.064009 -0.891670 -0.654880  0.869252\n",
       "2013-01-06 -1.880042  1.088695  0.258994  0.642094"
      ],
      "text/html": [
       "<div>\n",
       "<style scoped>\n",
       "    .dataframe tbody tr th:only-of-type {\n",
       "        vertical-align: middle;\n",
       "    }\n",
       "\n",
       "    .dataframe tbody tr th {\n",
       "        vertical-align: top;\n",
       "    }\n",
       "\n",
       "    .dataframe thead th {\n",
       "        text-align: right;\n",
       "    }\n",
       "</style>\n",
       "<table border=\"1\" class=\"dataframe\">\n",
       "  <thead>\n",
       "    <tr style=\"text-align: right;\">\n",
       "      <th></th>\n",
       "      <th>D</th>\n",
       "      <th>C</th>\n",
       "      <th>B</th>\n",
       "      <th>A</th>\n",
       "    </tr>\n",
       "  </thead>\n",
       "  <tbody>\n",
       "    <tr>\n",
       "      <th>2013-01-01</th>\n",
       "      <td>-0.739462</td>\n",
       "      <td>-0.020845</td>\n",
       "      <td>-2.197997</td>\n",
       "      <td>1.367869</td>\n",
       "    </tr>\n",
       "    <tr>\n",
       "      <th>2013-01-02</th>\n",
       "      <td>-0.287819</td>\n",
       "      <td>-1.734380</td>\n",
       "      <td>-1.164065</td>\n",
       "      <td>-0.334422</td>\n",
       "    </tr>\n",
       "    <tr>\n",
       "      <th>2013-01-03</th>\n",
       "      <td>0.161445</td>\n",
       "      <td>-0.500051</td>\n",
       "      <td>0.818403</td>\n",
       "      <td>0.780970</td>\n",
       "    </tr>\n",
       "    <tr>\n",
       "      <th>2013-01-04</th>\n",
       "      <td>0.259410</td>\n",
       "      <td>-0.254243</td>\n",
       "      <td>1.224257</td>\n",
       "      <td>0.775657</td>\n",
       "    </tr>\n",
       "    <tr>\n",
       "      <th>2013-01-05</th>\n",
       "      <td>0.064009</td>\n",
       "      <td>-0.891670</td>\n",
       "      <td>-0.654880</td>\n",
       "      <td>0.869252</td>\n",
       "    </tr>\n",
       "    <tr>\n",
       "      <th>2013-01-06</th>\n",
       "      <td>-1.880042</td>\n",
       "      <td>1.088695</td>\n",
       "      <td>0.258994</td>\n",
       "      <td>0.642094</td>\n",
       "    </tr>\n",
       "  </tbody>\n",
       "</table>\n",
       "</div>"
      ]
     },
     "execution_count": 33,
     "metadata": {},
     "output_type": "execute_result"
    }
   ],
   "execution_count": 33
  },
  {
   "cell_type": "code",
   "source": [
    "df.sort_values(by=\"B\")"
   ],
   "metadata": {
    "collapsed": false,
    "ExecuteTime": {
     "end_time": "2024-11-09T20:40:08.069163Z",
     "start_time": "2024-11-09T20:40:08.065092Z"
    }
   },
   "outputs": [
    {
     "data": {
      "text/plain": [
       "                   A         B         C         D\n",
       "2013-01-01  1.367869 -2.197997 -0.020845 -0.739462\n",
       "2013-01-02 -0.334422 -1.164065 -1.734380 -0.287819\n",
       "2013-01-05  0.869252 -0.654880 -0.891670  0.064009\n",
       "2013-01-06  0.642094  0.258994  1.088695 -1.880042\n",
       "2013-01-03  0.780970  0.818403 -0.500051  0.161445\n",
       "2013-01-04  0.775657  1.224257 -0.254243  0.259410"
      ],
      "text/html": [
       "<div>\n",
       "<style scoped>\n",
       "    .dataframe tbody tr th:only-of-type {\n",
       "        vertical-align: middle;\n",
       "    }\n",
       "\n",
       "    .dataframe tbody tr th {\n",
       "        vertical-align: top;\n",
       "    }\n",
       "\n",
       "    .dataframe thead th {\n",
       "        text-align: right;\n",
       "    }\n",
       "</style>\n",
       "<table border=\"1\" class=\"dataframe\">\n",
       "  <thead>\n",
       "    <tr style=\"text-align: right;\">\n",
       "      <th></th>\n",
       "      <th>A</th>\n",
       "      <th>B</th>\n",
       "      <th>C</th>\n",
       "      <th>D</th>\n",
       "    </tr>\n",
       "  </thead>\n",
       "  <tbody>\n",
       "    <tr>\n",
       "      <th>2013-01-01</th>\n",
       "      <td>1.367869</td>\n",
       "      <td>-2.197997</td>\n",
       "      <td>-0.020845</td>\n",
       "      <td>-0.739462</td>\n",
       "    </tr>\n",
       "    <tr>\n",
       "      <th>2013-01-02</th>\n",
       "      <td>-0.334422</td>\n",
       "      <td>-1.164065</td>\n",
       "      <td>-1.734380</td>\n",
       "      <td>-0.287819</td>\n",
       "    </tr>\n",
       "    <tr>\n",
       "      <th>2013-01-05</th>\n",
       "      <td>0.869252</td>\n",
       "      <td>-0.654880</td>\n",
       "      <td>-0.891670</td>\n",
       "      <td>0.064009</td>\n",
       "    </tr>\n",
       "    <tr>\n",
       "      <th>2013-01-06</th>\n",
       "      <td>0.642094</td>\n",
       "      <td>0.258994</td>\n",
       "      <td>1.088695</td>\n",
       "      <td>-1.880042</td>\n",
       "    </tr>\n",
       "    <tr>\n",
       "      <th>2013-01-03</th>\n",
       "      <td>0.780970</td>\n",
       "      <td>0.818403</td>\n",
       "      <td>-0.500051</td>\n",
       "      <td>0.161445</td>\n",
       "    </tr>\n",
       "    <tr>\n",
       "      <th>2013-01-04</th>\n",
       "      <td>0.775657</td>\n",
       "      <td>1.224257</td>\n",
       "      <td>-0.254243</td>\n",
       "      <td>0.259410</td>\n",
       "    </tr>\n",
       "  </tbody>\n",
       "</table>\n",
       "</div>"
      ]
     },
     "execution_count": 34,
     "metadata": {},
     "output_type": "execute_result"
    }
   ],
   "execution_count": 34
  },
  {
   "cell_type": "code",
   "source": [
    "df.A"
   ],
   "metadata": {
    "collapsed": false,
    "ExecuteTime": {
     "end_time": "2024-11-09T20:40:08.239385Z",
     "start_time": "2024-11-09T20:40:08.236197Z"
    }
   },
   "outputs": [
    {
     "data": {
      "text/plain": [
       "2013-01-01    1.367869\n",
       "2013-01-02   -0.334422\n",
       "2013-01-03    0.780970\n",
       "2013-01-04    0.775657\n",
       "2013-01-05    0.869252\n",
       "2013-01-06    0.642094\n",
       "Freq: D, Name: A, dtype: float64"
      ]
     },
     "execution_count": 35,
     "metadata": {},
     "output_type": "execute_result"
    }
   ],
   "execution_count": 35
  },
  {
   "cell_type": "code",
   "source": [
    "df[\"A\"]"
   ],
   "metadata": {
    "collapsed": false,
    "ExecuteTime": {
     "end_time": "2024-11-09T20:40:08.420726Z",
     "start_time": "2024-11-09T20:40:08.417711Z"
    }
   },
   "outputs": [
    {
     "data": {
      "text/plain": [
       "2013-01-01    1.367869\n",
       "2013-01-02   -0.334422\n",
       "2013-01-03    0.780970\n",
       "2013-01-04    0.775657\n",
       "2013-01-05    0.869252\n",
       "2013-01-06    0.642094\n",
       "Freq: D, Name: A, dtype: float64"
      ]
     },
     "execution_count": 36,
     "metadata": {},
     "output_type": "execute_result"
    }
   ],
   "execution_count": 36
  },
  {
   "cell_type": "code",
   "source": [
    "df[0:3]"
   ],
   "metadata": {
    "collapsed": false,
    "ExecuteTime": {
     "end_time": "2024-11-09T20:40:08.519797Z",
     "start_time": "2024-11-09T20:40:08.515470Z"
    }
   },
   "outputs": [
    {
     "data": {
      "text/plain": [
       "                   A         B         C         D\n",
       "2013-01-01  1.367869 -2.197997 -0.020845 -0.739462\n",
       "2013-01-02 -0.334422 -1.164065 -1.734380 -0.287819\n",
       "2013-01-03  0.780970  0.818403 -0.500051  0.161445"
      ],
      "text/html": [
       "<div>\n",
       "<style scoped>\n",
       "    .dataframe tbody tr th:only-of-type {\n",
       "        vertical-align: middle;\n",
       "    }\n",
       "\n",
       "    .dataframe tbody tr th {\n",
       "        vertical-align: top;\n",
       "    }\n",
       "\n",
       "    .dataframe thead th {\n",
       "        text-align: right;\n",
       "    }\n",
       "</style>\n",
       "<table border=\"1\" class=\"dataframe\">\n",
       "  <thead>\n",
       "    <tr style=\"text-align: right;\">\n",
       "      <th></th>\n",
       "      <th>A</th>\n",
       "      <th>B</th>\n",
       "      <th>C</th>\n",
       "      <th>D</th>\n",
       "    </tr>\n",
       "  </thead>\n",
       "  <tbody>\n",
       "    <tr>\n",
       "      <th>2013-01-01</th>\n",
       "      <td>1.367869</td>\n",
       "      <td>-2.197997</td>\n",
       "      <td>-0.020845</td>\n",
       "      <td>-0.739462</td>\n",
       "    </tr>\n",
       "    <tr>\n",
       "      <th>2013-01-02</th>\n",
       "      <td>-0.334422</td>\n",
       "      <td>-1.164065</td>\n",
       "      <td>-1.734380</td>\n",
       "      <td>-0.287819</td>\n",
       "    </tr>\n",
       "    <tr>\n",
       "      <th>2013-01-03</th>\n",
       "      <td>0.780970</td>\n",
       "      <td>0.818403</td>\n",
       "      <td>-0.500051</td>\n",
       "      <td>0.161445</td>\n",
       "    </tr>\n",
       "  </tbody>\n",
       "</table>\n",
       "</div>"
      ]
     },
     "execution_count": 37,
     "metadata": {},
     "output_type": "execute_result"
    }
   ],
   "execution_count": 37
  },
  {
   "cell_type": "code",
   "source": [
    "df[\"20130102\":\"20130104\"]"
   ],
   "metadata": {
    "collapsed": false,
    "ExecuteTime": {
     "end_time": "2024-11-09T20:40:08.634748Z",
     "start_time": "2024-11-09T20:40:08.629660Z"
    }
   },
   "outputs": [
    {
     "data": {
      "text/plain": [
       "                   A         B         C         D\n",
       "2013-01-02 -0.334422 -1.164065 -1.734380 -0.287819\n",
       "2013-01-03  0.780970  0.818403 -0.500051  0.161445\n",
       "2013-01-04  0.775657  1.224257 -0.254243  0.259410"
      ],
      "text/html": [
       "<div>\n",
       "<style scoped>\n",
       "    .dataframe tbody tr th:only-of-type {\n",
       "        vertical-align: middle;\n",
       "    }\n",
       "\n",
       "    .dataframe tbody tr th {\n",
       "        vertical-align: top;\n",
       "    }\n",
       "\n",
       "    .dataframe thead th {\n",
       "        text-align: right;\n",
       "    }\n",
       "</style>\n",
       "<table border=\"1\" class=\"dataframe\">\n",
       "  <thead>\n",
       "    <tr style=\"text-align: right;\">\n",
       "      <th></th>\n",
       "      <th>A</th>\n",
       "      <th>B</th>\n",
       "      <th>C</th>\n",
       "      <th>D</th>\n",
       "    </tr>\n",
       "  </thead>\n",
       "  <tbody>\n",
       "    <tr>\n",
       "      <th>2013-01-02</th>\n",
       "      <td>-0.334422</td>\n",
       "      <td>-1.164065</td>\n",
       "      <td>-1.734380</td>\n",
       "      <td>-0.287819</td>\n",
       "    </tr>\n",
       "    <tr>\n",
       "      <th>2013-01-03</th>\n",
       "      <td>0.780970</td>\n",
       "      <td>0.818403</td>\n",
       "      <td>-0.500051</td>\n",
       "      <td>0.161445</td>\n",
       "    </tr>\n",
       "    <tr>\n",
       "      <th>2013-01-04</th>\n",
       "      <td>0.775657</td>\n",
       "      <td>1.224257</td>\n",
       "      <td>-0.254243</td>\n",
       "      <td>0.259410</td>\n",
       "    </tr>\n",
       "  </tbody>\n",
       "</table>\n",
       "</div>"
      ]
     },
     "execution_count": 38,
     "metadata": {},
     "output_type": "execute_result"
    }
   ],
   "execution_count": 38
  },
  {
   "cell_type": "code",
   "source": [
    "df.loc[dates[0]]"
   ],
   "metadata": {
    "collapsed": false,
    "ExecuteTime": {
     "end_time": "2024-11-09T20:40:08.803249Z",
     "start_time": "2024-11-09T20:40:08.800142Z"
    }
   },
   "outputs": [
    {
     "data": {
      "text/plain": [
       "A    1.367869\n",
       "B   -2.197997\n",
       "C   -0.020845\n",
       "D   -0.739462\n",
       "Name: 2013-01-01 00:00:00, dtype: float64"
      ]
     },
     "execution_count": 39,
     "metadata": {},
     "output_type": "execute_result"
    }
   ],
   "execution_count": 39
  },
  {
   "cell_type": "code",
   "source": [
    "df.loc[:, [\"A\", \"B\"]]"
   ],
   "metadata": {
    "collapsed": false,
    "ExecuteTime": {
     "end_time": "2024-11-09T20:40:08.950627Z",
     "start_time": "2024-11-09T20:40:08.946199Z"
    }
   },
   "outputs": [
    {
     "data": {
      "text/plain": [
       "                   A         B\n",
       "2013-01-01  1.367869 -2.197997\n",
       "2013-01-02 -0.334422 -1.164065\n",
       "2013-01-03  0.780970  0.818403\n",
       "2013-01-04  0.775657  1.224257\n",
       "2013-01-05  0.869252 -0.654880\n",
       "2013-01-06  0.642094  0.258994"
      ],
      "text/html": [
       "<div>\n",
       "<style scoped>\n",
       "    .dataframe tbody tr th:only-of-type {\n",
       "        vertical-align: middle;\n",
       "    }\n",
       "\n",
       "    .dataframe tbody tr th {\n",
       "        vertical-align: top;\n",
       "    }\n",
       "\n",
       "    .dataframe thead th {\n",
       "        text-align: right;\n",
       "    }\n",
       "</style>\n",
       "<table border=\"1\" class=\"dataframe\">\n",
       "  <thead>\n",
       "    <tr style=\"text-align: right;\">\n",
       "      <th></th>\n",
       "      <th>A</th>\n",
       "      <th>B</th>\n",
       "    </tr>\n",
       "  </thead>\n",
       "  <tbody>\n",
       "    <tr>\n",
       "      <th>2013-01-01</th>\n",
       "      <td>1.367869</td>\n",
       "      <td>-2.197997</td>\n",
       "    </tr>\n",
       "    <tr>\n",
       "      <th>2013-01-02</th>\n",
       "      <td>-0.334422</td>\n",
       "      <td>-1.164065</td>\n",
       "    </tr>\n",
       "    <tr>\n",
       "      <th>2013-01-03</th>\n",
       "      <td>0.780970</td>\n",
       "      <td>0.818403</td>\n",
       "    </tr>\n",
       "    <tr>\n",
       "      <th>2013-01-04</th>\n",
       "      <td>0.775657</td>\n",
       "      <td>1.224257</td>\n",
       "    </tr>\n",
       "    <tr>\n",
       "      <th>2013-01-05</th>\n",
       "      <td>0.869252</td>\n",
       "      <td>-0.654880</td>\n",
       "    </tr>\n",
       "    <tr>\n",
       "      <th>2013-01-06</th>\n",
       "      <td>0.642094</td>\n",
       "      <td>0.258994</td>\n",
       "    </tr>\n",
       "  </tbody>\n",
       "</table>\n",
       "</div>"
      ]
     },
     "execution_count": 40,
     "metadata": {},
     "output_type": "execute_result"
    }
   ],
   "execution_count": 40
  },
  {
   "cell_type": "code",
   "source": [
    "df.loc[\"20130102\":\"20130104\", [\"A\", \"B\"]]"
   ],
   "metadata": {
    "collapsed": false,
    "ExecuteTime": {
     "end_time": "2024-11-09T20:40:09.019191Z",
     "start_time": "2024-11-09T20:40:09.014064Z"
    }
   },
   "outputs": [
    {
     "data": {
      "text/plain": [
       "                   A         B\n",
       "2013-01-02 -0.334422 -1.164065\n",
       "2013-01-03  0.780970  0.818403\n",
       "2013-01-04  0.775657  1.224257"
      ],
      "text/html": [
       "<div>\n",
       "<style scoped>\n",
       "    .dataframe tbody tr th:only-of-type {\n",
       "        vertical-align: middle;\n",
       "    }\n",
       "\n",
       "    .dataframe tbody tr th {\n",
       "        vertical-align: top;\n",
       "    }\n",
       "\n",
       "    .dataframe thead th {\n",
       "        text-align: right;\n",
       "    }\n",
       "</style>\n",
       "<table border=\"1\" class=\"dataframe\">\n",
       "  <thead>\n",
       "    <tr style=\"text-align: right;\">\n",
       "      <th></th>\n",
       "      <th>A</th>\n",
       "      <th>B</th>\n",
       "    </tr>\n",
       "  </thead>\n",
       "  <tbody>\n",
       "    <tr>\n",
       "      <th>2013-01-02</th>\n",
       "      <td>-0.334422</td>\n",
       "      <td>-1.164065</td>\n",
       "    </tr>\n",
       "    <tr>\n",
       "      <th>2013-01-03</th>\n",
       "      <td>0.780970</td>\n",
       "      <td>0.818403</td>\n",
       "    </tr>\n",
       "    <tr>\n",
       "      <th>2013-01-04</th>\n",
       "      <td>0.775657</td>\n",
       "      <td>1.224257</td>\n",
       "    </tr>\n",
       "  </tbody>\n",
       "</table>\n",
       "</div>"
      ]
     },
     "execution_count": 41,
     "metadata": {},
     "output_type": "execute_result"
    }
   ],
   "execution_count": 41
  },
  {
   "cell_type": "code",
   "source": [
    "df.loc[\"20130102\", [\"A\", \"B\"]]"
   ],
   "metadata": {
    "collapsed": false,
    "ExecuteTime": {
     "end_time": "2024-11-09T20:40:09.144512Z",
     "start_time": "2024-11-09T20:40:09.141296Z"
    }
   },
   "outputs": [
    {
     "data": {
      "text/plain": [
       "A   -0.334422\n",
       "B   -1.164065\n",
       "Name: 2013-01-02 00:00:00, dtype: float64"
      ]
     },
     "execution_count": 42,
     "metadata": {},
     "output_type": "execute_result"
    }
   ],
   "execution_count": 42
  },
  {
   "cell_type": "code",
   "source": [
    "df.loc[dates[0], \"A\"]"
   ],
   "metadata": {
    "collapsed": false,
    "ExecuteTime": {
     "end_time": "2024-11-09T20:40:09.353651Z",
     "start_time": "2024-11-09T20:40:09.350564Z"
    }
   },
   "outputs": [
    {
     "data": {
      "text/plain": [
       "np.float64(1.3678690258034767)"
      ]
     },
     "execution_count": 43,
     "metadata": {},
     "output_type": "execute_result"
    }
   ],
   "execution_count": 43
  },
  {
   "cell_type": "code",
   "source": [
    "df.at[dates[0], \"A\"]"
   ],
   "metadata": {
    "collapsed": false,
    "ExecuteTime": {
     "end_time": "2024-11-09T20:40:09.536398Z",
     "start_time": "2024-11-09T20:40:09.533458Z"
    }
   },
   "outputs": [
    {
     "data": {
      "text/plain": [
       "np.float64(1.3678690258034767)"
      ]
     },
     "execution_count": 44,
     "metadata": {},
     "output_type": "execute_result"
    }
   ],
   "execution_count": 44
  },
  {
   "cell_type": "code",
   "source": [
    "df.iloc[3]"
   ],
   "metadata": {
    "collapsed": false,
    "ExecuteTime": {
     "end_time": "2024-11-09T20:40:09.665029Z",
     "start_time": "2024-11-09T20:40:09.661911Z"
    }
   },
   "outputs": [
    {
     "data": {
      "text/plain": [
       "A    0.775657\n",
       "B    1.224257\n",
       "C   -0.254243\n",
       "D    0.259410\n",
       "Name: 2013-01-04 00:00:00, dtype: float64"
      ]
     },
     "execution_count": 45,
     "metadata": {},
     "output_type": "execute_result"
    }
   ],
   "execution_count": 45
  },
  {
   "cell_type": "code",
   "source": [
    "df.iloc[3:5, 0:2]"
   ],
   "metadata": {
    "collapsed": false,
    "ExecuteTime": {
     "end_time": "2024-11-09T20:40:09.817929Z",
     "start_time": "2024-11-09T20:40:09.814263Z"
    }
   },
   "outputs": [
    {
     "data": {
      "text/plain": [
       "                   A         B\n",
       "2013-01-04  0.775657  1.224257\n",
       "2013-01-05  0.869252 -0.654880"
      ],
      "text/html": [
       "<div>\n",
       "<style scoped>\n",
       "    .dataframe tbody tr th:only-of-type {\n",
       "        vertical-align: middle;\n",
       "    }\n",
       "\n",
       "    .dataframe tbody tr th {\n",
       "        vertical-align: top;\n",
       "    }\n",
       "\n",
       "    .dataframe thead th {\n",
       "        text-align: right;\n",
       "    }\n",
       "</style>\n",
       "<table border=\"1\" class=\"dataframe\">\n",
       "  <thead>\n",
       "    <tr style=\"text-align: right;\">\n",
       "      <th></th>\n",
       "      <th>A</th>\n",
       "      <th>B</th>\n",
       "    </tr>\n",
       "  </thead>\n",
       "  <tbody>\n",
       "    <tr>\n",
       "      <th>2013-01-04</th>\n",
       "      <td>0.775657</td>\n",
       "      <td>1.224257</td>\n",
       "    </tr>\n",
       "    <tr>\n",
       "      <th>2013-01-05</th>\n",
       "      <td>0.869252</td>\n",
       "      <td>-0.654880</td>\n",
       "    </tr>\n",
       "  </tbody>\n",
       "</table>\n",
       "</div>"
      ]
     },
     "execution_count": 46,
     "metadata": {},
     "output_type": "execute_result"
    }
   ],
   "execution_count": 46
  },
  {
   "cell_type": "code",
   "source": [
    "df.iloc[[1, 2, 4], [0, 2]]"
   ],
   "metadata": {
    "collapsed": false,
    "ExecuteTime": {
     "end_time": "2024-11-09T20:40:09.848475Z",
     "start_time": "2024-11-09T20:40:09.844802Z"
    }
   },
   "outputs": [
    {
     "data": {
      "text/plain": [
       "                   A         C\n",
       "2013-01-02 -0.334422 -1.734380\n",
       "2013-01-03  0.780970 -0.500051\n",
       "2013-01-05  0.869252 -0.891670"
      ],
      "text/html": [
       "<div>\n",
       "<style scoped>\n",
       "    .dataframe tbody tr th:only-of-type {\n",
       "        vertical-align: middle;\n",
       "    }\n",
       "\n",
       "    .dataframe tbody tr th {\n",
       "        vertical-align: top;\n",
       "    }\n",
       "\n",
       "    .dataframe thead th {\n",
       "        text-align: right;\n",
       "    }\n",
       "</style>\n",
       "<table border=\"1\" class=\"dataframe\">\n",
       "  <thead>\n",
       "    <tr style=\"text-align: right;\">\n",
       "      <th></th>\n",
       "      <th>A</th>\n",
       "      <th>C</th>\n",
       "    </tr>\n",
       "  </thead>\n",
       "  <tbody>\n",
       "    <tr>\n",
       "      <th>2013-01-02</th>\n",
       "      <td>-0.334422</td>\n",
       "      <td>-1.734380</td>\n",
       "    </tr>\n",
       "    <tr>\n",
       "      <th>2013-01-03</th>\n",
       "      <td>0.780970</td>\n",
       "      <td>-0.500051</td>\n",
       "    </tr>\n",
       "    <tr>\n",
       "      <th>2013-01-05</th>\n",
       "      <td>0.869252</td>\n",
       "      <td>-0.891670</td>\n",
       "    </tr>\n",
       "  </tbody>\n",
       "</table>\n",
       "</div>"
      ]
     },
     "execution_count": 47,
     "metadata": {},
     "output_type": "execute_result"
    }
   ],
   "execution_count": 47
  },
  {
   "cell_type": "code",
   "source": [
    "df.iloc[1:3, :]"
   ],
   "metadata": {
    "collapsed": false,
    "ExecuteTime": {
     "end_time": "2024-11-09T20:40:09.942829Z",
     "start_time": "2024-11-09T20:40:09.938684Z"
    }
   },
   "outputs": [
    {
     "data": {
      "text/plain": [
       "                   A         B         C         D\n",
       "2013-01-02 -0.334422 -1.164065 -1.734380 -0.287819\n",
       "2013-01-03  0.780970  0.818403 -0.500051  0.161445"
      ],
      "text/html": [
       "<div>\n",
       "<style scoped>\n",
       "    .dataframe tbody tr th:only-of-type {\n",
       "        vertical-align: middle;\n",
       "    }\n",
       "\n",
       "    .dataframe tbody tr th {\n",
       "        vertical-align: top;\n",
       "    }\n",
       "\n",
       "    .dataframe thead th {\n",
       "        text-align: right;\n",
       "    }\n",
       "</style>\n",
       "<table border=\"1\" class=\"dataframe\">\n",
       "  <thead>\n",
       "    <tr style=\"text-align: right;\">\n",
       "      <th></th>\n",
       "      <th>A</th>\n",
       "      <th>B</th>\n",
       "      <th>C</th>\n",
       "      <th>D</th>\n",
       "    </tr>\n",
       "  </thead>\n",
       "  <tbody>\n",
       "    <tr>\n",
       "      <th>2013-01-02</th>\n",
       "      <td>-0.334422</td>\n",
       "      <td>-1.164065</td>\n",
       "      <td>-1.734380</td>\n",
       "      <td>-0.287819</td>\n",
       "    </tr>\n",
       "    <tr>\n",
       "      <th>2013-01-03</th>\n",
       "      <td>0.780970</td>\n",
       "      <td>0.818403</td>\n",
       "      <td>-0.500051</td>\n",
       "      <td>0.161445</td>\n",
       "    </tr>\n",
       "  </tbody>\n",
       "</table>\n",
       "</div>"
      ]
     },
     "execution_count": 48,
     "metadata": {},
     "output_type": "execute_result"
    }
   ],
   "execution_count": 48
  },
  {
   "cell_type": "code",
   "source": [
    "df.iloc[:, 1:3]"
   ],
   "metadata": {
    "collapsed": false,
    "ExecuteTime": {
     "end_time": "2024-11-09T20:40:10.043329Z",
     "start_time": "2024-11-09T20:40:10.039275Z"
    }
   },
   "outputs": [
    {
     "data": {
      "text/plain": [
       "                   B         C\n",
       "2013-01-01 -2.197997 -0.020845\n",
       "2013-01-02 -1.164065 -1.734380\n",
       "2013-01-03  0.818403 -0.500051\n",
       "2013-01-04  1.224257 -0.254243\n",
       "2013-01-05 -0.654880 -0.891670\n",
       "2013-01-06  0.258994  1.088695"
      ],
      "text/html": [
       "<div>\n",
       "<style scoped>\n",
       "    .dataframe tbody tr th:only-of-type {\n",
       "        vertical-align: middle;\n",
       "    }\n",
       "\n",
       "    .dataframe tbody tr th {\n",
       "        vertical-align: top;\n",
       "    }\n",
       "\n",
       "    .dataframe thead th {\n",
       "        text-align: right;\n",
       "    }\n",
       "</style>\n",
       "<table border=\"1\" class=\"dataframe\">\n",
       "  <thead>\n",
       "    <tr style=\"text-align: right;\">\n",
       "      <th></th>\n",
       "      <th>B</th>\n",
       "      <th>C</th>\n",
       "    </tr>\n",
       "  </thead>\n",
       "  <tbody>\n",
       "    <tr>\n",
       "      <th>2013-01-01</th>\n",
       "      <td>-2.197997</td>\n",
       "      <td>-0.020845</td>\n",
       "    </tr>\n",
       "    <tr>\n",
       "      <th>2013-01-02</th>\n",
       "      <td>-1.164065</td>\n",
       "      <td>-1.734380</td>\n",
       "    </tr>\n",
       "    <tr>\n",
       "      <th>2013-01-03</th>\n",
       "      <td>0.818403</td>\n",
       "      <td>-0.500051</td>\n",
       "    </tr>\n",
       "    <tr>\n",
       "      <th>2013-01-04</th>\n",
       "      <td>1.224257</td>\n",
       "      <td>-0.254243</td>\n",
       "    </tr>\n",
       "    <tr>\n",
       "      <th>2013-01-05</th>\n",
       "      <td>-0.654880</td>\n",
       "      <td>-0.891670</td>\n",
       "    </tr>\n",
       "    <tr>\n",
       "      <th>2013-01-06</th>\n",
       "      <td>0.258994</td>\n",
       "      <td>1.088695</td>\n",
       "    </tr>\n",
       "  </tbody>\n",
       "</table>\n",
       "</div>"
      ]
     },
     "execution_count": 49,
     "metadata": {},
     "output_type": "execute_result"
    }
   ],
   "execution_count": 49
  },
  {
   "cell_type": "code",
   "source": [
    "df.iloc[1, 1]"
   ],
   "metadata": {
    "collapsed": false,
    "ExecuteTime": {
     "end_time": "2024-11-09T20:40:10.163519Z",
     "start_time": "2024-11-09T20:40:10.161140Z"
    }
   },
   "outputs": [
    {
     "data": {
      "text/plain": [
       "np.float64(-1.1640654087204958)"
      ]
     },
     "execution_count": 50,
     "metadata": {},
     "output_type": "execute_result"
    }
   ],
   "execution_count": 50
  },
  {
   "cell_type": "code",
   "source": [
    "df.iat[1, 1]"
   ],
   "metadata": {
    "collapsed": false,
    "ExecuteTime": {
     "end_time": "2024-11-09T20:40:10.272152Z",
     "start_time": "2024-11-09T20:40:10.269778Z"
    }
   },
   "outputs": [
    {
     "data": {
      "text/plain": [
       "np.float64(-1.1640654087204958)"
      ]
     },
     "execution_count": 51,
     "metadata": {},
     "output_type": "execute_result"
    }
   ],
   "execution_count": 51
  },
  {
   "cell_type": "code",
   "source": [
    "df[df[\"A\"] > 0]"
   ],
   "metadata": {
    "collapsed": false,
    "ExecuteTime": {
     "end_time": "2024-11-09T20:40:10.364115Z",
     "start_time": "2024-11-09T20:40:10.359980Z"
    }
   },
   "outputs": [
    {
     "data": {
      "text/plain": [
       "                   A         B         C         D\n",
       "2013-01-01  1.367869 -2.197997 -0.020845 -0.739462\n",
       "2013-01-03  0.780970  0.818403 -0.500051  0.161445\n",
       "2013-01-04  0.775657  1.224257 -0.254243  0.259410\n",
       "2013-01-05  0.869252 -0.654880 -0.891670  0.064009\n",
       "2013-01-06  0.642094  0.258994  1.088695 -1.880042"
      ],
      "text/html": [
       "<div>\n",
       "<style scoped>\n",
       "    .dataframe tbody tr th:only-of-type {\n",
       "        vertical-align: middle;\n",
       "    }\n",
       "\n",
       "    .dataframe tbody tr th {\n",
       "        vertical-align: top;\n",
       "    }\n",
       "\n",
       "    .dataframe thead th {\n",
       "        text-align: right;\n",
       "    }\n",
       "</style>\n",
       "<table border=\"1\" class=\"dataframe\">\n",
       "  <thead>\n",
       "    <tr style=\"text-align: right;\">\n",
       "      <th></th>\n",
       "      <th>A</th>\n",
       "      <th>B</th>\n",
       "      <th>C</th>\n",
       "      <th>D</th>\n",
       "    </tr>\n",
       "  </thead>\n",
       "  <tbody>\n",
       "    <tr>\n",
       "      <th>2013-01-01</th>\n",
       "      <td>1.367869</td>\n",
       "      <td>-2.197997</td>\n",
       "      <td>-0.020845</td>\n",
       "      <td>-0.739462</td>\n",
       "    </tr>\n",
       "    <tr>\n",
       "      <th>2013-01-03</th>\n",
       "      <td>0.780970</td>\n",
       "      <td>0.818403</td>\n",
       "      <td>-0.500051</td>\n",
       "      <td>0.161445</td>\n",
       "    </tr>\n",
       "    <tr>\n",
       "      <th>2013-01-04</th>\n",
       "      <td>0.775657</td>\n",
       "      <td>1.224257</td>\n",
       "      <td>-0.254243</td>\n",
       "      <td>0.259410</td>\n",
       "    </tr>\n",
       "    <tr>\n",
       "      <th>2013-01-05</th>\n",
       "      <td>0.869252</td>\n",
       "      <td>-0.654880</td>\n",
       "      <td>-0.891670</td>\n",
       "      <td>0.064009</td>\n",
       "    </tr>\n",
       "    <tr>\n",
       "      <th>2013-01-06</th>\n",
       "      <td>0.642094</td>\n",
       "      <td>0.258994</td>\n",
       "      <td>1.088695</td>\n",
       "      <td>-1.880042</td>\n",
       "    </tr>\n",
       "  </tbody>\n",
       "</table>\n",
       "</div>"
      ]
     },
     "execution_count": 52,
     "metadata": {},
     "output_type": "execute_result"
    }
   ],
   "execution_count": 52
  },
  {
   "cell_type": "code",
   "source": [
    "df[df > 0]"
   ],
   "metadata": {
    "collapsed": false,
    "ExecuteTime": {
     "end_time": "2024-11-09T20:40:10.489909Z",
     "start_time": "2024-11-09T20:40:10.485806Z"
    }
   },
   "outputs": [
    {
     "data": {
      "text/plain": [
       "                   A         B         C         D\n",
       "2013-01-01  1.367869       NaN       NaN       NaN\n",
       "2013-01-02       NaN       NaN       NaN       NaN\n",
       "2013-01-03  0.780970  0.818403       NaN  0.161445\n",
       "2013-01-04  0.775657  1.224257       NaN  0.259410\n",
       "2013-01-05  0.869252       NaN       NaN  0.064009\n",
       "2013-01-06  0.642094  0.258994  1.088695       NaN"
      ],
      "text/html": [
       "<div>\n",
       "<style scoped>\n",
       "    .dataframe tbody tr th:only-of-type {\n",
       "        vertical-align: middle;\n",
       "    }\n",
       "\n",
       "    .dataframe tbody tr th {\n",
       "        vertical-align: top;\n",
       "    }\n",
       "\n",
       "    .dataframe thead th {\n",
       "        text-align: right;\n",
       "    }\n",
       "</style>\n",
       "<table border=\"1\" class=\"dataframe\">\n",
       "  <thead>\n",
       "    <tr style=\"text-align: right;\">\n",
       "      <th></th>\n",
       "      <th>A</th>\n",
       "      <th>B</th>\n",
       "      <th>C</th>\n",
       "      <th>D</th>\n",
       "    </tr>\n",
       "  </thead>\n",
       "  <tbody>\n",
       "    <tr>\n",
       "      <th>2013-01-01</th>\n",
       "      <td>1.367869</td>\n",
       "      <td>NaN</td>\n",
       "      <td>NaN</td>\n",
       "      <td>NaN</td>\n",
       "    </tr>\n",
       "    <tr>\n",
       "      <th>2013-01-02</th>\n",
       "      <td>NaN</td>\n",
       "      <td>NaN</td>\n",
       "      <td>NaN</td>\n",
       "      <td>NaN</td>\n",
       "    </tr>\n",
       "    <tr>\n",
       "      <th>2013-01-03</th>\n",
       "      <td>0.780970</td>\n",
       "      <td>0.818403</td>\n",
       "      <td>NaN</td>\n",
       "      <td>0.161445</td>\n",
       "    </tr>\n",
       "    <tr>\n",
       "      <th>2013-01-04</th>\n",
       "      <td>0.775657</td>\n",
       "      <td>1.224257</td>\n",
       "      <td>NaN</td>\n",
       "      <td>0.259410</td>\n",
       "    </tr>\n",
       "    <tr>\n",
       "      <th>2013-01-05</th>\n",
       "      <td>0.869252</td>\n",
       "      <td>NaN</td>\n",
       "      <td>NaN</td>\n",
       "      <td>0.064009</td>\n",
       "    </tr>\n",
       "    <tr>\n",
       "      <th>2013-01-06</th>\n",
       "      <td>0.642094</td>\n",
       "      <td>0.258994</td>\n",
       "      <td>1.088695</td>\n",
       "      <td>NaN</td>\n",
       "    </tr>\n",
       "  </tbody>\n",
       "</table>\n",
       "</div>"
      ]
     },
     "execution_count": 53,
     "metadata": {},
     "output_type": "execute_result"
    }
   ],
   "execution_count": 53
  },
  {
   "cell_type": "code",
   "source": [
    "df2 = df.copy()"
   ],
   "metadata": {
    "collapsed": false,
    "ExecuteTime": {
     "end_time": "2024-11-09T20:40:10.518837Z",
     "start_time": "2024-11-09T20:40:10.517037Z"
    }
   },
   "outputs": [],
   "execution_count": 54
  },
  {
   "cell_type": "code",
   "source": [
    "df2[\"E\"] = [\"one\", \"one\", \"two\", \"three\", \"four\", \"three\"]"
   ],
   "metadata": {
    "collapsed": false,
    "ExecuteTime": {
     "end_time": "2024-11-09T20:40:10.613630Z",
     "start_time": "2024-11-09T20:40:10.611028Z"
    }
   },
   "outputs": [],
   "execution_count": 55
  },
  {
   "cell_type": "code",
   "source": [
    "df2"
   ],
   "metadata": {
    "collapsed": false,
    "ExecuteTime": {
     "end_time": "2024-11-09T20:40:10.667284Z",
     "start_time": "2024-11-09T20:40:10.662373Z"
    }
   },
   "outputs": [
    {
     "data": {
      "text/plain": [
       "                   A         B         C         D      E\n",
       "2013-01-01  1.367869 -2.197997 -0.020845 -0.739462    one\n",
       "2013-01-02 -0.334422 -1.164065 -1.734380 -0.287819    one\n",
       "2013-01-03  0.780970  0.818403 -0.500051  0.161445    two\n",
       "2013-01-04  0.775657  1.224257 -0.254243  0.259410  three\n",
       "2013-01-05  0.869252 -0.654880 -0.891670  0.064009   four\n",
       "2013-01-06  0.642094  0.258994  1.088695 -1.880042  three"
      ],
      "text/html": [
       "<div>\n",
       "<style scoped>\n",
       "    .dataframe tbody tr th:only-of-type {\n",
       "        vertical-align: middle;\n",
       "    }\n",
       "\n",
       "    .dataframe tbody tr th {\n",
       "        vertical-align: top;\n",
       "    }\n",
       "\n",
       "    .dataframe thead th {\n",
       "        text-align: right;\n",
       "    }\n",
       "</style>\n",
       "<table border=\"1\" class=\"dataframe\">\n",
       "  <thead>\n",
       "    <tr style=\"text-align: right;\">\n",
       "      <th></th>\n",
       "      <th>A</th>\n",
       "      <th>B</th>\n",
       "      <th>C</th>\n",
       "      <th>D</th>\n",
       "      <th>E</th>\n",
       "    </tr>\n",
       "  </thead>\n",
       "  <tbody>\n",
       "    <tr>\n",
       "      <th>2013-01-01</th>\n",
       "      <td>1.367869</td>\n",
       "      <td>-2.197997</td>\n",
       "      <td>-0.020845</td>\n",
       "      <td>-0.739462</td>\n",
       "      <td>one</td>\n",
       "    </tr>\n",
       "    <tr>\n",
       "      <th>2013-01-02</th>\n",
       "      <td>-0.334422</td>\n",
       "      <td>-1.164065</td>\n",
       "      <td>-1.734380</td>\n",
       "      <td>-0.287819</td>\n",
       "      <td>one</td>\n",
       "    </tr>\n",
       "    <tr>\n",
       "      <th>2013-01-03</th>\n",
       "      <td>0.780970</td>\n",
       "      <td>0.818403</td>\n",
       "      <td>-0.500051</td>\n",
       "      <td>0.161445</td>\n",
       "      <td>two</td>\n",
       "    </tr>\n",
       "    <tr>\n",
       "      <th>2013-01-04</th>\n",
       "      <td>0.775657</td>\n",
       "      <td>1.224257</td>\n",
       "      <td>-0.254243</td>\n",
       "      <td>0.259410</td>\n",
       "      <td>three</td>\n",
       "    </tr>\n",
       "    <tr>\n",
       "      <th>2013-01-05</th>\n",
       "      <td>0.869252</td>\n",
       "      <td>-0.654880</td>\n",
       "      <td>-0.891670</td>\n",
       "      <td>0.064009</td>\n",
       "      <td>four</td>\n",
       "    </tr>\n",
       "    <tr>\n",
       "      <th>2013-01-06</th>\n",
       "      <td>0.642094</td>\n",
       "      <td>0.258994</td>\n",
       "      <td>1.088695</td>\n",
       "      <td>-1.880042</td>\n",
       "      <td>three</td>\n",
       "    </tr>\n",
       "  </tbody>\n",
       "</table>\n",
       "</div>"
      ]
     },
     "execution_count": 56,
     "metadata": {},
     "output_type": "execute_result"
    }
   ],
   "execution_count": 56
  },
  {
   "cell_type": "code",
   "source": [
    "df2[df2[\"E\"].isin([\"two\", \"four\"])]"
   ],
   "metadata": {
    "collapsed": false,
    "ExecuteTime": {
     "end_time": "2024-11-09T20:40:10.753874Z",
     "start_time": "2024-11-09T20:40:10.748201Z"
    }
   },
   "outputs": [
    {
     "data": {
      "text/plain": [
       "                   A         B         C         D     E\n",
       "2013-01-03  0.780970  0.818403 -0.500051  0.161445   two\n",
       "2013-01-05  0.869252 -0.654880 -0.891670  0.064009  four"
      ],
      "text/html": [
       "<div>\n",
       "<style scoped>\n",
       "    .dataframe tbody tr th:only-of-type {\n",
       "        vertical-align: middle;\n",
       "    }\n",
       "\n",
       "    .dataframe tbody tr th {\n",
       "        vertical-align: top;\n",
       "    }\n",
       "\n",
       "    .dataframe thead th {\n",
       "        text-align: right;\n",
       "    }\n",
       "</style>\n",
       "<table border=\"1\" class=\"dataframe\">\n",
       "  <thead>\n",
       "    <tr style=\"text-align: right;\">\n",
       "      <th></th>\n",
       "      <th>A</th>\n",
       "      <th>B</th>\n",
       "      <th>C</th>\n",
       "      <th>D</th>\n",
       "      <th>E</th>\n",
       "    </tr>\n",
       "  </thead>\n",
       "  <tbody>\n",
       "    <tr>\n",
       "      <th>2013-01-03</th>\n",
       "      <td>0.780970</td>\n",
       "      <td>0.818403</td>\n",
       "      <td>-0.500051</td>\n",
       "      <td>0.161445</td>\n",
       "      <td>two</td>\n",
       "    </tr>\n",
       "    <tr>\n",
       "      <th>2013-01-05</th>\n",
       "      <td>0.869252</td>\n",
       "      <td>-0.654880</td>\n",
       "      <td>-0.891670</td>\n",
       "      <td>0.064009</td>\n",
       "      <td>four</td>\n",
       "    </tr>\n",
       "  </tbody>\n",
       "</table>\n",
       "</div>"
      ]
     },
     "execution_count": 57,
     "metadata": {},
     "output_type": "execute_result"
    }
   ],
   "execution_count": 57
  },
  {
   "cell_type": "code",
   "source": [
    "s1 = pd.Series([1, 2, 3, 4, 5, 6], index=pd.date_range(\"20130102\", periods=6))\n",
    "s1"
   ],
   "metadata": {
    "collapsed": false,
    "ExecuteTime": {
     "end_time": "2024-11-09T20:40:10.826224Z",
     "start_time": "2024-11-09T20:40:10.822729Z"
    }
   },
   "outputs": [
    {
     "data": {
      "text/plain": [
       "2013-01-02    1\n",
       "2013-01-03    2\n",
       "2013-01-04    3\n",
       "2013-01-05    4\n",
       "2013-01-06    5\n",
       "2013-01-07    6\n",
       "Freq: D, dtype: int64"
      ]
     },
     "execution_count": 58,
     "metadata": {},
     "output_type": "execute_result"
    }
   ],
   "execution_count": 58
  },
  {
   "cell_type": "code",
   "source": [
    "df[\"F\"] = s1"
   ],
   "metadata": {
    "collapsed": false,
    "ExecuteTime": {
     "end_time": "2024-11-09T20:40:10.958853Z",
     "start_time": "2024-11-09T20:40:10.956562Z"
    }
   },
   "outputs": [],
   "execution_count": 59
  },
  {
   "cell_type": "code",
   "source": [
    "df.at[dates[0], \"A\"] = 0"
   ],
   "metadata": {
    "collapsed": false,
    "ExecuteTime": {
     "end_time": "2024-11-09T20:40:11.029211Z",
     "start_time": "2024-11-09T20:40:11.026531Z"
    }
   },
   "outputs": [],
   "execution_count": 60
  },
  {
   "cell_type": "code",
   "source": [
    "df.iat[0, 1] = 0"
   ],
   "metadata": {
    "collapsed": false,
    "ExecuteTime": {
     "end_time": "2024-11-09T20:40:11.103953Z",
     "start_time": "2024-11-09T20:40:11.102057Z"
    }
   },
   "outputs": [],
   "execution_count": 61
  },
  {
   "cell_type": "code",
   "source": [
    "df.loc[:, \"D\"] = np.array([5] * len(df))"
   ],
   "metadata": {
    "collapsed": false,
    "ExecuteTime": {
     "end_time": "2024-11-09T20:40:11.208295Z",
     "start_time": "2024-11-09T20:40:11.206102Z"
    }
   },
   "outputs": [],
   "execution_count": 62
  },
  {
   "cell_type": "code",
   "source": [
    "df2 = df.copy()"
   ],
   "metadata": {
    "collapsed": false,
    "ExecuteTime": {
     "end_time": "2024-11-09T20:40:11.237851Z",
     "start_time": "2024-11-09T20:40:11.235729Z"
    }
   },
   "outputs": [],
   "execution_count": 63
  },
  {
   "cell_type": "code",
   "source": [
    "df2[df2 > 0] = -df2"
   ],
   "metadata": {
    "collapsed": false,
    "ExecuteTime": {
     "end_time": "2024-11-09T20:40:11.258613Z",
     "start_time": "2024-11-09T20:40:11.255918Z"
    }
   },
   "outputs": [],
   "execution_count": 64
  },
  {
   "cell_type": "code",
   "source": [
    "df2"
   ],
   "metadata": {
    "collapsed": false,
    "ExecuteTime": {
     "end_time": "2024-11-09T20:40:11.280132Z",
     "start_time": "2024-11-09T20:40:11.275823Z"
    }
   },
   "outputs": [
    {
     "data": {
      "text/plain": [
       "                   A         B         C    D    F\n",
       "2013-01-01  0.000000  0.000000 -0.020845 -5.0  NaN\n",
       "2013-01-02 -0.334422 -1.164065 -1.734380 -5.0 -1.0\n",
       "2013-01-03 -0.780970 -0.818403 -0.500051 -5.0 -2.0\n",
       "2013-01-04 -0.775657 -1.224257 -0.254243 -5.0 -3.0\n",
       "2013-01-05 -0.869252 -0.654880 -0.891670 -5.0 -4.0\n",
       "2013-01-06 -0.642094 -0.258994 -1.088695 -5.0 -5.0"
      ],
      "text/html": [
       "<div>\n",
       "<style scoped>\n",
       "    .dataframe tbody tr th:only-of-type {\n",
       "        vertical-align: middle;\n",
       "    }\n",
       "\n",
       "    .dataframe tbody tr th {\n",
       "        vertical-align: top;\n",
       "    }\n",
       "\n",
       "    .dataframe thead th {\n",
       "        text-align: right;\n",
       "    }\n",
       "</style>\n",
       "<table border=\"1\" class=\"dataframe\">\n",
       "  <thead>\n",
       "    <tr style=\"text-align: right;\">\n",
       "      <th></th>\n",
       "      <th>A</th>\n",
       "      <th>B</th>\n",
       "      <th>C</th>\n",
       "      <th>D</th>\n",
       "      <th>F</th>\n",
       "    </tr>\n",
       "  </thead>\n",
       "  <tbody>\n",
       "    <tr>\n",
       "      <th>2013-01-01</th>\n",
       "      <td>0.000000</td>\n",
       "      <td>0.000000</td>\n",
       "      <td>-0.020845</td>\n",
       "      <td>-5.0</td>\n",
       "      <td>NaN</td>\n",
       "    </tr>\n",
       "    <tr>\n",
       "      <th>2013-01-02</th>\n",
       "      <td>-0.334422</td>\n",
       "      <td>-1.164065</td>\n",
       "      <td>-1.734380</td>\n",
       "      <td>-5.0</td>\n",
       "      <td>-1.0</td>\n",
       "    </tr>\n",
       "    <tr>\n",
       "      <th>2013-01-03</th>\n",
       "      <td>-0.780970</td>\n",
       "      <td>-0.818403</td>\n",
       "      <td>-0.500051</td>\n",
       "      <td>-5.0</td>\n",
       "      <td>-2.0</td>\n",
       "    </tr>\n",
       "    <tr>\n",
       "      <th>2013-01-04</th>\n",
       "      <td>-0.775657</td>\n",
       "      <td>-1.224257</td>\n",
       "      <td>-0.254243</td>\n",
       "      <td>-5.0</td>\n",
       "      <td>-3.0</td>\n",
       "    </tr>\n",
       "    <tr>\n",
       "      <th>2013-01-05</th>\n",
       "      <td>-0.869252</td>\n",
       "      <td>-0.654880</td>\n",
       "      <td>-0.891670</td>\n",
       "      <td>-5.0</td>\n",
       "      <td>-4.0</td>\n",
       "    </tr>\n",
       "    <tr>\n",
       "      <th>2013-01-06</th>\n",
       "      <td>-0.642094</td>\n",
       "      <td>-0.258994</td>\n",
       "      <td>-1.088695</td>\n",
       "      <td>-5.0</td>\n",
       "      <td>-5.0</td>\n",
       "    </tr>\n",
       "  </tbody>\n",
       "</table>\n",
       "</div>"
      ]
     },
     "execution_count": 65,
     "metadata": {},
     "output_type": "execute_result"
    }
   ],
   "execution_count": 65
  }
 ],
 "metadata": {
  "kernelspec": {
   "display_name": "Python 3",
   "language": "python",
   "name": "python3"
  },
  "language_info": {
   "codemirror_mode": {
    "name": "ipython",
    "version": 2
   },
   "file_extension": ".py",
   "mimetype": "text/x-python",
   "name": "python",
   "nbconvert_exporter": "python",
   "pygments_lexer": "ipython2",
   "version": "2.7.6"
  }
 },
 "nbformat": 4,
 "nbformat_minor": 0
}
