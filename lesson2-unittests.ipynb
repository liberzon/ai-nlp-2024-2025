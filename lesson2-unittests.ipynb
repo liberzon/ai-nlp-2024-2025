{
 "cells": [
  {
   "cell_type": "code",
   "metadata": {
    "collapsed": true,
    "ExecuteTime": {
     "end_time": "2024-11-14T14:51:57.609747Z",
     "start_time": "2024-11-14T14:51:57.606764Z"
    }
   },
   "source": [
    "n1=10\n",
    "n2=10.0\n",
    "n3=\"10\"\n",
    "n4 = 5"
   ],
   "outputs": [],
   "execution_count": 1
  },
  {
   "cell_type": "code",
   "source": [
    "import unittest\n",
    "\n",
    "class TestStringMethods(unittest.TestCase):\n",
    "    def test_sum_equals_20(self):\n",
    "        self.assertEqual(n1+n2, 21.0)\n",
    "\n",
    "    def test_not_equal_15(self):\n",
    "        self.assertNotEqual(n1+n2, 15)\n",
    "\n",
    "    def test_divide_by_zero(self):\n",
    "        with self.assertRaises(ZeroDivisionError):\n",
    "            n1 + n2 / 0"
   ],
   "metadata": {
    "collapsed": false,
    "pycharm": {
     "name": "#%%\n"
    },
    "ExecuteTime": {
     "end_time": "2024-11-14T14:52:30.806979Z",
     "start_time": "2024-11-14T14:52:30.804517Z"
    }
   },
   "outputs": [],
   "execution_count": 5
  },
  {
   "metadata": {},
   "cell_type": "code",
   "outputs": [],
   "execution_count": null,
   "source": ""
  },
  {
   "cell_type": "code",
   "source": [
    "unittest.main(argv=[''], exit=False)"
   ],
   "metadata": {
    "collapsed": false,
    "ExecuteTime": {
     "end_time": "2024-11-14T14:52:32.724589Z",
     "start_time": "2024-11-14T14:52:32.718439Z"
    }
   },
   "outputs": [
    {
     "name": "stderr",
     "output_type": "stream",
     "text": [
      "..F\n",
      "======================================================================\n",
      "FAIL: test_sum_equals_20 (__main__.TestStringMethods.test_sum_equals_20)\n",
      "----------------------------------------------------------------------\n",
      "Traceback (most recent call last):\n",
      "  File \"/var/folders/5q/_24n0d512nn4s0q6g9zrvkcrdlkp88/T/ipykernel_77957/851524825.py\", line 5, in test_sum_equals_20\n",
      "    self.assertEqual(n1+n2, 21.0)\n",
      "AssertionError: 20.0 != 21.0\n",
      "\n",
      "----------------------------------------------------------------------\n",
      "Ran 3 tests in 0.001s\n",
      "\n",
      "FAILED (failures=1)\n"
     ]
    },
    {
     "data": {
      "text/plain": [
       "<unittest.main.TestProgram at 0x107c4dbe0>"
      ]
     },
     "execution_count": 6,
     "metadata": {},
     "output_type": "execute_result"
    }
   ],
   "execution_count": 6
  },
  {
   "cell_type": "code",
   "source": [
    "loader = unittest.TestLoader()\n",
    "suite = loader.loadTestsFromTestCase(TestStringMethods)\n",
    "runner = unittest.TextTestRunner()\n",
    "runner.run(suite)"
   ],
   "metadata": {
    "collapsed": false,
    "pycharm": {
     "name": "#%%\n"
    },
    "ExecuteTime": {
     "end_time": "2024-11-14T14:53:35.716754Z",
     "start_time": "2024-11-14T14:53:35.711709Z"
    }
   },
   "outputs": [
    {
     "name": "stderr",
     "output_type": "stream",
     "text": [
      "..F\n",
      "======================================================================\n",
      "FAIL: test_sum_equals_20 (__main__.TestStringMethods.test_sum_equals_20)\n",
      "----------------------------------------------------------------------\n",
      "Traceback (most recent call last):\n",
      "  File \"/var/folders/5q/_24n0d512nn4s0q6g9zrvkcrdlkp88/T/ipykernel_77957/851524825.py\", line 5, in test_sum_equals_20\n",
      "    self.assertEqual(n1+n2, 21.0)\n",
      "AssertionError: 20.0 != 21.0\n",
      "\n",
      "----------------------------------------------------------------------\n",
      "Ran 3 tests in 0.001s\n",
      "\n",
      "FAILED (failures=1)\n"
     ]
    },
    {
     "data": {
      "text/plain": [
       "<unittest.runner.TextTestResult run=3 errors=0 failures=1>"
      ]
     },
     "execution_count": 7,
     "metadata": {},
     "output_type": "execute_result"
    }
   ],
   "execution_count": 7
  },
  {
   "metadata": {},
   "cell_type": "code",
   "outputs": [],
   "execution_count": null,
   "source": ""
  }
 ],
 "metadata": {
  "kernelspec": {
   "display_name": "Python 3",
   "language": "python",
   "name": "python3"
  },
  "language_info": {
   "codemirror_mode": {
    "name": "ipython",
    "version": 2
   },
   "file_extension": ".py",
   "mimetype": "text/x-python",
   "name": "python",
   "nbconvert_exporter": "python",
   "pygments_lexer": "ipython2",
   "version": "2.7.6"
  }
 },
 "nbformat": 4,
 "nbformat_minor": 0
}
