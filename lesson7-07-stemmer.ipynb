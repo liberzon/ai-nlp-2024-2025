{
 "cells": [
  {
   "cell_type": "code",
   "execution_count": 17,
   "outputs": [],
   "source": [
    "import pandas as pd"
   ],
   "metadata": {
    "collapsed": false,
    "ExecuteTime": {
     "end_time": "2024-02-12T21:44:50.099112Z",
     "start_time": "2024-02-12T21:44:50.078610Z"
    }
   }
  },
  {
   "cell_type": "code",
   "execution_count": 18,
   "outputs": [],
   "source": [
    "from nltk.stem import PorterStemmer\n",
    "from nltk.stem import LancasterStemmer\n"
   ],
   "metadata": {
    "collapsed": false,
    "ExecuteTime": {
     "end_time": "2024-02-12T21:44:50.109984Z",
     "start_time": "2024-02-12T21:44:50.102319Z"
    }
   }
  },
  {
   "cell_type": "markdown",
   "source": [
    "Additional stemmers can be found <a href=\"https://www.nltk.org/api/nltk.stem.html\">here</a>"
   ],
   "metadata": {
    "collapsed": false
   }
  },
  {
   "cell_type": "code",
   "execution_count": 19,
   "outputs": [],
   "source": [
    "porter = PorterStemmer()\n",
    "lancaster = LancasterStemmer()"
   ],
   "metadata": {
    "collapsed": false,
    "ExecuteTime": {
     "end_time": "2024-02-12T21:44:50.124706Z",
     "start_time": "2024-02-12T21:44:50.112721Z"
    }
   }
  },
  {
   "cell_type": "code",
   "execution_count": 20,
   "outputs": [],
   "source": [
    "#A list of words to be stemmed\n",
    "word_list = [\"friend\", \"friendship\", \"friends\", \"friendships\",\"stabil\",\"destabilize\",\"misunderstanding\",\"railroad\",\"moonlight\",\"football\"]"
   ],
   "metadata": {
    "collapsed": false,
    "ExecuteTime": {
     "end_time": "2024-02-12T21:44:50.125938Z",
     "start_time": "2024-02-12T21:44:50.116280Z"
    }
   }
  },
  {
   "cell_type": "code",
   "outputs": [
    {
     "name": "stdout",
     "output_type": "stream",
     "text": [
      "Word                Porter Stemmer      lancaster Stemmer   \n"
     ]
    }
   ],
   "source": [
    "print(\"{0:20}{1:20}{2:20}\".format(\"Word\",\"Porter Stemmer\",\"lancaster Stemmer\"))"
   ],
   "metadata": {
    "collapsed": false,
    "ExecuteTime": {
     "end_time": "2024-02-12T21:44:50.126394Z",
     "start_time": "2024-02-12T21:44:50.119520Z"
    }
   },
   "execution_count": 21
  },
  {
   "cell_type": "code",
   "outputs": [
    {
     "name": "stdout",
     "output_type": "stream",
     "text": [
      "friend              friend              friend              \n",
      "friendship          friendship          friend              \n",
      "friends             friend              friend              \n",
      "friendships         friendship          friend              \n",
      "stabil              stabil              stabl               \n",
      "destabilize         destabil            dest                \n",
      "misunderstanding    misunderstand       misunderstand       \n",
      "railroad            railroad            railroad            \n",
      "moonlight           moonlight           moonlight           \n",
      "football            footbal             footbal             \n"
     ]
    }
   ],
   "source": [
    "for word in word_list:\n",
    "    print(\"{0:20}{1:20}{2:20}\".format(word,porter.stem(word),lancaster.stem(word)))"
   ],
   "metadata": {
    "collapsed": false,
    "ExecuteTime": {
     "end_time": "2024-02-12T21:44:50.143386Z",
     "start_time": "2024-02-12T21:44:50.123887Z"
    }
   },
   "execution_count": 22
  },
  {
   "cell_type": "code",
   "execution_count": 23,
   "outputs": [],
   "source": [
    "sentence=\"Pythoners are very intelligent and work very pythonly and now they are pythoning their way to success.\""
   ],
   "metadata": {
    "collapsed": false,
    "ExecuteTime": {
     "end_time": "2024-02-12T21:44:50.145273Z",
     "start_time": "2024-02-12T21:44:50.128006Z"
    }
   }
  },
  {
   "cell_type": "code",
   "execution_count": 24,
   "outputs": [
    {
     "name": "stdout",
     "output_type": "stream",
     "text": [
      "Pythoners are very intelligent and work very pythonly and now they are pythoning their way to success.\n"
     ]
    }
   ],
   "source": [
    "print(sentence)"
   ],
   "metadata": {
    "collapsed": false,
    "ExecuteTime": {
     "end_time": "2024-02-12T21:44:50.169449Z",
     "start_time": "2024-02-12T21:44:50.147315Z"
    }
   }
  },
  {
   "cell_type": "code",
   "execution_count": 25,
   "outputs": [],
   "source": [
    "def stem_sentence(input_sentence):\n",
    "    token_words = word_tokenize(input_sentence)\n",
    "    stemmed_sentence = []\n",
    "    stemmed_sentence_including_sep = []\n",
    "    for word in token_words:\n",
    "        stemmed_sentence.append(porter.stem(word))\n",
    "        stemmed_sentence_including_sep.append(porter.stem(word))\n",
    "        stemmed_sentence_including_sep.append(\" \")\n",
    "    return \"\".join(stemmed_sentence_including_sep), stemmed_sentence"
   ],
   "metadata": {
    "collapsed": false,
    "ExecuteTime": {
     "end_time": "2024-02-12T21:44:50.170601Z",
     "start_time": "2024-02-12T21:44:50.151738Z"
    }
   }
  },
  {
   "cell_type": "code",
   "execution_count": 26,
   "outputs": [],
   "source": [
    "stemmed, stemmed_list = stem_sentence(sentence)"
   ],
   "metadata": {
    "collapsed": false,
    "ExecuteTime": {
     "end_time": "2024-02-12T21:44:50.170948Z",
     "start_time": "2024-02-12T21:44:50.155955Z"
    }
   }
  },
  {
   "cell_type": "code",
   "execution_count": 27,
   "outputs": [
    {
     "name": "stdout",
     "output_type": "stream",
     "text": [
      "python are veri intellig and work veri pythonli and now they are python their way to success . \n"
     ]
    }
   ],
   "source": [
    "print(stemmed)"
   ],
   "metadata": {
    "collapsed": false,
    "ExecuteTime": {
     "end_time": "2024-02-12T21:44:50.182046Z",
     "start_time": "2024-02-12T21:44:50.173462Z"
    }
   }
  },
  {
   "cell_type": "code",
   "execution_count": 28,
   "outputs": [
    {
     "name": "stdout",
     "output_type": "stream",
     "text": [
      "['python', 'are', 'veri', 'intellig', 'and', 'work', 'veri', 'pythonli', 'and', 'now', 'they', 'are', 'python', 'their', 'way', 'to', 'success', '.']\n"
     ]
    }
   ],
   "source": [
    "print(stemmed_list)"
   ],
   "metadata": {
    "collapsed": false,
    "ExecuteTime": {
     "end_time": "2024-02-12T21:44:50.183552Z",
     "start_time": "2024-02-12T21:44:50.175501Z"
    }
   }
  },
  {
   "cell_type": "code",
   "execution_count": 29,
   "outputs": [],
   "source": [
    "doc1 = 'This pasta is very tasty and affordable.'\n",
    "doc2 = 'This pasta is not tasty and is affordable.'\n",
    "doc3 = 'This pasta is delicious and cheap.'\n",
    "doc4 = 'Pasta is tasty and pasta tastes good.'"
   ],
   "metadata": {
    "collapsed": false,
    "ExecuteTime": {
     "end_time": "2024-02-12T21:44:50.183916Z",
     "start_time": "2024-02-12T21:44:50.179606Z"
    }
   }
  },
  {
   "cell_type": "code",
   "execution_count": 30,
   "outputs": [],
   "source": [
    "df = pd.DataFrame(data = [doc1, doc2, doc3, doc4], columns=['text'])"
   ],
   "metadata": {
    "collapsed": false,
    "ExecuteTime": {
     "end_time": "2024-02-12T21:44:50.185778Z",
     "start_time": "2024-02-12T21:44:50.182908Z"
    }
   }
  },
  {
   "cell_type": "code",
   "execution_count": 31,
   "outputs": [
    {
     "data": {
      "text/plain": "                                         text\n0    This pasta is very tasty and affordable.\n1  This pasta is not tasty and is affordable.\n2          This pasta is delicious and cheap.\n3       Pasta is tasty and pasta tastes good.",
      "text/html": "<div>\n<style scoped>\n    .dataframe tbody tr th:only-of-type {\n        vertical-align: middle;\n    }\n\n    .dataframe tbody tr th {\n        vertical-align: top;\n    }\n\n    .dataframe thead th {\n        text-align: right;\n    }\n</style>\n<table border=\"1\" class=\"dataframe\">\n  <thead>\n    <tr style=\"text-align: right;\">\n      <th></th>\n      <th>text</th>\n    </tr>\n  </thead>\n  <tbody>\n    <tr>\n      <th>0</th>\n      <td>This pasta is very tasty and affordable.</td>\n    </tr>\n    <tr>\n      <th>1</th>\n      <td>This pasta is not tasty and is affordable.</td>\n    </tr>\n    <tr>\n      <th>2</th>\n      <td>This pasta is delicious and cheap.</td>\n    </tr>\n    <tr>\n      <th>3</th>\n      <td>Pasta is tasty and pasta tastes good.</td>\n    </tr>\n  </tbody>\n</table>\n</div>"
     },
     "execution_count": 31,
     "metadata": {},
     "output_type": "execute_result"
    }
   ],
   "source": [
    "df.head()"
   ],
   "metadata": {
    "collapsed": false,
    "ExecuteTime": {
     "end_time": "2024-02-12T21:44:50.191432Z",
     "start_time": "2024-02-12T21:44:50.187338Z"
    }
   }
  },
  {
   "cell_type": "code",
   "execution_count": 32,
   "outputs": [],
   "source": [
    "def my_tokenizer_and_stemmer(input_text):\n",
    "    return stem_sentence(input_text)[1]"
   ],
   "metadata": {
    "collapsed": false,
    "ExecuteTime": {
     "end_time": "2024-02-12T21:44:50.210177Z",
     "start_time": "2024-02-12T21:44:50.190955Z"
    }
   }
  },
  {
   "cell_type": "code",
   "execution_count": 33,
   "outputs": [],
   "source": [
    "from nltk import word_tokenize\n",
    "\n",
    "df['tokens'] = df['text'].apply(lambda x: my_tokenizer_and_stemmer(x))"
   ],
   "metadata": {
    "collapsed": false,
    "ExecuteTime": {
     "end_time": "2024-02-12T21:44:50.210707Z",
     "start_time": "2024-02-12T21:44:50.194770Z"
    }
   }
  },
  {
   "cell_type": "code",
   "execution_count": 34,
   "outputs": [
    {
     "data": {
      "text/plain": "                                         text  \\\n0    This pasta is very tasty and affordable.   \n1  This pasta is not tasty and is affordable.   \n2          This pasta is delicious and cheap.   \n3       Pasta is tasty and pasta tastes good.   \n\n                                             tokens  \n0     [thi, pasta, is, veri, tasti, and, afford, .]  \n1  [thi, pasta, is, not, tasti, and, is, afford, .]  \n2           [thi, pasta, is, delici, and, cheap, .]  \n3     [pasta, is, tasti, and, pasta, tast, good, .]  ",
      "text/html": "<div>\n<style scoped>\n    .dataframe tbody tr th:only-of-type {\n        vertical-align: middle;\n    }\n\n    .dataframe tbody tr th {\n        vertical-align: top;\n    }\n\n    .dataframe thead th {\n        text-align: right;\n    }\n</style>\n<table border=\"1\" class=\"dataframe\">\n  <thead>\n    <tr style=\"text-align: right;\">\n      <th></th>\n      <th>text</th>\n      <th>tokens</th>\n    </tr>\n  </thead>\n  <tbody>\n    <tr>\n      <th>0</th>\n      <td>This pasta is very tasty and affordable.</td>\n      <td>[thi, pasta, is, veri, tasti, and, afford, .]</td>\n    </tr>\n    <tr>\n      <th>1</th>\n      <td>This pasta is not tasty and is affordable.</td>\n      <td>[thi, pasta, is, not, tasti, and, is, afford, .]</td>\n    </tr>\n    <tr>\n      <th>2</th>\n      <td>This pasta is delicious and cheap.</td>\n      <td>[thi, pasta, is, delici, and, cheap, .]</td>\n    </tr>\n    <tr>\n      <th>3</th>\n      <td>Pasta is tasty and pasta tastes good.</td>\n      <td>[pasta, is, tasti, and, pasta, tast, good, .]</td>\n    </tr>\n  </tbody>\n</table>\n</div>"
     },
     "execution_count": 34,
     "metadata": {},
     "output_type": "execute_result"
    }
   ],
   "source": [
    "df.head()"
   ],
   "metadata": {
    "collapsed": false,
    "ExecuteTime": {
     "end_time": "2024-02-12T21:44:50.211192Z",
     "start_time": "2024-02-12T21:44:50.199591Z"
    }
   }
  },
  {
   "cell_type": "code",
   "execution_count": 34,
   "outputs": [],
   "source": [],
   "metadata": {
    "collapsed": false,
    "ExecuteTime": {
     "end_time": "2024-02-12T21:44:50.222120Z",
     "start_time": "2024-02-12T21:44:50.212324Z"
    }
   }
  }
 ],
 "metadata": {
  "kernelspec": {
   "display_name": "Python 3",
   "language": "python",
   "name": "python3"
  },
  "language_info": {
   "codemirror_mode": {
    "name": "ipython",
    "version": 2
   },
   "file_extension": ".py",
   "mimetype": "text/x-python",
   "name": "python",
   "nbconvert_exporter": "python",
   "pygments_lexer": "ipython2",
   "version": "2.7.6"
  }
 },
 "nbformat": 4,
 "nbformat_minor": 0
}
