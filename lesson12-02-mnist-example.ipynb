{
 "cells": [
  {
   "cell_type": "markdown",
   "metadata": {
    "id": "rX8mhOLljYeM"
   },
   "source": [
    "##### Copyright 2019 The TensorFlow Authors."
   ]
  },
  {
   "cell_type": "code",
   "metadata": {
    "cellView": "form",
    "execution": {
     "iopub.execute_input": "2024-08-16T07:45:15.124820Z",
     "iopub.status.busy": "2024-08-16T07:45:15.124572Z",
     "iopub.status.idle": "2024-08-16T07:45:15.128549Z",
     "shell.execute_reply": "2024-08-16T07:45:15.127897Z"
    },
    "id": "BZSlp3DAjdYf",
    "ExecuteTime": {
     "end_time": "2025-01-23T13:58:54.461605Z",
     "start_time": "2025-01-23T13:58:54.459554Z"
    }
   },
   "source": [
    "#@title Licensed under the Apache License, Version 2.0 (the \"License\");\n",
    "# you may not use this file except in compliance with the License.\n",
    "# You may obtain a copy of the License at\n",
    "#\n",
    "# https://www.apache.org/licenses/LICENSE-2.0\n",
    "#\n",
    "# Unless required by applicable law or agreed to in writing, software\n",
    "# distributed under the License is distributed on an \"AS IS\" BASIS,\n",
    "# WITHOUT WARRANTIES OR CONDITIONS OF ANY KIND, either express or implied.\n",
    "# See the License for the specific language governing permissions and\n",
    "# limitations under the License."
   ],
   "outputs": [],
   "execution_count": 1
  },
  {
   "cell_type": "markdown",
   "metadata": {
    "id": "3wF5wszaj97Y"
   },
   "source": [
    "# TensorFlow 2 quickstart for beginners"
   ]
  },
  {
   "cell_type": "markdown",
   "metadata": {
    "id": "DUNzJc4jTj6G"
   },
   "source": [
    "<table class=\"tfo-notebook-buttons\" align=\"left\">\n",
    "  <td>\n",
    "    <a target=\"_blank\" href=\"https://www.tensorflow.org/tutorials/quickstart/beginner\"><img src=\"https://www.tensorflow.org/images/tf_logo_32px.png\" />View on TensorFlow.org</a>\n",
    "  </td>\n",
    "  <td>\n",
    "    <a target=\"_blank\" href=\"https://colab.research.google.com/github/tensorflow/docs/blob/master/site/en/tutorials/quickstart/beginner.ipynb\"><img src=\"https://www.tensorflow.org/images/colab_logo_32px.png\" />Run in Google Colab</a>\n",
    "  </td>\n",
    "  <td>\n",
    "    <a target=\"_blank\" href=\"https://github.com/tensorflow/docs/blob/master/site/en/tutorials/quickstart/beginner.ipynb\"><img src=\"https://www.tensorflow.org/images/GitHub-Mark-32px.png\" />View source on GitHub</a>\n",
    "  </td>\n",
    "  <td>\n",
    "    <a href=\"https://storage.googleapis.com/tensorflow_docs/docs/site/en/tutorials/quickstart/beginner.ipynb\"><img src=\"https://www.tensorflow.org/images/download_logo_32px.png\" />Download notebook</a>\n",
    "  </td>\n",
    "</table>"
   ]
  },
  {
   "cell_type": "markdown",
   "metadata": {
    "id": "04QgGZc9bF5D"
   },
   "source": [
    "This short introduction uses [Keras](https://www.tensorflow.org/guide/keras/overview) to:\n",
    "\n",
    "1. Load a prebuilt dataset.\n",
    "1. Build a neural network machine learning model that classifies images.\n",
    "2. Train this neural network.\n",
    "3. Evaluate the accuracy of the model."
   ]
  },
  {
   "cell_type": "markdown",
   "metadata": {
    "id": "hiH7AC-NTniF"
   },
   "source": [
    "This tutorial is a [Google Colaboratory](https://colab.research.google.com/notebooks/welcome.ipynb) notebook. Python programs are run directly in the browser—a great way to learn and use TensorFlow. To follow this tutorial, run the notebook in Google Colab by clicking the button at the top of this page.\n",
    "\n",
    "1. In Colab, connect to a Python runtime: At the top-right of the menu bar, select *CONNECT*.\n",
    "2. To run all the code in the notebook, select **Runtime** > **Run all**. To run the code cells one at a time, hover over each cell and select the **Run cell** icon.\n",
    "\n",
    "![Run cell icon](images/beginner/run_cell_icon.png)"
   ]
  },
  {
   "cell_type": "markdown",
   "metadata": {
    "id": "nnrWf3PCEzXL"
   },
   "source": [
    "## Set up TensorFlow\n",
    "\n",
    "Import TensorFlow into your program to get started:"
   ]
  },
  {
   "cell_type": "code",
   "metadata": {
    "execution": {
     "iopub.execute_input": "2024-08-16T07:45:15.132309Z",
     "iopub.status.busy": "2024-08-16T07:45:15.132084Z",
     "iopub.status.idle": "2024-08-16T07:45:17.526895Z",
     "shell.execute_reply": "2024-08-16T07:45:17.526122Z"
    },
    "id": "0trJmd6DjqBZ",
    "ExecuteTime": {
     "end_time": "2025-01-23T13:58:57.498635Z",
     "start_time": "2025-01-23T13:58:54.467936Z"
    }
   },
   "source": [
    "import tensorflow as tf\n",
    "print(\"TensorFlow version:\", tf.__version__)"
   ],
   "outputs": [
    {
     "name": "stdout",
     "output_type": "stream",
     "text": [
      "TensorFlow version: 2.18.0\n"
     ]
    }
   ],
   "execution_count": 2
  },
  {
   "cell_type": "markdown",
   "metadata": {
    "id": "7NAbSZiaoJ4z"
   },
   "source": [
    "If you are following along in your own development environment, rather than [Colab](https://colab.research.google.com/github/tensorflow/docs/blob/master/site/en/tutorials/quickstart/beginner.ipynb), see the [install guide](https://www.tensorflow.org/install) for setting up TensorFlow for development.\n",
    "\n",
    "Note: Make sure you have upgraded to the latest `pip` to install the TensorFlow 2 package if you are using your own development environment. See the [install guide](https://www.tensorflow.org/install) for details.\n",
    "\n",
    "## Load a dataset\n",
    "\n",
    "Load and prepare the MNIST dataset. The pixel values of the images range from 0 through 255. Scale these values to a range of 0 to 1 by dividing the values by `255.0`. This also converts the sample data from integers to floating-point numbers:"
   ]
  },
  {
   "cell_type": "code",
   "metadata": {
    "execution": {
     "iopub.execute_input": "2024-08-16T07:45:17.530637Z",
     "iopub.status.busy": "2024-08-16T07:45:17.530262Z",
     "iopub.status.idle": "2024-08-16T07:45:17.972810Z",
     "shell.execute_reply": "2024-08-16T07:45:17.972015Z"
    },
    "id": "7FP5258xjs-v",
    "ExecuteTime": {
     "end_time": "2025-01-23T13:58:57.894856Z",
     "start_time": "2025-01-23T13:58:57.628813Z"
    }
   },
   "source": [
    "mnist = tf.keras.datasets.mnist\n",
    "\n",
    "(x_train, y_train), (x_test, y_test) = mnist.load_data()\n",
    "x_train, x_test = x_train / 255.0, x_test / 255.0"
   ],
   "outputs": [],
   "execution_count": 3
  },
  {
   "cell_type": "markdown",
   "metadata": {
    "id": "BPZ68wASog_I"
   },
   "source": [
    "## Build a machine learning model\n",
    "\n",
    "Build a `tf.keras.Sequential` model:"
   ]
  },
  {
   "cell_type": "code",
   "metadata": {
    "execution": {
     "iopub.execute_input": "2024-08-16T07:45:17.977414Z",
     "iopub.status.busy": "2024-08-16T07:45:17.977156Z",
     "iopub.status.idle": "2024-08-16T07:45:20.875458Z",
     "shell.execute_reply": "2024-08-16T07:45:20.874617Z"
    },
    "id": "h3IKyzTCDNGo",
    "ExecuteTime": {
     "end_time": "2025-01-23T13:58:57.934529Z",
     "start_time": "2025-01-23T13:58:57.908386Z"
    }
   },
   "source": [
    "model = tf.keras.models.Sequential([\n",
    "  tf.keras.layers.Flatten(input_shape=(28, 28)),\n",
    "  tf.keras.layers.Dense(128, activation='relu'),\n",
    "  tf.keras.layers.Dropout(0.2),\n",
    "  tf.keras.layers.Dense(10)\n",
    "])"
   ],
   "outputs": [],
   "execution_count": 4
  },
  {
   "cell_type": "markdown",
   "metadata": {
    "id": "l2hiez2eIUz8"
   },
   "source": [
    "[`Sequential`](https://www.tensorflow.org/guide/keras/sequential_model) is useful for stacking layers where each layer has one input [tensor](https://www.tensorflow.org/guide/tensor) and one output tensor. Layers are functions with a known mathematical structure that can be reused and have trainable variables. Most TensorFlow models are composed of layers. This model uses the [`Flatten`](https://www.tensorflow.org/api_docs/python/tf/keras/layers/Flatten), [`Dense`](https://www.tensorflow.org/api_docs/python/tf/keras/layers/Dense), and [`Dropout`](https://www.tensorflow.org/api_docs/python/tf/keras/layers/Dropout) layers.\n",
    "\n",
    "For each example, the model returns a vector of [logits](https://developers.google.com/machine-learning/glossary#logits) or [log-odds](https://developers.google.com/machine-learning/glossary#log-odds) scores, one for each class."
   ]
  },
  {
   "cell_type": "code",
   "metadata": {
    "execution": {
     "iopub.execute_input": "2024-08-16T07:45:20.879441Z",
     "iopub.status.busy": "2024-08-16T07:45:20.879184Z",
     "iopub.status.idle": "2024-08-16T07:45:21.005565Z",
     "shell.execute_reply": "2024-08-16T07:45:21.004785Z"
    },
    "id": "OeOrNdnkEEcR",
    "ExecuteTime": {
     "end_time": "2025-01-23T13:58:57.961332Z",
     "start_time": "2025-01-23T13:58:57.947105Z"
    }
   },
   "source": [
    "predictions = model(x_train[:1]).numpy()\n",
    "predictions"
   ],
   "outputs": [
    {
     "data": {
      "text/plain": [
       "array([[-0.12340143,  0.19190323,  0.47887537, -0.1243506 , -0.01200075,\n",
       "         0.26730427,  0.40782115,  0.83444476, -0.00739597,  0.34498313]],\n",
       "      dtype=float32)"
      ]
     },
     "execution_count": 5,
     "metadata": {},
     "output_type": "execute_result"
    }
   ],
   "execution_count": 5
  },
  {
   "cell_type": "markdown",
   "metadata": {
    "id": "tgjhDQGcIniO"
   },
   "source": [
    "The `tf.nn.softmax` function converts these logits to *probabilities* for each class: "
   ]
  },
  {
   "cell_type": "code",
   "metadata": {
    "execution": {
     "iopub.execute_input": "2024-08-16T07:45:21.009339Z",
     "iopub.status.busy": "2024-08-16T07:45:21.009026Z",
     "iopub.status.idle": "2024-08-16T07:45:21.021627Z",
     "shell.execute_reply": "2024-08-16T07:45:21.021029Z"
    },
    "id": "zWSRnQ0WI5eq",
    "ExecuteTime": {
     "end_time": "2025-01-23T13:58:57.983299Z",
     "start_time": "2025-01-23T13:58:57.976405Z"
    }
   },
   "source": [
    "tf.nn.softmax(predictions).numpy()"
   ],
   "outputs": [
    {
     "data": {
      "text/plain": [
       "array([[0.06747927, 0.09249227, 0.1232355 , 0.06741524, 0.07543121,\n",
       "        0.09973594, 0.11478295, 0.17585619, 0.07577935, 0.10779215]],\n",
       "      dtype=float32)"
      ]
     },
     "execution_count": 6,
     "metadata": {},
     "output_type": "execute_result"
    }
   ],
   "execution_count": 6
  },
  {
   "cell_type": "markdown",
   "metadata": {
    "id": "he5u_okAYS4a"
   },
   "source": [
    "Note: It is possible to bake the `tf.nn.softmax` function into the activation function for the last layer of the network. While this can make the model output more directly interpretable, this approach is discouraged as it's impossible to provide an exact and numerically stable loss calculation for all models when using a softmax output. "
   ]
  },
  {
   "cell_type": "markdown",
   "metadata": {
    "id": "hQyugpgRIyrA"
   },
   "source": [
    "Define a loss function for training using `losses.SparseCategoricalCrossentropy`:"
   ]
  },
  {
   "cell_type": "code",
   "metadata": {
    "execution": {
     "iopub.execute_input": "2024-08-16T07:45:21.024990Z",
     "iopub.status.busy": "2024-08-16T07:45:21.024733Z",
     "iopub.status.idle": "2024-08-16T07:45:21.027979Z",
     "shell.execute_reply": "2024-08-16T07:45:21.027422Z"
    },
    "id": "RSkzdv8MD0tT",
    "ExecuteTime": {
     "end_time": "2025-01-23T13:58:58.025682Z",
     "start_time": "2025-01-23T13:58:58.023632Z"
    }
   },
   "source": [
    "loss_fn = tf.keras.losses.SparseCategoricalCrossentropy(from_logits=True)"
   ],
   "outputs": [],
   "execution_count": 7
  },
  {
   "cell_type": "markdown",
   "metadata": {
    "id": "SfR4MsSDU880"
   },
   "source": [
    "The loss function takes a vector of ground truth values and a vector of logits and returns a scalar loss for each example. This loss is equal to the negative log probability of the true class: The loss is zero if the model is sure of the correct class.\n",
    "\n",
    "This untrained model gives probabilities close to random (1/10 for each class), so the initial loss should be close to `-tf.math.log(1/10) ~= 2.3`."
   ]
  },
  {
   "cell_type": "code",
   "metadata": {
    "execution": {
     "iopub.execute_input": "2024-08-16T07:45:21.030982Z",
     "iopub.status.busy": "2024-08-16T07:45:21.030748Z",
     "iopub.status.idle": "2024-08-16T07:45:21.049748Z",
     "shell.execute_reply": "2024-08-16T07:45:21.049171Z"
    },
    "id": "NJWqEVrrJ7ZB",
    "ExecuteTime": {
     "end_time": "2025-01-23T13:58:58.145207Z",
     "start_time": "2025-01-23T13:58:58.127381Z"
    }
   },
   "source": [
    "loss_fn(y_train[:1], predictions).numpy()"
   ],
   "outputs": [
    {
     "data": {
      "text/plain": [
       "np.float32(2.3052292)"
      ]
     },
     "execution_count": 8,
     "metadata": {},
     "output_type": "execute_result"
    }
   ],
   "execution_count": 8
  },
  {
   "cell_type": "markdown",
   "metadata": {
    "id": "ada44eb947d4"
   },
   "source": [
    "Before you start training, configure and compile the model using Keras `Model.compile`. Set the [`optimizer`](https://www.tensorflow.org/api_docs/python/tf/keras/optimizers) class to `adam`, set the `loss` to the `loss_fn` function you defined earlier, and specify a metric to be evaluated for the model by setting the `metrics` parameter to `accuracy`."
   ]
  },
  {
   "cell_type": "code",
   "metadata": {
    "execution": {
     "iopub.execute_input": "2024-08-16T07:45:21.052685Z",
     "iopub.status.busy": "2024-08-16T07:45:21.052446Z",
     "iopub.status.idle": "2024-08-16T07:45:21.063479Z",
     "shell.execute_reply": "2024-08-16T07:45:21.062854Z"
    },
    "id": "9foNKHzTD2Vo",
    "ExecuteTime": {
     "end_time": "2025-01-23T13:58:58.215849Z",
     "start_time": "2025-01-23T13:58:58.204489Z"
    }
   },
   "source": [
    "model.compile(optimizer='adam',\n",
    "              loss=loss_fn,\n",
    "              metrics=['accuracy'])"
   ],
   "outputs": [],
   "execution_count": 9
  },
  {
   "cell_type": "markdown",
   "metadata": {
    "id": "ix4mEL65on-w"
   },
   "source": [
    "## Train and evaluate your model\n",
    "\n",
    "Use the `Model.fit` method to adjust your model parameters and minimize the loss: "
   ]
  },
  {
   "cell_type": "code",
   "metadata": {
    "execution": {
     "iopub.execute_input": "2024-08-16T07:45:21.066891Z",
     "iopub.status.busy": "2024-08-16T07:45:21.066669Z",
     "iopub.status.idle": "2024-08-16T07:45:34.805697Z",
     "shell.execute_reply": "2024-08-16T07:45:34.804971Z"
    },
    "id": "y7suUbJXVLqP",
    "ExecuteTime": {
     "end_time": "2025-01-23T13:59:09.431640Z",
     "start_time": "2025-01-23T13:58:58.258560Z"
    }
   },
   "source": [
    "model.fit(x_train, y_train, epochs=5)"
   ],
   "outputs": [
    {
     "name": "stdout",
     "output_type": "stream",
     "text": [
      "Epoch 1/5\n",
      "\u001B[1m1875/1875\u001B[0m \u001B[32m━━━━━━━━━━━━━━━━━━━━\u001B[0m\u001B[37m\u001B[0m \u001B[1m2s\u001B[0m 1ms/step - accuracy: 0.8598 - loss: 0.4850\n",
      "Epoch 2/5\n",
      "\u001B[1m1875/1875\u001B[0m \u001B[32m━━━━━━━━━━━━━━━━━━━━\u001B[0m\u001B[37m\u001B[0m \u001B[1m2s\u001B[0m 1ms/step - accuracy: 0.9568 - loss: 0.1506\n",
      "Epoch 3/5\n",
      "\u001B[1m1875/1875\u001B[0m \u001B[32m━━━━━━━━━━━━━━━━━━━━\u001B[0m\u001B[37m\u001B[0m \u001B[1m2s\u001B[0m 1ms/step - accuracy: 0.9680 - loss: 0.1063\n",
      "Epoch 4/5\n",
      "\u001B[1m1875/1875\u001B[0m \u001B[32m━━━━━━━━━━━━━━━━━━━━\u001B[0m\u001B[37m\u001B[0m \u001B[1m2s\u001B[0m 1ms/step - accuracy: 0.9735 - loss: 0.0846\n",
      "Epoch 5/5\n",
      "\u001B[1m1875/1875\u001B[0m \u001B[32m━━━━━━━━━━━━━━━━━━━━\u001B[0m\u001B[37m\u001B[0m \u001B[1m2s\u001B[0m 1ms/step - accuracy: 0.9764 - loss: 0.0741\n"
     ]
    },
    {
     "data": {
      "text/plain": [
       "<keras.src.callbacks.history.History at 0x1681640e0>"
      ]
     },
     "execution_count": 10,
     "metadata": {},
     "output_type": "execute_result"
    }
   ],
   "execution_count": 10
  },
  {
   "cell_type": "markdown",
   "metadata": {
    "id": "4mDAAPFqVVgn"
   },
   "source": [
    "The `Model.evaluate` method checks the model's performance, usually on a [validation set](https://developers.google.com/machine-learning/glossary#validation-set) or [test set](https://developers.google.com/machine-learning/glossary#test-set)."
   ]
  },
  {
   "cell_type": "code",
   "metadata": {
    "execution": {
     "iopub.execute_input": "2024-08-16T07:45:34.809065Z",
     "iopub.status.busy": "2024-08-16T07:45:34.808807Z",
     "iopub.status.idle": "2024-08-16T07:45:36.019714Z",
     "shell.execute_reply": "2024-08-16T07:45:36.018971Z"
    },
    "id": "F7dTAzgHDUh7",
    "ExecuteTime": {
     "end_time": "2025-01-23T13:59:09.662296Z",
     "start_time": "2025-01-23T13:59:09.436310Z"
    }
   },
   "source": [
    "model.evaluate(x_test,  y_test, verbose=2)"
   ],
   "outputs": [
    {
     "name": "stdout",
     "output_type": "stream",
     "text": [
      "313/313 - 0s - 620us/step - accuracy: 0.9786 - loss: 0.0688\n"
     ]
    },
    {
     "data": {
      "text/plain": [
       "[0.06878950446844101, 0.978600025177002]"
      ]
     },
     "execution_count": 11,
     "metadata": {},
     "output_type": "execute_result"
    }
   ],
   "execution_count": 11
  },
  {
   "cell_type": "markdown",
   "metadata": {
    "id": "T4JfEh7kvx6m"
   },
   "source": [
    "The image classifier is now trained to ~98% accuracy on this dataset. To learn more, read the [TensorFlow tutorials](https://www.tensorflow.org/tutorials/)."
   ]
  },
  {
   "cell_type": "markdown",
   "metadata": {
    "id": "Aj8NrlzlJqDG"
   },
   "source": [
    "If you want your model to return a probability, you can wrap the trained model, and attach the softmax to it:"
   ]
  },
  {
   "cell_type": "code",
   "metadata": {
    "execution": {
     "iopub.execute_input": "2024-08-16T07:45:36.023219Z",
     "iopub.status.busy": "2024-08-16T07:45:36.022933Z",
     "iopub.status.idle": "2024-08-16T07:45:36.031282Z",
     "shell.execute_reply": "2024-08-16T07:45:36.030575Z"
    },
    "id": "rYb6DrEH0GMv",
    "ExecuteTime": {
     "end_time": "2025-01-23T13:59:09.671802Z",
     "start_time": "2025-01-23T13:59:09.668270Z"
    }
   },
   "source": [
    "probability_model = tf.keras.Sequential([\n",
    "  model,\n",
    "  tf.keras.layers.Softmax()\n",
    "])"
   ],
   "outputs": [],
   "execution_count": 12
  },
  {
   "cell_type": "code",
   "metadata": {
    "execution": {
     "iopub.execute_input": "2024-08-16T07:45:36.034435Z",
     "iopub.status.busy": "2024-08-16T07:45:36.034113Z",
     "iopub.status.idle": "2024-08-16T07:45:36.047772Z",
     "shell.execute_reply": "2024-08-16T07:45:36.047146Z"
    },
    "id": "cnqOZtUp1YR_",
    "ExecuteTime": {
     "end_time": "2025-01-23T13:59:09.682398Z",
     "start_time": "2025-01-23T13:59:09.677500Z"
    }
   },
   "source": [
    "probability_model(x_test[:5])"
   ],
   "outputs": [
    {
     "data": {
      "text/plain": [
       "<tf.Tensor: shape=(5, 10), dtype=float32, numpy=\n",
       "array([[5.55493614e-07, 3.22825819e-08, 2.38691646e-05, 1.75743492e-03,\n",
       "        5.97287497e-12, 1.49633672e-06, 1.15477820e-12, 9.98198450e-01,\n",
       "        3.85929252e-06, 1.42864064e-05],\n",
       "       [1.58605268e-10, 2.30863996e-04, 9.99766588e-01, 5.20435890e-07,\n",
       "        2.40827031e-16, 1.83869042e-06, 1.12180993e-08, 6.13134879e-15,\n",
       "        8.51267927e-08, 4.59883379e-13],\n",
       "       [3.40095738e-07, 9.98708129e-01, 5.46550320e-04, 1.00725201e-05,\n",
       "        2.50967805e-05, 8.38658980e-06, 4.60479678e-05, 3.95122130e-04,\n",
       "        2.59498629e-04, 7.31930641e-07],\n",
       "       [9.99680758e-01, 1.30852162e-10, 6.14832534e-05, 1.67724451e-07,\n",
       "        1.11397888e-07, 1.30965473e-05, 2.29668280e-04, 2.35531434e-06,\n",
       "        1.72689866e-07, 1.22198335e-05],\n",
       "       [1.25715758e-06, 8.35799374e-10, 5.52597085e-05, 5.22720249e-08,\n",
       "        9.98842180e-01, 1.61782481e-07, 1.13169051e-06, 1.78612201e-04,\n",
       "        6.83329108e-06, 9.14493517e-04]], dtype=float32)>"
      ]
     },
     "execution_count": 13,
     "metadata": {},
     "output_type": "execute_result"
    }
   ],
   "execution_count": 13
  },
  {
   "cell_type": "markdown",
   "metadata": {
    "id": "-47O6_GLdRuT"
   },
   "source": [
    "## Conclusion\n",
    "\n",
    "Congratulations! You have trained a machine learning model using a prebuilt dataset using the [Keras](https://www.tensorflow.org/guide/keras/overview) API.\n",
    "\n",
    "For more examples of using Keras, check out the [tutorials](https://www.tensorflow.org/tutorials/keras/). To learn more about building models with Keras, read the [guides](https://www.tensorflow.org/guide/keras). If you want learn more about loading and preparing data, see the tutorials on [image data loading](https://www.tensorflow.org/tutorials/load_data/images) or [CSV data loading](https://www.tensorflow.org/tutorials/load_data/csv).\n"
   ]
  }
 ],
 "metadata": {
  "colab": {
   "name": "beginner.ipynb",
   "toc_visible": true
  },
  "kernelspec": {
   "display_name": "Python 3 (ipykernel)",
   "name": "python3",
   "language": "python"
  },
  "language_info": {
   "codemirror_mode": {
    "name": "ipython",
    "version": 3
   },
   "file_extension": ".py",
   "mimetype": "text/x-python",
   "name": "python",
   "nbconvert_exporter": "python",
   "pygments_lexer": "ipython3",
   "version": "3.9.19"
  }
 },
 "nbformat": 4,
 "nbformat_minor": 0
}
