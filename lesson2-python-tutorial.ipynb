{
 "cells": [
  {
   "cell_type": "markdown",
   "metadata": {},
   "source": [
    "Start comment"
   ]
  },
  {
   "cell_type": "code",
   "metadata": {
    "pycharm": {
     "name": "#%%\n"
    },
    "ExecuteTime": {
     "end_time": "2024-11-09T21:02:36.310204Z",
     "start_time": "2024-11-09T21:02:36.307400Z"
    }
   },
   "source": [
    "n1=10\n",
    "n2=10.0\n",
    "n3=\"10\"\n",
    "n4 = 5"
   ],
   "outputs": [],
   "execution_count": 1
  },
  {
   "cell_type": "code",
   "metadata": {
    "collapsed": true,
    "ExecuteTime": {
     "end_time": "2024-11-09T21:02:36.325892Z",
     "start_time": "2024-11-09T21:02:36.324034Z"
    }
   },
   "source": [
    "print(type(n1))\n",
    "print(type(n2))\n",
    "print(type(n3))"
   ],
   "outputs": [
    {
     "name": "stdout",
     "output_type": "stream",
     "text": [
      "<class 'int'>\n",
      "<class 'float'>\n",
      "<class 'str'>\n"
     ]
    }
   ],
   "execution_count": 2
  },
  {
   "cell_type": "code",
   "metadata": {
    "pycharm": {
     "name": "#%%\n"
    },
    "ExecuteTime": {
     "end_time": "2024-11-09T21:02:36.444372Z",
     "start_time": "2024-11-09T21:02:36.441964Z"
    }
   },
   "source": [
    "print(n1 + n4)\n",
    "print(n1 - n4)\n",
    "print(n1 / n4)\n",
    "print(n1 * n4)\n",
    "print(n1 // n4)\n",
    "print(n1 ** n4)\n",
    "print(n1 % n4)"
   ],
   "outputs": [
    {
     "name": "stdout",
     "output_type": "stream",
     "text": [
      "15\n",
      "5\n",
      "2.0\n",
      "50\n",
      "2\n",
      "100000\n",
      "0\n"
     ]
    }
   ],
   "execution_count": 3
  },
  {
   "cell_type": "code",
   "metadata": {
    "pycharm": {
     "name": "#%%\n"
    },
    "ExecuteTime": {
     "end_time": "2024-11-09T21:02:36.511923Z",
     "start_time": "2024-11-09T21:02:36.509418Z"
    }
   },
   "source": [
    "s1 = 'Yair '\n",
    "s2 = ' Shachar '\n",
    "s3 = 'Yair,Shachar'\n",
    "print(s1+s2)\n",
    "print(s1.islower())\n",
    "print(s1.strip().isalpha())\n",
    "print(s2[2:4])\n",
    "print(s2[1:-1])"
   ],
   "outputs": [
    {
     "name": "stdout",
     "output_type": "stream",
     "text": [
      "Yair  Shachar \n",
      "False\n",
      "True\n",
      "ha\n",
      "Shachar\n"
     ]
    }
   ],
   "execution_count": 4
  },
  {
   "cell_type": "markdown",
   "metadata": {
    "pycharm": {
     "name": "#%% md\n"
    }
   },
   "source": [
    "https://www.w3schools.com/python/python_ref_string.asp"
   ]
  },
  {
   "cell_type": "code",
   "metadata": {
    "pycharm": {
     "name": "#%%\n"
    },
    "ExecuteTime": {
     "end_time": "2024-11-09T21:02:41.210800Z",
     "start_time": "2024-11-09T21:02:36.539339Z"
    }
   },
   "source": [
    "name = input('What is your name?')"
   ],
   "outputs": [],
   "execution_count": 5
  },
  {
   "cell_type": "code",
   "metadata": {
    "pycharm": {
     "name": "#%%\n"
    },
    "ExecuteTime": {
     "end_time": "2024-11-09T21:02:41.232404Z",
     "start_time": "2024-11-09T21:02:41.228263Z"
    }
   },
   "source": [
    "with open('./lesson2-helloworld.txt', 'rt') as f:\n",
    "    contents = f.read()\n",
    "    print(contents)"
   ],
   "outputs": [
    {
     "name": "stdout",
     "output_type": "stream",
     "text": [
      "Hello World!\n",
      "\n"
     ]
    }
   ],
   "execution_count": 6
  },
  {
   "cell_type": "code",
   "metadata": {
    "pycharm": {
     "name": "#%%\n"
    },
    "ExecuteTime": {
     "end_time": "2024-11-09T21:02:41.270945Z",
     "start_time": "2024-11-09T21:02:41.268354Z"
    }
   },
   "source": [
    "s = 'Hello World!'\n",
    "with open('./lesson2-helloworld-output.txt', 'wt') as f:\n",
    "    print(s, file=f)"
   ],
   "outputs": [],
   "execution_count": 7
  },
  {
   "cell_type": "code",
   "metadata": {
    "pycharm": {
     "name": "#%%\n"
    },
    "ExecuteTime": {
     "end_time": "2024-11-09T21:02:41.283591Z",
     "start_time": "2024-11-09T21:02:41.281850Z"
    }
   },
   "source": [
    "n1=10\n",
    "n2=5"
   ],
   "outputs": [],
   "execution_count": 8
  },
  {
   "cell_type": "code",
   "metadata": {
    "pycharm": {
     "name": "#%%\n"
    },
    "ExecuteTime": {
     "end_time": "2024-11-09T21:02:41.314242Z",
     "start_time": "2024-11-09T21:02:41.312286Z"
    }
   },
   "source": [
    "if n1+n2==15:\n",
    "    print('Equal')"
   ],
   "outputs": [
    {
     "name": "stdout",
     "output_type": "stream",
     "text": [
      "Equal\n"
     ]
    }
   ],
   "execution_count": 9
  },
  {
   "cell_type": "code",
   "metadata": {
    "pycharm": {
     "name": "#%%\n"
    },
    "ExecuteTime": {
     "end_time": "2024-11-09T21:02:41.327594Z",
     "start_time": "2024-11-09T21:02:41.325746Z"
    }
   },
   "source": [
    "if n1+n2==14:\n",
    "    print('Equal')"
   ],
   "outputs": [],
   "execution_count": 10
  },
  {
   "cell_type": "code",
   "metadata": {
    "pycharm": {
     "name": "#%%\n"
    },
    "ExecuteTime": {
     "end_time": "2024-11-09T21:02:41.336784Z",
     "start_time": "2024-11-09T21:02:41.334974Z"
    }
   },
   "source": [
    "if n1+n2==14:\n",
    "    print('Fourteen')\n",
    "elif n1+n2==15:\n",
    "    print('Fifteen')\n",
    "else:\n",
    "    print(\"Neither fourteen nor fifteen\")"
   ],
   "outputs": [
    {
     "name": "stdout",
     "output_type": "stream",
     "text": [
      "Fifteen\n"
     ]
    }
   ],
   "execution_count": 11
  },
  {
   "cell_type": "code",
   "metadata": {
    "pycharm": {
     "name": "#%%\n"
    },
    "ExecuteTime": {
     "end_time": "2024-11-09T21:02:41.351710Z",
     "start_time": "2024-11-09T21:02:41.349705Z"
    }
   },
   "source": [
    "my_list = []\n",
    "numbers = [1,2,3,4,5,6]\n",
    "names = ['Yair', 'Shachar', '', None]\n",
    "cards = [1, 2, 3, 4, 5, 6, 7, 8, 9, 10, 'J', 'Q', 'K', 'Joker']"
   ],
   "outputs": [],
   "execution_count": 12
  },
  {
   "cell_type": "code",
   "metadata": {
    "pycharm": {
     "name": "#%%\n"
    },
    "ExecuteTime": {
     "end_time": "2024-11-09T21:02:41.364053Z",
     "start_time": "2024-11-09T21:02:41.362171Z"
    }
   },
   "source": [
    "\n",
    "print(cards)"
   ],
   "outputs": [
    {
     "name": "stdout",
     "output_type": "stream",
     "text": [
      "[1, 2, 3, 4, 5, 6, 7, 8, 9, 10, 'J', 'Q', 'K', 'Joker']\n"
     ]
    }
   ],
   "execution_count": 13
  },
  {
   "cell_type": "code",
   "metadata": {
    "pycharm": {
     "name": "#%%\n"
    },
    "ExecuteTime": {
     "end_time": "2024-11-09T21:02:41.375404Z",
     "start_time": "2024-11-09T21:02:41.373602Z"
    }
   },
   "source": [
    "cards.reverse()\n",
    "print(cards)"
   ],
   "outputs": [
    {
     "name": "stdout",
     "output_type": "stream",
     "text": [
      "['Joker', 'K', 'Q', 'J', 10, 9, 8, 7, 6, 5, 4, 3, 2, 1]\n"
     ]
    }
   ],
   "execution_count": 14
  },
  {
   "cell_type": "code",
   "metadata": {
    "pycharm": {
     "name": "#%%\n"
    },
    "ExecuteTime": {
     "end_time": "2024-11-09T21:02:41.389135Z",
     "start_time": "2024-11-09T21:02:41.387114Z"
    }
   },
   "source": [
    "print(cards.index('J'))"
   ],
   "outputs": [
    {
     "name": "stdout",
     "output_type": "stream",
     "text": [
      "3\n"
     ]
    }
   ],
   "execution_count": 15
  },
  {
   "cell_type": "code",
   "metadata": {
    "pycharm": {
     "name": "#%%\n"
    },
    "ExecuteTime": {
     "end_time": "2024-11-09T21:02:41.409869Z",
     "start_time": "2024-11-09T21:02:41.407865Z"
    }
   },
   "source": [
    "print(cards.count('Q'))"
   ],
   "outputs": [
    {
     "name": "stdout",
     "output_type": "stream",
     "text": [
      "1\n"
     ]
    }
   ],
   "execution_count": 16
  },
  {
   "cell_type": "code",
   "metadata": {
    "pycharm": {
     "name": "#%%\n"
    },
    "ExecuteTime": {
     "end_time": "2024-11-09T21:02:41.424835Z",
     "start_time": "2024-11-09T21:02:41.422801Z"
    }
   },
   "source": [
    "print(cards[2])"
   ],
   "outputs": [
    {
     "name": "stdout",
     "output_type": "stream",
     "text": [
      "Q\n"
     ]
    }
   ],
   "execution_count": 17
  },
  {
   "cell_type": "code",
   "metadata": {
    "pycharm": {
     "name": "#%%\n"
    },
    "ExecuteTime": {
     "end_time": "2024-11-09T21:02:41.433348Z",
     "start_time": "2024-11-09T21:02:41.431507Z"
    }
   },
   "source": [
    "print(cards[2:4])"
   ],
   "outputs": [
    {
     "name": "stdout",
     "output_type": "stream",
     "text": [
      "['Q', 'J']\n"
     ]
    }
   ],
   "execution_count": 18
  },
  {
   "cell_type": "code",
   "metadata": {
    "pycharm": {
     "name": "#%%\n"
    },
    "ExecuteTime": {
     "end_time": "2024-11-09T21:02:41.456692Z",
     "start_time": "2024-11-09T21:02:41.454364Z"
    }
   },
   "source": [
    "my_dict = {}\n",
    "my_characteristics = {'name': 'Yair', 'city': 'Petah Tikva',\n",
    "                      'age': 44, 'status': 'married',\n",
    "                      'kids': 4, 'dayjob': 'Leadspace'}\n",
    "mapping = { 1: 11, 2:12, 3:13, 4:15, 5:15 }"
   ],
   "outputs": [],
   "execution_count": 19
  },
  {
   "cell_type": "code",
   "metadata": {
    "pycharm": {
     "name": "#%%\n"
    },
    "ExecuteTime": {
     "end_time": "2024-11-09T21:02:41.463279Z",
     "start_time": "2024-11-09T21:02:41.461385Z"
    }
   },
   "source": [
    "print(mapping[1])"
   ],
   "outputs": [
    {
     "name": "stdout",
     "output_type": "stream",
     "text": [
      "11\n"
     ]
    }
   ],
   "execution_count": 20
  },
  {
   "cell_type": "code",
   "metadata": {
    "pycharm": {
     "name": "#%%\n"
    },
    "ExecuteTime": {
     "end_time": "2024-11-09T21:02:41.474421Z",
     "start_time": "2024-11-09T21:02:41.472457Z"
    }
   },
   "source": [
    "print(mapping.get(1))"
   ],
   "outputs": [
    {
     "name": "stdout",
     "output_type": "stream",
     "text": [
      "11\n"
     ]
    }
   ],
   "execution_count": 21
  },
  {
   "cell_type": "code",
   "metadata": {
    "pycharm": {
     "name": "#%%\n"
    },
    "ExecuteTime": {
     "end_time": "2024-11-09T21:02:41.487208Z",
     "start_time": "2024-11-09T21:02:41.485377Z"
    }
   },
   "source": [
    "print(mapping.keys())"
   ],
   "outputs": [
    {
     "name": "stdout",
     "output_type": "stream",
     "text": [
      "dict_keys([1, 2, 3, 4, 5])\n"
     ]
    }
   ],
   "execution_count": 22
  },
  {
   "cell_type": "code",
   "metadata": {
    "pycharm": {
     "name": "#%%\n"
    },
    "ExecuteTime": {
     "end_time": "2024-11-09T21:02:41.501339Z",
     "start_time": "2024-11-09T21:02:41.499211Z"
    }
   },
   "source": [
    "mapping.pop(1)\n",
    "print(mapping)"
   ],
   "outputs": [
    {
     "name": "stdout",
     "output_type": "stream",
     "text": [
      "{2: 12, 3: 13, 4: 15, 5: 15}\n"
     ]
    }
   ],
   "execution_count": 23
  },
  {
   "cell_type": "code",
   "metadata": {
    "pycharm": {
     "name": "#%%\n"
    },
    "ExecuteTime": {
     "end_time": "2024-11-09T21:02:41.510861Z",
     "start_time": "2024-11-09T21:02:41.508868Z"
    }
   },
   "source": [
    "mapping.update({6:16})\n",
    "print(mapping)"
   ],
   "outputs": [
    {
     "name": "stdout",
     "output_type": "stream",
     "text": [
      "{2: 12, 3: 13, 4: 15, 5: 15, 6: 16}\n"
     ]
    }
   ],
   "execution_count": 24
  },
  {
   "cell_type": "code",
   "metadata": {
    "pycharm": {
     "name": "#%%\n"
    },
    "ExecuteTime": {
     "end_time": "2024-11-09T21:02:41.524593Z",
     "start_time": "2024-11-09T21:02:41.522408Z"
    }
   },
   "source": [
    "mapping = {**mapping, **{6:16}}\n",
    "print(mapping)"
   ],
   "outputs": [
    {
     "name": "stdout",
     "output_type": "stream",
     "text": [
      "{2: 12, 3: 13, 4: 15, 5: 15, 6: 16}\n"
     ]
    }
   ],
   "execution_count": 25
  },
  {
   "cell_type": "code",
   "metadata": {
    "pycharm": {
     "name": "#%%\n"
    },
    "ExecuteTime": {
     "end_time": "2024-11-09T21:02:41.543184Z",
     "start_time": "2024-11-09T21:02:41.541203Z"
    }
   },
   "source": [
    "for i in range(5):\n",
    "    print(i)"
   ],
   "outputs": [
    {
     "name": "stdout",
     "output_type": "stream",
     "text": [
      "0\n",
      "1\n",
      "2\n",
      "3\n",
      "4\n"
     ]
    }
   ],
   "execution_count": 26
  },
  {
   "cell_type": "code",
   "metadata": {
    "pycharm": {
     "name": "#%%\n"
    },
    "ExecuteTime": {
     "end_time": "2024-11-09T21:02:41.559064Z",
     "start_time": "2024-11-09T21:02:41.557199Z"
    }
   },
   "source": [
    "for i in range(0, 10, 2):\n",
    "    print(i)"
   ],
   "outputs": [
    {
     "name": "stdout",
     "output_type": "stream",
     "text": [
      "0\n",
      "2\n",
      "4\n",
      "6\n",
      "8\n"
     ]
    }
   ],
   "execution_count": 27
  },
  {
   "cell_type": "code",
   "metadata": {
    "pycharm": {
     "name": "#%%\n"
    },
    "ExecuteTime": {
     "end_time": "2024-11-09T21:02:41.580186Z",
     "start_time": "2024-11-09T21:02:41.577980Z"
    }
   },
   "source": [
    "for i in range(3, 0, -1):\n",
    "    print(i)"
   ],
   "outputs": [
    {
     "name": "stdout",
     "output_type": "stream",
     "text": [
      "3\n",
      "2\n",
      "1\n"
     ]
    }
   ],
   "execution_count": 28
  },
  {
   "cell_type": "code",
   "metadata": {
    "pycharm": {
     "name": "#%%\n"
    },
    "ExecuteTime": {
     "end_time": "2024-11-09T21:02:41.588711Z",
     "start_time": "2024-11-09T21:02:41.586687Z"
    }
   },
   "source": [
    "i = 0\n",
    "while i < 3:\n",
    "    print(i)\n",
    "    i += 1"
   ],
   "outputs": [
    {
     "name": "stdout",
     "output_type": "stream",
     "text": [
      "0\n",
      "1\n",
      "2\n"
     ]
    }
   ],
   "execution_count": 29
  },
  {
   "cell_type": "code",
   "metadata": {
    "pycharm": {
     "name": "#%%\n"
    },
    "ExecuteTime": {
     "end_time": "2024-11-09T21:02:41.601267Z",
     "start_time": "2024-11-09T21:02:41.599414Z"
    }
   },
   "source": [
    "l = [10, 20, 30, 40, 50]"
   ],
   "outputs": [],
   "execution_count": 30
  },
  {
   "cell_type": "code",
   "metadata": {
    "pycharm": {
     "name": "#%%\n"
    },
    "ExecuteTime": {
     "end_time": "2024-11-09T21:02:41.612380Z",
     "start_time": "2024-11-09T21:02:41.609184Z"
    }
   },
   "source": [
    "enumerate(l)"
   ],
   "outputs": [
    {
     "data": {
      "text/plain": [
       "<enumerate at 0x1130ecd60>"
      ]
     },
     "execution_count": 31,
     "metadata": {},
     "output_type": "execute_result"
    }
   ],
   "execution_count": 31
  },
  {
   "cell_type": "code",
   "metadata": {
    "pycharm": {
     "name": "#%%\n"
    },
    "ExecuteTime": {
     "end_time": "2024-11-09T21:02:41.621298Z",
     "start_time": "2024-11-09T21:02:41.619304Z"
    }
   },
   "source": [
    "for i, num in enumerate(l):\n",
    "    print(f\"{i}: {num}\")"
   ],
   "outputs": [
    {
     "name": "stdout",
     "output_type": "stream",
     "text": [
      "0: 10\n",
      "1: 20\n",
      "2: 30\n",
      "3: 40\n",
      "4: 50\n"
     ]
    }
   ],
   "execution_count": 32
  },
  {
   "cell_type": "code",
   "metadata": {
    "pycharm": {
     "name": "#%%\n"
    },
    "ExecuteTime": {
     "end_time": "2024-11-09T21:02:41.634508Z",
     "start_time": "2024-11-09T21:02:41.632409Z"
    }
   },
   "source": [
    "for i in range(3):\n",
    "    for j in range(3):\n",
    "        print(f'{i} * {j} = {i*j}')"
   ],
   "outputs": [
    {
     "name": "stdout",
     "output_type": "stream",
     "text": [
      "0 * 0 = 0\n",
      "0 * 1 = 0\n",
      "0 * 2 = 0\n",
      "1 * 0 = 0\n",
      "1 * 1 = 1\n",
      "1 * 2 = 2\n",
      "2 * 0 = 0\n",
      "2 * 1 = 2\n",
      "2 * 2 = 4\n"
     ]
    }
   ],
   "execution_count": 33
  },
  {
   "cell_type": "code",
   "metadata": {
    "pycharm": {
     "name": "#%%\n"
    },
    "ExecuteTime": {
     "end_time": "2024-11-09T21:02:41.650170Z",
     "start_time": "2024-11-09T21:02:41.647008Z"
    }
   },
   "source": [
    "def func(n):\n",
    "    if n < 1:\n",
    "        return 0\n",
    "    print(n)\n",
    "    return func(n - 1)\n",
    "\n",
    "func(5)"
   ],
   "outputs": [
    {
     "name": "stdout",
     "output_type": "stream",
     "text": [
      "5\n",
      "4\n",
      "3\n",
      "2\n",
      "1\n"
     ]
    },
    {
     "data": {
      "text/plain": [
       "0"
      ]
     },
     "execution_count": 34,
     "metadata": {},
     "output_type": "execute_result"
    }
   ],
   "execution_count": 34
  },
  {
   "cell_type": "code",
   "metadata": {
    "pycharm": {
     "name": "#%%\n"
    },
    "ExecuteTime": {
     "end_time": "2024-11-09T21:02:41.666493Z",
     "start_time": "2024-11-09T21:02:41.664457Z"
    }
   },
   "source": [
    "def factorial(n):\n",
    "    if n == 1:\n",
    "        return 1\n",
    "    else:\n",
    "        return n * factorial(n - 1)\n",
    "\n",
    "print(factorial(5))"
   ],
   "outputs": [
    {
     "name": "stdout",
     "output_type": "stream",
     "text": [
      "120\n"
     ]
    }
   ],
   "execution_count": 35
  },
  {
   "cell_type": "code",
   "metadata": {
    "pycharm": {
     "name": "#%%\n"
    },
    "ExecuteTime": {
     "end_time": "2024-11-09T21:02:41.680404Z",
     "start_time": "2024-11-09T21:02:41.678098Z"
    }
   },
   "source": [
    "class Car:\n",
    "    def __init__(self, model, num_wheels, has_sunroof):\n",
    "        self.model = model\n",
    "        self.num_wheels = num_wheels\n",
    "        self.has_sunroof = has_sunroof\n",
    "\n",
    "    def say_hello(self):\n",
    "        hav = \"have\" if self.has_sunroof else \"don't have\"\n",
    "        return f\"Hello, I'm {self.model} and I {hav} a sunroof\""
   ],
   "outputs": [],
   "execution_count": 36
  },
  {
   "cell_type": "code",
   "metadata": {
    "pycharm": {
     "name": "#%%\n"
    },
    "ExecuteTime": {
     "end_time": "2024-11-09T21:02:41.690968Z",
     "start_time": "2024-11-09T21:02:41.688962Z"
    }
   },
   "source": [
    "c = Car('Tesla', 4, True)\n",
    "print(c.say_hello())"
   ],
   "outputs": [
    {
     "name": "stdout",
     "output_type": "stream",
     "text": [
      "Hello, I'm Tesla and I have a sunroof\n"
     ]
    }
   ],
   "execution_count": 37
  },
  {
   "cell_type": "code",
   "metadata": {
    "pycharm": {
     "name": "#%%\n"
    },
    "ExecuteTime": {
     "end_time": "2024-11-09T21:02:41.698121Z",
     "start_time": "2024-11-09T21:02:41.696543Z"
    }
   },
   "source": [
    "print(type(c))"
   ],
   "outputs": [
    {
     "name": "stdout",
     "output_type": "stream",
     "text": [
      "<class '__main__.Car'>\n"
     ]
    }
   ],
   "execution_count": 38
  }
 ],
 "metadata": {
  "kernelspec": {
   "display_name": "Python 3 (ipykernel)",
   "language": "python",
   "name": "python3"
  },
  "language_info": {
   "codemirror_mode": {
    "name": "ipython",
    "version": 2
   },
   "file_extension": ".py",
   "mimetype": "text/x-python",
   "name": "python",
   "nbconvert_exporter": "python",
   "pygments_lexer": "ipython2",
   "version": "2.7.6"
  }
 },
 "nbformat": 4,
 "nbformat_minor": 1
}
