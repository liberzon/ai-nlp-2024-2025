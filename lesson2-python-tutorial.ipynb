{
 "cells": [
  {
   "cell_type": "markdown",
   "metadata": {},
   "source": [
    "Start comment"
   ]
  },
  {
   "cell_type": "code",
   "execution_count": 1,
   "metadata": {
    "pycharm": {
     "name": "#%%\n"
    },
    "ExecuteTime": {
     "end_time": "2024-01-16T18:23:27.739064Z",
     "start_time": "2024-01-16T18:23:27.577495100Z"
    }
   },
   "outputs": [],
   "source": [
    "n1=10\n",
    "n2=10.0\n",
    "n3=\"10\"\n",
    "n4 = 5"
   ]
  },
  {
   "cell_type": "code",
   "execution_count": 2,
   "metadata": {
    "collapsed": true,
    "ExecuteTime": {
     "end_time": "2024-01-16T18:23:27.739064Z",
     "start_time": "2024-01-16T18:23:27.580487100Z"
    }
   },
   "outputs": [
    {
     "name": "stdout",
     "output_type": "stream",
     "text": [
      "<class 'int'>\n",
      "<class 'float'>\n",
      "<class 'str'>\n"
     ]
    }
   ],
   "source": [
    "print(type(n1))\n",
    "print(type(n2))\n",
    "print(type(n3))"
   ]
  },
  {
   "cell_type": "code",
   "execution_count": 3,
   "metadata": {
    "pycharm": {
     "name": "#%%\n"
    },
    "ExecuteTime": {
     "end_time": "2024-01-16T18:23:27.740061800Z",
     "start_time": "2024-01-16T18:23:27.593452600Z"
    }
   },
   "outputs": [
    {
     "name": "stdout",
     "output_type": "stream",
     "text": [
      "15\n",
      "5\n",
      "2.0\n",
      "50\n",
      "2\n",
      "100000\n",
      "0\n"
     ]
    }
   ],
   "source": [
    "print(n1 + n4)\n",
    "print(n1 - n4)\n",
    "print(n1 / n4)\n",
    "print(n1 * n4)\n",
    "print(n1 // n4)\n",
    "print(n1 ** n4)\n",
    "print(n1 % n4)"
   ]
  },
  {
   "cell_type": "code",
   "execution_count": 4,
   "metadata": {
    "pycharm": {
     "name": "#%%\n"
    },
    "ExecuteTime": {
     "end_time": "2024-01-16T18:23:27.740061800Z",
     "start_time": "2024-01-16T18:23:27.613399Z"
    }
   },
   "outputs": [
    {
     "name": "stdout",
     "output_type": "stream",
     "text": [
      "Yair  Shachar \n",
      "False\n",
      "True\n",
      "ha\n",
      "Shachar\n"
     ]
    }
   ],
   "source": [
    "s1 = 'Yair '\n",
    "s2 = ' Shachar '\n",
    "s3 = 'Yair,Shachar'\n",
    "print(s1+s2)\n",
    "print(s1.islower())\n",
    "print(s1.strip().isalpha())\n",
    "print(s2[2:4])\n",
    "print(s2[1:-1])"
   ]
  },
  {
   "cell_type": "markdown",
   "metadata": {
    "pycharm": {
     "name": "#%% md\n"
    }
   },
   "source": [
    "https://www.w3schools.com/python/python_ref_string.asp"
   ]
  },
  {
   "cell_type": "code",
   "execution_count": 5,
   "metadata": {
    "pycharm": {
     "name": "#%%\n"
    },
    "ExecuteTime": {
     "end_time": "2024-01-16T18:23:31.272518200Z",
     "start_time": "2024-01-16T18:23:27.641326500Z"
    }
   },
   "outputs": [],
   "source": [
    "name = input('What is your name?')"
   ]
  },
  {
   "cell_type": "code",
   "execution_count": 6,
   "metadata": {
    "pycharm": {
     "name": "#%%\n"
    },
    "ExecuteTime": {
     "end_time": "2024-01-16T18:23:31.284485800Z",
     "start_time": "2024-01-16T18:23:31.236057Z"
    }
   },
   "outputs": [
    {
     "name": "stdout",
     "output_type": "stream",
     "text": [
      "Hello World!\n"
     ]
    }
   ],
   "source": [
    "with open('./lesson2-helloworld.txt', 'rt') as f:\n",
    "    contents = f.read()\n",
    "    print(contents)"
   ]
  },
  {
   "cell_type": "code",
   "execution_count": 7,
   "metadata": {
    "pycharm": {
     "name": "#%%\n"
    },
    "ExecuteTime": {
     "end_time": "2024-01-16T18:23:31.287476200Z",
     "start_time": "2024-01-16T18:23:31.267530600Z"
    }
   },
   "outputs": [],
   "source": [
    "s = 'Hello World!'\n",
    "with open('./lesson2-helloworld-output.txt', 'wt') as f:\n",
    "    print(s, file=f)"
   ]
  },
  {
   "cell_type": "code",
   "execution_count": 8,
   "metadata": {
    "pycharm": {
     "name": "#%%\n"
    },
    "ExecuteTime": {
     "end_time": "2024-01-16T18:23:31.310415600Z",
     "start_time": "2024-01-16T18:23:31.283487400Z"
    }
   },
   "outputs": [],
   "source": [
    "n1=10\n",
    "n2=5"
   ]
  },
  {
   "cell_type": "code",
   "execution_count": 9,
   "metadata": {
    "pycharm": {
     "name": "#%%\n"
    },
    "ExecuteTime": {
     "end_time": "2024-01-16T18:23:31.364282300Z",
     "start_time": "2024-01-16T18:23:31.298449300Z"
    }
   },
   "outputs": [
    {
     "name": "stdout",
     "output_type": "stream",
     "text": [
      "Equal\n"
     ]
    }
   ],
   "source": [
    "if n1+n2==15:\n",
    "    print('Equal')"
   ]
  },
  {
   "cell_type": "code",
   "execution_count": 10,
   "metadata": {
    "pycharm": {
     "name": "#%%\n"
    },
    "ExecuteTime": {
     "end_time": "2024-01-16T18:23:31.372251100Z",
     "start_time": "2024-01-16T18:23:31.325375500Z"
    }
   },
   "outputs": [],
   "source": [
    "if n1+n2==14:\n",
    "    print('Equal')"
   ]
  },
  {
   "cell_type": "code",
   "execution_count": 11,
   "metadata": {
    "pycharm": {
     "name": "#%%\n"
    },
    "ExecuteTime": {
     "end_time": "2024-01-16T18:23:31.374245700Z",
     "start_time": "2024-01-16T18:23:31.344324800Z"
    }
   },
   "outputs": [
    {
     "name": "stdout",
     "output_type": "stream",
     "text": [
      "Fifteen\n"
     ]
    }
   ],
   "source": [
    "if n1+n2==14:\n",
    "    print('Fourteen')\n",
    "elif n1+n2==15:\n",
    "    print('Fifteen')\n",
    "else:\n",
    "    print(\"Neither fourteen nor fifteen\")"
   ]
  },
  {
   "cell_type": "code",
   "execution_count": 12,
   "metadata": {
    "pycharm": {
     "name": "#%%\n"
    },
    "ExecuteTime": {
     "end_time": "2024-01-16T18:23:31.385215800Z",
     "start_time": "2024-01-16T18:23:31.359285700Z"
    }
   },
   "outputs": [],
   "source": [
    "my_list = []\n",
    "numbers = [1,2,3,4,5,6]\n",
    "names = ['Yair', 'Shachar', '', None]\n",
    "cards = [1, 2, 3, 4, 5, 6, 7, 8, 9, 10, 'J', 'Q', 'K', 'Joker']"
   ]
  },
  {
   "cell_type": "code",
   "execution_count": 13,
   "metadata": {
    "pycharm": {
     "name": "#%%\n"
    },
    "ExecuteTime": {
     "end_time": "2024-01-16T18:23:31.441066600Z",
     "start_time": "2024-01-16T18:23:31.375244Z"
    }
   },
   "outputs": [
    {
     "name": "stdout",
     "output_type": "stream",
     "text": [
      "[1, 2, 3, 4, 5, 6, 7, 8, 9, 10, 'J', 'Q', 'K', 'Joker']\n"
     ]
    }
   ],
   "source": [
    "\n",
    "print(cards)"
   ]
  },
  {
   "cell_type": "code",
   "execution_count": 14,
   "metadata": {
    "pycharm": {
     "name": "#%%\n"
    },
    "ExecuteTime": {
     "end_time": "2024-01-16T18:23:31.448809200Z",
     "start_time": "2024-01-16T18:23:31.403167900Z"
    }
   },
   "outputs": [
    {
     "name": "stdout",
     "output_type": "stream",
     "text": [
      "['Joker', 'K', 'Q', 'J', 10, 9, 8, 7, 6, 5, 4, 3, 2, 1]\n"
     ]
    }
   ],
   "source": [
    "cards.reverse()\n",
    "print(cards)"
   ]
  },
  {
   "cell_type": "code",
   "execution_count": 15,
   "metadata": {
    "pycharm": {
     "name": "#%%\n"
    },
    "ExecuteTime": {
     "end_time": "2024-01-16T18:23:31.449806500Z",
     "start_time": "2024-01-16T18:23:31.419125200Z"
    }
   },
   "outputs": [
    {
     "name": "stdout",
     "output_type": "stream",
     "text": [
      "3\n"
     ]
    }
   ],
   "source": [
    "print(cards.index('J'))"
   ]
  },
  {
   "cell_type": "code",
   "execution_count": 16,
   "metadata": {
    "pycharm": {
     "name": "#%%\n"
    },
    "ExecuteTime": {
     "end_time": "2024-01-16T18:23:31.451800800Z",
     "start_time": "2024-01-16T18:23:31.433088500Z"
    }
   },
   "outputs": [
    {
     "name": "stdout",
     "output_type": "stream",
     "text": [
      "1\n"
     ]
    }
   ],
   "source": [
    "print(cards.count('Q'))"
   ]
  },
  {
   "cell_type": "code",
   "execution_count": 17,
   "metadata": {
    "pycharm": {
     "name": "#%%\n"
    },
    "ExecuteTime": {
     "end_time": "2024-01-16T18:23:31.472745700Z",
     "start_time": "2024-01-16T18:23:31.450804100Z"
    }
   },
   "outputs": [
    {
     "name": "stdout",
     "output_type": "stream",
     "text": [
      "Q\n"
     ]
    }
   ],
   "source": [
    "print(cards[2])"
   ]
  },
  {
   "cell_type": "code",
   "execution_count": 18,
   "metadata": {
    "pycharm": {
     "name": "#%%\n"
    },
    "ExecuteTime": {
     "end_time": "2024-01-16T18:23:31.550099200Z",
     "start_time": "2024-01-16T18:23:31.465764700Z"
    }
   },
   "outputs": [
    {
     "name": "stdout",
     "output_type": "stream",
     "text": [
      "['Q', 'J']\n"
     ]
    }
   ],
   "source": [
    "print(cards[2:4])"
   ]
  },
  {
   "cell_type": "code",
   "execution_count": 19,
   "metadata": {
    "pycharm": {
     "name": "#%%\n"
    },
    "ExecuteTime": {
     "end_time": "2024-01-16T18:23:31.556084200Z",
     "start_time": "2024-01-16T18:23:31.481724500Z"
    }
   },
   "outputs": [],
   "source": [
    "my_dict = {}\n",
    "my_characteristics = {'name': 'Yair', 'city': 'Petah Tikva',\n",
    "                      'age': 44, 'status': 'married',\n",
    "                      'kids': 4, 'dayjob': 'Leadspace'}\n",
    "mapping = { 1: 11, 2:12, 3:13, 4:15, 5:15 }"
   ]
  },
  {
   "cell_type": "code",
   "execution_count": 20,
   "metadata": {
    "pycharm": {
     "name": "#%%\n"
    },
    "ExecuteTime": {
     "end_time": "2024-01-16T18:23:31.557080900Z",
     "start_time": "2024-01-16T18:23:31.498676400Z"
    }
   },
   "outputs": [
    {
     "name": "stdout",
     "output_type": "stream",
     "text": [
      "11\n"
     ]
    }
   ],
   "source": [
    "print(mapping[1])"
   ]
  },
  {
   "cell_type": "code",
   "execution_count": 21,
   "metadata": {
    "pycharm": {
     "name": "#%%\n"
    },
    "ExecuteTime": {
     "end_time": "2024-01-16T18:23:31.558078200Z",
     "start_time": "2024-01-16T18:23:31.513636700Z"
    }
   },
   "outputs": [
    {
     "name": "stdout",
     "output_type": "stream",
     "text": [
      "11\n"
     ]
    }
   ],
   "source": [
    "print(mapping.get(1))"
   ]
  },
  {
   "cell_type": "code",
   "execution_count": 22,
   "metadata": {
    "pycharm": {
     "name": "#%%\n"
    },
    "ExecuteTime": {
     "end_time": "2024-01-16T18:23:31.560072900Z",
     "start_time": "2024-01-16T18:23:31.529593900Z"
    }
   },
   "outputs": [
    {
     "name": "stdout",
     "output_type": "stream",
     "text": [
      "dict_keys([1, 2, 3, 4, 5])\n"
     ]
    }
   ],
   "source": [
    "print(mapping.keys())"
   ]
  },
  {
   "cell_type": "code",
   "execution_count": 23,
   "metadata": {
    "pycharm": {
     "name": "#%%\n"
    },
    "ExecuteTime": {
     "end_time": "2024-01-16T18:23:31.580019200Z",
     "start_time": "2024-01-16T18:23:31.544121700Z"
    }
   },
   "outputs": [
    {
     "name": "stdout",
     "output_type": "stream",
     "text": [
      "{2: 12, 3: 13, 4: 15, 5: 15}\n"
     ]
    }
   ],
   "source": [
    "mapping.pop(1)\n",
    "print(mapping)"
   ]
  },
  {
   "cell_type": "code",
   "execution_count": 24,
   "metadata": {
    "pycharm": {
     "name": "#%%\n"
    },
    "ExecuteTime": {
     "end_time": "2024-01-16T18:23:31.589992300Z",
     "start_time": "2024-01-16T18:23:31.560072900Z"
    }
   },
   "outputs": [
    {
     "name": "stdout",
     "output_type": "stream",
     "text": [
      "{2: 12, 3: 13, 4: 15, 5: 15, 6: 16}\n"
     ]
    }
   ],
   "source": [
    "mapping.update({6:16})\n",
    "print(mapping)"
   ]
  },
  {
   "cell_type": "code",
   "execution_count": 25,
   "metadata": {
    "pycharm": {
     "name": "#%%\n"
    },
    "ExecuteTime": {
     "end_time": "2024-01-16T18:23:31.660575100Z",
     "start_time": "2024-01-16T18:23:31.577027300Z"
    }
   },
   "outputs": [
    {
     "name": "stdout",
     "output_type": "stream",
     "text": [
      "{2: 12, 3: 13, 4: 15, 5: 15, 6: 16}\n"
     ]
    }
   ],
   "source": [
    "mapping = {**mapping, **{6:16}}\n",
    "print(mapping)"
   ]
  },
  {
   "cell_type": "code",
   "execution_count": 26,
   "metadata": {
    "pycharm": {
     "name": "#%%\n"
    },
    "ExecuteTime": {
     "end_time": "2024-01-16T18:23:31.676516Z",
     "start_time": "2024-01-16T18:23:31.593982200Z"
    }
   },
   "outputs": [
    {
     "name": "stdout",
     "output_type": "stream",
     "text": [
      "0\n",
      "1\n",
      "2\n",
      "3\n",
      "4\n"
     ]
    }
   ],
   "source": [
    "for i in range(5):\n",
    "    print(i)"
   ]
  },
  {
   "cell_type": "code",
   "execution_count": 27,
   "metadata": {
    "pycharm": {
     "name": "#%%\n"
    },
    "ExecuteTime": {
     "end_time": "2024-01-16T18:23:31.676516Z",
     "start_time": "2024-01-16T18:23:31.606947400Z"
    }
   },
   "outputs": [
    {
     "name": "stdout",
     "output_type": "stream",
     "text": [
      "0\n",
      "2\n",
      "4\n",
      "6\n",
      "8\n"
     ]
    }
   ],
   "source": [
    "for i in range(0, 10, 2):\n",
    "    print(i)"
   ]
  },
  {
   "cell_type": "code",
   "execution_count": 28,
   "metadata": {
    "pycharm": {
     "name": "#%%\n"
    },
    "ExecuteTime": {
     "end_time": "2024-01-16T18:23:31.685491600Z",
     "start_time": "2024-01-16T18:23:31.649587900Z"
    }
   },
   "outputs": [
    {
     "name": "stdout",
     "output_type": "stream",
     "text": [
      "3\n",
      "2\n",
      "1\n"
     ]
    }
   ],
   "source": [
    "for i in range(3, 0, -1):\n",
    "    print(i)"
   ]
  },
  {
   "cell_type": "code",
   "execution_count": 29,
   "metadata": {
    "pycharm": {
     "name": "#%%\n"
    },
    "ExecuteTime": {
     "end_time": "2024-01-16T18:23:31.701449100Z",
     "start_time": "2024-01-16T18:23:31.669534800Z"
    }
   },
   "outputs": [
    {
     "name": "stdout",
     "output_type": "stream",
     "text": [
      "0\n",
      "1\n",
      "2\n"
     ]
    }
   ],
   "source": [
    "i = 0\n",
    "while i < 3:\n",
    "    print(i)\n",
    "    i += 1"
   ]
  },
  {
   "cell_type": "code",
   "execution_count": 30,
   "metadata": {
    "pycharm": {
     "name": "#%%\n"
    },
    "ExecuteTime": {
     "end_time": "2024-01-16T18:23:31.770265600Z",
     "start_time": "2024-01-16T18:23:31.684494600Z"
    }
   },
   "outputs": [],
   "source": [
    "l = [10, 20, 30, 40, 50]"
   ]
  },
  {
   "cell_type": "code",
   "execution_count": 31,
   "metadata": {
    "pycharm": {
     "name": "#%%\n"
    },
    "ExecuteTime": {
     "end_time": "2024-01-16T18:23:31.778244800Z",
     "start_time": "2024-01-16T18:23:31.699454900Z"
    }
   },
   "outputs": [
    {
     "data": {
      "text/plain": "<enumerate at 0x18876b05f40>"
     },
     "execution_count": 31,
     "metadata": {},
     "output_type": "execute_result"
    }
   ],
   "source": [
    "enumerate(l)"
   ]
  },
  {
   "cell_type": "code",
   "execution_count": 32,
   "metadata": {
    "pycharm": {
     "name": "#%%\n"
    },
    "ExecuteTime": {
     "end_time": "2024-01-16T18:23:31.778244800Z",
     "start_time": "2024-01-16T18:23:31.716409500Z"
    }
   },
   "outputs": [
    {
     "name": "stdout",
     "output_type": "stream",
     "text": [
      "0: 10\n",
      "1: 20\n",
      "2: 30\n",
      "3: 40\n",
      "4: 50\n"
     ]
    }
   ],
   "source": [
    "for i, num in enumerate(l):\n",
    "    print(f\"{i}: {num}\")"
   ]
  },
  {
   "cell_type": "code",
   "execution_count": 33,
   "metadata": {
    "pycharm": {
     "name": "#%%\n"
    },
    "ExecuteTime": {
     "end_time": "2024-01-16T18:23:31.779242800Z",
     "start_time": "2024-01-16T18:23:31.732368400Z"
    }
   },
   "outputs": [
    {
     "name": "stdout",
     "output_type": "stream",
     "text": [
      "0 * 0 = 0\n",
      "0 * 1 = 0\n",
      "0 * 2 = 0\n",
      "1 * 0 = 0\n",
      "1 * 1 = 1\n",
      "1 * 2 = 2\n",
      "2 * 0 = 0\n",
      "2 * 1 = 2\n",
      "2 * 2 = 4\n"
     ]
    }
   ],
   "source": [
    "for i in range(3):\n",
    "    for j in range(3):\n",
    "        print(f'{i} * {j} = {i*j}')"
   ]
  },
  {
   "cell_type": "code",
   "execution_count": 34,
   "metadata": {
    "pycharm": {
     "name": "#%%\n"
    },
    "ExecuteTime": {
     "end_time": "2024-01-16T18:23:31.784228600Z",
     "start_time": "2024-01-16T18:23:31.748325600Z"
    }
   },
   "outputs": [
    {
     "name": "stdout",
     "output_type": "stream",
     "text": [
      "5\n",
      "4\n",
      "3\n",
      "2\n",
      "1\n"
     ]
    },
    {
     "data": {
      "text/plain": "0"
     },
     "execution_count": 34,
     "metadata": {},
     "output_type": "execute_result"
    }
   ],
   "source": [
    "def func(n):\n",
    "    if n < 1:\n",
    "        return 0\n",
    "    print(n)\n",
    "    return func(n - 1)\n",
    "\n",
    "func(5)"
   ]
  },
  {
   "cell_type": "code",
   "execution_count": 35,
   "metadata": {
    "pycharm": {
     "name": "#%%\n"
    },
    "ExecuteTime": {
     "end_time": "2024-01-16T18:23:31.789215100Z",
     "start_time": "2024-01-16T18:23:31.762287200Z"
    }
   },
   "outputs": [
    {
     "name": "stdout",
     "output_type": "stream",
     "text": [
      "120\n"
     ]
    }
   ],
   "source": [
    "def factorial(n):\n",
    "    if n == 1:\n",
    "        return 1\n",
    "    else:\n",
    "        return n * factorial(n - 1)\n",
    "\n",
    "print(factorial(5))"
   ]
  },
  {
   "cell_type": "code",
   "execution_count": 36,
   "metadata": {
    "pycharm": {
     "name": "#%%\n"
    },
    "ExecuteTime": {
     "end_time": "2024-01-16T18:23:31.815146100Z",
     "start_time": "2024-01-16T18:23:31.779242800Z"
    }
   },
   "outputs": [],
   "source": [
    "class Car:\n",
    "    def __init__(self, model, num_wheels, has_sunroof):\n",
    "        self.model = model\n",
    "        self.num_wheels = num_wheels\n",
    "        self.has_sunroof = has_sunroof\n",
    "\n",
    "    def say_hello(self):\n",
    "        hav = \"have\" if self.has_sunroof else \"don't have\"\n",
    "        return f\"Hello, I'm {self.model} and I {hav} a sunroof\""
   ]
  },
  {
   "cell_type": "code",
   "execution_count": 37,
   "metadata": {
    "pycharm": {
     "name": "#%%\n"
    },
    "ExecuteTime": {
     "end_time": "2024-01-16T18:23:31.894933400Z",
     "start_time": "2024-01-16T18:23:31.795200Z"
    }
   },
   "outputs": [
    {
     "name": "stdout",
     "output_type": "stream",
     "text": [
      "Hello, I'm Tesla and I have a sunroof\n"
     ]
    }
   ],
   "source": [
    "c = Car('Tesla', 4, True)\n",
    "print(c.say_hello())"
   ]
  },
  {
   "cell_type": "code",
   "execution_count": 38,
   "metadata": {
    "pycharm": {
     "name": "#%%\n"
    },
    "ExecuteTime": {
     "end_time": "2024-01-16T18:23:31.908896500Z",
     "start_time": "2024-01-16T18:23:31.811156700Z"
    }
   },
   "outputs": [
    {
     "name": "stdout",
     "output_type": "stream",
     "text": [
      "<class '__main__.Car'>\n"
     ]
    }
   ],
   "source": [
    "print(type(c))"
   ]
  }
 ],
 "metadata": {
  "kernelspec": {
   "display_name": "Python 3 (ipykernel)",
   "language": "python",
   "name": "python3"
  },
  "language_info": {
   "codemirror_mode": {
    "name": "ipython",
    "version": 2
   },
   "file_extension": ".py",
   "mimetype": "text/x-python",
   "name": "python",
   "nbconvert_exporter": "python",
   "pygments_lexer": "ipython2",
   "version": "2.7.6"
  }
 },
 "nbformat": 4,
 "nbformat_minor": 1
}
