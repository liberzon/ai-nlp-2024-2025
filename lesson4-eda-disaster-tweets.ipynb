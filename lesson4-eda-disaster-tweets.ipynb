{
 "cells": [
  {
   "cell_type": "markdown",
   "source": [
    "A guy created and uploaded the Kaggle dataset https://www.kaggle.com/datasets/vstepanenko/disaster-tweets <br>\n",
    "They used common keywords like “crash”, “quarantine”, and “bush fires” to perform search for those tweets. <br>\n",
    "They collected 11,000 tweets.<br>\n",
    "Then, they presented a problem to the community to identify if the tweet was real disaster or a joke with the word or a movie review or something non-disastrous."
   ],
   "metadata": {
    "collapsed": false
   }
  },
  {
   "cell_type": "markdown",
   "source": [
    "![](./disaster-tweets.png)"
   ],
   "metadata": {
    "collapsed": false
   }
  },
  {
   "cell_type": "code",
   "metadata": {
    "collapsed": true,
    "ExecuteTime": {
     "end_time": "2024-11-26T21:29:36.841053Z",
     "start_time": "2024-11-26T21:29:35.822667Z"
    }
   },
   "source": [
    "import pandas as pd\n",
    "import numpy as np\n",
    "import matplotlib.pyplot as plt\n",
    "#plt.style.use(style=\"seaborn\")"
   ],
   "outputs": [],
   "execution_count": 1
  },
  {
   "cell_type": "code",
   "source": [
    "train = pd.read_csv('lesson4-disaster-tweets/train.csv')\n",
    "test = pd.read_csv('lesson4-disaster-tweets/test.csv')"
   ],
   "metadata": {
    "collapsed": false,
    "ExecuteTime": {
     "end_time": "2024-11-26T21:29:36.865957Z",
     "start_time": "2024-11-26T21:29:36.845235Z"
    }
   },
   "outputs": [],
   "execution_count": 2
  },
  {
   "cell_type": "code",
   "source": [
    "train.head()"
   ],
   "metadata": {
    "collapsed": false,
    "ExecuteTime": {
     "end_time": "2024-11-26T21:29:37.035764Z",
     "start_time": "2024-11-26T21:29:37.030183Z"
    }
   },
   "outputs": [
    {
     "data": {
      "text/plain": [
       "   id keyword location                                               text  \\\n",
       "0   1     NaN      NaN  Our Deeds are the Reason of this #earthquake M...   \n",
       "1   4     NaN      NaN             Forest fire near La Ronge Sask. Canada   \n",
       "2   5     NaN      NaN  All residents asked to 'shelter in place' are ...   \n",
       "3   6     NaN      NaN  13,000 people receive #wildfires evacuation or...   \n",
       "4   7     NaN      NaN  Just got sent this photo from Ruby #Alaska as ...   \n",
       "\n",
       "   target  \n",
       "0       1  \n",
       "1       1  \n",
       "2       1  \n",
       "3       1  \n",
       "4       1  "
      ],
      "text/html": [
       "<div>\n",
       "<style scoped>\n",
       "    .dataframe tbody tr th:only-of-type {\n",
       "        vertical-align: middle;\n",
       "    }\n",
       "\n",
       "    .dataframe tbody tr th {\n",
       "        vertical-align: top;\n",
       "    }\n",
       "\n",
       "    .dataframe thead th {\n",
       "        text-align: right;\n",
       "    }\n",
       "</style>\n",
       "<table border=\"1\" class=\"dataframe\">\n",
       "  <thead>\n",
       "    <tr style=\"text-align: right;\">\n",
       "      <th></th>\n",
       "      <th>id</th>\n",
       "      <th>keyword</th>\n",
       "      <th>location</th>\n",
       "      <th>text</th>\n",
       "      <th>target</th>\n",
       "    </tr>\n",
       "  </thead>\n",
       "  <tbody>\n",
       "    <tr>\n",
       "      <th>0</th>\n",
       "      <td>1</td>\n",
       "      <td>NaN</td>\n",
       "      <td>NaN</td>\n",
       "      <td>Our Deeds are the Reason of this #earthquake M...</td>\n",
       "      <td>1</td>\n",
       "    </tr>\n",
       "    <tr>\n",
       "      <th>1</th>\n",
       "      <td>4</td>\n",
       "      <td>NaN</td>\n",
       "      <td>NaN</td>\n",
       "      <td>Forest fire near La Ronge Sask. Canada</td>\n",
       "      <td>1</td>\n",
       "    </tr>\n",
       "    <tr>\n",
       "      <th>2</th>\n",
       "      <td>5</td>\n",
       "      <td>NaN</td>\n",
       "      <td>NaN</td>\n",
       "      <td>All residents asked to 'shelter in place' are ...</td>\n",
       "      <td>1</td>\n",
       "    </tr>\n",
       "    <tr>\n",
       "      <th>3</th>\n",
       "      <td>6</td>\n",
       "      <td>NaN</td>\n",
       "      <td>NaN</td>\n",
       "      <td>13,000 people receive #wildfires evacuation or...</td>\n",
       "      <td>1</td>\n",
       "    </tr>\n",
       "    <tr>\n",
       "      <th>4</th>\n",
       "      <td>7</td>\n",
       "      <td>NaN</td>\n",
       "      <td>NaN</td>\n",
       "      <td>Just got sent this photo from Ruby #Alaska as ...</td>\n",
       "      <td>1</td>\n",
       "    </tr>\n",
       "  </tbody>\n",
       "</table>\n",
       "</div>"
      ]
     },
     "execution_count": 3,
     "metadata": {},
     "output_type": "execute_result"
    }
   ],
   "execution_count": 3
  },
  {
   "cell_type": "code",
   "source": [
    "train.head().T"
   ],
   "metadata": {
    "collapsed": false,
    "ExecuteTime": {
     "end_time": "2024-11-26T21:29:37.046661Z",
     "start_time": "2024-11-26T21:29:37.042423Z"
    }
   },
   "outputs": [
    {
     "data": {
      "text/plain": [
       "                                                          0  \\\n",
       "id                                                        1   \n",
       "keyword                                                 NaN   \n",
       "location                                                NaN   \n",
       "text      Our Deeds are the Reason of this #earthquake M...   \n",
       "target                                                    1   \n",
       "\n",
       "                                               1  \\\n",
       "id                                             4   \n",
       "keyword                                      NaN   \n",
       "location                                     NaN   \n",
       "text      Forest fire near La Ronge Sask. Canada   \n",
       "target                                         1   \n",
       "\n",
       "                                                          2  \\\n",
       "id                                                        5   \n",
       "keyword                                                 NaN   \n",
       "location                                                NaN   \n",
       "text      All residents asked to 'shelter in place' are ...   \n",
       "target                                                    1   \n",
       "\n",
       "                                                          3  \\\n",
       "id                                                        6   \n",
       "keyword                                                 NaN   \n",
       "location                                                NaN   \n",
       "text      13,000 people receive #wildfires evacuation or...   \n",
       "target                                                    1   \n",
       "\n",
       "                                                          4  \n",
       "id                                                        7  \n",
       "keyword                                                 NaN  \n",
       "location                                                NaN  \n",
       "text      Just got sent this photo from Ruby #Alaska as ...  \n",
       "target                                                    1  "
      ],
      "text/html": [
       "<div>\n",
       "<style scoped>\n",
       "    .dataframe tbody tr th:only-of-type {\n",
       "        vertical-align: middle;\n",
       "    }\n",
       "\n",
       "    .dataframe tbody tr th {\n",
       "        vertical-align: top;\n",
       "    }\n",
       "\n",
       "    .dataframe thead th {\n",
       "        text-align: right;\n",
       "    }\n",
       "</style>\n",
       "<table border=\"1\" class=\"dataframe\">\n",
       "  <thead>\n",
       "    <tr style=\"text-align: right;\">\n",
       "      <th></th>\n",
       "      <th>0</th>\n",
       "      <th>1</th>\n",
       "      <th>2</th>\n",
       "      <th>3</th>\n",
       "      <th>4</th>\n",
       "    </tr>\n",
       "  </thead>\n",
       "  <tbody>\n",
       "    <tr>\n",
       "      <th>id</th>\n",
       "      <td>1</td>\n",
       "      <td>4</td>\n",
       "      <td>5</td>\n",
       "      <td>6</td>\n",
       "      <td>7</td>\n",
       "    </tr>\n",
       "    <tr>\n",
       "      <th>keyword</th>\n",
       "      <td>NaN</td>\n",
       "      <td>NaN</td>\n",
       "      <td>NaN</td>\n",
       "      <td>NaN</td>\n",
       "      <td>NaN</td>\n",
       "    </tr>\n",
       "    <tr>\n",
       "      <th>location</th>\n",
       "      <td>NaN</td>\n",
       "      <td>NaN</td>\n",
       "      <td>NaN</td>\n",
       "      <td>NaN</td>\n",
       "      <td>NaN</td>\n",
       "    </tr>\n",
       "    <tr>\n",
       "      <th>text</th>\n",
       "      <td>Our Deeds are the Reason of this #earthquake M...</td>\n",
       "      <td>Forest fire near La Ronge Sask. Canada</td>\n",
       "      <td>All residents asked to 'shelter in place' are ...</td>\n",
       "      <td>13,000 people receive #wildfires evacuation or...</td>\n",
       "      <td>Just got sent this photo from Ruby #Alaska as ...</td>\n",
       "    </tr>\n",
       "    <tr>\n",
       "      <th>target</th>\n",
       "      <td>1</td>\n",
       "      <td>1</td>\n",
       "      <td>1</td>\n",
       "      <td>1</td>\n",
       "      <td>1</td>\n",
       "    </tr>\n",
       "  </tbody>\n",
       "</table>\n",
       "</div>"
      ]
     },
     "execution_count": 4,
     "metadata": {},
     "output_type": "execute_result"
    }
   ],
   "execution_count": 4
  },
  {
   "cell_type": "code",
   "source": [
    "test.head().T"
   ],
   "metadata": {
    "collapsed": false,
    "ExecuteTime": {
     "end_time": "2024-11-26T21:29:37.067167Z",
     "start_time": "2024-11-26T21:29:37.063682Z"
    }
   },
   "outputs": [
    {
     "data": {
      "text/plain": [
       "                                           0  \\\n",
       "id                                         0   \n",
       "keyword                                  NaN   \n",
       "location                                 NaN   \n",
       "text      Just happened a terrible car crash   \n",
       "\n",
       "                                                          1  \\\n",
       "id                                                        2   \n",
       "keyword                                                 NaN   \n",
       "location                                                NaN   \n",
       "text      Heard about #earthquake is different cities, s...   \n",
       "\n",
       "                                                          2  \\\n",
       "id                                                        3   \n",
       "keyword                                                 NaN   \n",
       "location                                                NaN   \n",
       "text      there is a forest fire at spot pond, geese are...   \n",
       "\n",
       "                                                 3  \\\n",
       "id                                               9   \n",
       "keyword                                        NaN   \n",
       "location                                       NaN   \n",
       "text      Apocalypse lighting. #Spokane #wildfires   \n",
       "\n",
       "                                                      4  \n",
       "id                                                   11  \n",
       "keyword                                             NaN  \n",
       "location                                            NaN  \n",
       "text      Typhoon Soudelor kills 28 in China and Taiwan  "
      ],
      "text/html": [
       "<div>\n",
       "<style scoped>\n",
       "    .dataframe tbody tr th:only-of-type {\n",
       "        vertical-align: middle;\n",
       "    }\n",
       "\n",
       "    .dataframe tbody tr th {\n",
       "        vertical-align: top;\n",
       "    }\n",
       "\n",
       "    .dataframe thead th {\n",
       "        text-align: right;\n",
       "    }\n",
       "</style>\n",
       "<table border=\"1\" class=\"dataframe\">\n",
       "  <thead>\n",
       "    <tr style=\"text-align: right;\">\n",
       "      <th></th>\n",
       "      <th>0</th>\n",
       "      <th>1</th>\n",
       "      <th>2</th>\n",
       "      <th>3</th>\n",
       "      <th>4</th>\n",
       "    </tr>\n",
       "  </thead>\n",
       "  <tbody>\n",
       "    <tr>\n",
       "      <th>id</th>\n",
       "      <td>0</td>\n",
       "      <td>2</td>\n",
       "      <td>3</td>\n",
       "      <td>9</td>\n",
       "      <td>11</td>\n",
       "    </tr>\n",
       "    <tr>\n",
       "      <th>keyword</th>\n",
       "      <td>NaN</td>\n",
       "      <td>NaN</td>\n",
       "      <td>NaN</td>\n",
       "      <td>NaN</td>\n",
       "      <td>NaN</td>\n",
       "    </tr>\n",
       "    <tr>\n",
       "      <th>location</th>\n",
       "      <td>NaN</td>\n",
       "      <td>NaN</td>\n",
       "      <td>NaN</td>\n",
       "      <td>NaN</td>\n",
       "      <td>NaN</td>\n",
       "    </tr>\n",
       "    <tr>\n",
       "      <th>text</th>\n",
       "      <td>Just happened a terrible car crash</td>\n",
       "      <td>Heard about #earthquake is different cities, s...</td>\n",
       "      <td>there is a forest fire at spot pond, geese are...</td>\n",
       "      <td>Apocalypse lighting. #Spokane #wildfires</td>\n",
       "      <td>Typhoon Soudelor kills 28 in China and Taiwan</td>\n",
       "    </tr>\n",
       "  </tbody>\n",
       "</table>\n",
       "</div>"
      ]
     },
     "execution_count": 5,
     "metadata": {},
     "output_type": "execute_result"
    }
   ],
   "execution_count": 5
  },
  {
   "cell_type": "code",
   "source": [
    "train.fillna(-99, inplace=True)\n",
    "test.fillna(-99, inplace=True)"
   ],
   "metadata": {
    "collapsed": false,
    "ExecuteTime": {
     "end_time": "2024-11-26T21:29:37.146621Z",
     "start_time": "2024-11-26T21:29:37.142403Z"
    }
   },
   "outputs": [],
   "execution_count": 6
  },
  {
   "cell_type": "code",
   "source": [
    "train.keyword.value_counts()[:5]"
   ],
   "metadata": {
    "collapsed": false,
    "ExecuteTime": {
     "end_time": "2024-11-26T21:29:37.249965Z",
     "start_time": "2024-11-26T21:29:37.246326Z"
    }
   },
   "outputs": [
    {
     "data": {
      "text/plain": [
       "keyword\n",
       "-99           61\n",
       "fatalities    45\n",
       "deluge        42\n",
       "armageddon    42\n",
       "sinking       41\n",
       "Name: count, dtype: int64"
      ]
     },
     "execution_count": 7,
     "metadata": {},
     "output_type": "execute_result"
    }
   ],
   "execution_count": 7
  },
  {
   "cell_type": "code",
   "source": [
    "train.location.value_counts()[:5]"
   ],
   "metadata": {
    "collapsed": false,
    "ExecuteTime": {
     "end_time": "2024-11-26T21:29:37.321366Z",
     "start_time": "2024-11-26T21:29:37.317286Z"
    }
   },
   "outputs": [
    {
     "data": {
      "text/plain": [
       "location\n",
       "-99              2533\n",
       "USA               104\n",
       "New York           71\n",
       "United States      50\n",
       "London             45\n",
       "Name: count, dtype: int64"
      ]
     },
     "execution_count": 8,
     "metadata": {},
     "output_type": "execute_result"
    }
   ],
   "execution_count": 8
  },
  {
   "cell_type": "code",
   "source": [
    "disasters = train[train.target == 1].shape[0]\n",
    "non_disasters = train[train.target == 0].shape[0]"
   ],
   "metadata": {
    "collapsed": false,
    "ExecuteTime": {
     "end_time": "2024-11-26T21:29:37.357017Z",
     "start_time": "2024-11-26T21:29:37.354036Z"
    }
   },
   "outputs": [],
   "execution_count": 9
  },
  {
   "cell_type": "code",
   "source": [
    "plt.figure(1,figsize=(16,8))\n",
    "plt.subplot(1,2,1)\n",
    "_ = plt.bar(['Disasters', 'Non-disasters'], [disasters, non_disasters])"
   ],
   "metadata": {
    "collapsed": false,
    "ExecuteTime": {
     "end_time": "2024-11-26T21:29:37.509782Z",
     "start_time": "2024-11-26T21:29:37.416741Z"
    }
   },
   "outputs": [
    {
     "data": {
      "text/plain": [
       "<Figure size 1600x800 with 1 Axes>"
      ],
      "image/png": "[encoded data removed]"
     },
     "metadata": {},
     "output_type": "display_data"
    }
   ],
   "execution_count": 10
  },
  {
   "cell_type": "code",
   "source": [
    "def plot_target_based_features(feature):\n",
    "    x1 = train[train.target == 1][feature]\n",
    "    x2 = train[train.target == 0][feature]\n",
    "    plt.figure(1, figsize=(16,8))\n",
    "    plt.subplot(1,1,1)\n",
    "    _ = plt.hist(x2, alpha=0.5, color=\"grey\", bins=50)\n",
    "    _ = plt.hist(x1, alpha=0.7, color=\"red\", bins=50)\n",
    "    return _"
   ],
   "metadata": {
    "collapsed": false,
    "ExecuteTime": {
     "end_time": "2024-11-26T21:29:37.573184Z",
     "start_time": "2024-11-26T21:29:37.571140Z"
    }
   },
   "outputs": [],
   "execution_count": 11
  },
  {
   "cell_type": "code",
   "source": [
    "train[\"text_len\"] = train.text.map(lambda x: len(x))"
   ],
   "metadata": {
    "collapsed": false,
    "ExecuteTime": {
     "end_time": "2024-11-26T21:29:37.615314Z",
     "start_time": "2024-11-26T21:29:37.611711Z"
    }
   },
   "outputs": [],
   "execution_count": 12
  },
  {
   "cell_type": "code",
   "source": [
    "_ = plot_target_based_features(\"text_len\")"
   ],
   "metadata": {
    "collapsed": false,
    "ExecuteTime": {
     "end_time": "2024-11-26T21:29:37.752859Z",
     "start_time": "2024-11-26T21:29:37.637430Z"
    }
   },
   "outputs": [
    {
     "data": {
      "text/plain": [
       "<Figure size 1600x800 with 1 Axes>"
      ],
      "image/png": "[encoded data removed]"
     },
     "metadata": {},
     "output_type": "display_data"
    }
   ],
   "execution_count": 13
  },
  {
   "cell_type": "code",
   "source": [
    "train[\"words_count\"] = train.text.str.split().map(lambda x: len(x))"
   ],
   "metadata": {
    "collapsed": false,
    "ExecuteTime": {
     "end_time": "2024-11-26T21:29:37.852800Z",
     "start_time": "2024-11-26T21:29:37.816643Z"
    }
   },
   "outputs": [],
   "execution_count": 14
  },
  {
   "cell_type": "code",
   "source": [
    "_ = plot_target_based_features(\"words_count\")"
   ],
   "metadata": {
    "collapsed": false,
    "ExecuteTime": {
     "end_time": "2024-11-26T21:29:37.977328Z",
     "start_time": "2024-11-26T21:29:37.859406Z"
    }
   },
   "outputs": [
    {
     "data": {
      "text/plain": [
       "<Figure size 1600x800 with 1 Axes>"
      ],
      "image/png": "[encoded data removed]"
     },
     "metadata": {},
     "output_type": "display_data"
    }
   ],
   "execution_count": 15
  },
  {
   "cell_type": "code",
   "source": [
    "train[\"unique_word_count\"] = train.text.map(lambda x: len(set(str(x).split())))"
   ],
   "metadata": {
    "collapsed": false,
    "ExecuteTime": {
     "end_time": "2024-11-26T21:29:38.007006Z",
     "start_time": "2024-11-26T21:29:37.992418Z"
    }
   },
   "outputs": [],
   "execution_count": 16
  },
  {
   "cell_type": "code",
   "source": [
    "_ = plot_target_based_features(\"unique_word_count\")"
   ],
   "metadata": {
    "collapsed": false,
    "ExecuteTime": {
     "end_time": "2024-11-26T21:29:38.127622Z",
     "start_time": "2024-11-26T21:29:38.014280Z"
    }
   },
   "outputs": [
    {
     "data": {
      "text/plain": [
       "<Figure size 1600x800 with 1 Axes>"
      ],
      "image/png": "[encoded data removed]"
     },
     "metadata": {},
     "output_type": "display_data"
    }
   ],
   "execution_count": 17
  },
  {
   "cell_type": "code",
   "source": [
    "train['mean_word_length'] = train.text.map(\n",
    "    lambda x: np.mean([len(w) for w in str(x).split()])\n",
    ")"
   ],
   "metadata": {
    "collapsed": false,
    "ExecuteTime": {
     "end_time": "2024-11-26T21:29:38.170447Z",
     "start_time": "2024-11-26T21:29:38.134860Z"
    }
   },
   "outputs": [],
   "execution_count": 18
  },
  {
   "cell_type": "code",
   "source": [
    "_ = plot_target_based_features(\"mean_word_length\")"
   ],
   "metadata": {
    "collapsed": false,
    "ExecuteTime": {
     "end_time": "2024-11-26T21:29:38.293529Z",
     "start_time": "2024-11-26T21:29:38.176675Z"
    }
   },
   "outputs": [
    {
     "data": {
      "text/plain": [
       "<Figure size 1600x800 with 1 Axes>"
      ],
      "image/png": "[encoded data removed]"
     },
     "metadata": {},
     "output_type": "display_data"
    }
   ],
   "execution_count": 19
  },
  {
   "cell_type": "code",
   "source": [
    "import string\n",
    "\n",
    "train['punctuation_count'] = train[\"text\"].map(\n",
    "    lambda x: len([c for c in str(x) if c in string.punctuation])\n",
    ")"
   ],
   "metadata": {
    "collapsed": false,
    "ExecuteTime": {
     "end_time": "2024-11-26T21:29:38.319527Z",
     "start_time": "2024-11-26T21:29:38.300183Z"
    }
   },
   "outputs": [],
   "execution_count": 20
  },
  {
   "cell_type": "code",
   "source": [
    "_ = plot_target_based_features(\"punctuation_count\")"
   ],
   "metadata": {
    "collapsed": false,
    "ExecuteTime": {
     "end_time": "2024-11-26T21:29:38.440229Z",
     "start_time": "2024-11-26T21:29:38.326022Z"
    }
   },
   "outputs": [
    {
     "data": {
      "text/plain": [
       "<Figure size 1600x800 with 1 Axes>"
      ],
      "image/png": "[encoded data removed]"
     },
     "metadata": {},
     "output_type": "display_data"
    }
   ],
   "execution_count": 21
  },
  {
   "cell_type": "code",
   "source": [],
   "metadata": {
    "collapsed": false,
    "ExecuteTime": {
     "end_time": "2024-11-26T21:29:38.449196Z",
     "start_time": "2024-11-26T21:29:38.447738Z"
    }
   },
   "outputs": [],
   "execution_count": null
  }
 ],
 "metadata": {
  "kernelspec": {
   "display_name": "Python 3",
   "language": "python",
   "name": "python3"
  },
  "language_info": {
   "codemirror_mode": {
    "name": "ipython",
    "version": 2
   },
   "file_extension": ".py",
   "mimetype": "text/x-python",
   "name": "python",
   "nbconvert_exporter": "python",
   "pygments_lexer": "ipython2",
   "version": "2.7.6"
  }
 },
 "nbformat": 4,
 "nbformat_minor": 0
}
