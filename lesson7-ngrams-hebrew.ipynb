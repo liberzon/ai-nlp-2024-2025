{
 "cells": [
  {
   "cell_type": "code",
   "execution_count": 10,
   "outputs": [],
   "source": [
    "import pandas as pd"
   ],
   "metadata": {
    "collapsed": false,
    "ExecuteTime": {
     "end_time": "2024-01-30T13:55:05.885689Z",
     "start_time": "2024-01-30T13:55:05.874345Z"
    }
   }
  },
  {
   "cell_type": "code",
   "execution_count": 11,
   "outputs": [],
   "source": [
    "df = pd.DataFrame(['מה ששנוא עליך אל תעשה לחברך'], columns=['text'])"
   ],
   "metadata": {
    "collapsed": false,
    "ExecuteTime": {
     "end_time": "2024-01-30T13:55:05.899747Z",
     "start_time": "2024-01-30T13:55:05.888881Z"
    }
   }
  },
  {
   "cell_type": "code",
   "execution_count": 12,
   "outputs": [
    {
     "data": {
      "text/plain": "text    object\ndtype: object"
     },
     "execution_count": 12,
     "metadata": {},
     "output_type": "execute_result"
    }
   ],
   "source": [
    "df.dtypes"
   ],
   "metadata": {
    "collapsed": false,
    "ExecuteTime": {
     "end_time": "2024-01-30T13:55:05.915964Z",
     "start_time": "2024-01-30T13:55:05.903626Z"
    }
   }
  },
  {
   "cell_type": "code",
   "execution_count": 13,
   "outputs": [
    {
     "data": {
      "text/plain": "(1, 1)"
     },
     "execution_count": 13,
     "metadata": {},
     "output_type": "execute_result"
    }
   ],
   "source": [
    "df.shape"
   ],
   "metadata": {
    "collapsed": false,
    "ExecuteTime": {
     "end_time": "2024-01-30T13:55:05.934060Z",
     "start_time": "2024-01-30T13:55:05.906711Z"
    }
   }
  },
  {
   "cell_type": "code",
   "execution_count": 14,
   "outputs": [
    {
     "data": {
      "text/plain": "                          text\n0  מה ששנוא עליך אל תעשה לחברך",
      "text/html": "<div>\n<style scoped>\n    .dataframe tbody tr th:only-of-type {\n        vertical-align: middle;\n    }\n\n    .dataframe tbody tr th {\n        vertical-align: top;\n    }\n\n    .dataframe thead th {\n        text-align: right;\n    }\n</style>\n<table border=\"1\" class=\"dataframe\">\n  <thead>\n    <tr style=\"text-align: right;\">\n      <th></th>\n      <th>text</th>\n    </tr>\n  </thead>\n  <tbody>\n    <tr>\n      <th>0</th>\n      <td>מה ששנוא עליך אל תעשה לחברך</td>\n    </tr>\n  </tbody>\n</table>\n</div>"
     },
     "execution_count": 14,
     "metadata": {},
     "output_type": "execute_result"
    }
   ],
   "source": [
    "df.head()"
   ],
   "metadata": {
    "collapsed": false,
    "ExecuteTime": {
     "end_time": "2024-01-30T13:55:05.934660Z",
     "start_time": "2024-01-30T13:55:05.912589Z"
    }
   }
  },
  {
   "cell_type": "code",
   "execution_count": 15,
   "outputs": [],
   "source": [
    "from sklearn.feature_extraction.text import CountVectorizer"
   ],
   "metadata": {
    "collapsed": false,
    "ExecuteTime": {
     "end_time": "2024-01-30T13:55:05.936077Z",
     "start_time": "2024-01-30T13:55:05.917149Z"
    }
   }
  },
  {
   "cell_type": "code",
   "execution_count": 16,
   "outputs": [],
   "source": [
    "text_df = df['text']"
   ],
   "metadata": {
    "collapsed": false,
    "ExecuteTime": {
     "end_time": "2024-01-30T13:55:05.936340Z",
     "start_time": "2024-01-30T13:55:05.920524Z"
    }
   }
  },
  {
   "cell_type": "code",
   "execution_count": 17,
   "outputs": [],
   "source": [
    "def get_matrix(text_df_input, model_input):\n",
    "    matrix = model_input.fit_transform(text_df_input).toarray()\n",
    "    return pd.DataFrame(data = matrix, columns = model_input.get_feature_names_out())"
   ],
   "metadata": {
    "collapsed": false,
    "ExecuteTime": {
     "end_time": "2024-01-30T13:55:05.936622Z",
     "start_time": "2024-01-30T13:55:05.923756Z"
    }
   }
  },
  {
   "cell_type": "code",
   "execution_count": 18,
   "outputs": [
    {
     "data": {
      "text/plain": "   אל  לחברך  מה  עליך  ששנוא  תעשה\n0   1      1   1     1      1     1",
      "text/html": "<div>\n<style scoped>\n    .dataframe tbody tr th:only-of-type {\n        vertical-align: middle;\n    }\n\n    .dataframe tbody tr th {\n        vertical-align: top;\n    }\n\n    .dataframe thead th {\n        text-align: right;\n    }\n</style>\n<table border=\"1\" class=\"dataframe\">\n  <thead>\n    <tr style=\"text-align: right;\">\n      <th></th>\n      <th>אל</th>\n      <th>לחברך</th>\n      <th>מה</th>\n      <th>עליך</th>\n      <th>ששנוא</th>\n      <th>תעשה</th>\n    </tr>\n  </thead>\n  <tbody>\n    <tr>\n      <th>0</th>\n      <td>1</td>\n      <td>1</td>\n      <td>1</td>\n      <td>1</td>\n      <td>1</td>\n      <td>1</td>\n    </tr>\n  </tbody>\n</table>\n</div>"
     },
     "execution_count": 18,
     "metadata": {},
     "output_type": "execute_result"
    }
   ],
   "source": [
    "model = CountVectorizer(ngram_range = (1, 1))\n",
    "get_matrix(text_df, model)"
   ],
   "metadata": {
    "collapsed": false,
    "ExecuteTime": {
     "end_time": "2024-01-30T13:55:05.963172Z",
     "start_time": "2024-01-30T13:55:05.940489Z"
    }
   }
  },
  {
   "cell_type": "code",
   "execution_count": 19,
   "outputs": [
    {
     "data": {
      "text/plain": "   אל  לחברך  מה  עליך  ששנוא  תעשה\n0   1      1   1     1      1     1",
      "text/html": "<div>\n<style scoped>\n    .dataframe tbody tr th:only-of-type {\n        vertical-align: middle;\n    }\n\n    .dataframe tbody tr th {\n        vertical-align: top;\n    }\n\n    .dataframe thead th {\n        text-align: right;\n    }\n</style>\n<table border=\"1\" class=\"dataframe\">\n  <thead>\n    <tr style=\"text-align: right;\">\n      <th></th>\n      <th>אל</th>\n      <th>לחברך</th>\n      <th>מה</th>\n      <th>עליך</th>\n      <th>ששנוא</th>\n      <th>תעשה</th>\n    </tr>\n  </thead>\n  <tbody>\n    <tr>\n      <th>0</th>\n      <td>1</td>\n      <td>1</td>\n      <td>1</td>\n      <td>1</td>\n      <td>1</td>\n      <td>1</td>\n    </tr>\n  </tbody>\n</table>\n</div>"
     },
     "execution_count": 19,
     "metadata": {},
     "output_type": "execute_result"
    }
   ],
   "source": [
    "model = CountVectorizer(ngram_range = (1, 1))\n",
    "get_matrix(text_df, model)"
   ],
   "metadata": {
    "collapsed": false,
    "ExecuteTime": {
     "end_time": "2024-01-30T13:55:05.963720Z",
     "start_time": "2024-01-30T13:55:05.946040Z"
    }
   }
  },
  {
   "cell_type": "code",
   "execution_count": 20,
   "outputs": [
    {
     "data": {
      "text/plain": "            0\nאל תעשה     1\nמה ששנוא    1\nעליך אל     1\nששנוא עליך  1\nתעשה לחברך  1",
      "text/html": "<div>\n<style scoped>\n    .dataframe tbody tr th:only-of-type {\n        vertical-align: middle;\n    }\n\n    .dataframe tbody tr th {\n        vertical-align: top;\n    }\n\n    .dataframe thead th {\n        text-align: right;\n    }\n</style>\n<table border=\"1\" class=\"dataframe\">\n  <thead>\n    <tr style=\"text-align: right;\">\n      <th></th>\n      <th>0</th>\n    </tr>\n  </thead>\n  <tbody>\n    <tr>\n      <th>אל תעשה</th>\n      <td>1</td>\n    </tr>\n    <tr>\n      <th>מה ששנוא</th>\n      <td>1</td>\n    </tr>\n    <tr>\n      <th>עליך אל</th>\n      <td>1</td>\n    </tr>\n    <tr>\n      <th>ששנוא עליך</th>\n      <td>1</td>\n    </tr>\n    <tr>\n      <th>תעשה לחברך</th>\n      <td>1</td>\n    </tr>\n  </tbody>\n</table>\n</div>"
     },
     "execution_count": 20,
     "metadata": {},
     "output_type": "execute_result"
    }
   ],
   "source": [
    "model = CountVectorizer(ngram_range = (2, 2))\n",
    "get_matrix(text_df, model).T"
   ],
   "metadata": {
    "collapsed": false,
    "ExecuteTime": {
     "end_time": "2024-01-30T13:55:05.989805Z",
     "start_time": "2024-01-30T13:55:05.958066Z"
    }
   }
  },
  {
   "cell_type": "code",
   "execution_count": 21,
   "outputs": [],
   "source": [
    "def get_ngrams(text, ngram_from=2, ngram_to=2, n=None, max_features=20000):\n",
    "\n",
    "    vec = CountVectorizer(ngram_range = (ngram_from, ngram_to),\n",
    "                          max_features = max_features).fit(text)\n",
    "    bag_of_words = vec.transform(text)\n",
    "    sum_words = bag_of_words.sum(axis = 0)\n",
    "    words_freq = [(word, sum_words[0, i]) for word, i in vec.vocabulary_.items()]\n",
    "    words_freq = sorted(words_freq, key = lambda x: x[1], reverse = True)\n",
    "\n",
    "    return words_freq[:n]"
   ],
   "metadata": {
    "collapsed": false,
    "ExecuteTime": {
     "end_time": "2024-01-30T13:55:06.008612Z",
     "start_time": "2024-01-30T13:55:05.968649Z"
    }
   }
  },
  {
   "cell_type": "code",
   "execution_count": 22,
   "outputs": [
    {
     "data": {
      "text/plain": "  Unigram  Frequency\n0      מה          1\n1   ששנוא          1\n2    עליך          1\n3      אל          1\n4    תעשה          1\n5   לחברך          1",
      "text/html": "<div>\n<style scoped>\n    .dataframe tbody tr th:only-of-type {\n        vertical-align: middle;\n    }\n\n    .dataframe tbody tr th {\n        vertical-align: top;\n    }\n\n    .dataframe thead th {\n        text-align: right;\n    }\n</style>\n<table border=\"1\" class=\"dataframe\">\n  <thead>\n    <tr style=\"text-align: right;\">\n      <th></th>\n      <th>Unigram</th>\n      <th>Frequency</th>\n    </tr>\n  </thead>\n  <tbody>\n    <tr>\n      <th>0</th>\n      <td>מה</td>\n      <td>1</td>\n    </tr>\n    <tr>\n      <th>1</th>\n      <td>ששנוא</td>\n      <td>1</td>\n    </tr>\n    <tr>\n      <th>2</th>\n      <td>עליך</td>\n      <td>1</td>\n    </tr>\n    <tr>\n      <th>3</th>\n      <td>אל</td>\n      <td>1</td>\n    </tr>\n    <tr>\n      <th>4</th>\n      <td>תעשה</td>\n      <td>1</td>\n    </tr>\n    <tr>\n      <th>5</th>\n      <td>לחברך</td>\n      <td>1</td>\n    </tr>\n  </tbody>\n</table>\n</div>"
     },
     "execution_count": 22,
     "metadata": {},
     "output_type": "execute_result"
    }
   ],
   "source": [
    "unigrams = get_ngrams(text_df, ngram_from=1, ngram_to=1, n=100)\n",
    "unigrams_df = pd.DataFrame(unigrams)\n",
    "unigrams_df.columns=[\"Unigram\", \"Frequency\"]\n",
    "unigrams_df"
   ],
   "metadata": {
    "collapsed": false,
    "ExecuteTime": {
     "end_time": "2024-01-30T13:55:06.132335Z",
     "start_time": "2024-01-30T13:55:06.047701Z"
    }
   }
  },
  {
   "cell_type": "code",
   "execution_count": 23,
   "outputs": [
    {
     "data": {
      "text/plain": "       Bigram  Frequency\n0    מה ששנוא          1\n1  ששנוא עליך          1\n2     עליך אל          1\n3     אל תעשה          1\n4  תעשה לחברך          1",
      "text/html": "<div>\n<style scoped>\n    .dataframe tbody tr th:only-of-type {\n        vertical-align: middle;\n    }\n\n    .dataframe tbody tr th {\n        vertical-align: top;\n    }\n\n    .dataframe thead th {\n        text-align: right;\n    }\n</style>\n<table border=\"1\" class=\"dataframe\">\n  <thead>\n    <tr style=\"text-align: right;\">\n      <th></th>\n      <th>Bigram</th>\n      <th>Frequency</th>\n    </tr>\n  </thead>\n  <tbody>\n    <tr>\n      <th>0</th>\n      <td>מה ששנוא</td>\n      <td>1</td>\n    </tr>\n    <tr>\n      <th>1</th>\n      <td>ששנוא עליך</td>\n      <td>1</td>\n    </tr>\n    <tr>\n      <th>2</th>\n      <td>עליך אל</td>\n      <td>1</td>\n    </tr>\n    <tr>\n      <th>3</th>\n      <td>אל תעשה</td>\n      <td>1</td>\n    </tr>\n    <tr>\n      <th>4</th>\n      <td>תעשה לחברך</td>\n      <td>1</td>\n    </tr>\n  </tbody>\n</table>\n</div>"
     },
     "execution_count": 23,
     "metadata": {},
     "output_type": "execute_result"
    }
   ],
   "source": [
    "bigrams = get_ngrams(text_df, ngram_from=2, ngram_to=2, n=15)\n",
    "bigrams_df = pd.DataFrame(bigrams)\n",
    "bigrams_df.columns=[\"Bigram\", \"Frequency\"]\n",
    "bigrams_df"
   ],
   "metadata": {
    "collapsed": false,
    "ExecuteTime": {
     "end_time": "2024-01-30T13:55:06.141314Z",
     "start_time": "2024-01-30T13:55:06.077894Z"
    }
   }
  },
  {
   "cell_type": "code",
   "execution_count": 24,
   "outputs": [
    {
     "data": {
      "text/plain": "         Trigram  Frequency\n0  מה ששנוא עליך          1\n1  ששנוא עליך אל          1\n2   עליך אל תעשה          1\n3  אל תעשה לחברך          1",
      "text/html": "<div>\n<style scoped>\n    .dataframe tbody tr th:only-of-type {\n        vertical-align: middle;\n    }\n\n    .dataframe tbody tr th {\n        vertical-align: top;\n    }\n\n    .dataframe thead th {\n        text-align: right;\n    }\n</style>\n<table border=\"1\" class=\"dataframe\">\n  <thead>\n    <tr style=\"text-align: right;\">\n      <th></th>\n      <th>Trigram</th>\n      <th>Frequency</th>\n    </tr>\n  </thead>\n  <tbody>\n    <tr>\n      <th>0</th>\n      <td>מה ששנוא עליך</td>\n      <td>1</td>\n    </tr>\n    <tr>\n      <th>1</th>\n      <td>ששנוא עליך אל</td>\n      <td>1</td>\n    </tr>\n    <tr>\n      <th>2</th>\n      <td>עליך אל תעשה</td>\n      <td>1</td>\n    </tr>\n    <tr>\n      <th>3</th>\n      <td>אל תעשה לחברך</td>\n      <td>1</td>\n    </tr>\n  </tbody>\n</table>\n</div>"
     },
     "execution_count": 24,
     "metadata": {},
     "output_type": "execute_result"
    }
   ],
   "source": [
    "trigrams = get_ngrams(text_df, ngram_from=3, ngram_to=3, n=15)\n",
    "trigrams_df = pd.DataFrame(trigrams)\n",
    "trigrams_df.columns=[\"Trigram\", \"Frequency\"]\n",
    "trigrams_df"
   ],
   "metadata": {
    "collapsed": false,
    "ExecuteTime": {
     "end_time": "2024-01-30T13:55:06.221440Z",
     "start_time": "2024-01-30T13:55:06.146683Z"
    }
   }
  },
  {
   "cell_type": "code",
   "execution_count": 25,
   "outputs": [
    {
     "data": {
      "text/plain": "             Quadgram  Frequency\n0    מה ששנוא עליך אל          1\n1  ששנוא עליך אל תעשה          1\n2  עליך אל תעשה לחברך          1",
      "text/html": "<div>\n<style scoped>\n    .dataframe tbody tr th:only-of-type {\n        vertical-align: middle;\n    }\n\n    .dataframe tbody tr th {\n        vertical-align: top;\n    }\n\n    .dataframe thead th {\n        text-align: right;\n    }\n</style>\n<table border=\"1\" class=\"dataframe\">\n  <thead>\n    <tr style=\"text-align: right;\">\n      <th></th>\n      <th>Quadgram</th>\n      <th>Frequency</th>\n    </tr>\n  </thead>\n  <tbody>\n    <tr>\n      <th>0</th>\n      <td>מה ששנוא עליך אל</td>\n      <td>1</td>\n    </tr>\n    <tr>\n      <th>1</th>\n      <td>ששנוא עליך אל תעשה</td>\n      <td>1</td>\n    </tr>\n    <tr>\n      <th>2</th>\n      <td>עליך אל תעשה לחברך</td>\n      <td>1</td>\n    </tr>\n  </tbody>\n</table>\n</div>"
     },
     "execution_count": 25,
     "metadata": {},
     "output_type": "execute_result"
    }
   ],
   "source": [
    "quadgrams = get_ngrams(text_df, ngram_from=4, ngram_to=4, n=15)\n",
    "quadgrams_df = pd.DataFrame(quadgrams)\n",
    "quadgrams_df.columns=[\"Quadgram\", \"Frequency\"]\n",
    "quadgrams_df"
   ],
   "metadata": {
    "collapsed": false,
    "ExecuteTime": {
     "end_time": "2024-01-30T13:55:06.242978Z",
     "start_time": "2024-01-30T13:55:06.186068Z"
    }
   }
  },
  {
   "cell_type": "code",
   "execution_count": 26,
   "outputs": [
    {
     "data": {
      "text/plain": "                  Quintgram  Frequency\n0     מה ששנוא עליך אל תעשה          1\n1  ששנוא עליך אל תעשה לחברך          1",
      "text/html": "<div>\n<style scoped>\n    .dataframe tbody tr th:only-of-type {\n        vertical-align: middle;\n    }\n\n    .dataframe tbody tr th {\n        vertical-align: top;\n    }\n\n    .dataframe thead th {\n        text-align: right;\n    }\n</style>\n<table border=\"1\" class=\"dataframe\">\n  <thead>\n    <tr style=\"text-align: right;\">\n      <th></th>\n      <th>Quintgram</th>\n      <th>Frequency</th>\n    </tr>\n  </thead>\n  <tbody>\n    <tr>\n      <th>0</th>\n      <td>מה ששנוא עליך אל תעשה</td>\n      <td>1</td>\n    </tr>\n    <tr>\n      <th>1</th>\n      <td>ששנוא עליך אל תעשה לחברך</td>\n      <td>1</td>\n    </tr>\n  </tbody>\n</table>\n</div>"
     },
     "execution_count": 26,
     "metadata": {},
     "output_type": "execute_result"
    }
   ],
   "source": [
    "quintgrams = get_ngrams(text_df, ngram_from=5, ngram_to=5, n=15)\n",
    "quintgrams_df = pd.DataFrame(quintgrams)\n",
    "quintgrams_df.columns=[\"Quintgram\", \"Frequency\"]\n",
    "quintgrams_df"
   ],
   "metadata": {
    "collapsed": false,
    "ExecuteTime": {
     "end_time": "2024-01-30T13:55:06.287905Z",
     "start_time": "2024-01-30T13:55:06.230791Z"
    }
   }
  }
 ],
 "metadata": {
  "kernelspec": {
   "display_name": "Python 3",
   "language": "python",
   "name": "python3"
  },
  "language_info": {
   "codemirror_mode": {
    "name": "ipython",
    "version": 2
   },
   "file_extension": ".py",
   "mimetype": "text/x-python",
   "name": "python",
   "nbconvert_exporter": "python",
   "pygments_lexer": "ipython2",
   "version": "2.7.6"
  }
 },
 "nbformat": 4,
 "nbformat_minor": 0
}
