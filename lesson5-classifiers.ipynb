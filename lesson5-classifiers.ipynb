{
 "cells": [
  {
   "cell_type": "code",
   "execution_count": 8,
   "id": "initial_id",
   "metadata": {
    "collapsed": true,
    "ExecuteTime": {
     "end_time": "2024-12-05T12:34:04.049753Z",
     "start_time": "2024-12-05T12:34:04.041697Z"
    }
   },
   "outputs": [],
   "source": [
    "from sklearn.feature_extraction.text import TfidfVectorizer\n",
    "from sklearn.model_selection import train_test_split\n",
    "from sklearn.linear_model import LogisticRegression\n",
    "from sklearn.metrics import accuracy_score, classification_report\n",
    "\n",
    "# Dataset\n",
    "documents = [\n",
    "    \"This movie is fantastic, I loved every moment.\",\n",
    "    \"Absolutely terrible, a complete waste of time.\",\n",
    "    \"Amazing acting, truly a masterpiece.\",\n",
    "    \"The acting was poor, and the plot made no sense.\",\n",
    "    \"The plot was engaging and the visuals were stunning.\",\n",
    "    \"Horrible direction, couldn't sit through the entire movie.\",\n",
    "    \"A brilliant performance, highly recommend!\",\n",
    "    \"Disappointing and boring, don't recommend it.\",\n",
    "    \"One of the best movies I've seen in a while.\",\n",
    "    \"Worst movie of the year, truly awful.\",\n",
    "    \"Excellent direction, kept me hooked till the end.\",\n",
    "    \"The characters were one-dimensional and uninteresting.\",\n",
    "    \"Heartwarming story and great acting.\",\n",
    "    \"A predictable and uninspired story.\",\n",
    "    \"Absolutely loved the characters and storyline.\",\n",
    "    \"Painfully slow pacing, almost fell asleep.\",\n",
    "    \"The soundtrack was amazing, it made the movie perfect.\",\n",
    "    \"The visuals were okay, but the story was lacking.\",\n",
    "    \"Incredible visuals and a moving story.\",\n",
    "    \"Not worth watching, save your time and money.\",\n",
    "    \"An unforgettable experience, a must-watch.\",\n",
    "    \"The dialogue was cheesy and unrealistic.\",\n",
    "    \"Superb writing and exceptional performances.\",\n",
    "    \"The performances felt forced and unnatural.\",\n",
    "    \"The pacing was perfect, not a dull moment.\",\n",
    "    \"Terrible execution of a potentially good idea.\",\n",
    "    \"Highly entertaining, had a great time watching it.\",\n",
    "    \"The editing was choppy and the scenes felt disconnected.\",\n",
    "    \"A truly inspiring and uplifting film.\",\n",
    "    \"An absolute disaster of a film, don't bother.\",\n",
    "    \"The chemistry between the characters was perfect.\",\n",
    "    \"Lackluster and completely forgettable.\",\n",
    "    \"Loved the way the story unfolded, truly captivating.\",\n",
    "    \"The movie was a mess, didn't make any sense.\",\n",
    "    \"A fantastic movie that keeps you thinking afterward.\",\n",
    "    \"Cringeworthy moments throughout the entire film.\",\n",
    "    \"Emotional, powerful, and brilliantly executed.\",\n",
    "    \"Felt like a low-budget attempt, very disappointing.\",\n",
    "    \"A feel-good movie with a strong message.\",\n",
    "    \"It tried to be deep but ended up being pretentious.\",\n",
    "    \"The plot was brilliant and kept me intrigued.\",\n",
    "    \"The movie was dull and overly predictable.\",\n",
    "    \"A fantastic story with lovable characters.\",\n",
    "    \"The action sequences were poorly executed.\",\n",
    "    \"An inspiring movie that left me feeling hopeful.\",\n",
    "    \"A confusing and disjointed narrative.\",\n",
    "    \"The humor was on point, a delightful watch.\",\n",
    "    \"The movie lacked originality and depth.\",\n",
    "    \"A cinematic gem, truly breathtaking.\",\n",
    "    \"A tedious watch with little redeeming quality.\"\n",
    "]\n",
    "\n",
    "labels = [\n",
    "    1, 0, 1, 0, 1, 0, 1, 0, 1, 0,\n",
    "    1, 0, 1, 0, 1, 0, 1, 0, 1, 0,\n",
    "    1, 0, 1, 0, 1, 0, 1, 0, 1, 0,\n",
    "    1, 0, 1, 0, 1, 0, 1, 0, 1, 0,\n",
    "    1, 0, 1, 0, 1, 0, 1, 0, 1, 0\n",
    "]"
   ]
  },
  {
   "cell_type": "code",
   "outputs": [],
   "source": [
    "# Split the data\n",
    "X_train, X_test, y_train, y_test = train_test_split(documents, labels, test_size=0.3, random_state=42)"
   ],
   "metadata": {
    "collapsed": false,
    "ExecuteTime": {
     "end_time": "2024-12-05T12:38:03.834545Z",
     "start_time": "2024-12-05T12:38:03.830770Z"
    }
   },
   "id": "4d5b34102d3a088f",
   "execution_count": 25
  },
  {
   "cell_type": "code",
   "outputs": [],
   "source": [
    "from sklearn.feature_extraction.text import CountVectorizer\n",
    "\n",
    "# Vectorize the data\n",
    "#vectorizer = CountVectorizer()\n",
    "#vectorizer = CountVectorizer(max_features=100)\n",
    "#vectorizer = CountVectorizer()\n",
    "#vectorizer = CountVectorizer(stop_words='english')\n",
    "vectorizer = CountVectorizer(stop_words='english', ngram_range=(1, 2))\n",
    "#vectorizer = TfidfVectorizer(stop_words='english')\n",
    "X_train_vec = vectorizer.fit_transform(X_train)\n",
    "X_test_vec = vectorizer.transform(X_test)"
   ],
   "metadata": {
    "collapsed": false,
    "ExecuteTime": {
     "end_time": "2024-12-05T15:44:17.220184Z",
     "start_time": "2024-12-05T15:44:17.208289Z"
    }
   },
   "id": "de55b6d9f5fc1d45",
   "execution_count": 70
  },
  {
   "cell_type": "code",
   "outputs": [
    {
     "data": {
      "text/plain": "LogisticRegression(C=0.1, random_state=42)",
      "text/html": "<style>#sk-container-id-22 {color: black;}#sk-container-id-22 pre{padding: 0;}#sk-container-id-22 div.sk-toggleable {background-color: white;}#sk-container-id-22 label.sk-toggleable__label {cursor: pointer;display: block;width: 100%;margin-bottom: 0;padding: 0.3em;box-sizing: border-box;text-align: center;}#sk-container-id-22 label.sk-toggleable__label-arrow:before {content: \"▸\";float: left;margin-right: 0.25em;color: #696969;}#sk-container-id-22 label.sk-toggleable__label-arrow:hover:before {color: black;}#sk-container-id-22 div.sk-estimator:hover label.sk-toggleable__label-arrow:before {color: black;}#sk-container-id-22 div.sk-toggleable__content {max-height: 0;max-width: 0;overflow: hidden;text-align: left;background-color: #f0f8ff;}#sk-container-id-22 div.sk-toggleable__content pre {margin: 0.2em;color: black;border-radius: 0.25em;background-color: #f0f8ff;}#sk-container-id-22 input.sk-toggleable__control:checked~div.sk-toggleable__content {max-height: 200px;max-width: 100%;overflow: auto;}#sk-container-id-22 input.sk-toggleable__control:checked~label.sk-toggleable__label-arrow:before {content: \"▾\";}#sk-container-id-22 div.sk-estimator input.sk-toggleable__control:checked~label.sk-toggleable__label {background-color: #d4ebff;}#sk-container-id-22 div.sk-label input.sk-toggleable__control:checked~label.sk-toggleable__label {background-color: #d4ebff;}#sk-container-id-22 input.sk-hidden--visually {border: 0;clip: rect(1px 1px 1px 1px);clip: rect(1px, 1px, 1px, 1px);height: 1px;margin: -1px;overflow: hidden;padding: 0;position: absolute;width: 1px;}#sk-container-id-22 div.sk-estimator {font-family: monospace;background-color: #f0f8ff;border: 1px dotted black;border-radius: 0.25em;box-sizing: border-box;margin-bottom: 0.5em;}#sk-container-id-22 div.sk-estimator:hover {background-color: #d4ebff;}#sk-container-id-22 div.sk-parallel-item::after {content: \"\";width: 100%;border-bottom: 1px solid gray;flex-grow: 1;}#sk-container-id-22 div.sk-label:hover label.sk-toggleable__label {background-color: #d4ebff;}#sk-container-id-22 div.sk-serial::before {content: \"\";position: absolute;border-left: 1px solid gray;box-sizing: border-box;top: 0;bottom: 0;left: 50%;z-index: 0;}#sk-container-id-22 div.sk-serial {display: flex;flex-direction: column;align-items: center;background-color: white;padding-right: 0.2em;padding-left: 0.2em;position: relative;}#sk-container-id-22 div.sk-item {position: relative;z-index: 1;}#sk-container-id-22 div.sk-parallel {display: flex;align-items: stretch;justify-content: center;background-color: white;position: relative;}#sk-container-id-22 div.sk-item::before, #sk-container-id-22 div.sk-parallel-item::before {content: \"\";position: absolute;border-left: 1px solid gray;box-sizing: border-box;top: 0;bottom: 0;left: 50%;z-index: -1;}#sk-container-id-22 div.sk-parallel-item {display: flex;flex-direction: column;z-index: 1;position: relative;background-color: white;}#sk-container-id-22 div.sk-parallel-item:first-child::after {align-self: flex-end;width: 50%;}#sk-container-id-22 div.sk-parallel-item:last-child::after {align-self: flex-start;width: 50%;}#sk-container-id-22 div.sk-parallel-item:only-child::after {width: 0;}#sk-container-id-22 div.sk-dashed-wrapped {border: 1px dashed gray;margin: 0 0.4em 0.5em 0.4em;box-sizing: border-box;padding-bottom: 0.4em;background-color: white;}#sk-container-id-22 div.sk-label label {font-family: monospace;font-weight: bold;display: inline-block;line-height: 1.2em;}#sk-container-id-22 div.sk-label-container {text-align: center;}#sk-container-id-22 div.sk-container {/* jupyter's `normalize.less` sets `[hidden] { display: none; }` but bootstrap.min.css set `[hidden] { display: none !important; }` so we also need the `!important` here to be able to override the default hidden behavior on the sphinx rendered scikit-learn.org. See: https://github.com/scikit-learn/scikit-learn/issues/21755 */display: inline-block !important;position: relative;}#sk-container-id-22 div.sk-text-repr-fallback {display: none;}</style><div id=\"sk-container-id-22\" class=\"sk-top-container\"><div class=\"sk-text-repr-fallback\"><pre>LogisticRegression(C=0.1, random_state=42)</pre><b>In a Jupyter environment, please rerun this cell to show the HTML representation or trust the notebook. <br />On GitHub, the HTML representation is unable to render, please try loading this page with nbviewer.org.</b></div><div class=\"sk-container\" hidden><div class=\"sk-item\"><div class=\"sk-estimator sk-toggleable\"><input class=\"sk-toggleable__control sk-hidden--visually\" id=\"sk-estimator-id-22\" type=\"checkbox\" checked><label for=\"sk-estimator-id-22\" class=\"sk-toggleable__label sk-toggleable__label-arrow\">LogisticRegression</label><div class=\"sk-toggleable__content\"><pre>LogisticRegression(C=0.1, random_state=42)</pre></div></div></div></div></div>"
     },
     "execution_count": 71,
     "metadata": {},
     "output_type": "execute_result"
    }
   ],
   "source": [
    "# Train the classifier\n",
    "classifier = LogisticRegression(C=0.1, random_state=42)\n",
    "classifier.fit(X_train_vec, y_train)"
   ],
   "metadata": {
    "collapsed": false,
    "ExecuteTime": {
     "end_time": "2024-12-05T15:44:17.784226Z",
     "start_time": "2024-12-05T15:44:17.768638Z"
    }
   },
   "id": "3d470761b19b5092",
   "execution_count": 71
  },
  {
   "cell_type": "code",
   "outputs": [
    {
     "name": "stdout",
     "output_type": "stream",
     "text": [
      "Accuracy: 0.5333333333333333\n",
      "Classification Report:\n",
      "               precision    recall  f1-score   support\n",
      "\n",
      "           0       1.00      0.12      0.22         8\n",
      "           1       0.50      1.00      0.67         7\n",
      "\n",
      "    accuracy                           0.53        15\n",
      "   macro avg       0.75      0.56      0.44        15\n",
      "weighted avg       0.77      0.53      0.43        15\n"
     ]
    }
   ],
   "source": [
    "# Evaluate the model\n",
    "y_pred = classifier.predict(X_test_vec)\n",
    "print(\"Accuracy:\", accuracy_score(y_test, y_pred))\n",
    "print(\"Classification Report:\\n\", classification_report(y_test, y_pred, zero_division=1))"
   ],
   "metadata": {
    "collapsed": false,
    "ExecuteTime": {
     "end_time": "2024-12-05T15:44:18.535601Z",
     "start_time": "2024-12-05T15:44:18.526731Z"
    }
   },
   "id": "5cdb8c1302a8ea9a",
   "execution_count": 72
  },
  {
   "cell_type": "code",
   "outputs": [],
   "source": [],
   "metadata": {
    "collapsed": false
   },
   "id": "664025afe3332e4d"
  }
 ],
 "metadata": {
  "kernelspec": {
   "display_name": "Python 3",
   "language": "python",
   "name": "python3"
  },
  "language_info": {
   "codemirror_mode": {
    "name": "ipython",
    "version": 2
   },
   "file_extension": ".py",
   "mimetype": "text/x-python",
   "name": "python",
   "nbconvert_exporter": "python",
   "pygments_lexer": "ipython2",
   "version": "2.7.6"
  }
 },
 "nbformat": 4,
 "nbformat_minor": 5
}
