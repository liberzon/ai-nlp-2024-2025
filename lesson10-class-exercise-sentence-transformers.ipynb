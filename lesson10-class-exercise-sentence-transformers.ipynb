{
 "cells": [
  {
   "metadata": {
    "ExecuteTime": {
     "end_time": "2025-01-09T14:06:15.674200Z",
     "start_time": "2025-01-09T14:06:14.537618Z"
    }
   },
   "cell_type": "code",
   "source": "!pip install sentence-transformers",
   "id": "386ac89cf996b643",
   "outputs": [
    {
     "name": "stdout",
     "output_type": "stream",
     "text": [
      "Requirement already satisfied: sentence-transformers in /Users/yairl/workspace/src/scripts/universal-graph-notebooks/dataspell/venv12/lib/python3.12/site-packages (3.3.1)\r\n",
      "Requirement already satisfied: transformers<5.0.0,>=4.41.0 in /Users/yairl/workspace/src/scripts/universal-graph-notebooks/dataspell/venv12/lib/python3.12/site-packages (from sentence-transformers) (4.47.1)\r\n",
      "Requirement already satisfied: tqdm in /Users/yairl/workspace/src/scripts/universal-graph-notebooks/dataspell/venv12/lib/python3.12/site-packages (from sentence-transformers) (4.67.0)\r\n",
      "Requirement already satisfied: torch>=1.11.0 in /Users/yairl/workspace/src/scripts/universal-graph-notebooks/dataspell/venv12/lib/python3.12/site-packages (from sentence-transformers) (2.5.1)\r\n",
      "Requirement already satisfied: scikit-learn in /Users/yairl/workspace/src/scripts/universal-graph-notebooks/dataspell/venv12/lib/python3.12/site-packages (from sentence-transformers) (1.5.2)\r\n",
      "Requirement already satisfied: scipy in /Users/yairl/workspace/src/scripts/universal-graph-notebooks/dataspell/venv12/lib/python3.12/site-packages (from sentence-transformers) (1.13.1)\r\n",
      "Requirement already satisfied: huggingface-hub>=0.20.0 in /Users/yairl/workspace/src/scripts/universal-graph-notebooks/dataspell/venv12/lib/python3.12/site-packages (from sentence-transformers) (0.27.1)\r\n",
      "Requirement already satisfied: Pillow in /Users/yairl/workspace/src/scripts/universal-graph-notebooks/dataspell/venv12/lib/python3.12/site-packages (from sentence-transformers) (11.0.0)\r\n",
      "Requirement already satisfied: filelock in /Users/yairl/workspace/src/scripts/universal-graph-notebooks/dataspell/venv12/lib/python3.12/site-packages (from huggingface-hub>=0.20.0->sentence-transformers) (3.16.1)\r\n",
      "Requirement already satisfied: fsspec>=2023.5.0 in /Users/yairl/workspace/src/scripts/universal-graph-notebooks/dataspell/venv12/lib/python3.12/site-packages (from huggingface-hub>=0.20.0->sentence-transformers) (2024.12.0)\r\n",
      "Requirement already satisfied: packaging>=20.9 in /Users/yairl/workspace/src/scripts/universal-graph-notebooks/dataspell/venv12/lib/python3.12/site-packages (from huggingface-hub>=0.20.0->sentence-transformers) (24.1)\r\n",
      "Requirement already satisfied: pyyaml>=5.1 in /Users/yairl/workspace/src/scripts/universal-graph-notebooks/dataspell/venv12/lib/python3.12/site-packages (from huggingface-hub>=0.20.0->sentence-transformers) (6.0.2)\r\n",
      "Requirement already satisfied: requests in /Users/yairl/workspace/src/scripts/universal-graph-notebooks/dataspell/venv12/lib/python3.12/site-packages (from huggingface-hub>=0.20.0->sentence-transformers) (2.32.3)\r\n",
      "Requirement already satisfied: typing-extensions>=3.7.4.3 in /Users/yairl/workspace/src/scripts/universal-graph-notebooks/dataspell/venv12/lib/python3.12/site-packages (from huggingface-hub>=0.20.0->sentence-transformers) (4.12.2)\r\n",
      "Requirement already satisfied: networkx in /Users/yairl/workspace/src/scripts/universal-graph-notebooks/dataspell/venv12/lib/python3.12/site-packages (from torch>=1.11.0->sentence-transformers) (3.4.2)\r\n",
      "Requirement already satisfied: jinja2 in /Users/yairl/workspace/src/scripts/universal-graph-notebooks/dataspell/venv12/lib/python3.12/site-packages (from torch>=1.11.0->sentence-transformers) (3.1.4)\r\n",
      "Requirement already satisfied: setuptools in /Users/yairl/workspace/src/scripts/universal-graph-notebooks/dataspell/venv12/lib/python3.12/site-packages (from torch>=1.11.0->sentence-transformers) (75.3.0)\r\n",
      "Requirement already satisfied: sympy==1.13.1 in /Users/yairl/workspace/src/scripts/universal-graph-notebooks/dataspell/venv12/lib/python3.12/site-packages (from torch>=1.11.0->sentence-transformers) (1.13.1)\r\n",
      "Requirement already satisfied: mpmath<1.4,>=1.1.0 in /Users/yairl/workspace/src/scripts/universal-graph-notebooks/dataspell/venv12/lib/python3.12/site-packages (from sympy==1.13.1->torch>=1.11.0->sentence-transformers) (1.3.0)\r\n",
      "Requirement already satisfied: numpy>=1.17 in /Users/yairl/workspace/src/scripts/universal-graph-notebooks/dataspell/venv12/lib/python3.12/site-packages (from transformers<5.0.0,>=4.41.0->sentence-transformers) (1.26.4)\r\n",
      "Requirement already satisfied: regex!=2019.12.17 in /Users/yairl/workspace/src/scripts/universal-graph-notebooks/dataspell/venv12/lib/python3.12/site-packages (from transformers<5.0.0,>=4.41.0->sentence-transformers) (2024.11.6)\r\n",
      "Requirement already satisfied: tokenizers<0.22,>=0.21 in /Users/yairl/workspace/src/scripts/universal-graph-notebooks/dataspell/venv12/lib/python3.12/site-packages (from transformers<5.0.0,>=4.41.0->sentence-transformers) (0.21.0)\r\n",
      "Requirement already satisfied: safetensors>=0.4.1 in /Users/yairl/workspace/src/scripts/universal-graph-notebooks/dataspell/venv12/lib/python3.12/site-packages (from transformers<5.0.0,>=4.41.0->sentence-transformers) (0.5.2)\r\n",
      "Requirement already satisfied: joblib>=1.2.0 in /Users/yairl/workspace/src/scripts/universal-graph-notebooks/dataspell/venv12/lib/python3.12/site-packages (from scikit-learn->sentence-transformers) (1.4.2)\r\n",
      "Requirement already satisfied: threadpoolctl>=3.1.0 in /Users/yairl/workspace/src/scripts/universal-graph-notebooks/dataspell/venv12/lib/python3.12/site-packages (from scikit-learn->sentence-transformers) (3.5.0)\r\n",
      "Requirement already satisfied: MarkupSafe>=2.0 in /Users/yairl/workspace/src/scripts/universal-graph-notebooks/dataspell/venv12/lib/python3.12/site-packages (from jinja2->torch>=1.11.0->sentence-transformers) (3.0.2)\r\n",
      "Requirement already satisfied: charset-normalizer<4,>=2 in /Users/yairl/workspace/src/scripts/universal-graph-notebooks/dataspell/venv12/lib/python3.12/site-packages (from requests->huggingface-hub>=0.20.0->sentence-transformers) (3.4.0)\r\n",
      "Requirement already satisfied: idna<4,>=2.5 in /Users/yairl/workspace/src/scripts/universal-graph-notebooks/dataspell/venv12/lib/python3.12/site-packages (from requests->huggingface-hub>=0.20.0->sentence-transformers) (3.10)\r\n",
      "Requirement already satisfied: urllib3<3,>=1.21.1 in /Users/yairl/workspace/src/scripts/universal-graph-notebooks/dataspell/venv12/lib/python3.12/site-packages (from requests->huggingface-hub>=0.20.0->sentence-transformers) (2.2.3)\r\n",
      "Requirement already satisfied: certifi>=2017.4.17 in /Users/yairl/workspace/src/scripts/universal-graph-notebooks/dataspell/venv12/lib/python3.12/site-packages (from requests->huggingface-hub>=0.20.0->sentence-transformers) (2024.8.30)\r\n"
     ]
    }
   ],
   "execution_count": 1
  },
  {
   "cell_type": "code",
   "id": "7dc6beaf1bb6e9b",
   "metadata": {
    "ExecuteTime": {
     "end_time": "2025-01-09T14:06:17.741890Z",
     "start_time": "2025-01-09T14:06:15.682606Z"
    }
   },
   "source": "from sentence_transformers import SentenceTransformer, util",
   "outputs": [],
   "execution_count": 2
  },
  {
   "metadata": {
    "ExecuteTime": {
     "end_time": "2025-01-09T14:06:19.920057Z",
     "start_time": "2025-01-09T14:06:17.823848Z"
    }
   },
   "cell_type": "code",
   "source": [
    "# Load the model\n",
    "model = SentenceTransformer('all-MiniLM-L6-v2')"
   ],
   "id": "d21c46368b4021ff",
   "outputs": [],
   "execution_count": 3
  },
  {
   "metadata": {
    "ExecuteTime": {
     "end_time": "2025-01-09T14:06:19.927382Z",
     "start_time": "2025-01-09T14:06:19.925395Z"
    }
   },
   "cell_type": "code",
   "source": [
    "# Example sentences\n",
    "sentences = [\n",
    "    (\"I love programming.\", \"Coding is my passion.\"),\n",
    "    (\"The weather is great today.\", \"It's sunny outside.\"),\n",
    "    (\"I enjoy reading books.\", \"I don't like cooking.\"),\n",
    "]"
   ],
   "id": "cf67a4184a807dcc",
   "outputs": [],
   "execution_count": 4
  },
  {
   "metadata": {
    "collapsed": true,
    "ExecuteTime": {
     "end_time": "2025-01-09T14:08:44.928761Z",
     "start_time": "2025-01-09T14:08:43.938320Z"
    }
   },
   "cell_type": "code",
   "source": [
    "# Calculate and print similarities\n",
    "for s1, s2 in sentences:\n",
    "    embedding1 = model.encode(s1)\n",
    "    embedding2 = model.encode(s2)\n",
    "    similarity = util.cos_sim(embedding1, embedding2)\n",
    "    similarity_value = similarity.item()\n",
    "    print(f\"Similarity between '{s1}' and '{s2}': {similarity_value:.2f}\")"
   ],
   "id": "initial_id",
   "outputs": [
    {
     "name": "stdout",
     "output_type": "stream",
     "text": [
      "Similarity between 'I love programming.' and 'Coding is my passion.': 0.75\n",
      "Similarity between 'The weather is great today.' and 'It's sunny outside.': 0.55\n",
      "Similarity between 'I enjoy reading books.' and 'I don't like cooking.': 0.19\n"
     ]
    }
   ],
   "execution_count": 11
  },
  {
   "metadata": {},
   "cell_type": "code",
   "outputs": [],
   "execution_count": null,
   "source": "",
   "id": "586ef9daa2cf6a3c"
  }
 ],
 "metadata": {
  "kernelspec": {
   "display_name": "Python 3",
   "language": "python",
   "name": "python3"
  },
  "language_info": {
   "codemirror_mode": {
    "name": "ipython",
    "version": 2
   },
   "file_extension": ".py",
   "mimetype": "text/x-python",
   "name": "python",
   "nbconvert_exporter": "python",
   "pygments_lexer": "ipython2",
   "version": "2.7.6"
  }
 },
 "nbformat": 4,
 "nbformat_minor": 5
}
