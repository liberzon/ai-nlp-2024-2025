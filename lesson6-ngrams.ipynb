{
 "cells": [
  {
   "cell_type": "code",
   "execution_count": 11,
   "outputs": [],
   "source": [
    "import pandas as pd"
   ],
   "metadata": {
    "collapsed": false,
    "ExecuteTime": {
     "end_time": "2024-01-30T13:54:25.192458Z",
     "start_time": "2024-01-30T13:54:25.179687Z"
    }
   }
  },
  {
   "cell_type": "code",
   "execution_count": 12,
   "outputs": [],
   "source": [
    "df = pd.read_csv('https://raw.githubusercontent.com/flyandlure/datasets/master/gonutrition.csv')"
   ],
   "metadata": {
    "collapsed": false,
    "ExecuteTime": {
     "end_time": "2024-01-30T13:54:25.587815Z",
     "start_time": "2024-01-30T13:54:25.197969Z"
    }
   }
  },
  {
   "cell_type": "code",
   "execution_count": 13,
   "outputs": [
    {
     "data": {
      "text/plain": "(3, 2)"
     },
     "execution_count": 13,
     "metadata": {},
     "output_type": "execute_result"
    }
   ],
   "source": [
    "df.shape"
   ],
   "metadata": {
    "collapsed": false,
    "ExecuteTime": {
     "end_time": "2024-01-30T13:54:25.594814Z",
     "start_time": "2024-01-30T13:54:25.589328Z"
    }
   }
  },
  {
   "cell_type": "code",
   "execution_count": 14,
   "outputs": [
    {
     "data": {
      "text/plain": "              product_name                                product_description\n0  Whey Protein Isolate 90  What is Whey Protein Isolate? Whey Protein Iso...\n1          Whey Protein 80  What is Whey Protein 80? Whey Protein 80 is an...\n2         Volt Preworkout™  What is Volt™? Our Volt pre workout formula in...",
      "text/html": "<div>\n<style scoped>\n    .dataframe tbody tr th:only-of-type {\n        vertical-align: middle;\n    }\n\n    .dataframe tbody tr th {\n        vertical-align: top;\n    }\n\n    .dataframe thead th {\n        text-align: right;\n    }\n</style>\n<table border=\"1\" class=\"dataframe\">\n  <thead>\n    <tr style=\"text-align: right;\">\n      <th></th>\n      <th>product_name</th>\n      <th>product_description</th>\n    </tr>\n  </thead>\n  <tbody>\n    <tr>\n      <th>0</th>\n      <td>Whey Protein Isolate 90</td>\n      <td>What is Whey Protein Isolate? Whey Protein Iso...</td>\n    </tr>\n    <tr>\n      <th>1</th>\n      <td>Whey Protein 80</td>\n      <td>What is Whey Protein 80? Whey Protein 80 is an...</td>\n    </tr>\n    <tr>\n      <th>2</th>\n      <td>Volt Preworkout™</td>\n      <td>What is Volt™? Our Volt pre workout formula in...</td>\n    </tr>\n  </tbody>\n</table>\n</div>"
     },
     "execution_count": 14,
     "metadata": {},
     "output_type": "execute_result"
    }
   ],
   "source": [
    "df.head()"
   ],
   "metadata": {
    "collapsed": false,
    "ExecuteTime": {
     "end_time": "2024-01-30T13:54:25.603384Z",
     "start_time": "2024-01-30T13:54:25.594582Z"
    }
   }
  },
  {
   "cell_type": "code",
   "execution_count": 15,
   "outputs": [],
   "source": [
    "from sklearn.feature_extraction.text import CountVectorizer"
   ],
   "metadata": {
    "collapsed": false,
    "ExecuteTime": {
     "end_time": "2024-01-30T13:54:25.603921Z",
     "start_time": "2024-01-30T13:54:25.598878Z"
    }
   }
  },
  {
   "cell_type": "code",
   "execution_count": 16,
   "outputs": [],
   "source": [
    "text_df = df['product_description']"
   ],
   "metadata": {
    "collapsed": false,
    "ExecuteTime": {
     "end_time": "2024-01-30T13:54:25.604236Z",
     "start_time": "2024-01-30T13:54:25.601670Z"
    }
   }
  },
  {
   "cell_type": "code",
   "execution_count": 17,
   "outputs": [],
   "source": [
    "def get_matrix(text_df_input, model_input):\n",
    "    matrix = model.fit_transform(text_df_input).toarray()\n",
    "    return pd.DataFrame(data = matrix, columns = model_input.get_feature_names_out())"
   ],
   "metadata": {
    "collapsed": false,
    "ExecuteTime": {
     "end_time": "2024-01-30T13:54:25.611402Z",
     "start_time": "2024-01-30T13:54:25.604719Z"
    }
   }
  },
  {
   "cell_type": "code",
   "execution_count": 18,
   "outputs": [
    {
     "data": {
      "text/plain": "        0  1  2\nwould   0  0  1\nyou    10  7  7\nyour    8  6  7\nzinc    0  0  1\nzma     0  0  1",
      "text/html": "<div>\n<style scoped>\n    .dataframe tbody tr th:only-of-type {\n        vertical-align: middle;\n    }\n\n    .dataframe tbody tr th {\n        vertical-align: top;\n    }\n\n    .dataframe thead th {\n        text-align: right;\n    }\n</style>\n<table border=\"1\" class=\"dataframe\">\n  <thead>\n    <tr style=\"text-align: right;\">\n      <th></th>\n      <th>0</th>\n      <th>1</th>\n      <th>2</th>\n    </tr>\n  </thead>\n  <tbody>\n    <tr>\n      <th>would</th>\n      <td>0</td>\n      <td>0</td>\n      <td>1</td>\n    </tr>\n    <tr>\n      <th>you</th>\n      <td>10</td>\n      <td>7</td>\n      <td>7</td>\n    </tr>\n    <tr>\n      <th>your</th>\n      <td>8</td>\n      <td>6</td>\n      <td>7</td>\n    </tr>\n    <tr>\n      <th>zinc</th>\n      <td>0</td>\n      <td>0</td>\n      <td>1</td>\n    </tr>\n    <tr>\n      <th>zma</th>\n      <td>0</td>\n      <td>0</td>\n      <td>1</td>\n    </tr>\n  </tbody>\n</table>\n</div>"
     },
     "execution_count": 18,
     "metadata": {},
     "output_type": "execute_result"
    }
   ],
   "source": [
    "model = CountVectorizer(ngram_range = (1, 1))\n",
    "get_matrix(text_df, model).T.tail(5)"
   ],
   "metadata": {
    "collapsed": false,
    "ExecuteTime": {
     "end_time": "2024-01-30T13:54:25.632547Z",
     "start_time": "2024-01-30T13:54:25.609293Z"
    }
   }
  },
  {
   "cell_type": "code",
   "execution_count": 19,
   "outputs": [
    {
     "data": {
      "text/plain": "         0  1   2\nworking  0  0   3\nworkout  2  4  18\nworld    0  2   0\nzinc     0  0   1\nzma      0  0   1",
      "text/html": "<div>\n<style scoped>\n    .dataframe tbody tr th:only-of-type {\n        vertical-align: middle;\n    }\n\n    .dataframe tbody tr th {\n        vertical-align: top;\n    }\n\n    .dataframe thead th {\n        text-align: right;\n    }\n</style>\n<table border=\"1\" class=\"dataframe\">\n  <thead>\n    <tr style=\"text-align: right;\">\n      <th></th>\n      <th>0</th>\n      <th>1</th>\n      <th>2</th>\n    </tr>\n  </thead>\n  <tbody>\n    <tr>\n      <th>working</th>\n      <td>0</td>\n      <td>0</td>\n      <td>3</td>\n    </tr>\n    <tr>\n      <th>workout</th>\n      <td>2</td>\n      <td>4</td>\n      <td>18</td>\n    </tr>\n    <tr>\n      <th>world</th>\n      <td>0</td>\n      <td>2</td>\n      <td>0</td>\n    </tr>\n    <tr>\n      <th>zinc</th>\n      <td>0</td>\n      <td>0</td>\n      <td>1</td>\n    </tr>\n    <tr>\n      <th>zma</th>\n      <td>0</td>\n      <td>0</td>\n      <td>1</td>\n    </tr>\n  </tbody>\n</table>\n</div>"
     },
     "execution_count": 19,
     "metadata": {},
     "output_type": "execute_result"
    }
   ],
   "source": [
    "model = CountVectorizer(ngram_range = (1, 1), stop_words='english')\n",
    "get_matrix(text_df, model).T.tail(5)"
   ],
   "metadata": {
    "collapsed": false,
    "ExecuteTime": {
     "end_time": "2024-01-30T13:54:25.633491Z",
     "start_time": "2024-01-30T13:54:25.616660Z"
    }
   }
  },
  {
   "cell_type": "code",
   "execution_count": 20,
   "outputs": [
    {
     "data": {
      "text/plain": "                0  1  2\nworkout volt    0  0  1\nworld milk      0  1  0\nworld renowned  0  1  0\nzinc magnesium  0  0  1\nzma zinc        0  0  1",
      "text/html": "<div>\n<style scoped>\n    .dataframe tbody tr th:only-of-type {\n        vertical-align: middle;\n    }\n\n    .dataframe tbody tr th {\n        vertical-align: top;\n    }\n\n    .dataframe thead th {\n        text-align: right;\n    }\n</style>\n<table border=\"1\" class=\"dataframe\">\n  <thead>\n    <tr style=\"text-align: right;\">\n      <th></th>\n      <th>0</th>\n      <th>1</th>\n      <th>2</th>\n    </tr>\n  </thead>\n  <tbody>\n    <tr>\n      <th>workout volt</th>\n      <td>0</td>\n      <td>0</td>\n      <td>1</td>\n    </tr>\n    <tr>\n      <th>world milk</th>\n      <td>0</td>\n      <td>1</td>\n      <td>0</td>\n    </tr>\n    <tr>\n      <th>world renowned</th>\n      <td>0</td>\n      <td>1</td>\n      <td>0</td>\n    </tr>\n    <tr>\n      <th>zinc magnesium</th>\n      <td>0</td>\n      <td>0</td>\n      <td>1</td>\n    </tr>\n    <tr>\n      <th>zma zinc</th>\n      <td>0</td>\n      <td>0</td>\n      <td>1</td>\n    </tr>\n  </tbody>\n</table>\n</div>"
     },
     "execution_count": 20,
     "metadata": {},
     "output_type": "execute_result"
    }
   ],
   "source": [
    "model = CountVectorizer(ngram_range = (2, 2), stop_words='english')\n",
    "get_matrix(text_df, model).T.tail(5)"
   ],
   "metadata": {
    "collapsed": false,
    "ExecuteTime": {
     "end_time": "2024-01-30T13:54:25.651246Z",
     "start_time": "2024-01-30T13:54:25.623395Z"
    }
   }
  },
  {
   "cell_type": "code",
   "execution_count": 21,
   "outputs": [
    {
     "data": {
      "text/plain": "                                     0  1  2\nzma                                  0  0  1\nzma zinc                             0  0  1\nzma zinc magnesium                   0  0  1\nzma zinc magnesium recovery          0  0  1\nzma zinc magnesium recovery formula  0  0  1",
      "text/html": "<div>\n<style scoped>\n    .dataframe tbody tr th:only-of-type {\n        vertical-align: middle;\n    }\n\n    .dataframe tbody tr th {\n        vertical-align: top;\n    }\n\n    .dataframe thead th {\n        text-align: right;\n    }\n</style>\n<table border=\"1\" class=\"dataframe\">\n  <thead>\n    <tr style=\"text-align: right;\">\n      <th></th>\n      <th>0</th>\n      <th>1</th>\n      <th>2</th>\n    </tr>\n  </thead>\n  <tbody>\n    <tr>\n      <th>zma</th>\n      <td>0</td>\n      <td>0</td>\n      <td>1</td>\n    </tr>\n    <tr>\n      <th>zma zinc</th>\n      <td>0</td>\n      <td>0</td>\n      <td>1</td>\n    </tr>\n    <tr>\n      <th>zma zinc magnesium</th>\n      <td>0</td>\n      <td>0</td>\n      <td>1</td>\n    </tr>\n    <tr>\n      <th>zma zinc magnesium recovery</th>\n      <td>0</td>\n      <td>0</td>\n      <td>1</td>\n    </tr>\n    <tr>\n      <th>zma zinc magnesium recovery formula</th>\n      <td>0</td>\n      <td>0</td>\n      <td>1</td>\n    </tr>\n  </tbody>\n</table>\n</div>"
     },
     "execution_count": 21,
     "metadata": {},
     "output_type": "execute_result"
    }
   ],
   "source": [
    "model = CountVectorizer(ngram_range = (1, 5), stop_words='english')\n",
    "ngrams_matrix = get_matrix(text_df, model)\n",
    "ngrams_matrix.T.tail(5)"
   ],
   "metadata": {
    "collapsed": false,
    "ExecuteTime": {
     "end_time": "2024-01-30T13:54:25.696660Z",
     "start_time": "2024-01-30T13:54:25.635151Z"
    }
   }
  },
  {
   "cell_type": "code",
   "execution_count": 22,
   "outputs": [
    {
     "data": {
      "text/plain": "(3, 6091)"
     },
     "execution_count": 22,
     "metadata": {},
     "output_type": "execute_result"
    }
   ],
   "source": [
    "ngrams_matrix.shape"
   ],
   "metadata": {
    "collapsed": false,
    "ExecuteTime": {
     "end_time": "2024-01-30T13:54:25.697435Z",
     "start_time": "2024-01-30T13:54:25.646011Z"
    }
   }
  },
  {
   "cell_type": "code",
   "execution_count": 23,
   "outputs": [
    {
     "data": {
      "text/plain": "                           0  1   2\nwhey protein concentrate   4  3   0\nwhey protein isolate      11  0   0\nwork                       0  2   3\nworkout                    2  4  18\nworkout formula            0  0   6",
      "text/html": "<div>\n<style scoped>\n    .dataframe tbody tr th:only-of-type {\n        vertical-align: middle;\n    }\n\n    .dataframe tbody tr th {\n        vertical-align: top;\n    }\n\n    .dataframe thead th {\n        text-align: right;\n    }\n</style>\n<table border=\"1\" class=\"dataframe\">\n  <thead>\n    <tr style=\"text-align: right;\">\n      <th></th>\n      <th>0</th>\n      <th>1</th>\n      <th>2</th>\n    </tr>\n  </thead>\n  <tbody>\n    <tr>\n      <th>whey protein concentrate</th>\n      <td>4</td>\n      <td>3</td>\n      <td>0</td>\n    </tr>\n    <tr>\n      <th>whey protein isolate</th>\n      <td>11</td>\n      <td>0</td>\n      <td>0</td>\n    </tr>\n    <tr>\n      <th>work</th>\n      <td>0</td>\n      <td>2</td>\n      <td>3</td>\n    </tr>\n    <tr>\n      <th>workout</th>\n      <td>2</td>\n      <td>4</td>\n      <td>18</td>\n    </tr>\n    <tr>\n      <th>workout formula</th>\n      <td>0</td>\n      <td>0</td>\n      <td>6</td>\n    </tr>\n  </tbody>\n</table>\n</div>"
     },
     "execution_count": 23,
     "metadata": {},
     "output_type": "execute_result"
    }
   ],
   "source": [
    "model = CountVectorizer(ngram_range = (1, 5), max_features = 100, stop_words='english')\n",
    "ngrams_matrix = get_matrix(text_df, model)\n",
    "ngrams_matrix.T.tail(5)"
   ],
   "metadata": {
    "collapsed": false,
    "ExecuteTime": {
     "end_time": "2024-01-30T13:54:25.782169Z",
     "start_time": "2024-01-30T13:54:25.656922Z"
    }
   }
  },
  {
   "cell_type": "code",
   "execution_count": 24,
   "outputs": [
    {
     "data": {
      "text/plain": "(3, 100)"
     },
     "execution_count": 24,
     "metadata": {},
     "output_type": "execute_result"
    }
   ],
   "source": [
    "ngrams_matrix.shape"
   ],
   "metadata": {
    "collapsed": false,
    "ExecuteTime": {
     "end_time": "2024-01-30T13:54:25.782728Z",
     "start_time": "2024-01-30T13:54:25.663215Z"
    }
   }
  },
  {
   "cell_type": "code",
   "execution_count": 25,
   "outputs": [],
   "source": [
    "def get_ngrams(text, ngram_from=2, ngram_to=2, n=None, max_features=20000):\n",
    "\n",
    "    vec = CountVectorizer(ngram_range = (ngram_from, ngram_to),\n",
    "                          max_features = max_features,\n",
    "                          stop_words='english').fit(text)\n",
    "    bag_of_words = vec.transform(text)\n",
    "    sum_words = bag_of_words.sum(axis = 0)\n",
    "    words_freq = [(word, sum_words[0, i]) for word, i in vec.vocabulary_.items()]\n",
    "    words_freq = sorted(words_freq, key = lambda x: x[1], reverse = True)\n",
    "\n",
    "    return words_freq[:n]"
   ],
   "metadata": {
    "collapsed": false,
    "ExecuteTime": {
     "end_time": "2024-01-30T13:54:25.783051Z",
     "start_time": "2024-01-30T13:54:25.667929Z"
    }
   }
  },
  {
   "cell_type": "code",
   "execution_count": 26,
   "outputs": [
    {
     "data": {
      "text/plain": "   Unigram  Frequency\n0  protein         80\n1     whey         53\n2  workout         24\n3     volt         24\n4       gn         23",
      "text/html": "<div>\n<style scoped>\n    .dataframe tbody tr th:only-of-type {\n        vertical-align: middle;\n    }\n\n    .dataframe tbody tr th {\n        vertical-align: top;\n    }\n\n    .dataframe thead th {\n        text-align: right;\n    }\n</style>\n<table border=\"1\" class=\"dataframe\">\n  <thead>\n    <tr style=\"text-align: right;\">\n      <th></th>\n      <th>Unigram</th>\n      <th>Frequency</th>\n    </tr>\n  </thead>\n  <tbody>\n    <tr>\n      <th>0</th>\n      <td>protein</td>\n      <td>80</td>\n    </tr>\n    <tr>\n      <th>1</th>\n      <td>whey</td>\n      <td>53</td>\n    </tr>\n    <tr>\n      <th>2</th>\n      <td>workout</td>\n      <td>24</td>\n    </tr>\n    <tr>\n      <th>3</th>\n      <td>volt</td>\n      <td>24</td>\n    </tr>\n    <tr>\n      <th>4</th>\n      <td>gn</td>\n      <td>23</td>\n    </tr>\n  </tbody>\n</table>\n</div>"
     },
     "execution_count": 26,
     "metadata": {},
     "output_type": "execute_result"
    }
   ],
   "source": [
    "unigrams = get_ngrams(text_df, ngram_from=1, ngram_to=1, n=15)\n",
    "unigrams_df = pd.DataFrame(unigrams)\n",
    "unigrams_df.columns=[\"Unigram\", \"Frequency\"]\n",
    "unigrams_df.head()"
   ],
   "metadata": {
    "collapsed": false,
    "ExecuteTime": {
     "end_time": "2024-01-30T13:54:25.821254Z",
     "start_time": "2024-01-30T13:54:25.676239Z"
    }
   }
  },
  {
   "cell_type": "code",
   "execution_count": 27,
   "outputs": [
    {
     "data": {
      "text/plain": "            Bigram  Frequency\n0     whey protein         45\n1      pre workout         14\n2  protein isolate         11\n3          gn whey         11\n4       protein 80         11",
      "text/html": "<div>\n<style scoped>\n    .dataframe tbody tr th:only-of-type {\n        vertical-align: middle;\n    }\n\n    .dataframe tbody tr th {\n        vertical-align: top;\n    }\n\n    .dataframe thead th {\n        text-align: right;\n    }\n</style>\n<table border=\"1\" class=\"dataframe\">\n  <thead>\n    <tr style=\"text-align: right;\">\n      <th></th>\n      <th>Bigram</th>\n      <th>Frequency</th>\n    </tr>\n  </thead>\n  <tbody>\n    <tr>\n      <th>0</th>\n      <td>whey protein</td>\n      <td>45</td>\n    </tr>\n    <tr>\n      <th>1</th>\n      <td>pre workout</td>\n      <td>14</td>\n    </tr>\n    <tr>\n      <th>2</th>\n      <td>protein isolate</td>\n      <td>11</td>\n    </tr>\n    <tr>\n      <th>3</th>\n      <td>gn whey</td>\n      <td>11</td>\n    </tr>\n    <tr>\n      <th>4</th>\n      <td>protein 80</td>\n      <td>11</td>\n    </tr>\n  </tbody>\n</table>\n</div>"
     },
     "execution_count": 27,
     "metadata": {},
     "output_type": "execute_result"
    }
   ],
   "source": [
    "bigrams = get_ngrams(text_df, ngram_from=2, ngram_to=2, n=15)\n",
    "bigrams_df = pd.DataFrame(bigrams)\n",
    "bigrams_df.columns=[\"Bigram\", \"Frequency\"]\n",
    "bigrams_df.head()"
   ],
   "metadata": {
    "collapsed": false,
    "ExecuteTime": {
     "end_time": "2024-01-30T13:54:25.822343Z",
     "start_time": "2024-01-30T13:54:25.685730Z"
    }
   }
  },
  {
   "cell_type": "code",
   "execution_count": 28,
   "outputs": [
    {
     "data": {
      "text/plain": "                    Trigram  Frequency\n0      whey protein isolate         11\n1           whey protein 80         11\n2  whey protein concentrate          7\n3           gn whey protein          6\n4       pre workout formula          6",
      "text/html": "<div>\n<style scoped>\n    .dataframe tbody tr th:only-of-type {\n        vertical-align: middle;\n    }\n\n    .dataframe tbody tr th {\n        vertical-align: top;\n    }\n\n    .dataframe thead th {\n        text-align: right;\n    }\n</style>\n<table border=\"1\" class=\"dataframe\">\n  <thead>\n    <tr style=\"text-align: right;\">\n      <th></th>\n      <th>Trigram</th>\n      <th>Frequency</th>\n    </tr>\n  </thead>\n  <tbody>\n    <tr>\n      <th>0</th>\n      <td>whey protein isolate</td>\n      <td>11</td>\n    </tr>\n    <tr>\n      <th>1</th>\n      <td>whey protein 80</td>\n      <td>11</td>\n    </tr>\n    <tr>\n      <th>2</th>\n      <td>whey protein concentrate</td>\n      <td>7</td>\n    </tr>\n    <tr>\n      <th>3</th>\n      <td>gn whey protein</td>\n      <td>6</td>\n    </tr>\n    <tr>\n      <th>4</th>\n      <td>pre workout formula</td>\n      <td>6</td>\n    </tr>\n  </tbody>\n</table>\n</div>"
     },
     "execution_count": 28,
     "metadata": {},
     "output_type": "execute_result"
    }
   ],
   "source": [
    "trigrams = get_ngrams(text_df, ngram_from=3, ngram_to=3, n=15)\n",
    "trigrams_df = pd.DataFrame(trigrams)\n",
    "trigrams_df.columns=[\"Trigram\", \"Frequency\"]\n",
    "trigrams_df.head()"
   ],
   "metadata": {
    "collapsed": false,
    "ExecuteTime": {
     "end_time": "2024-01-30T13:54:25.823643Z",
     "start_time": "2024-01-30T13:54:25.695447Z"
    }
   }
  },
  {
   "cell_type": "code",
   "execution_count": 29,
   "outputs": [
    {
     "data": {
      "text/plain": "                   Quadgram  Frequency\n0        gn whey protein 80          6\n1        gn whey isolate 90          4\n2  volt pre workout formula          4\n3      free range grass fed          3\n4      range grass fed cows          3",
      "text/html": "<div>\n<style scoped>\n    .dataframe tbody tr th:only-of-type {\n        vertical-align: middle;\n    }\n\n    .dataframe tbody tr th {\n        vertical-align: top;\n    }\n\n    .dataframe thead th {\n        text-align: right;\n    }\n</style>\n<table border=\"1\" class=\"dataframe\">\n  <thead>\n    <tr style=\"text-align: right;\">\n      <th></th>\n      <th>Quadgram</th>\n      <th>Frequency</th>\n    </tr>\n  </thead>\n  <tbody>\n    <tr>\n      <th>0</th>\n      <td>gn whey protein 80</td>\n      <td>6</td>\n    </tr>\n    <tr>\n      <th>1</th>\n      <td>gn whey isolate 90</td>\n      <td>4</td>\n    </tr>\n    <tr>\n      <th>2</th>\n      <td>volt pre workout formula</td>\n      <td>4</td>\n    </tr>\n    <tr>\n      <th>3</th>\n      <td>free range grass fed</td>\n      <td>3</td>\n    </tr>\n    <tr>\n      <th>4</th>\n      <td>range grass fed cows</td>\n      <td>3</td>\n    </tr>\n  </tbody>\n</table>\n</div>"
     },
     "execution_count": 29,
     "metadata": {},
     "output_type": "execute_result"
    }
   ],
   "source": [
    "quadgrams = get_ngrams(text_df, ngram_from=4, ngram_to=4, n=15)\n",
    "quadgrams_df = pd.DataFrame(quadgrams)\n",
    "quadgrams_df.columns=[\"Quadgram\", \"Frequency\"]\n",
    "quadgrams_df.head()"
   ],
   "metadata": {
    "collapsed": false,
    "ExecuteTime": {
     "end_time": "2024-01-30T13:54:25.824257Z",
     "start_time": "2024-01-30T13:54:25.706092Z"
    }
   }
  },
  {
   "cell_type": "code",
   "execution_count": 30,
   "outputs": [
    {
     "data": {
      "text/plain": "                  Quintgram  Frequency\n0        gn whey protein 80          6\n1        gn whey isolate 90          4\n2  volt pre workout formula          4\n3      free range grass fed          3\n4      range grass fed cows          3",
      "text/html": "<div>\n<style scoped>\n    .dataframe tbody tr th:only-of-type {\n        vertical-align: middle;\n    }\n\n    .dataframe tbody tr th {\n        vertical-align: top;\n    }\n\n    .dataframe thead th {\n        text-align: right;\n    }\n</style>\n<table border=\"1\" class=\"dataframe\">\n  <thead>\n    <tr style=\"text-align: right;\">\n      <th></th>\n      <th>Quintgram</th>\n      <th>Frequency</th>\n    </tr>\n  </thead>\n  <tbody>\n    <tr>\n      <th>0</th>\n      <td>gn whey protein 80</td>\n      <td>6</td>\n    </tr>\n    <tr>\n      <th>1</th>\n      <td>gn whey isolate 90</td>\n      <td>4</td>\n    </tr>\n    <tr>\n      <th>2</th>\n      <td>volt pre workout formula</td>\n      <td>4</td>\n    </tr>\n    <tr>\n      <th>3</th>\n      <td>free range grass fed</td>\n      <td>3</td>\n    </tr>\n    <tr>\n      <th>4</th>\n      <td>range grass fed cows</td>\n      <td>3</td>\n    </tr>\n  </tbody>\n</table>\n</div>"
     },
     "execution_count": 30,
     "metadata": {},
     "output_type": "execute_result"
    }
   ],
   "source": [
    "quintgrams = get_ngrams(text_df, ngram_from=5, ngram_to=5, n=15)\n",
    "quintgrams_df = pd.DataFrame(quadgrams)\n",
    "quintgrams_df.columns=[\"Quintgram\", \"Frequency\"]\n",
    "quintgrams_df.head()"
   ],
   "metadata": {
    "collapsed": false,
    "ExecuteTime": {
     "end_time": "2024-01-30T13:54:25.824809Z",
     "start_time": "2024-01-30T13:54:25.718196Z"
    }
   }
  }
 ],
 "metadata": {
  "kernelspec": {
   "display_name": "Python 3",
   "language": "python",
   "name": "python3"
  },
  "language_info": {
   "codemirror_mode": {
    "name": "ipython",
    "version": 2
   },
   "file_extension": ".py",
   "mimetype": "text/x-python",
   "name": "python",
   "nbconvert_exporter": "python",
   "pygments_lexer": "ipython2",
   "version": "2.7.6"
  }
 },
 "nbformat": 4,
 "nbformat_minor": 0
}
