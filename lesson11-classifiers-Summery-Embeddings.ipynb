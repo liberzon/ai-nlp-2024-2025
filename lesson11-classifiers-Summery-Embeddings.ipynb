{
 "cells": [
  {
   "cell_type": "code",
   "execution_count": 2,
   "id": "initial_id",
   "metadata": {
    "collapsed": true,
    "ExecuteTime": {
     "end_time": "2025-01-16T13:11:08.182975Z",
     "start_time": "2025-01-16T13:11:04.857294Z"
    }
   },
   "outputs": [
    {
     "name": "stdout",
     "output_type": "stream",
     "text": [
      "Summary:\n",
      "\n",
      "However, with all its benefits, AI also raises ethical concerns. \n",
      "Artificial Intelligence (AI) is rapidly advancing and reshaping industries across the globe. \n",
      "Another challenge is the potential for job displacement, as automation powered by AI replaces roles in industries such as manufacturing and customer service.\n",
      "Yet, proponents argue that AI can create new opportunities, leading to the emergence of entirely new industries and roles that did not exist before\n"
     ]
    }
   ],
   "source": [
    "from sentence_transformers import SentenceTransformer, util\n",
    "\n",
    "# מודל Embeddings\n",
    "model = SentenceTransformer('all-MiniLM-L6-v2')\n",
    "\n",
    "# טקסט ארוך לדוגמה\n",
    "text = \"\"\"\n",
    "Artificial Intelligence (AI) is rapidly advancing and reshaping industries across the globe. In healthcare, AI algorithms assist in diagnosing diseases, predicting patient outcomes, and even suggesting treatments. \n",
    "Finance is another sector significantly impacted by AI, with applications in fraud detection, algorithmic trading, and personalized customer service.\n",
    "Education is also benefiting from AI, as personalized learning platforms adapt to individual student needs and improve accessibility for learners worldwide. \n",
    "However, with all its benefits, AI also raises ethical concerns. The issue of bias in AI systems has been widely discussed, particularly when algorithms trained on biased data reinforce stereotypes. \n",
    "Additionally, there are growing concerns about data privacy as AI systems often require vast amounts of personal information to function effectively. \n",
    "Another challenge is the potential for job displacement, as automation powered by AI replaces roles in industries such as manufacturing and customer service.\n",
    "Yet, proponents argue that AI can create new opportunities, leading to the emergence of entirely new industries and roles that did not exist before. \n",
    "Looking ahead, the future of AI holds immense promise, from autonomous vehicles to advanced robotics and breakthroughs in scientific research.\n",
    "For AI to reach its full potential, it is crucial to address these challenges while fostering innovation and collaboration among stakeholders.\n",
    "\"\"\"\n",
    "\n",
    "# פיצול הטקסט למשפטים\n",
    "sentences = text.split('. ')\n",
    "\n",
    "# יצירת Embeddings למשפטים\n",
    "sentence_embeddings = model.encode(sentences)\n",
    "\n",
    "# חישוב דמיון לכל משפט לעומת כל השאר\n",
    "scores = util.cos_sim(sentence_embeddings, sentence_embeddings)\n",
    "\n",
    "# בחירת המשפטים המרכזיים ביותר (Highest similarity scores)\n",
    "central_sentences = sorted(\n",
    "    range(len(scores)),\n",
    "    key=lambda i: sum(scores[i]),\n",
    "    reverse=True\n",
    ")[:3]  # בוחרים 3 משפטים מרכזיים\n",
    "\n",
    "# הרכבת הסיכום\n",
    "summary = '. '.join([sentences[i] for i in central_sentences])\n",
    "print(\"Summary:\")\n",
    "print(summary)\n"
   ]
  },
  {
   "cell_type": "code",
   "outputs": [],
   "source": [],
   "metadata": {
    "collapsed": false
   },
   "id": "f8058e933e85a590"
  }
 ],
 "metadata": {
  "kernelspec": {
   "display_name": "Python 3",
   "language": "python",
   "name": "python3"
  },
  "language_info": {
   "codemirror_mode": {
    "name": "ipython",
    "version": 2
   },
   "file_extension": ".py",
   "mimetype": "text/x-python",
   "name": "python",
   "nbconvert_exporter": "python",
   "pygments_lexer": "ipython2",
   "version": "2.7.6"
  }
 },
 "nbformat": 4,
 "nbformat_minor": 5
}
