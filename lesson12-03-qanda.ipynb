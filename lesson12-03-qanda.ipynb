{
 "cells": [
  {
   "metadata": {},
   "cell_type": "markdown",
   "source": [
    "# FAQ Matching with SentenceTransformer\n",
    "\n",
    "This notebook demonstrates how to use the **SentenceTransformer** model to match user queries to frequently asked questions (FAQs) based on semantic similarity.\n",
    "\n",
    "## Objective\n",
    "The goal of this notebook is to:\n",
    "1. Encode a set of predefined FAQs and user queries using a SentenceTransformer model.\n",
    "2. Calculate the semantic similarity between queries and FAQs.\n",
    "3. Identify and return the most relevant FAQ and its corresponding answer for each query.\n",
    "\n",
    "## Workflow\n",
    "1. **Define FAQs and Queries**: A dictionary of FAQs and a list of user queries are provided.\n",
    "2. **Load the Model**: The `all-MiniLM-L6-v2` pre-trained SentenceTransformer model is used for encoding.\n",
    "3. **Encode Text**: Both FAQs and queries are converted into vector embeddings.\n",
    "4. **Calculate Similarity**: Cosine similarity is computed to find the best matching FAQ for each query.\n",
    "5. **Display Results**: Matches are displayed in a structured and human-readable format using Markdown.\n",
    "\n",
    "## Requirements\n",
    "- Install the `sentence-transformers` library:\n",
    "  ```bash\n",
    "  pip install sentence-transformers"
   ],
   "id": "518db81ebaec882"
  },
  {
   "metadata": {
    "ExecuteTime": {
     "end_time": "2025-01-23T13:59:06.759284Z",
     "start_time": "2025-01-23T13:59:05.522813Z"
    }
   },
   "cell_type": "code",
   "source": "!pip install sentence-transformers",
   "id": "48d7cc6769c15a66",
   "outputs": [
    {
     "name": "stderr",
     "output_type": "stream",
     "text": [
      "huggingface/tokenizers: The current process just got forked, after parallelism has already been used. Disabling parallelism to avoid deadlocks...\n",
      "To disable this warning, you can either:\n",
      "\t- Avoid using `tokenizers` before the fork if possible\n",
      "\t- Explicitly set the environment variable TOKENIZERS_PARALLELISM=(true | false)\n"
     ]
    },
    {
     "name": "stdout",
     "output_type": "stream",
     "text": [
      "Requirement already satisfied: sentence-transformers in /Users/yairl/workspace/src/scripts/universal-graph-notebooks/dataspell/venv12/lib/python3.12/site-packages (3.3.1)\r\n",
      "Requirement already satisfied: transformers<5.0.0,>=4.41.0 in /Users/yairl/workspace/src/scripts/universal-graph-notebooks/dataspell/venv12/lib/python3.12/site-packages (from sentence-transformers) (4.48.1)\r\n",
      "Requirement already satisfied: tqdm in /Users/yairl/workspace/src/scripts/universal-graph-notebooks/dataspell/venv12/lib/python3.12/site-packages (from sentence-transformers) (4.67.1)\r\n",
      "Requirement already satisfied: torch>=1.11.0 in /Users/yairl/workspace/src/scripts/universal-graph-notebooks/dataspell/venv12/lib/python3.12/site-packages (from sentence-transformers) (2.5.1)\r\n",
      "Requirement already satisfied: scikit-learn in /Users/yairl/workspace/src/scripts/universal-graph-notebooks/dataspell/venv12/lib/python3.12/site-packages (from sentence-transformers) (1.6.1)\r\n",
      "Requirement already satisfied: scipy in /Users/yairl/workspace/src/scripts/universal-graph-notebooks/dataspell/venv12/lib/python3.12/site-packages (from sentence-transformers) (1.15.1)\r\n",
      "Requirement already satisfied: huggingface-hub>=0.20.0 in /Users/yairl/workspace/src/scripts/universal-graph-notebooks/dataspell/venv12/lib/python3.12/site-packages (from sentence-transformers) (0.27.1)\r\n",
      "Requirement already satisfied: Pillow in /Users/yairl/workspace/src/scripts/universal-graph-notebooks/dataspell/venv12/lib/python3.12/site-packages (from sentence-transformers) (11.1.0)\r\n",
      "Requirement already satisfied: filelock in /Users/yairl/workspace/src/scripts/universal-graph-notebooks/dataspell/venv12/lib/python3.12/site-packages (from huggingface-hub>=0.20.0->sentence-transformers) (3.17.0)\r\n",
      "Requirement already satisfied: fsspec>=2023.5.0 in /Users/yairl/workspace/src/scripts/universal-graph-notebooks/dataspell/venv12/lib/python3.12/site-packages (from huggingface-hub>=0.20.0->sentence-transformers) (2024.12.0)\r\n",
      "Requirement already satisfied: packaging>=20.9 in /Users/yairl/workspace/src/scripts/universal-graph-notebooks/dataspell/venv12/lib/python3.12/site-packages (from huggingface-hub>=0.20.0->sentence-transformers) (24.2)\r\n",
      "Requirement already satisfied: pyyaml>=5.1 in /Users/yairl/workspace/src/scripts/universal-graph-notebooks/dataspell/venv12/lib/python3.12/site-packages (from huggingface-hub>=0.20.0->sentence-transformers) (6.0.2)\r\n",
      "Requirement already satisfied: requests in /Users/yairl/workspace/src/scripts/universal-graph-notebooks/dataspell/venv12/lib/python3.12/site-packages (from huggingface-hub>=0.20.0->sentence-transformers) (2.32.3)\r\n",
      "Requirement already satisfied: typing-extensions>=3.7.4.3 in /Users/yairl/workspace/src/scripts/universal-graph-notebooks/dataspell/venv12/lib/python3.12/site-packages (from huggingface-hub>=0.20.0->sentence-transformers) (4.12.2)\r\n",
      "Requirement already satisfied: networkx in /Users/yairl/workspace/src/scripts/universal-graph-notebooks/dataspell/venv12/lib/python3.12/site-packages (from torch>=1.11.0->sentence-transformers) (3.4.2)\r\n",
      "Requirement already satisfied: jinja2 in /Users/yairl/workspace/src/scripts/universal-graph-notebooks/dataspell/venv12/lib/python3.12/site-packages (from torch>=1.11.0->sentence-transformers) (3.1.5)\r\n",
      "Requirement already satisfied: setuptools in /Users/yairl/workspace/src/scripts/universal-graph-notebooks/dataspell/venv12/lib/python3.12/site-packages (from torch>=1.11.0->sentence-transformers) (75.8.0)\r\n",
      "Requirement already satisfied: sympy==1.13.1 in /Users/yairl/workspace/src/scripts/universal-graph-notebooks/dataspell/venv12/lib/python3.12/site-packages (from torch>=1.11.0->sentence-transformers) (1.13.1)\r\n",
      "Requirement already satisfied: mpmath<1.4,>=1.1.0 in /Users/yairl/workspace/src/scripts/universal-graph-notebooks/dataspell/venv12/lib/python3.12/site-packages (from sympy==1.13.1->torch>=1.11.0->sentence-transformers) (1.3.0)\r\n",
      "Requirement already satisfied: numpy>=1.17 in /Users/yairl/workspace/src/scripts/universal-graph-notebooks/dataspell/venv12/lib/python3.12/site-packages (from transformers<5.0.0,>=4.41.0->sentence-transformers) (2.0.2)\r\n",
      "Requirement already satisfied: regex!=2019.12.17 in /Users/yairl/workspace/src/scripts/universal-graph-notebooks/dataspell/venv12/lib/python3.12/site-packages (from transformers<5.0.0,>=4.41.0->sentence-transformers) (2024.11.6)\r\n",
      "Requirement already satisfied: tokenizers<0.22,>=0.21 in /Users/yairl/workspace/src/scripts/universal-graph-notebooks/dataspell/venv12/lib/python3.12/site-packages (from transformers<5.0.0,>=4.41.0->sentence-transformers) (0.21.0)\r\n",
      "Requirement already satisfied: safetensors>=0.4.1 in /Users/yairl/workspace/src/scripts/universal-graph-notebooks/dataspell/venv12/lib/python3.12/site-packages (from transformers<5.0.0,>=4.41.0->sentence-transformers) (0.5.2)\r\n",
      "Requirement already satisfied: joblib>=1.2.0 in /Users/yairl/workspace/src/scripts/universal-graph-notebooks/dataspell/venv12/lib/python3.12/site-packages (from scikit-learn->sentence-transformers) (1.4.2)\r\n",
      "Requirement already satisfied: threadpoolctl>=3.1.0 in /Users/yairl/workspace/src/scripts/universal-graph-notebooks/dataspell/venv12/lib/python3.12/site-packages (from scikit-learn->sentence-transformers) (3.5.0)\r\n",
      "Requirement already satisfied: MarkupSafe>=2.0 in /Users/yairl/workspace/src/scripts/universal-graph-notebooks/dataspell/venv12/lib/python3.12/site-packages (from jinja2->torch>=1.11.0->sentence-transformers) (2.1.5)\r\n",
      "Requirement already satisfied: charset-normalizer<4,>=2 in /Users/yairl/workspace/src/scripts/universal-graph-notebooks/dataspell/venv12/lib/python3.12/site-packages (from requests->huggingface-hub>=0.20.0->sentence-transformers) (3.4.1)\r\n",
      "Requirement already satisfied: idna<4,>=2.5 in /Users/yairl/workspace/src/scripts/universal-graph-notebooks/dataspell/venv12/lib/python3.12/site-packages (from requests->huggingface-hub>=0.20.0->sentence-transformers) (3.10)\r\n",
      "Requirement already satisfied: urllib3<3,>=1.21.1 in /Users/yairl/workspace/src/scripts/universal-graph-notebooks/dataspell/venv12/lib/python3.12/site-packages (from requests->huggingface-hub>=0.20.0->sentence-transformers) (2.3.0)\r\n",
      "Requirement already satisfied: certifi>=2017.4.17 in /Users/yairl/workspace/src/scripts/universal-graph-notebooks/dataspell/venv12/lib/python3.12/site-packages (from requests->huggingface-hub>=0.20.0->sentence-transformers) (2024.12.14)\r\n"
     ]
    }
   ],
   "execution_count": 13
  },
  {
   "cell_type": "code",
   "id": "4ef410e640753d6c",
   "metadata": {
    "ExecuteTime": {
     "end_time": "2025-01-23T13:59:06.769478Z",
     "start_time": "2025-01-23T13:59:06.763694Z"
    }
   },
   "source": "from sentence_transformers import SentenceTransformer, util",
   "outputs": [],
   "execution_count": 14
  },
  {
   "metadata": {
    "ExecuteTime": {
     "end_time": "2025-01-23T13:59:10.107762Z",
     "start_time": "2025-01-23T13:59:07.008488Z"
    }
   },
   "cell_type": "code",
   "source": [
    "# Load the SentenceTransformer model\n",
    "model = SentenceTransformer('all-MiniLM-L6-v2')"
   ],
   "id": "ec4349e5fb333b1b",
   "outputs": [],
   "execution_count": 15
  },
  {
   "metadata": {
    "ExecuteTime": {
     "end_time": "2025-01-23T15:16:10.964861Z",
     "start_time": "2025-01-23T15:16:10.956739Z"
    }
   },
   "cell_type": "code",
   "source": [
    "# Define FAQs and queries\n",
    "faqs = {\n",
    "    \"How do I reset my password?\": \"To reset your password, go to the settings page.\",\n",
    "    \"Where can I find the user manual?\": \"The user manual is available on our website.\",\n",
    "    \"What are your working hours?\": \"We are open from 9 AM to 5 PM, Monday to Friday.\",\n",
    "}\n",
    "\n",
    "queries = [\n",
    "    \"I forgot my password, what should I do?\",\n",
    "    \"Can I download the manual online?\",\n",
    "    \"What time does the office close?\",\n",
    "    \"Where is the office?\"\n",
    "]"
   ],
   "id": "78f970c0d1920fb1",
   "outputs": [],
   "execution_count": 24
  },
  {
   "metadata": {
    "ExecuteTime": {
     "end_time": "2025-01-23T15:16:11.441578Z",
     "start_time": "2025-01-23T15:16:11.438713Z"
    }
   },
   "cell_type": "code",
   "source": [
    "# Extract FAQ questions\n",
    "faq_questions = list(faqs.keys())"
   ],
   "id": "1eb36af1fcd41c6c",
   "outputs": [],
   "execution_count": 25
  },
  {
   "metadata": {
    "ExecuteTime": {
     "end_time": "2025-01-23T15:16:12.701330Z",
     "start_time": "2025-01-23T15:16:12.120713Z"
    }
   },
   "cell_type": "code",
   "source": [
    "# Encode the FAQ questions and queries\n",
    "faq_embeddings = model.encode(faq_questions, convert_to_tensor=True)\n",
    "query_embeddings = model.encode(queries, convert_to_tensor=True)"
   ],
   "id": "d0b5bb13dc55522",
   "outputs": [],
   "execution_count": 26
  },
  {
   "metadata": {
    "collapsed": true,
    "ExecuteTime": {
     "end_time": "2025-01-23T15:17:22.168588Z",
     "start_time": "2025-01-23T15:17:22.160579Z"
    }
   },
   "cell_type": "code",
   "source": [
    "# Find the most similar FAQ for each query\n",
    "for query, query_embedding in zip(queries, query_embeddings):\n",
    "    # Compute cosine similarity\n",
    "    similarities = util.cos_sim(query_embedding, faq_embeddings)[0]\n",
    "\n",
    "    # Find the index of the most similar FAQ\n",
    "    best_match_idx = similarities.argmax().item()\n",
    "    best_match_question = faq_questions[best_match_idx]\n",
    "    best_match_answer = faqs[best_match_question]\n",
    "\n",
    "    # Print the results\n",
    "    print(f\"Query: {query}\")\n",
    "    print(f\"Best Match: {best_match_question}\")\n",
    "    print(f\"Answer: {best_match_answer}\")\n",
    "    print(\"-\" * 50)"
   ],
   "id": "initial_id",
   "outputs": [
    {
     "name": "stdout",
     "output_type": "stream",
     "text": [
      "Query: I forgot my password, what should I do?\n",
      "Best Match: How do I reset my password?\n",
      "Answer: To reset your password, go to the settings page.\n",
      "--------------------------------------------------\n",
      "Query: Can I download the manual online?\n",
      "Best Match: Where can I find the user manual?\n",
      "Answer: The user manual is available on our website.\n",
      "--------------------------------------------------\n",
      "Query: What time does the office close?\n",
      "Best Match: What are your working hours?\n",
      "Answer: We are open from 9 AM to 5 PM, Monday to Friday.\n",
      "--------------------------------------------------\n",
      "Query: Where is the office?\n",
      "Best Match: What are your working hours?\n",
      "Answer: We are open from 9 AM to 5 PM, Monday to Friday.\n",
      "--------------------------------------------------\n"
     ]
    }
   ],
   "execution_count": 28
  },
  {
   "metadata": {
    "ExecuteTime": {
     "end_time": "2025-01-23T15:17:22.781579Z",
     "start_time": "2025-01-23T15:17:22.778710Z"
    }
   },
   "cell_type": "code",
   "source": [
    "faqs = {\n",
    "    \"How do I reset my password?\": \"To reset your password, go to the settings page.\",\n",
    "    \"Where can I find the user manual?\": \"The user manual is available on our website for download.\",\n",
    "    \"What are your working hours?\": \"We are open from 9 AM to 5 PM, Monday to Friday.\",\n",
    "    \"Can I download the user manual?\": \"Yes, the user manual is available for download on our website.\",\n",
    "    \"What time does your office close?\": \"Our office closes at 5 PM, Monday to Friday.\",\n",
    "    \"How can I contact customer support?\": \"You can reach our customer support team at support@example.com or call us at 123-456-7890.\",\n",
    "    \"Do you offer online support?\": \"Yes, online support is available via our chat system on the website.\",\n",
    "    \"Where is your office located?\": \"Our office is located at 123 Main Street, Springfield.\",\n",
    "    \"How do I create an account?\": \"To create an account, click on the 'Sign Up' button on the homepage and fill in your details.\",\n",
    "    \"What payment methods do you accept?\": \"We accept credit cards, debit cards, and PayPal.\",\n",
    "    \"Do you offer refunds?\": \"Yes, we offer refunds within 30 days of purchase. Please refer to our refund policy for details.\",\n",
    "    \"Is there a mobile app available?\": \"Yes, our mobile app is available for download on iOS and Android devices.\",\n",
    "    \"How do I update my profile information?\": \"To update your profile information, log in to your account and go to the profile settings page.\",\n",
    "    \"Can I track my order online?\": \"Yes, you can track your order using the tracking ID sent to your email after purchase.\",\n",
    "    \"Do you provide international shipping?\": \"Yes, we provide international shipping. Shipping charges and delivery times vary by location.\",\n",
    "    \"How do I unsubscribe from your newsletter?\": \"To unsubscribe, click the 'Unsubscribe' link at the bottom of any of our emails.\",\n",
    "    \"Are there any discounts for new customers?\": \"Yes, new customers receive a 10% discount on their first purchase.\",\n",
    "    \"What is your return policy?\": \"Our return policy allows returns within 30 days of receiving the product. Items must be in original condition.\",\n",
    "    \"How do I apply a discount code?\": \"You can apply a discount code at checkout by entering it in the designated field.\"\n",
    "}"
   ],
   "id": "a52aaf96356fe38b",
   "outputs": [],
   "execution_count": 29
  },
  {
   "metadata": {
    "ExecuteTime": {
     "end_time": "2025-01-23T15:17:23.809408Z",
     "start_time": "2025-01-23T15:17:23.807191Z"
    }
   },
   "cell_type": "code",
   "source": [
    "# Extract FAQ questions\n",
    "faq_questions = list(faqs.keys())"
   ],
   "id": "800596f80d734b89",
   "outputs": [],
   "execution_count": 30
  },
  {
   "metadata": {
    "ExecuteTime": {
     "end_time": "2025-01-23T15:17:24.513394Z",
     "start_time": "2025-01-23T15:17:24.457111Z"
    }
   },
   "cell_type": "code",
   "source": "faq_embeddings = model.encode(faq_questions, convert_to_tensor=True)",
   "id": "281390b01c9cf3",
   "outputs": [],
   "execution_count": 31
  },
  {
   "metadata": {
    "ExecuteTime": {
     "end_time": "2025-01-23T15:17:30.502835Z",
     "start_time": "2025-01-23T15:17:30.490197Z"
    }
   },
   "cell_type": "code",
   "source": [
    "# Find the most similar FAQ for each query\n",
    "for query, query_embedding in zip(queries, query_embeddings):\n",
    "    # Compute cosine similarity\n",
    "    similarities = util.cos_sim(query_embedding, faq_embeddings)[0]\n",
    "\n",
    "    # Find the index of the most similar FAQ\n",
    "    best_match_idx = similarities.argmax().item()\n",
    "    best_match_question = faq_questions[best_match_idx]\n",
    "    best_match_answer = faqs[best_match_question]\n",
    "\n",
    "    # Print the results\n",
    "    print(f\"Query: {query}\")\n",
    "    print(f\"Best Match: {best_match_question}\")\n",
    "    print(f\"Answer: {best_match_answer}\")\n",
    "    print(\"-\" * 50)"
   ],
   "id": "dbf8cac9fe173214",
   "outputs": [
    {
     "name": "stdout",
     "output_type": "stream",
     "text": [
      "Query: I forgot my password, what should I do?\n",
      "Best Match: How do I reset my password?\n",
      "Answer: To reset your password, go to the settings page.\n",
      "--------------------------------------------------\n",
      "Query: Can I download the manual online?\n",
      "Best Match: Can I download the user manual?\n",
      "Answer: Yes, the user manual is available for download on our website.\n",
      "--------------------------------------------------\n",
      "Query: What time does the office close?\n",
      "Best Match: What time does your office close?\n",
      "Answer: Our office closes at 5 PM, Monday to Friday.\n",
      "--------------------------------------------------\n",
      "Query: Where is the office?\n",
      "Best Match: Where is your office located?\n",
      "Answer: Our office is located at 123 Main Street, Springfield.\n",
      "--------------------------------------------------\n"
     ]
    }
   ],
   "execution_count": 32
  }
 ],
 "metadata": {
  "kernelspec": {
   "display_name": "Python 3",
   "language": "python",
   "name": "python3"
  },
  "language_info": {
   "codemirror_mode": {
    "name": "ipython",
    "version": 2
   },
   "file_extension": ".py",
   "mimetype": "text/x-python",
   "name": "python",
   "nbconvert_exporter": "python",
   "pygments_lexer": "ipython2",
   "version": "2.7.6"
  }
 },
 "nbformat": 4,
 "nbformat_minor": 5
}
