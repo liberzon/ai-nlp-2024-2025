{
 "cells": [
  {
   "cell_type": "code",
   "execution_count": 1,
   "id": "initial_id",
   "metadata": {
    "ExecuteTime": {
     "end_time": "2024-11-13T19:13:40.719607Z",
     "start_time": "2024-11-13T19:13:40.716903Z"
    },
    "collapsed": true,
    "jupyter": {
     "outputs_hidden": true
    }
   },
   "outputs": [],
   "source": [
    "text = \"Natural Language Processing\""
   ]
  },
  {
   "cell_type": "code",
   "execution_count": 4,
   "id": "58930bf65b37343c",
   "metadata": {
    "ExecuteTime": {
     "end_time": "2024-11-13T19:13:59.751868Z",
     "start_time": "2024-11-13T19:13:59.749483Z"
    }
   },
   "outputs": [],
   "source": [
    "tokens = "
   ]
  },
  {
   "cell_type": "code",
   "execution_count": 5,
   "id": "f1e2b21e14fef987",
   "metadata": {
    "ExecuteTime": {
     "end_time": "2024-11-13T19:14:01.301660Z",
     "start_time": "2024-11-13T19:14:01.299068Z"
    }
   },
   "outputs": [
    {
     "name": "stdout",
     "output_type": "stream",
     "text": [
      "['Natural', 'Language', 'Processing']\n"
     ]
    }
   ],
   "source": [
    "print(tokens)"
   ]
  }
 ],
 "metadata": {
  "kernelspec": {
   "display_name": "Python 3 (ipykernel)",
   "language": "python",
   "name": "python3"
  },
  "language_info": {
   "codemirror_mode": {
    "name": "ipython",
    "version": 3
   },
   "file_extension": ".py",
   "mimetype": "text/x-python",
   "name": "python",
   "nbconvert_exporter": "python",
   "pygments_lexer": "ipython3",
   "version": "3.12.3"
  }
 },
 "nbformat": 4,
 "nbformat_minor": 5
}
