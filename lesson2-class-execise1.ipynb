{
 "cells": [
  {
   "cell_type": "code",
   "id": "initial_id",
   "metadata": {
    "collapsed": true,
    "ExecuteTime": {
     "end_time": "2024-11-13T19:13:40.719607Z",
     "start_time": "2024-11-13T19:13:40.716903Z"
    }
   },
   "source": "text = \"Natural Language Processing\"",
   "outputs": [],
   "execution_count": 1
  },
  {
   "metadata": {
    "ExecuteTime": {
     "end_time": "2024-11-13T19:13:59.751868Z",
     "start_time": "2024-11-13T19:13:59.749483Z"
    }
   },
   "cell_type": "code",
   "source": "tokens = ",
   "id": "58930bf65b37343c",
   "outputs": [],
   "execution_count": 4
  },
  {
   "metadata": {
    "ExecuteTime": {
     "end_time": "2024-11-13T19:14:01.301660Z",
     "start_time": "2024-11-13T19:14:01.299068Z"
    }
   },
   "cell_type": "code",
   "source": "print(tokens)",
   "id": "f1e2b21e14fef987",
   "outputs": [
    {
     "name": "stdout",
     "output_type": "stream",
     "text": [
      "['Natural', 'Language', 'Processing']\n"
     ]
    }
   ],
   "execution_count": 5
  }
 ],
 "metadata": {
  "kernelspec": {
   "display_name": "Python 3",
   "language": "python",
   "name": "python3"
  },
  "language_info": {
   "codemirror_mode": {
    "name": "ipython",
    "version": 2
   },
   "file_extension": ".py",
   "mimetype": "text/x-python",
   "name": "python",
   "nbconvert_exporter": "python",
   "pygments_lexer": "ipython2",
   "version": "2.7.6"
  }
 },
 "nbformat": 4,
 "nbformat_minor": 5
}
